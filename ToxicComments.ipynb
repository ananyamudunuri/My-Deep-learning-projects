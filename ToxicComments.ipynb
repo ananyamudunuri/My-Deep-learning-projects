{
  "cells": [
    {
      "cell_type": "code",
      "execution_count": null,
      "id": "61ca7009-8842-4481-855b-5281f06a61a3",
      "metadata": {
        "id": "61ca7009-8842-4481-855b-5281f06a61a3",
        "outputId": "acff57fd-0cf5-48c0-fd7a-95032acbd347"
      },
      "outputs": [
        {
          "name": "stdout",
          "output_type": "stream",
          "text": [
            "Requirement already satisfied: scikit-learn in /opt/conda/lib/python3.10/site-packages (1.5.2)\n",
            "Requirement already satisfied: numpy>=1.19.5 in /opt/conda/lib/python3.10/site-packages (from scikit-learn) (1.26.2)\n",
            "Requirement already satisfied: scipy>=1.6.0 in /opt/conda/lib/python3.10/site-packages (from scikit-learn) (1.14.1)\n",
            "Requirement already satisfied: joblib>=1.2.0 in /opt/conda/lib/python3.10/site-packages (from scikit-learn) (1.4.2)\n",
            "Requirement already satisfied: threadpoolctl>=3.1.0 in /opt/conda/lib/python3.10/site-packages (from scikit-learn) (3.5.0)\n",
            "\u001b[33mWARNING: Running pip as the 'root' user can result in broken permissions and conflicting behaviour with the system package manager. It is recommended to use a virtual environment instead: https://pip.pypa.io/warnings/venv\u001b[0m\u001b[33m\n",
            "\u001b[0mRequirement already satisfied: nltk in /opt/conda/lib/python3.10/site-packages (3.9.1)\n",
            "Requirement already satisfied: click in /opt/conda/lib/python3.10/site-packages (from nltk) (8.1.7)\n",
            "Requirement already satisfied: joblib in /opt/conda/lib/python3.10/site-packages (from nltk) (1.4.2)\n",
            "Requirement already satisfied: regex>=2021.8.3 in /opt/conda/lib/python3.10/site-packages (from nltk) (2024.11.6)\n",
            "Requirement already satisfied: tqdm in /opt/conda/lib/python3.10/site-packages (from nltk) (4.67.1)\n",
            "\u001b[33mWARNING: Running pip as the 'root' user can result in broken permissions and conflicting behaviour with the system package manager. It is recommended to use a virtual environment instead: https://pip.pypa.io/warnings/venv\u001b[0m\u001b[33m\n",
            "\u001b[0m"
          ]
        },
        {
          "name": "stderr",
          "output_type": "stream",
          "text": [
            "[nltk_data] Downloading package punkt to /root/nltk_data...\n",
            "[nltk_data]   Package punkt is already up-to-date!\n",
            "[nltk_data] Downloading package punkt_tab to /root/nltk_data...\n",
            "[nltk_data]   Package punkt_tab is already up-to-date!\n"
          ]
        },
        {
          "data": {
            "text/plain": [
              "True"
            ]
          },
          "execution_count": 2,
          "metadata": {},
          "output_type": "execute_result"
        }
      ],
      "source": [
        "!pip install scikit-learn\n",
        "!pip install nltk\n",
        "\n",
        "import nltk\n",
        "nltk.download('punkt')\n",
        "nltk.download('punkt_tab')\n"
      ]
    },
    {
      "cell_type": "code",
      "execution_count": null,
      "id": "37faa2f5-0b91-49b8-97af-86951376efee",
      "metadata": {
        "id": "37faa2f5-0b91-49b8-97af-86951376efee",
        "outputId": "15f1119c-2420-470c-e0cb-c6e752c0bfd4"
      },
      "outputs": [
        {
          "name": "stderr",
          "output_type": "stream",
          "text": [
            "[nltk_data] Downloading package punkt to /root/nltk_data...\n",
            "[nltk_data]   Package punkt is already up-to-date!\n",
            "100%|██████████| 1804874/1804874 [03:45<00:00, 8013.38it/s]\n",
            "100%|██████████| 97320/97320 [00:11<00:00, 8386.11it/s]\n"
          ]
        }
      ],
      "source": [
        "import pandas as pd\n",
        "import numpy as np\n",
        "import torch\n",
        "from torch.utils.data import Dataset, DataLoader\n",
        "from torch import nn\n",
        "import torch.optim as optim\n",
        "from sklearn.model_selection import train_test_split\n",
        "from sklearn.utils import resample\n",
        "from multiprocessing import Pool\n",
        "from tqdm import tqdm\n",
        "import nltk\n",
        "from nltk.tokenize import word_tokenize\n",
        "from collections import Counter\n",
        "\n",
        "# Download NLTK data files\n",
        "nltk.download('punkt')\n",
        "\n",
        "# Step 1: Load and preprocess the data\n",
        "data_train = pd.read_csv('train.csv')\n",
        "data_test = pd.read_csv('test.csv')\n",
        "\n",
        "# Handle missing values by replacing NaN in 'text' column\n",
        "data_train['text'] = data_train['text'].fillna('').astype(str)\n",
        "data_test['text'] = data_test['text'].fillna('').astype(str)\n",
        "\n",
        "# Tokenize text with multiprocessing\n",
        "def tokenize(sentence):\n",
        "    return word_tokenize(sentence.lower())\n",
        "\n",
        "with Pool() as process_pool:\n",
        "    tokens_train = list(tqdm(process_pool.imap(tokenize, data_train['text']), total=len(data_train)))\n",
        "    tokens_test = list(tqdm(process_pool.imap(tokenize, data_test['text']), total=len(data_test)))\n",
        "\n",
        "data_train['tokens'] = tokens_train\n",
        "data_test['tokens'] = tokens_test\n"
      ]
    },
    {
      "cell_type": "code",
      "execution_count": null,
      "id": "348e4718-961c-4f27-9a5b-57803ea5396c",
      "metadata": {
        "id": "348e4718-961c-4f27-9a5b-57803ea5396c"
      },
      "outputs": [],
      "source": [
        "\n",
        "# Build vocabulary with unique indices\n",
        "all_words = [word for tokenized in tokens_train for word in tokenized]\n",
        "word_counter = Counter(all_words)\n",
        "word_index = {word: idx + 2 for idx, (word, _) in enumerate(word_counter.items())}\n",
        "word_index['<PAD>'] = 0\n",
        "word_index['<UNK>'] = 1\n",
        "\n",
        "# Convert tokenized text to indices\n",
        "def map_to_indices(token_list):\n",
        "    return [word_index.get(word, word_index['<UNK>']) for word in token_list]\n",
        "\n",
        "data_train['indexed'] = data_train['tokens'].apply(map_to_indices)\n",
        "data_test['indexed'] = data_test['tokens'].apply(map_to_indices)\n",
        "\n",
        "# Handle class imbalance by oversampling\n",
        "class_positive = data_train[data_train.toxicity > 0]\n",
        "class_negative = data_train[data_train.toxicity == 0]\n",
        "\n",
        "class_negative_upsampled = resample(\n",
        "    class_negative,\n",
        "    replace=True,\n",
        "    n_samples=len(class_positive),\n",
        "    random_state=42\n",
        ")\n",
        "\n",
        "balanced_data = pd.concat([class_positive, class_negative_upsampled]).sample(frac=1, random_state=42).reset_index(drop=True)"
      ]
    },
    {
      "cell_type": "code",
      "execution_count": null,
      "id": "911a5f01-ad05-4c38-9ba5-2814f7474adf",
      "metadata": {
        "id": "911a5f01-ad05-4c38-9ba5-2814f7474adf"
      },
      "outputs": [],
      "source": [
        "\n",
        "# Dataset class for Toxicity Classification\n",
        "class TextDataset(Dataset):\n",
        "    def __init__(self, sequences, labels, max_len=100):\n",
        "        self.sequences = sequences\n",
        "        self.labels = labels\n",
        "        self.max_len = max_len\n",
        "        self.pad_index = word_index['<PAD>']\n",
        "\n",
        "    def __len__(self):\n",
        "        return len(self.sequences)\n",
        "\n",
        "    def __getitem__(self, idx):\n",
        "        seq = self.sequences[idx][:self.max_len]\n",
        "        seq += [self.pad_index] * (self.max_len - len(seq))\n",
        "        return torch.tensor(seq, dtype=torch.long), torch.tensor(self.labels[idx], dtype=torch.float)\n",
        "\n",
        "# Prepare DataLoaders\n",
        "categories = ['toxicity', 'severe_toxicity', 'obscene', 'threat', 'insult', 'identity_attack', 'sexual_explicit']\n",
        "\n",
        "train_features, val_features, train_labels, val_labels = train_test_split(\n",
        "    balanced_data['indexed'].tolist(),\n",
        "    balanced_data[categories].values,\n",
        "    test_size=0.1,\n",
        "    random_state=42\n",
        ")\n",
        "\n",
        "train_set = TextDataset(train_features, train_labels)\n",
        "val_set = TextDataset(val_features, val_labels)\n",
        "test_set = TextDataset(data_test['indexed'].tolist(), np.zeros((len(data_test), len(categories))))\n",
        "\n",
        "train_loader = DataLoader(train_set, batch_size=64, shuffle=True, num_workers=4)\n",
        "val_loader = DataLoader(val_set, batch_size=64, shuffle=False, num_workers=4)\n",
        "test_loader = DataLoader(test_set, batch_size=64, shuffle=False, num_workers=4)"
      ]
    },
    {
      "cell_type": "code",
      "execution_count": null,
      "id": "6bfd5091-1ede-4651-964e-6c946ef8e373",
      "metadata": {
        "id": "6bfd5091-1ede-4651-964e-6c946ef8e373"
      },
      "outputs": [],
      "source": [
        "# Define the LSTM with Attention Model\n",
        "class TextClassifier(nn.Module):\n",
        "    def __init__(self, vocab_size, embed_dim, hidden_dim, output_dim, layers=1, bidirectional=True, dropout_rate=0.5):\n",
        "        super(TextClassifier, self).__init__()\n",
        "        self.embed = nn.Embedding(vocab_size, embed_dim, padding_idx=word_index['<PAD>'])\n",
        "        self.lstm = nn.LSTM(embed_dim, hidden_dim, num_layers=layers, bidirectional=bidirectional, dropout=dropout_rate if layers > 1 else 0, batch_first=True)\n",
        "        self.attn_layer = nn.Linear(hidden_dim * 2 if bidirectional else hidden_dim, 1)\n",
        "        self.fc = nn.Linear(hidden_dim * 2 if bidirectional else hidden_dim, output_dim)\n",
        "        self.dropout = nn.Dropout(dropout_rate)\n",
        "\n",
        "    def attention(self, lstm_out):\n",
        "        scores = torch.tanh(self.attn_layer(lstm_out)).squeeze(2)\n",
        "        weights = torch.softmax(scores, 1)\n",
        "        context_vector = torch.bmm(weights.unsqueeze(1), lstm_out).squeeze(1)\n",
        "        return context_vector\n",
        "\n",
        "    def forward(self, x):\n",
        "        embedded = self.embed(x)\n",
        "        lstm_out, _ = self.lstm(embedded)\n",
        "        attn_out = self.attention(lstm_out)\n",
        "        output = self.dropout(attn_out)\n",
        "        return self.fc(output)"
      ]
    },
    {
      "cell_type": "code",
      "execution_count": null,
      "id": "93c774a7-0fe9-4ebf-8091-949edf2a55bd",
      "metadata": {
        "id": "93c774a7-0fe9-4ebf-8091-949edf2a55bd"
      },
      "outputs": [],
      "source": [
        "# Train the model\n",
        "device = torch.device('cuda' if torch.cuda.is_available() else 'cpu')\n",
        "\n",
        "model = TextClassifier(\n",
        "    vocab_size=len(word_index),\n",
        "    embed_dim=128,\n",
        "    hidden_dim=256,\n",
        "    output_dim=len(categories),\n",
        "    layers=3,\n",
        "    bidirectional=True,\n",
        "    dropout_rate=0.5\n",
        ").to(device)\n",
        "\n",
        "loss_fn = nn.BCEWithLogitsLoss()\n",
        "optimiser = optim.Adam(model.parameters(), lr=1e-3)"
      ]
    },
    {
      "cell_type": "code",
      "execution_count": null,
      "id": "fb7dc911-8146-4e43-9b12-4c6c73106f15",
      "metadata": {
        "id": "fb7dc911-8146-4e43-9b12-4c6c73106f15",
        "outputId": "eba13f4d-9ab1-4d50-cd00-7f3fa86e5eb9"
      },
      "outputs": [
        {
          "name": "stderr",
          "output_type": "stream",
          "text": [
            "Epoch 1/10: 100%|██████████| 15191/15191 [19:04<00:00, 13.27batch/s]"
          ]
        },
        {
          "name": "stdout",
          "output_type": "stream",
          "text": [
            "Training Loss: 0.1549\n"
          ]
        },
        {
          "name": "stderr",
          "output_type": "stream",
          "text": [
            "\n"
          ]
        },
        {
          "name": "stdout",
          "output_type": "stream",
          "text": [
            "Validation Loss: 0.1432\n"
          ]
        },
        {
          "name": "stderr",
          "output_type": "stream",
          "text": [
            "Epoch 2/10: 100%|██████████| 15191/15191 [18:50<00:00, 13.43batch/s]"
          ]
        },
        {
          "name": "stdout",
          "output_type": "stream",
          "text": [
            "Training Loss: 0.1416\n"
          ]
        },
        {
          "name": "stderr",
          "output_type": "stream",
          "text": [
            "\n"
          ]
        },
        {
          "name": "stdout",
          "output_type": "stream",
          "text": [
            "Validation Loss: 0.1420\n"
          ]
        },
        {
          "name": "stderr",
          "output_type": "stream",
          "text": [
            "Epoch 3/10: 100%|██████████| 15191/15191 [18:58<00:00, 13.34batch/s]"
          ]
        },
        {
          "name": "stdout",
          "output_type": "stream",
          "text": [
            "Training Loss: 0.1388\n"
          ]
        },
        {
          "name": "stderr",
          "output_type": "stream",
          "text": [
            "\n"
          ]
        },
        {
          "name": "stdout",
          "output_type": "stream",
          "text": [
            "Validation Loss: 0.1414\n"
          ]
        },
        {
          "name": "stderr",
          "output_type": "stream",
          "text": [
            "Epoch 4/10: 100%|██████████| 15191/15191 [18:58<00:00, 13.34batch/s]"
          ]
        },
        {
          "name": "stdout",
          "output_type": "stream",
          "text": [
            "Training Loss: 0.1366\n"
          ]
        },
        {
          "name": "stderr",
          "output_type": "stream",
          "text": [
            "\n"
          ]
        },
        {
          "name": "stdout",
          "output_type": "stream",
          "text": [
            "Validation Loss: 0.1418\n"
          ]
        },
        {
          "name": "stderr",
          "output_type": "stream",
          "text": [
            "Epoch 5/10: 100%|██████████| 15191/15191 [18:57<00:00, 13.35batch/s]"
          ]
        },
        {
          "name": "stdout",
          "output_type": "stream",
          "text": [
            "Training Loss: 0.1344\n"
          ]
        },
        {
          "name": "stderr",
          "output_type": "stream",
          "text": [
            "\n"
          ]
        },
        {
          "name": "stdout",
          "output_type": "stream",
          "text": [
            "Validation Loss: 0.1423\n"
          ]
        },
        {
          "name": "stderr",
          "output_type": "stream",
          "text": [
            "Epoch 6/10: 100%|██████████| 15191/15191 [18:57<00:00, 13.35batch/s]"
          ]
        },
        {
          "name": "stdout",
          "output_type": "stream",
          "text": [
            "Training Loss: 0.1324\n"
          ]
        },
        {
          "name": "stderr",
          "output_type": "stream",
          "text": [
            "\n"
          ]
        },
        {
          "name": "stdout",
          "output_type": "stream",
          "text": [
            "Validation Loss: 0.1429\n"
          ]
        },
        {
          "name": "stderr",
          "output_type": "stream",
          "text": [
            "Epoch 7/10: 100%|██████████| 15191/15191 [19:47<00:00, 12.79batch/s]"
          ]
        },
        {
          "name": "stdout",
          "output_type": "stream",
          "text": [
            "Training Loss: 0.1306\n"
          ]
        },
        {
          "name": "stderr",
          "output_type": "stream",
          "text": [
            "\n"
          ]
        },
        {
          "name": "stdout",
          "output_type": "stream",
          "text": [
            "Validation Loss: 0.1445\n"
          ]
        },
        {
          "name": "stderr",
          "output_type": "stream",
          "text": [
            "Epoch 8/10: 100%|██████████| 15191/15191 [19:35<00:00, 12.92batch/s]"
          ]
        },
        {
          "name": "stdout",
          "output_type": "stream",
          "text": [
            "Training Loss: 0.1291\n"
          ]
        },
        {
          "name": "stderr",
          "output_type": "stream",
          "text": [
            "\n"
          ]
        },
        {
          "name": "stdout",
          "output_type": "stream",
          "text": [
            "Validation Loss: 0.1448\n"
          ]
        },
        {
          "name": "stderr",
          "output_type": "stream",
          "text": [
            "Epoch 9/10: 100%|██████████| 15191/15191 [19:41<00:00, 12.86batch/s]"
          ]
        },
        {
          "name": "stdout",
          "output_type": "stream",
          "text": [
            "Training Loss: 0.1278\n"
          ]
        },
        {
          "name": "stderr",
          "output_type": "stream",
          "text": [
            "\n"
          ]
        },
        {
          "name": "stdout",
          "output_type": "stream",
          "text": [
            "Validation Loss: 0.1457\n"
          ]
        },
        {
          "name": "stderr",
          "output_type": "stream",
          "text": [
            "Epoch 10/10: 100%|██████████| 15191/15191 [14:21<00:00, 17.62batch/s]"
          ]
        },
        {
          "name": "stdout",
          "output_type": "stream",
          "text": [
            "Training Loss: 0.1267\n"
          ]
        },
        {
          "name": "stderr",
          "output_type": "stream",
          "text": [
            "\n"
          ]
        },
        {
          "name": "stdout",
          "output_type": "stream",
          "text": [
            "Validation Loss: 0.1458\n"
          ]
        }
      ],
      "source": [
        "\n",
        "epochs = 10\n",
        "for epoch in range(epochs):\n",
        "    model.train()\n",
        "    epoch_loss = 0\n",
        "    for seq_batch, label_batch in tqdm(train_loader, desc=f\"Epoch {epoch+1}/{epochs}\", unit=\"batch\"):\n",
        "        seq_batch, label_batch = seq_batch.to(device), label_batch.to(device)\n",
        "        optimiser.zero_grad()\n",
        "        predictions = model(seq_batch)\n",
        "        loss = loss_fn(predictions, label_batch)\n",
        "        loss.backward()\n",
        "        optimiser.step()\n",
        "        epoch_loss += loss.item()\n",
        "    print(f\"Training Loss: {epoch_loss / len(train_loader):.4f}\")\n",
        "\n",
        "    # Validation loop\n",
        "    model.eval()\n",
        "    validation_loss = 0\n",
        "    with torch.no_grad():\n",
        "        for val_seq, val_label in val_loader:\n",
        "            val_seq, val_label = val_seq.to(device), val_label.to(device)\n",
        "            val_predictions = model(val_seq)\n",
        "            val_loss = loss_fn(val_predictions, val_label)\n",
        "            validation_loss += val_loss.item()\n",
        "    print(f\"Validation Loss: {validation_loss / len(val_loader):.4f}\")"
      ]
    },
    {
      "cell_type": "code",
      "execution_count": null,
      "id": "283bd54f-d56c-433d-82bf-f6245b890607",
      "metadata": {
        "id": "283bd54f-d56c-433d-82bf-f6245b890607",
        "outputId": "b5706b03-0119-4e04-84d1-b3be0159a839"
      },
      "outputs": [
        {
          "name": "stdout",
          "output_type": "stream",
          "text": [
            "Model weights saved'.\n"
          ]
        },
        {
          "name": "stderr",
          "output_type": "stream",
          "text": [
            "Generating Predictions: 100%|██████████| 1521/1521 [00:18<00:00, 82.69batch/s]\n"
          ]
        },
        {
          "name": "stdout",
          "output_type": "stream",
          "text": [
            "Predictions on test data saved in 'best_pp15.csv'\n"
          ]
        }
      ],
      "source": [
        "# ***Save the Model Weights***\n",
        "# Save the trained model's state dictionary for future use\n",
        "torch.save(model.state_dict(), 'weights.pth')\n",
        "print(\"Model weights saved'.\")\n",
        "\n",
        "# Step 5: Generate predictions for the test dataset\n",
        "model.eval()\n",
        "test_predictions = []\n",
        "with torch.no_grad():\n",
        "    for test_batch, _ in tqdm(test_loader, desc='Generating Predictions', unit='batch'):\n",
        "        test_batch = test_batch.to(device)\n",
        "        logits = model(test_batch)\n",
        "        probabilities = torch.sigmoid(logits)\n",
        "        test_predictions.extend(probabilities.cpu().numpy())\n",
        "\n",
        "# ***Convert Probabilities to Binary Outputs***\n",
        "# Apply a threshold to classify probabilities into binary labels\n",
        "binary_threshold = 0.5\n",
        "test_predictions = np.array(test_predictions)\n",
        "binary_outputs = (test_predictions > binary_threshold).astype(int)\n",
        "\n",
        "# Save the binary predictions to a CSV file\n",
        "submission_df = pd.DataFrame(binary_outputs, columns=categories)\n",
        "submission_df.insert(0, 'id', data_test['id'])\n",
        "submission_df.to_csv('best_pp15.csv', index=False)\n",
        "print(\"Predictions on test data saved in 'best_pp15.csv'\")\n"
      ]
    },
    {
      "cell_type": "code",
      "execution_count": null,
      "id": "129bdf58-52fb-4389-bae9-7f3b578d00fb",
      "metadata": {
        "id": "129bdf58-52fb-4389-bae9-7f3b578d00fb"
      },
      "outputs": [],
      "source": []
    }
  ],
  "metadata": {
    "kernelspec": {
      "display_name": "Python 3 (ipykernel)",
      "language": "python",
      "name": "python3"
    },
    "language_info": {
      "codemirror_mode": {
        "name": "ipython",
        "version": 3
      },
      "file_extension": ".py",
      "mimetype": "text/x-python",
      "name": "python",
      "nbconvert_exporter": "python",
      "pygments_lexer": "ipython3",
      "version": "3.10.13"
    },
    "colab": {
      "provenance": []
    }
  },
  "nbformat": 4,
  "nbformat_minor": 5
}