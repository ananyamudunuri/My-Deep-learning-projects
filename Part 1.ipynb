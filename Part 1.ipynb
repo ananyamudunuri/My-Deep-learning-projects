{
  "cells": [
    {
      "cell_type": "markdown",
      "metadata": {
        "_cell_guid": "5c5af323-0e02-4495-aab9-922cc871151c",
        "_uuid": "cd0f605f-c7fa-40c8-b92c-60b374c36eff",
        "execution": {
          "iopub.execute_input": "2023-06-12T12:09:47.331329Z",
          "iopub.status.busy": "2023-06-12T12:09:47.330924Z",
          "iopub.status.idle": "2023-06-12T12:09:47.378742Z",
          "shell.execute_reply": "2023-06-12T12:09:47.376876Z",
          "shell.execute_reply.started": "2023-06-12T12:09:47.331297Z"
        },
        "id": "yHVtXEA14PiB",
        "trusted": true
      },
      "source": [
        "## Model Training"
      ]
    },
    {
      "cell_type": "code",
      "execution_count": null,
      "metadata": {
        "_cell_guid": "ac362063-522a-4ee1-a8e8-08183e706f37",
        "_uuid": "6207be38-889a-4b0b-a8cc-bcfc4169e659",
        "execution": {
          "iopub.execute_input": "2024-10-16T06:18:40.109178Z",
          "iopub.status.busy": "2024-10-16T06:18:40.108149Z",
          "iopub.status.idle": "2024-10-16T06:18:44.803326Z",
          "shell.execute_reply": "2024-10-16T06:18:44.80208Z",
          "shell.execute_reply.started": "2024-10-16T06:18:40.109125Z"
        },
        "id": "MmWcqpXN4PiE",
        "jupyter": {
          "outputs_hidden": false
        },
        "outputId": "6f80326d-1ba4-427d-c61e-7718c38e0a0c",
        "trusted": true
      },
      "outputs": [
        {
          "name": "stdout",
          "output_type": "stream",
          "text": [
            "\u001b[33mWARNING: Running pip as the 'root' user can result in broken permissions and conflicting behaviour with the system package manager. It is recommended to use a virtual environment instead: https://pip.pypa.io/warnings/venv\u001b[0m\u001b[33m\n",
            "\u001b[0m\u001b[33mWARNING: You are using pip version 22.0.4; however, version 24.2 is available.\n",
            "You should consider upgrading via the '/usr/local/bin/python -m pip install --upgrade pip' command.\u001b[0m\u001b[33m\n",
            "\u001b[0m"
          ]
        }
      ],
      "source": [
        "!pip install wordcloud -q"
      ]
    },
    {
      "cell_type": "code",
      "execution_count": null,
      "metadata": {
        "_cell_guid": "2b58cecd-999a-47c4-98cd-7063ed32a93a",
        "_uuid": "d6d5990c-ee75-4e9b-9ed8-63de709207b9",
        "execution": {
          "iopub.execute_input": "2024-10-16T06:18:44.806793Z",
          "iopub.status.busy": "2024-10-16T06:18:44.806355Z",
          "iopub.status.idle": "2024-10-16T06:19:24.951987Z",
          "shell.execute_reply": "2024-10-16T06:19:24.951114Z",
          "shell.execute_reply.started": "2024-10-16T06:18:44.806755Z"
        },
        "id": "Nmh_TGZT4PiG",
        "jupyter": {
          "outputs_hidden": false
        },
        "outputId": "c93b2e64-f3b1-4b35-f0fc-88501dd81bd8",
        "trusted": true
      },
      "outputs": [
        {
          "name": "stderr",
          "output_type": "stream",
          "text": [
            "D1016 06:19:18.325827406      15 config.cc:119]                        gRPC EXPERIMENT tcp_frame_size_tuning               OFF (default:OFF)\n",
            "D1016 06:19:18.325850763      15 config.cc:119]                        gRPC EXPERIMENT tcp_rcv_lowat                       OFF (default:OFF)\n",
            "D1016 06:19:18.325854320      15 config.cc:119]                        gRPC EXPERIMENT peer_state_based_framing            OFF (default:OFF)\n",
            "D1016 06:19:18.325856988      15 config.cc:119]                        gRPC EXPERIMENT flow_control_fixes                  ON  (default:ON)\n",
            "D1016 06:19:18.325859341      15 config.cc:119]                        gRPC EXPERIMENT memory_pressure_controller          OFF (default:OFF)\n",
            "D1016 06:19:18.325861989      15 config.cc:119]                        gRPC EXPERIMENT unconstrained_max_quota_buffer_size OFF (default:OFF)\n",
            "D1016 06:19:18.325864310      15 config.cc:119]                        gRPC EXPERIMENT new_hpack_huffman_decoder           ON  (default:ON)\n",
            "D1016 06:19:18.325866559      15 config.cc:119]                        gRPC EXPERIMENT event_engine_client                 OFF (default:OFF)\n",
            "D1016 06:19:18.325869060      15 config.cc:119]                        gRPC EXPERIMENT monitoring_experiment               ON  (default:ON)\n",
            "D1016 06:19:18.325871300      15 config.cc:119]                        gRPC EXPERIMENT promise_based_client_call           OFF (default:OFF)\n",
            "D1016 06:19:18.325873464      15 config.cc:119]                        gRPC EXPERIMENT free_large_allocator                OFF (default:OFF)\n",
            "D1016 06:19:18.325875775      15 config.cc:119]                        gRPC EXPERIMENT promise_based_server_call           OFF (default:OFF)\n",
            "D1016 06:19:18.325877963      15 config.cc:119]                        gRPC EXPERIMENT transport_supplies_client_latency   OFF (default:OFF)\n",
            "D1016 06:19:18.325880136      15 config.cc:119]                        gRPC EXPERIMENT event_engine_listener               OFF (default:OFF)\n",
            "I1016 06:19:18.326113924      15 ev_epoll1_linux.cc:122]               grpc epoll fd: 62\n",
            "D1016 06:19:18.331622928      15 ev_posix.cc:144]                      Using polling engine: epoll1\n",
            "D1016 06:19:18.331657629      15 dns_resolver_ares.cc:822]             Using ares dns resolver\n",
            "D1016 06:19:18.332026352      15 lb_policy_registry.cc:46]             registering LB policy factory for \"priority_experimental\"\n",
            "D1016 06:19:18.332033690      15 lb_policy_registry.cc:46]             registering LB policy factory for \"outlier_detection_experimental\"\n",
            "D1016 06:19:18.332041371      15 lb_policy_registry.cc:46]             registering LB policy factory for \"weighted_target_experimental\"\n",
            "D1016 06:19:18.332044650      15 lb_policy_registry.cc:46]             registering LB policy factory for \"pick_first\"\n",
            "D1016 06:19:18.332047714      15 lb_policy_registry.cc:46]             registering LB policy factory for \"round_robin\"\n",
            "D1016 06:19:18.332050573      15 lb_policy_registry.cc:46]             registering LB policy factory for \"weighted_round_robin_experimental\"\n",
            "D1016 06:19:18.332057830      15 lb_policy_registry.cc:46]             registering LB policy factory for \"ring_hash_experimental\"\n",
            "D1016 06:19:18.332078117      15 lb_policy_registry.cc:46]             registering LB policy factory for \"grpclb\"\n",
            "D1016 06:19:18.332106500      15 lb_policy_registry.cc:46]             registering LB policy factory for \"rls_experimental\"\n",
            "D1016 06:19:18.332125500      15 lb_policy_registry.cc:46]             registering LB policy factory for \"xds_cluster_manager_experimental\"\n",
            "D1016 06:19:18.332136489      15 lb_policy_registry.cc:46]             registering LB policy factory for \"xds_cluster_impl_experimental\"\n",
            "D1016 06:19:18.332139727      15 lb_policy_registry.cc:46]             registering LB policy factory for \"cds_experimental\"\n",
            "D1016 06:19:18.332142685      15 lb_policy_registry.cc:46]             registering LB policy factory for \"xds_cluster_resolver_experimental\"\n",
            "D1016 06:19:18.332145821      15 lb_policy_registry.cc:46]             registering LB policy factory for \"xds_override_host_experimental\"\n",
            "D1016 06:19:18.332149300      15 lb_policy_registry.cc:46]             registering LB policy factory for \"xds_wrr_locality_experimental\"\n",
            "D1016 06:19:18.332153510      15 certificate_provider_registry.cc:35]  registering certificate provider factory for \"file_watcher\"\n",
            "I1016 06:19:18.335764533      15 socket_utils_common_posix.cc:408]     Disabling AF_INET6 sockets because ::1 is not available.\n",
            "I1016 06:19:18.353132386     442 socket_utils_common_posix.cc:337]     TCP_USER_TIMEOUT is available. TCP_USER_TIMEOUT will be used thereafter\n",
            "E1016 06:19:18.362986099      15 oauth2_credentials.cc:236]            oauth_fetch: UNKNOWN:C-ares status is not ARES_SUCCESS qtype=A name=metadata.google.internal. is_balancer=0: Domain name not found {grpc_status:2, created_time:\"2024-10-16T06:19:18.362970531+00:00\"}\n"
          ]
        }
      ],
      "source": [
        "### Basic libraries\n",
        "import numpy as np\n",
        "import pandas as pd\n",
        "import matplotlib.pyplot as plt\n",
        "%matplotlib inline\n",
        "import pickle\n",
        "import warnings\n",
        "warnings.filterwarnings(action='ignore')\n",
        "\n",
        "# Data Preprocessing\n",
        "from sklearn.preprocessing import MinMaxScaler\n",
        "from sklearn.preprocessing import LabelEncoder\n",
        "\n",
        "# Model Training\n",
        "from sklearn.utils import shuffle\n",
        "from sklearn.model_selection import train_test_split\n",
        "import tensorflow as tf\n",
        "\n",
        "## Import necessary modules for collaborative filtering\n",
        "from tensorflow.keras.layers import Input, Embedding, Dot, Flatten, Dense\n",
        "from tensorflow.keras.models import Model\n",
        "from tensorflow.keras.optimizers import Adam\n",
        "from wordcloud import WordCloud\n",
        "from collections import defaultdict\n",
        "from collections import Counter\n",
        "\n",
        "## Import necessary modules for content-based filtering\n",
        "from sklearn.feature_extraction.text import TfidfVectorizer\n",
        "from sklearn.metrics.pairwise import linear_kernel"
      ]
    },
    {
      "cell_type": "code",
      "execution_count": null,
      "metadata": {
        "_cell_guid": "61c68c83-041e-41c1-b81e-74dfb399b2ed",
        "_uuid": "b1c0701e-0b48-4b9f-9a8d-5bc44ca28537",
        "execution": {
          "iopub.execute_input": "2024-10-16T06:19:24.953527Z",
          "iopub.status.busy": "2024-10-16T06:19:24.953074Z",
          "iopub.status.idle": "2024-10-16T06:19:46.369376Z",
          "shell.execute_reply": "2024-10-16T06:19:46.3687Z",
          "shell.execute_reply.started": "2024-10-16T06:19:24.953503Z"
        },
        "id": "dYalQ2tR4PiH",
        "jupyter": {
          "outputs_hidden": false
        },
        "outputId": "9f3445d4-a0de-4199-b115-5fe2269737d6",
        "trusted": true
      },
      "outputs": [
        {
          "name": "stdout",
          "output_type": "stream",
          "text": [
            "Shape of the Dataset: (24325191, 3)\n"
          ]
        },
        {
          "data": {
            "text/html": [
              "<div>\n",
              "<style scoped>\n",
              "    .dataframe tbody tr th:only-of-type {\n",
              "        vertical-align: middle;\n",
              "    }\n",
              "\n",
              "    .dataframe tbody tr th {\n",
              "        vertical-align: top;\n",
              "    }\n",
              "\n",
              "    .dataframe thead th {\n",
              "        text-align: right;\n",
              "    }\n",
              "</style>\n",
              "<table border=\"1\" class=\"dataframe\">\n",
              "  <thead>\n",
              "    <tr style=\"text-align: right;\">\n",
              "      <th></th>\n",
              "      <th>user_id</th>\n",
              "      <th>anime_id</th>\n",
              "      <th>rating</th>\n",
              "    </tr>\n",
              "  </thead>\n",
              "  <tbody>\n",
              "    <tr>\n",
              "      <th>0</th>\n",
              "      <td>1</td>\n",
              "      <td>21</td>\n",
              "      <td>9</td>\n",
              "    </tr>\n",
              "    <tr>\n",
              "      <th>1</th>\n",
              "      <td>1</td>\n",
              "      <td>48</td>\n",
              "      <td>7</td>\n",
              "    </tr>\n",
              "    <tr>\n",
              "      <th>2</th>\n",
              "      <td>1</td>\n",
              "      <td>320</td>\n",
              "      <td>5</td>\n",
              "    </tr>\n",
              "    <tr>\n",
              "      <th>3</th>\n",
              "      <td>1</td>\n",
              "      <td>49</td>\n",
              "      <td>8</td>\n",
              "    </tr>\n",
              "    <tr>\n",
              "      <th>4</th>\n",
              "      <td>1</td>\n",
              "      <td>304</td>\n",
              "      <td>8</td>\n",
              "    </tr>\n",
              "  </tbody>\n",
              "</table>\n",
              "</div>"
            ],
            "text/plain": [
              "   user_id  anime_id  rating\n",
              "0        1        21       9\n",
              "1        1        48       7\n",
              "2        1       320       5\n",
              "3        1        49       8\n",
              "4        1       304       8"
            ]
          },
          "execution_count": 3,
          "metadata": {},
          "output_type": "execute_result"
        }
      ],
      "source": [
        "# Load the dataset\n",
        "df=pd.read_csv('/kaggle/input/myanimelist-dataset/users-score-2023.csv', usecols=[\"user_id\",\"anime_id\",\"rating\"])\n",
        "print(\"Shape of the Dataset:\",df.shape)\n",
        "df.head()"
      ]
    },
    {
      "cell_type": "code",
      "execution_count": null,
      "metadata": {
        "_cell_guid": "7d0cc63e-6ce0-4c11-8f41-702a8be0a561",
        "_uuid": "609896e4-f1d3-46ef-8dcd-3fea67aa1442",
        "execution": {
          "iopub.execute_input": "2024-10-16T06:19:46.370817Z",
          "iopub.status.busy": "2024-10-16T06:19:46.370505Z",
          "iopub.status.idle": "2024-10-16T06:19:50.874495Z",
          "shell.execute_reply": "2024-10-16T06:19:50.873733Z",
          "shell.execute_reply.started": "2024-10-16T06:19:46.370792Z"
        },
        "id": "4XTsT0Dx4PiI",
        "jupyter": {
          "outputs_hidden": false
        },
        "outputId": "0cc12beb-73f3-45f1-9d1f-0daaeb2f7fc0",
        "trusted": true
      },
      "outputs": [
        {
          "name": "stdout",
          "output_type": "stream",
          "text": [
            "Duplicated Rows:\n",
            "Empty DataFrame\n",
            "Columns: [user_id, anime_id, rating]\n",
            "Index: []\n"
          ]
        }
      ],
      "source": [
        "# Checking if there are any duplicate rows\n",
        "duplicated_rows = df[df.duplicated()]\n",
        "print(\"Duplicated Rows:\")\n",
        "print(duplicated_rows)"
      ]
    },
    {
      "cell_type": "code",
      "execution_count": null,
      "metadata": {
        "_cell_guid": "7dc9de9e-74ef-4719-ad82-9660508c594d",
        "_uuid": "500e28aa-87f5-4bb5-99f9-19be3227326a",
        "execution": {
          "iopub.execute_input": "2024-10-16T06:19:50.876797Z",
          "iopub.status.busy": "2024-10-16T06:19:50.87652Z",
          "iopub.status.idle": "2024-10-16T06:19:50.90694Z",
          "shell.execute_reply": "2024-10-16T06:19:50.906281Z",
          "shell.execute_reply.started": "2024-10-16T06:19:50.876774Z"
        },
        "id": "F3YVaBnb4PiJ",
        "jupyter": {
          "outputs_hidden": false
        },
        "outputId": "957b4c31-5ba2-4f39-b685-57abf63a558a",
        "trusted": true
      },
      "outputs": [
        {
          "name": "stdout",
          "output_type": "stream",
          "text": [
            "Average Score: 7.622930072779285\n"
          ]
        }
      ],
      "source": [
        "# Calculating the average score\n",
        "avg_score = np.mean(df['rating'])\n",
        "print('Average Score:', avg_score)"
      ]
    },
    {
      "cell_type": "markdown",
      "metadata": {
        "_cell_guid": "049425fe-d786-49d1-84de-e6c8dc7b5be2",
        "_uuid": "86b2d306-2243-4f69-a384-5db9d05926ed",
        "id": "EgVJP_Qn4PiK",
        "trusted": true
      },
      "source": [
        "# Data Preprocessing"
      ]
    },
    {
      "cell_type": "code",
      "execution_count": null,
      "metadata": {
        "_cell_guid": "a4cd98b9-c653-4ec5-ae17-980230caebd9",
        "_uuid": "de844400-387c-42d6-bfc6-314ae362fb29",
        "execution": {
          "iopub.execute_input": "2024-10-16T06:19:50.908047Z",
          "iopub.status.busy": "2024-10-16T06:19:50.907822Z",
          "iopub.status.idle": "2024-10-16T06:19:51.256607Z",
          "shell.execute_reply": "2024-10-16T06:19:51.255791Z",
          "shell.execute_reply.started": "2024-10-16T06:19:50.908027Z"
        },
        "id": "dGWtdY3n4PiL",
        "jupyter": {
          "outputs_hidden": false
        },
        "trusted": true
      },
      "outputs": [],
      "source": [
        "# Scaling our \"rating\" column\n",
        "# Create a MinMaxScaler object\n",
        "scaler = MinMaxScaler(feature_range=(0, 1))\n",
        "\n",
        "# Scale the 'score' column between 0 and 1\n",
        "df['scaled_score'] = scaler.fit_transform(df[['rating']])"
      ]
    },
    {
      "cell_type": "code",
      "execution_count": null,
      "metadata": {
        "_cell_guid": "62cdbb27-115c-40f0-8dea-869e90a7198f",
        "_uuid": "04852a56-165a-40ba-89e2-c0495b2726a5",
        "execution": {
          "iopub.execute_input": "2024-10-16T06:19:51.257896Z",
          "iopub.status.busy": "2024-10-16T06:19:51.257648Z",
          "iopub.status.idle": "2024-10-16T06:20:01.251186Z",
          "shell.execute_reply": "2024-10-16T06:20:01.25033Z",
          "shell.execute_reply.started": "2024-10-16T06:19:51.257875Z"
        },
        "id": "r1dC3E7V4PiM",
        "jupyter": {
          "outputs_hidden": false
        },
        "outputId": "242fb972-11cb-41e6-c492-4f625eb20269",
        "trusted": true
      },
      "outputs": [
        {
          "name": "stdout",
          "output_type": "stream",
          "text": [
            "Number of unique users: 270033, Number of unique anime: 16500\n",
            "Minimum rating: 1, Maximum rating: 10\n"
          ]
        }
      ],
      "source": [
        "# Encoding categorical data\n",
        "\n",
        "## Encoding user IDs\n",
        "user_encoder = LabelEncoder()\n",
        "df[\"user_encoded\"] = user_encoder.fit_transform(df[\"user_id\"])\n",
        "num_users = len(user_encoder.classes_)\n",
        "\n",
        "## Encoding anime IDs\n",
        "anime_encoder = LabelEncoder()\n",
        "df[\"anime_encoded\"] = anime_encoder.fit_transform(df[\"anime_id\"])\n",
        "num_animes = len(anime_encoder.classes_)\n",
        "\n",
        "# Printing dataset information\n",
        "print(\"Number of unique users: {}, Number of unique anime: {}\".format(num_users, num_animes))\n",
        "print(\"Minimum rating: {}, Maximum rating: {}\".format(min(df['rating']), max(df['rating'])))"
      ]
    },
    {
      "cell_type": "markdown",
      "metadata": {
        "_cell_guid": "d8f7e15d-c6c5-4294-90a9-57c89e43317c",
        "_uuid": "33453c69-f459-4c3e-a599-3da980201867",
        "id": "15_Gh7Se4PiM",
        "trusted": true
      },
      "source": [
        "# Model training"
      ]
    },
    {
      "cell_type": "code",
      "execution_count": null,
      "metadata": {
        "_cell_guid": "9a7248d8-651e-46aa-96c6-62d57210c9ac",
        "_uuid": "8c336ef3-1089-44d5-b523-e12a188c96f8",
        "execution": {
          "iopub.execute_input": "2024-10-16T06:20:01.252695Z",
          "iopub.status.busy": "2024-10-16T06:20:01.252375Z",
          "iopub.status.idle": "2024-10-16T06:20:05.902535Z",
          "shell.execute_reply": "2024-10-16T06:20:05.901651Z",
          "shell.execute_reply.started": "2024-10-16T06:20:01.25267Z"
        },
        "id": "0kY5m9Uj4PiN",
        "jupyter": {
          "outputs_hidden": false
        },
        "outputId": "7505aeda-a925-434e-b867-5a66fdde211e",
        "trusted": true
      },
      "outputs": [
        {
          "name": "stdout",
          "output_type": "stream",
          "text": [
            "Shape of X: (24325191, 2)\n",
            "Shape of y: (24325191,)\n"
          ]
        }
      ],
      "source": [
        "# Shuffle the dataset\n",
        "df = shuffle(df, random_state=100)\n",
        "\n",
        "# Create feature matrix X and target variable y\n",
        "X = df[['user_encoded', 'anime_encoded']].values\n",
        "y = df[\"scaled_score\"].values\n",
        "\n",
        "# Printing dataset information\n",
        "print(\"Shape of X:\", X.shape)\n",
        "print(\"Shape of y:\", y.shape)"
      ]
    },
    {
      "cell_type": "code",
      "execution_count": null,
      "metadata": {
        "_cell_guid": "8a38f8a6-e46a-46c1-9a5d-2c4469e3051a",
        "_uuid": "d8d93f5f-9107-40c7-99b5-6860f7798ae6",
        "execution": {
          "iopub.execute_input": "2024-10-16T06:20:05.904209Z",
          "iopub.status.busy": "2024-10-16T06:20:05.903845Z",
          "iopub.status.idle": "2024-10-16T06:20:09.088038Z",
          "shell.execute_reply": "2024-10-16T06:20:09.08725Z",
          "shell.execute_reply.started": "2024-10-16T06:20:05.904182Z"
        },
        "id": "x7ZGPy174PiN",
        "jupyter": {
          "outputs_hidden": false
        },
        "outputId": "0989a4d8-4ae5-4941-99f8-43308b52ba41",
        "trusted": true
      },
      "outputs": [
        {
          "name": "stdout",
          "output_type": "stream",
          "text": [
            "Number of samples in the training set: 19460152\n",
            "Number of samples in the test set: 4865039\n"
          ]
        }
      ],
      "source": [
        "X_train, X_test, y_train, y_test = train_test_split(X, y, test_size=0.2, random_state=73) # 80/20 split\n",
        "\n",
        "print(\"Number of samples in the training set:\", len(y_train))\n",
        "print(\"Number of samples in the test set:\", len(y_test))"
      ]
    },
    {
      "cell_type": "code",
      "execution_count": null,
      "metadata": {
        "_cell_guid": "8e189f88-1fec-46b0-b2d6-ac49b66cfc4e",
        "_uuid": "fbb9401f-5735-4a04-ac68-9c6c7bd9164e",
        "execution": {
          "iopub.execute_input": "2024-10-16T06:20:09.089411Z",
          "iopub.status.busy": "2024-10-16T06:20:09.089131Z",
          "iopub.status.idle": "2024-10-16T06:20:09.094443Z",
          "shell.execute_reply": "2024-10-16T06:20:09.093645Z",
          "shell.execute_reply.started": "2024-10-16T06:20:09.089388Z"
        },
        "id": "cxk8e1CN4PiO",
        "jupyter": {
          "outputs_hidden": false
        },
        "trusted": true
      },
      "outputs": [],
      "source": [
        "# Prepare input data for model training and evaluation\n",
        "X_train_array = [X_train[:, 0], X_train[:, 1]]\n",
        "X_test_array = [X_test[:, 0], X_test[:, 1]]"
      ]
    },
    {
      "cell_type": "code",
      "execution_count": null,
      "metadata": {
        "_cell_guid": "84994fe9-f61d-40c1-a91c-4dc795585516",
        "_uuid": "b531abe6-90be-45bb-bcde-76a6abefad0b",
        "execution": {
          "iopub.execute_input": "2024-10-16T06:20:09.095553Z",
          "iopub.status.busy": "2024-10-16T06:20:09.095328Z",
          "iopub.status.idle": "2024-10-16T06:20:17.81804Z",
          "shell.execute_reply": "2024-10-16T06:20:17.81713Z",
          "shell.execute_reply.started": "2024-10-16T06:20:09.095532Z"
        },
        "id": "FEiMarBr4PiO",
        "jupyter": {
          "outputs_hidden": false
        },
        "outputId": "12fdba16-b40b-475d-ab26-55be9a2ad787",
        "trusted": true
      },
      "outputs": [
        {
          "name": "stdout",
          "output_type": "stream",
          "text": [
            "INFO:tensorflow:Deallocate tpu buffers before initializing tpu system.\n",
            "INFO:tensorflow:Initializing the TPU system: local\n",
            "INFO:tensorflow:Finished initializing TPU system.\n"
          ]
        },
        {
          "name": "stderr",
          "output_type": "stream",
          "text": [
            "WARNING:absl:`tf.distribute.experimental.TPUStrategy` is deprecated, please use  the non experimental symbol `tf.distribute.TPUStrategy` instead.\n"
          ]
        },
        {
          "name": "stdout",
          "output_type": "stream",
          "text": [
            "INFO:tensorflow:Found TPU system:\n"
          ]
        },
        {
          "name": "stderr",
          "output_type": "stream",
          "text": [
            "INFO:tensorflow:Found TPU system:\n"
          ]
        },
        {
          "name": "stdout",
          "output_type": "stream",
          "text": [
            "INFO:tensorflow:*** Num TPU Cores: 8\n"
          ]
        },
        {
          "name": "stderr",
          "output_type": "stream",
          "text": [
            "INFO:tensorflow:*** Num TPU Cores: 8\n"
          ]
        },
        {
          "name": "stdout",
          "output_type": "stream",
          "text": [
            "INFO:tensorflow:*** Num TPU Workers: 1\n"
          ]
        },
        {
          "name": "stderr",
          "output_type": "stream",
          "text": [
            "INFO:tensorflow:*** Num TPU Workers: 1\n"
          ]
        },
        {
          "name": "stdout",
          "output_type": "stream",
          "text": [
            "INFO:tensorflow:*** Num TPU Cores Per Worker: 8\n"
          ]
        },
        {
          "name": "stderr",
          "output_type": "stream",
          "text": [
            "INFO:tensorflow:*** Num TPU Cores Per Worker: 8\n"
          ]
        },
        {
          "name": "stdout",
          "output_type": "stream",
          "text": [
            "INFO:tensorflow:*** Available Device: _DeviceAttributes(/job:localhost/replica:0/task:0/device:CPU:0, CPU, 0, 0)\n"
          ]
        },
        {
          "name": "stderr",
          "output_type": "stream",
          "text": [
            "INFO:tensorflow:*** Available Device: _DeviceAttributes(/job:localhost/replica:0/task:0/device:CPU:0, CPU, 0, 0)\n"
          ]
        },
        {
          "name": "stdout",
          "output_type": "stream",
          "text": [
            "INFO:tensorflow:*** Available Device: _DeviceAttributes(/job:localhost/replica:0/task:0/device:TPU:0, TPU, 0, 0)\n"
          ]
        },
        {
          "name": "stderr",
          "output_type": "stream",
          "text": [
            "INFO:tensorflow:*** Available Device: _DeviceAttributes(/job:localhost/replica:0/task:0/device:TPU:0, TPU, 0, 0)\n"
          ]
        },
        {
          "name": "stdout",
          "output_type": "stream",
          "text": [
            "INFO:tensorflow:*** Available Device: _DeviceAttributes(/job:localhost/replica:0/task:0/device:TPU:1, TPU, 0, 0)\n"
          ]
        },
        {
          "name": "stderr",
          "output_type": "stream",
          "text": [
            "INFO:tensorflow:*** Available Device: _DeviceAttributes(/job:localhost/replica:0/task:0/device:TPU:1, TPU, 0, 0)\n"
          ]
        },
        {
          "name": "stdout",
          "output_type": "stream",
          "text": [
            "INFO:tensorflow:*** Available Device: _DeviceAttributes(/job:localhost/replica:0/task:0/device:TPU:2, TPU, 0, 0)\n"
          ]
        },
        {
          "name": "stderr",
          "output_type": "stream",
          "text": [
            "INFO:tensorflow:*** Available Device: _DeviceAttributes(/job:localhost/replica:0/task:0/device:TPU:2, TPU, 0, 0)\n"
          ]
        },
        {
          "name": "stdout",
          "output_type": "stream",
          "text": [
            "INFO:tensorflow:*** Available Device: _DeviceAttributes(/job:localhost/replica:0/task:0/device:TPU:3, TPU, 0, 0)\n"
          ]
        },
        {
          "name": "stderr",
          "output_type": "stream",
          "text": [
            "INFO:tensorflow:*** Available Device: _DeviceAttributes(/job:localhost/replica:0/task:0/device:TPU:3, TPU, 0, 0)\n"
          ]
        },
        {
          "name": "stdout",
          "output_type": "stream",
          "text": [
            "INFO:tensorflow:*** Available Device: _DeviceAttributes(/job:localhost/replica:0/task:0/device:TPU:4, TPU, 0, 0)\n"
          ]
        },
        {
          "name": "stderr",
          "output_type": "stream",
          "text": [
            "INFO:tensorflow:*** Available Device: _DeviceAttributes(/job:localhost/replica:0/task:0/device:TPU:4, TPU, 0, 0)\n"
          ]
        },
        {
          "name": "stdout",
          "output_type": "stream",
          "text": [
            "INFO:tensorflow:*** Available Device: _DeviceAttributes(/job:localhost/replica:0/task:0/device:TPU:5, TPU, 0, 0)\n"
          ]
        },
        {
          "name": "stderr",
          "output_type": "stream",
          "text": [
            "INFO:tensorflow:*** Available Device: _DeviceAttributes(/job:localhost/replica:0/task:0/device:TPU:5, TPU, 0, 0)\n"
          ]
        },
        {
          "name": "stdout",
          "output_type": "stream",
          "text": [
            "INFO:tensorflow:*** Available Device: _DeviceAttributes(/job:localhost/replica:0/task:0/device:TPU:6, TPU, 0, 0)\n"
          ]
        },
        {
          "name": "stderr",
          "output_type": "stream",
          "text": [
            "INFO:tensorflow:*** Available Device: _DeviceAttributes(/job:localhost/replica:0/task:0/device:TPU:6, TPU, 0, 0)\n"
          ]
        },
        {
          "name": "stdout",
          "output_type": "stream",
          "text": [
            "INFO:tensorflow:*** Available Device: _DeviceAttributes(/job:localhost/replica:0/task:0/device:TPU:7, TPU, 0, 0)\n"
          ]
        },
        {
          "name": "stderr",
          "output_type": "stream",
          "text": [
            "INFO:tensorflow:*** Available Device: _DeviceAttributes(/job:localhost/replica:0/task:0/device:TPU:7, TPU, 0, 0)\n"
          ]
        },
        {
          "name": "stdout",
          "output_type": "stream",
          "text": [
            "INFO:tensorflow:*** Available Device: _DeviceAttributes(/job:localhost/replica:0/task:0/device:TPU_SYSTEM:0, TPU_SYSTEM, 0, 0)\n"
          ]
        },
        {
          "name": "stderr",
          "output_type": "stream",
          "text": [
            "INFO:tensorflow:*** Available Device: _DeviceAttributes(/job:localhost/replica:0/task:0/device:TPU_SYSTEM:0, TPU_SYSTEM, 0, 0)\n"
          ]
        }
      ],
      "source": [
        "# Setting TPU_INIT flag\n",
        "USE_TPU = True\n",
        "\n",
        "# Checking if TPU is initialized\n",
        "if USE_TPU:\n",
        "    # If tpu is connected then start creating TPUStrategy\n",
        "    tpu_resolver = tf.distribute.cluster_resolver.TPUClusterResolver.connect()\n",
        "    tpu_strategy = tf.distribute.experimental.TPUStrategy(tpu_resolver)\n",
        "else:\n",
        "    !nvidia-smi\n",
        "\n",
        "# Print the TensorFlow version\n",
        "tf_version = tf.__version__\n",
        "# print(f\"TensorFlow version: {tf_version}\")"
      ]
    },
    {
      "cell_type": "code",
      "execution_count": null,
      "metadata": {
        "_cell_guid": "38b2dc07-0589-4385-b7c6-78802ba1e9be",
        "_uuid": "b1ea835f-8c28-4742-bbed-be06bf323075",
        "execution": {
          "iopub.execute_input": "2024-10-16T06:20:17.819479Z",
          "iopub.status.busy": "2024-10-16T06:20:17.819224Z",
          "iopub.status.idle": "2024-10-16T06:20:19.96092Z",
          "shell.execute_reply": "2024-10-16T06:20:19.960077Z",
          "shell.execute_reply.started": "2024-10-16T06:20:17.819457Z"
        },
        "id": "m3Q-yJAa4PiO",
        "jupyter": {
          "outputs_hidden": false
        },
        "outputId": "1947a24b-b7f0-4e28-c264-5776c5068717",
        "trusted": true
      },
      "outputs": [
        {
          "name": "stdout",
          "output_type": "stream",
          "text": [
            "Model: \"model\"\n",
            "__________________________________________________________________________________________________\n",
            " Layer (type)                   Output Shape         Param #     Connected to                     \n",
            "==================================================================================================\n",
            " user_encoded (InputLayer)      [(None, 1)]          0           []                               \n",
            "                                                                                                  \n",
            " anime_encoded (InputLayer)     [(None, 1)]          0           []                               \n",
            "                                                                                                  \n",
            " user_embedding (Embedding)     (None, 1, 128)       34564224    ['user_encoded[0][0]']           \n",
            "                                                                                                  \n",
            " anime_embedding (Embedding)    (None, 1, 128)       2112000     ['anime_encoded[0][0]']          \n",
            "                                                                                                  \n",
            " dot_product (Dot)              (None, 1, 1)         0           ['user_embedding[0][0]',         \n",
            "                                                                  'anime_embedding[0][0]']        \n",
            "                                                                                                  \n",
            " flatten (Flatten)              (None, 1)            0           ['dot_product[0][0]']            \n",
            "                                                                                                  \n",
            " dense (Dense)                  (None, 64)           128         ['flatten[0][0]']                \n",
            "                                                                                                  \n",
            " dense_1 (Dense)                (None, 1)            65          ['dense[0][0]']                  \n",
            "                                                                                                  \n",
            "==================================================================================================\n",
            "Total params: 36,676,417\n",
            "Trainable params: 36,676,417\n",
            "Non-trainable params: 0\n",
            "__________________________________________________________________________________________________\n"
          ]
        }
      ],
      "source": [
        "def RecommenderNet(num_users, num_animes, embedding_size=128):\n",
        "    # User input layer and embedding layer\n",
        "    user = Input(name='user_encoded', shape=[1])\n",
        "    user_embedding = Embedding(name='user_embedding', input_dim=num_users, output_dim=embedding_size)(user)\n",
        "\n",
        "    # Anime input layer and embedding layer\n",
        "    anime = Input(name='anime_encoded', shape=[1])\n",
        "    anime_embedding = Embedding(name='anime_embedding', input_dim=num_animes, output_dim=embedding_size)(anime)\n",
        "\n",
        "    # Dot product of user and anime embeddings\n",
        "    dot_product = Dot(name='dot_product', normalize=True, axes=2)([user_embedding, anime_embedding])\n",
        "    flattened = Flatten()(dot_product)\n",
        "\n",
        "    # Dense layers for prediction\n",
        "    dense = Dense(64, activation='relu')(flattened)\n",
        "    output = Dense(1, activation='sigmoid')(dense)\n",
        "\n",
        "    # Create and compile the model\n",
        "    model = Model(inputs=[user, anime], outputs=output)\n",
        "    model.compile(loss='binary_crossentropy', optimizer=Adam(learning_rate=0.001), metrics=[\"mae\", \"mse\"])\n",
        "\n",
        "    return model\n",
        "# Checking if TPU is initialized and create the model accordingly\n",
        "if USE_TPU:\n",
        "    with tpu_strategy.scope():\n",
        "        model = RecommenderNet(num_users, num_animes)\n",
        "else:\n",
        "    model = RecommenderNet(num_users, num_animes)\n",
        "\n",
        "# Printing my model summary\n",
        "model.summary()"
      ]
    },
    {
      "cell_type": "code",
      "execution_count": null,
      "metadata": {
        "_cell_guid": "59567470-15a7-465e-ba5c-d6efd9a1aa23",
        "_uuid": "c2e1f6c1-5405-4356-97b6-e9cfcfdce799",
        "execution": {
          "iopub.execute_input": "2024-10-16T06:20:19.962267Z",
          "iopub.status.busy": "2024-10-16T06:20:19.962002Z",
          "iopub.status.idle": "2024-10-16T06:20:19.970555Z",
          "shell.execute_reply": "2024-10-16T06:20:19.969858Z",
          "shell.execute_reply.started": "2024-10-16T06:20:19.962246Z"
        },
        "id": "tVey6rYg4PiP",
        "jupyter": {
          "outputs_hidden": false
        },
        "trusted": true
      },
      "outputs": [],
      "source": [
        "## Import necessary callbacks\n",
        "from tensorflow.keras.callbacks import ModelCheckpoint, LearningRateScheduler, EarlyStopping\n",
        "\n",
        "# Define the initial learning rate, minimum learning rate, maximum learning rate, and batch size\n",
        "start_lr = 0.00001\n",
        "min_lr = 0.00001\n",
        "max_lr = 0.00005\n",
        "batch_size = 10000\n",
        "\n",
        "# Adjust the maximum learning rate and batch size if using TPU\n",
        "if USE_TPU:\n",
        "    max_lr = max_lr * tpu_strategy.num_replicas_in_sync\n",
        "    batch_size = batch_size * tpu_strategy.num_replicas_in_sync\n",
        "\n",
        "# Define the number of epochs for ramp-up, sustain, and exponential decay\n",
        "rampup_epochs = 5\n",
        "sustain_epochs = 0\n",
        "exp_decay = .8\n",
        "\n",
        "# Learning rate schedule function\n",
        "def lrfn(epoch):\n",
        "    if epoch < rampup_epochs:\n",
        "        return (max_lr - start_lr) / rampup_epochs * epoch + start_lr\n",
        "    elif epoch < rampup_epochs + sustain_epochs:\n",
        "        return max_lr\n",
        "    else:\n",
        "        return (max_lr - min_lr) * exp_decay**(epoch - rampup_epochs - sustain_epochs) + min_lr\n",
        "\n",
        "# Learning rate scheduler callback\n",
        "lr_callback = LearningRateScheduler(lambda epoch: lrfn(epoch), verbose=0)\n",
        "\n",
        "# File path for saving the model weights\n",
        "checkpoint_filepath = '/kaggle/working/myanimeweights.h5'\n",
        "\n",
        "# Model checkpoint callback to save the best weights\n",
        "model_checkpoints = ModelCheckpoint(filepath=checkpoint_filepath,\n",
        "                                    save_weights_only=True,\n",
        "                                    monitor='val_loss',\n",
        "                                    mode='min',\n",
        "                                    save_best_only=True)\n",
        "\n",
        "# Early stopping callback to prevent overfitting\n",
        "early_stopping = EarlyStopping(patience=3, monitor='val_loss', mode='min', restore_best_weights=True)\n",
        "\n",
        "# Define the list of callbacks\n",
        "my_callbacks = [\n",
        "    model_checkpoints,\n",
        "    lr_callback,\n",
        "    early_stopping\n",
        "]"
      ]
    },
    {
      "cell_type": "code",
      "execution_count": null,
      "metadata": {
        "_cell_guid": "a8e2be8d-6649-41e6-8258-12c822c33bef",
        "_uuid": "4c6a82a7-f213-488c-85b5-f79352feb1f6",
        "execution": {
          "iopub.execute_input": "2024-10-16T06:20:19.974161Z",
          "iopub.status.busy": "2024-10-16T06:20:19.973896Z",
          "iopub.status.idle": "2024-10-16T06:21:40.245336Z",
          "shell.execute_reply": "2024-10-16T06:21:40.244086Z",
          "shell.execute_reply.started": "2024-10-16T06:20:19.974138Z"
        },
        "id": "Q6yBwzhb4PiP",
        "jupyter": {
          "outputs_hidden": false
        },
        "outputId": "116e617d-3f08-4e41-eb54-800dd1a1c825",
        "trusted": true
      },
      "outputs": [
        {
          "name": "stdout",
          "output_type": "stream",
          "text": [
            "Epoch 1/20\n"
          ]
        },
        {
          "name": "stderr",
          "output_type": "stream",
          "text": [
            "2024-10-16 06:20:24.182826: E tensorflow/core/grappler/optimizers/meta_optimizer.cc:954] model_pruner failed: INVALID_ARGUMENT: Graph does not contain terminal node AssignAddVariableOp.\n",
            "2024-10-16 06:20:24.329154: E tensorflow/core/grappler/optimizers/meta_optimizer.cc:954] model_pruner failed: INVALID_ARGUMENT: Graph does not contain terminal node AssignAddVariableOp.\n"
          ]
        },
        {
          "name": "stdout",
          "output_type": "stream",
          "text": [
            "244/244 [==============================] - ETA: 0s - loss: 0.6899 - mae: 0.2607 - mse: 0.0881"
          ]
        },
        {
          "name": "stderr",
          "output_type": "stream",
          "text": [
            "2024-10-16 06:20:40.570804: E tensorflow/core/grappler/optimizers/meta_optimizer.cc:954] model_pruner failed: INVALID_ARGUMENT: Graph does not contain terminal node AssignAddVariableOp.\n",
            "2024-10-16 06:20:40.694503: E tensorflow/core/grappler/optimizers/meta_optimizer.cc:954] model_pruner failed: INVALID_ARGUMENT: Graph does not contain terminal node AssignAddVariableOp.\n"
          ]
        },
        {
          "name": "stdout",
          "output_type": "stream",
          "text": [
            "244/244 [==============================] - 21s 51ms/step - loss: 0.6899 - mae: 0.2607 - mse: 0.0881 - val_loss: 0.6878 - val_mae: 0.2589 - val_mse: 0.0871 - lr: 1.0000e-05\n",
            "Epoch 2/20\n",
            "244/244 [==============================] - 6s 24ms/step - loss: 0.6668 - mae: 0.2391 - mse: 0.0765 - val_loss: 0.6435 - val_mae: 0.2164 - val_mse: 0.0651 - lr: 8.8000e-05\n",
            "Epoch 3/20\n",
            "244/244 [==============================] - 6s 25ms/step - loss: 0.6091 - mae: 0.1816 - mse: 0.0485 - val_loss: 0.5856 - val_mae: 0.1538 - val_mse: 0.0376 - lr: 1.6600e-04\n",
            "Epoch 4/20\n",
            "244/244 [==============================] - 6s 25ms/step - loss: 0.5790 - mae: 0.1489 - mse: 0.0348 - val_loss: 0.5772 - val_mae: 0.1467 - val_mse: 0.0341 - lr: 2.4400e-04\n",
            "Epoch 5/20\n",
            "244/244 [==============================] - 6s 26ms/step - loss: 0.5705 - mae: 0.1389 - mse: 0.0314 - val_loss: 0.5521 - val_mae: 0.1196 - val_mse: 0.0244 - lr: 3.2200e-04\n",
            "Epoch 6/20\n",
            "244/244 [==============================] - 6s 25ms/step - loss: 0.5407 - mae: 0.1077 - mse: 0.0201 - val_loss: 0.5407 - val_mae: 0.1077 - val_mse: 0.0202 - lr: 4.0000e-04\n",
            "Epoch 7/20\n",
            "244/244 [==============================] - 6s 25ms/step - loss: 0.5285 - mae: 0.0946 - mse: 0.0156 - val_loss: 0.5395 - val_mae: 0.1066 - val_mse: 0.0198 - lr: 3.2200e-04\n",
            "Epoch 8/20\n",
            "244/244 [==============================] - 5s 22ms/step - loss: 0.5211 - mae: 0.0860 - mse: 0.0130 - val_loss: 0.5403 - val_mae: 0.1076 - val_mse: 0.0202 - lr: 2.5960e-04\n",
            "Epoch 9/20\n",
            "244/244 [==============================] - 5s 22ms/step - loss: 0.5161 - mae: 0.0800 - mse: 0.0113 - val_loss: 0.5417 - val_mae: 0.1090 - val_mse: 0.0207 - lr: 2.0968e-04\n",
            "Epoch 10/20\n",
            "244/244 [==============================] - 8s 33ms/step - loss: 0.5127 - mae: 0.0756 - mse: 0.0101 - val_loss: 0.5430 - val_mae: 0.1103 - val_mse: 0.0213 - lr: 1.6974e-04\n"
          ]
        }
      ],
      "source": [
        "# Model training\n",
        "history = model.fit(\n",
        "    x=X_train_array,\n",
        "    y=y_train,\n",
        "    batch_size=batch_size,\n",
        "    epochs=20,\n",
        "    verbose=1,\n",
        "    validation_data=(X_test_array, y_test),\n",
        "    callbacks=my_callbacks\n",
        ")\n",
        "\n",
        "model.load_weights(checkpoint_filepath)"
      ]
    },
    {
      "cell_type": "code",
      "execution_count": null,
      "metadata": {
        "_cell_guid": "aed02671-da41-44c2-acd9-0cd7dec9b3ce",
        "_uuid": "fb0fe39b-5722-494d-a746-d715f16c5e62",
        "execution": {
          "iopub.execute_input": "2024-10-16T06:21:40.246997Z",
          "iopub.status.busy": "2024-10-16T06:21:40.246655Z",
          "iopub.status.idle": "2024-10-16T06:21:40.672255Z",
          "shell.execute_reply": "2024-10-16T06:21:40.671334Z",
          "shell.execute_reply.started": "2024-10-16T06:21:40.246968Z"
        },
        "id": "EGDbisae4PiP",
        "jupyter": {
          "outputs_hidden": false
        },
        "outputId": "1b6933a5-3907-4a8c-c6a9-3d42d489e5c1",
        "trusted": true
      },
      "outputs": [
        {
          "data": {
            "image/png": "[encoded data removed]",
            "text/plain": [
              "<Figure size 640x480 with 1 Axes>"
            ]
          },
          "metadata": {},
          "output_type": "display_data"
        }
      ],
      "source": [
        "# Training results visualization\n",
        "\n",
        "plt.plot(history.history[\"loss\"][0:-2])\n",
        "plt.plot(history.history[\"val_loss\"][0:-2])\n",
        "plt.title(\"Training Loss\")\n",
        "plt.ylabel(\"Loss\")\n",
        "plt.xlabel(\"Epoch\")\n",
        "plt.legend([\"Train\", \"Validation\"], loc=\"upper left\")\n",
        "plt.show()"
      ]
    },
    {
      "cell_type": "code",
      "execution_count": 2,
      "metadata": {
        "colab": {
          "base_uri": "https://localhost:8080/",
          "height": 305
        },
        "id": "DIHnYI8jBGtC",
        "outputId": "94ab7774-aeca-4e5e-aeac-9a2bc00542f2"
      },
      "outputs": [
        {
          "data": {
            "image/png": "[encoded data removed]",
            "text/plain": [
              "<IPython.core.display.Image object>"
            ]
          },
          "execution_count": 2,
          "metadata": {},
          "output_type": "execute_result"
        }
      ],
      "source": [
        "from sklearn.metrics import f1_score\n",
        "y_pred = model.predict(X_test_array)\n",
        "y_pred_classes = (y_pred > 0.5).astype(int)\n",
        "f1 = []\n",
        "for epoch in range(len(history.history['loss'])):\n",
        "    y_pred = model.predict(X_test_array)\n",
        "    y_pred_classes = (y_pred > 0.5).astype(int)\n",
        "    f1.append(f1_score(y_test, y_pred_classes))\n",
        "    plt.plot(f1)\n",
        "    plt.title(\"F1 Score vs Epoch\")\n",
        "    plt.ylabel(\"F1 Score\")\n",
        "    plt.xlabel(\"Epoch\")\n",
        "    plt.show()"
      ]
    },
    {
      "cell_type": "markdown",
      "metadata": {},
      "source": [
        "Hence the accuracy is around 85%\n"
      ]
    },
    {
      "cell_type": "markdown",
      "metadata": {
        "_cell_guid": "35d09c41-5378-4a28-a18f-f18ce7c5d96a",
        "_uuid": "c52b04ca-a7ae-4117-b58a-4f69adda8567",
        "id": "Dj5GUQOl4PiQ",
        "trusted": true
      },
      "source": [
        "# Recommendation:"
      ]
    },
    {
      "cell_type": "code",
      "execution_count": null,
      "metadata": {
        "_cell_guid": "8396c33e-5403-4f38-bb9d-84ce2789310e",
        "_uuid": "c9888356-e438-400d-8ff6-40e9080d2ddb",
        "execution": {
          "iopub.execute_input": "2024-10-16T06:23:03.611837Z",
          "iopub.status.busy": "2024-10-16T06:23:03.611441Z",
          "iopub.status.idle": "2024-10-16T06:23:03.925005Z",
          "shell.execute_reply": "2024-10-16T06:23:03.923852Z",
          "shell.execute_reply.started": "2024-10-16T06:23:03.611789Z"
        },
        "id": "T77b8aIr4PiQ",
        "jupyter": {
          "outputs_hidden": false
        },
        "trusted": true
      },
      "outputs": [],
      "source": [
        "def extract_weights(name, model):\n",
        "    # Get the layer by name from the model\n",
        "    weight_layer = model.get_layer(name)\n",
        "\n",
        "    # Get the weights from the layer\n",
        "    weights = weight_layer.get_weights()[0]\n",
        "\n",
        "    # Normalize the weights\n",
        "    weights = weights / np.linalg.norm(weights, axis=1).reshape((-1, 1))\n",
        "\n",
        "    return weights\n",
        "\n",
        "# Extract weights for anime embeddings\n",
        "anime_weights = extract_weights('anime_embedding', model)\n",
        "# Extract weights for user embeddings\n",
        "user_weights = extract_weights('user_embedding', model)"
      ]
    },
    {
      "cell_type": "markdown",
      "metadata": {
        "_cell_guid": "92804b4e-31a8-4ecb-addd-a260043db9cd",
        "_uuid": "0b52973f-254e-4e35-a5fc-e9231cbdd7d9",
        "id": "Ep8yq6M94PiQ",
        "trusted": true
      },
      "source": [
        "#### Reading the whole dataset"
      ]
    },
    {
      "cell_type": "code",
      "execution_count": null,
      "metadata": {
        "_cell_guid": "e26a0efc-93b1-410d-a371-5c7add26d54f",
        "_uuid": "65568fd4-3ff3-47d6-b3b6-7cfa7b0546f4",
        "execution": {
          "iopub.execute_input": "2024-10-16T06:23:03.926968Z",
          "iopub.status.busy": "2024-10-16T06:23:03.92664Z",
          "iopub.status.idle": "2024-10-16T06:23:04.224483Z",
          "shell.execute_reply": "2024-10-16T06:23:04.223327Z",
          "shell.execute_reply.started": "2024-10-16T06:23:03.92694Z"
        },
        "id": "61_w2qIb4PiQ",
        "jupyter": {
          "outputs_hidden": false
        },
        "trusted": true
      },
      "outputs": [],
      "source": [
        "df_anime=pd.read_csv('/kaggle/input/myanimelist-dataset/anime-dataset-2023.csv')"
      ]
    },
    {
      "cell_type": "markdown",
      "metadata": {
        "_cell_guid": "59294abe-9380-436d-a051-701ec949bdad",
        "_uuid": "d143c4c3-be0d-45c5-80a4-7912128273ea",
        "id": "uv2kmBqq4PiQ",
        "trusted": true
      },
      "source": [
        "#### Now I want my model to recommend only those animes that have been rated by at least a certain number of users, which I will set as the threshold. This threshold helps ensure that the recommended anime titles have received a sufficient number of ratings, indicating a certain level of popularity or user engagement."
      ]
    },
    {
      "cell_type": "code",
      "execution_count": null,
      "metadata": {
        "_cell_guid": "f4928845-dbdb-4191-a032-10bef040e77e",
        "_uuid": "a9d59c0c-836c-4a3a-aadf-f01fe6b7b059",
        "execution": {
          "iopub.execute_input": "2024-10-16T06:23:04.22595Z",
          "iopub.status.busy": "2024-10-16T06:23:04.225705Z",
          "iopub.status.idle": "2024-10-16T06:23:04.25567Z",
          "shell.execute_reply": "2024-10-16T06:23:04.254796Z",
          "shell.execute_reply.started": "2024-10-16T06:23:04.225928Z"
        },
        "id": "Yu2YmbDS4PiQ",
        "jupyter": {
          "outputs_hidden": false
        },
        "outputId": "ffe22298-3757-44af-8840-212e2fdb43b8",
        "trusted": true
      },
      "outputs": [
        {
          "name": "stdout",
          "output_type": "stream",
          "text": [
            "(22879, 24)\n"
          ]
        },
        {
          "data": {
            "text/html": [
              "<div>\n",
              "<style scoped>\n",
              "    .dataframe tbody tr th:only-of-type {\n",
              "        vertical-align: middle;\n",
              "    }\n",
              "\n",
              "    .dataframe tbody tr th {\n",
              "        vertical-align: top;\n",
              "    }\n",
              "\n",
              "    .dataframe thead th {\n",
              "        text-align: right;\n",
              "    }\n",
              "</style>\n",
              "<table border=\"1\" class=\"dataframe\">\n",
              "  <thead>\n",
              "    <tr style=\"text-align: right;\">\n",
              "      <th></th>\n",
              "      <th>anime_id</th>\n",
              "      <th>Name</th>\n",
              "      <th>English name</th>\n",
              "      <th>Other name</th>\n",
              "      <th>Score</th>\n",
              "      <th>Genres</th>\n",
              "      <th>Synopsis</th>\n",
              "      <th>Type</th>\n",
              "      <th>Episodes</th>\n",
              "      <th>Aired</th>\n",
              "      <th>...</th>\n",
              "      <th>Studios</th>\n",
              "      <th>Source</th>\n",
              "      <th>Duration</th>\n",
              "      <th>Rating</th>\n",
              "      <th>Rank</th>\n",
              "      <th>Popularity</th>\n",
              "      <th>Favorites</th>\n",
              "      <th>Scored By</th>\n",
              "      <th>Members</th>\n",
              "      <th>Image URL</th>\n",
              "    </tr>\n",
              "  </thead>\n",
              "  <tbody>\n",
              "    <tr>\n",
              "      <th>0</th>\n",
              "      <td>1</td>\n",
              "      <td>Cowboy Bebop</td>\n",
              "      <td>Cowboy Bebop</td>\n",
              "      <td>カウボーイビバップ</td>\n",
              "      <td>8.75</td>\n",
              "      <td>Action, Award Winning, Sci-Fi</td>\n",
              "      <td>Crime is timeless. By the year 2071, humanity ...</td>\n",
              "      <td>TV</td>\n",
              "      <td>26.0</td>\n",
              "      <td>Apr 3, 1998 to Apr 24, 1999</td>\n",
              "      <td>...</td>\n",
              "      <td>Sunrise</td>\n",
              "      <td>Original</td>\n",
              "      <td>24 min per ep</td>\n",
              "      <td>R - 17+ (violence &amp; profanity)</td>\n",
              "      <td>41.0</td>\n",
              "      <td>43</td>\n",
              "      <td>78525</td>\n",
              "      <td>914193.0</td>\n",
              "      <td>1771505</td>\n",
              "      <td>https://cdn.myanimelist.net/images/anime/4/196...</td>\n",
              "    </tr>\n",
              "    <tr>\n",
              "      <th>1</th>\n",
              "      <td>5</td>\n",
              "      <td>Cowboy Bebop: Tengoku no Tobira</td>\n",
              "      <td>Cowboy Bebop: The Movie</td>\n",
              "      <td>カウボーイビバップ 天国の扉</td>\n",
              "      <td>8.38</td>\n",
              "      <td>Action, Sci-Fi</td>\n",
              "      <td>Another day, another bounty—such is the life o...</td>\n",
              "      <td>Movie</td>\n",
              "      <td>1.0</td>\n",
              "      <td>Sep 1, 2001</td>\n",
              "      <td>...</td>\n",
              "      <td>Bones</td>\n",
              "      <td>Original</td>\n",
              "      <td>1 hr 55 min</td>\n",
              "      <td>R - 17+ (violence &amp; profanity)</td>\n",
              "      <td>189.0</td>\n",
              "      <td>602</td>\n",
              "      <td>1448</td>\n",
              "      <td>206248.0</td>\n",
              "      <td>360978</td>\n",
              "      <td>https://cdn.myanimelist.net/images/anime/1439/...</td>\n",
              "    </tr>\n",
              "    <tr>\n",
              "      <th>2</th>\n",
              "      <td>6</td>\n",
              "      <td>Trigun</td>\n",
              "      <td>Trigun</td>\n",
              "      <td>トライガン</td>\n",
              "      <td>8.22</td>\n",
              "      <td>Action, Adventure, Sci-Fi</td>\n",
              "      <td>Vash the Stampede is the man with a $$60,000,0...</td>\n",
              "      <td>TV</td>\n",
              "      <td>26.0</td>\n",
              "      <td>Apr 1, 1998 to Sep 30, 1998</td>\n",
              "      <td>...</td>\n",
              "      <td>Madhouse</td>\n",
              "      <td>Manga</td>\n",
              "      <td>24 min per ep</td>\n",
              "      <td>PG-13 - Teens 13 or older</td>\n",
              "      <td>328.0</td>\n",
              "      <td>246</td>\n",
              "      <td>15035</td>\n",
              "      <td>356739.0</td>\n",
              "      <td>727252</td>\n",
              "      <td>https://cdn.myanimelist.net/images/anime/7/203...</td>\n",
              "    </tr>\n",
              "  </tbody>\n",
              "</table>\n",
              "<p>3 rows × 24 columns</p>\n",
              "</div>"
            ],
            "text/plain": [
              "   anime_id                             Name             English name   \n",
              "0         1                     Cowboy Bebop             Cowboy Bebop  \\\n",
              "1         5  Cowboy Bebop: Tengoku no Tobira  Cowboy Bebop: The Movie   \n",
              "2         6                           Trigun                   Trigun   \n",
              "\n",
              "       Other name Score                         Genres   \n",
              "0       カウボーイビバップ  8.75  Action, Award Winning, Sci-Fi  \\\n",
              "1  カウボーイビバップ 天国の扉  8.38                 Action, Sci-Fi   \n",
              "2           トライガン  8.22      Action, Adventure, Sci-Fi   \n",
              "\n",
              "                                            Synopsis   Type Episodes   \n",
              "0  Crime is timeless. By the year 2071, humanity ...     TV     26.0  \\\n",
              "1  Another day, another bounty—such is the life o...  Movie      1.0   \n",
              "2  Vash the Stampede is the man with a $$60,000,0...     TV     26.0   \n",
              "\n",
              "                         Aired  ...   Studios    Source       Duration   \n",
              "0  Apr 3, 1998 to Apr 24, 1999  ...   Sunrise  Original  24 min per ep  \\\n",
              "1                  Sep 1, 2001  ...     Bones  Original    1 hr 55 min   \n",
              "2  Apr 1, 1998 to Sep 30, 1998  ...  Madhouse     Manga  24 min per ep   \n",
              "\n",
              "                           Rating   Rank Popularity Favorites Scored By   \n",
              "0  R - 17+ (violence & profanity)   41.0         43     78525  914193.0  \\\n",
              "1  R - 17+ (violence & profanity)  189.0        602      1448  206248.0   \n",
              "2       PG-13 - Teens 13 or older  328.0        246     15035  356739.0   \n",
              "\n",
              "   Members                                          Image URL  \n",
              "0  1771505  https://cdn.myanimelist.net/images/anime/4/196...  \n",
              "1   360978  https://cdn.myanimelist.net/images/anime/1439/...  \n",
              "2   727252  https://cdn.myanimelist.net/images/anime/7/203...  \n",
              "\n",
              "[3 rows x 24 columns]"
            ]
          },
          "execution_count": 24,
          "metadata": {},
          "output_type": "execute_result"
        }
      ],
      "source": [
        "popularity_threshold = 50\n",
        "df_anime= df_anime.query('Members >= @popularity_threshold')\n",
        "print(df_anime.shape)\n",
        "df_anime.head(3)      # only give rating of those movies for which atleast 200 user have rated"
      ]
    },
    {
      "cell_type": "markdown",
      "metadata": {
        "_cell_guid": "1308702d-c2cc-40a2-955f-25c77f79f67b",
        "_uuid": "7f2d3284-85bc-4ef4-8e73-dea448cbd7ec",
        "id": "hAmZ1PEa4PiQ",
        "trusted": true
      },
      "source": [
        "# 1: Item Based Recommendation"
      ]
    },
    {
      "cell_type": "code",
      "execution_count": null,
      "metadata": {
        "_cell_guid": "86ecef28-7094-4a3a-b190-c95a5af0e8cc",
        "_uuid": "c588e486-9f0c-4355-a9f3-9cccfac03f8a",
        "execution": {
          "iopub.execute_input": "2024-10-16T06:23:04.257143Z",
          "iopub.status.busy": "2024-10-16T06:23:04.256843Z",
          "iopub.status.idle": "2024-10-16T06:23:04.266709Z",
          "shell.execute_reply": "2024-10-16T06:23:04.26577Z",
          "shell.execute_reply.started": "2024-10-16T06:23:04.257115Z"
        },
        "id": "34EwzyNw4PiR",
        "jupyter": {
          "outputs_hidden": false
        },
        "trusted": true
      },
      "outputs": [],
      "source": [
        "def find_similar_animes(name, n=10, return_dist=False, neg=False):\n",
        "    try:\n",
        "        anime_row = df_anime[df_anime['Name'] == name].iloc[0]\n",
        "        index = anime_row['anime_id']\n",
        "        encoded_index = anime_encoder.transform([index])[0]\n",
        "        weights = anime_weights\n",
        "        dists = np.dot(weights, weights[encoded_index])\n",
        "        sorted_dists = np.argsort(dists)\n",
        "        n = n + 1\n",
        "        if neg:\n",
        "            closest = sorted_dists[:n]\n",
        "        else:\n",
        "            closest = sorted_dists[-n:]\n",
        "        print('Animes closest to {}'.format(name))\n",
        "        if return_dist:\n",
        "            return dists, closest\n",
        "\n",
        "        SimilarityArr = []\n",
        "\n",
        "        for close in closest:\n",
        "            decoded_id = anime_encoder.inverse_transform([close])[0]\n",
        "            anime_frame = df_anime[df_anime['anime_id'] == decoded_id]\n",
        "\n",
        "            anime_name = anime_frame['Name'].values[0]\n",
        "            english_name = anime_frame['English name'].values[0]\n",
        "            name = english_name if english_name != \"UNKNOWN\" else anime_name\n",
        "            genre = anime_frame['Genres'].values[0]\n",
        "            Synopsis = anime_frame['Synopsis'].values[0]\n",
        "            similarity = dists[close]\n",
        "            similarity = \"{:.2f}%\".format(similarity * 100)\n",
        "            SimilarityArr.append({\"Name\": name, \"Similarity\": similarity, \"Genres\": genre, \"Synopsis\":Synopsis})\n",
        "        Frame = pd.DataFrame(SimilarityArr).sort_values(by=\"Similarity\", ascending=False)\n",
        "        return Frame[Frame.Name != name]\n",
        "    except:\n",
        "        print('{} not found in Anime list'.format(name))\n",
        "\n",
        "pd.set_option('display.max_colwidth', None)"
      ]
    },
    {
      "cell_type": "code",
      "execution_count": null,
      "metadata": {
        "_cell_guid": "a0ccf07e-6279-4d9c-ac7c-1dcc9e956d95",
        "_uuid": "15775326-18d1-4e49-829e-54a4532e49b1",
        "execution": {
          "iopub.execute_input": "2024-10-16T06:23:04.269326Z",
          "iopub.status.busy": "2024-10-16T06:23:04.269076Z",
          "iopub.status.idle": "2024-10-16T06:23:04.322589Z",
          "shell.execute_reply": "2024-10-16T06:23:04.32064Z",
          "shell.execute_reply.started": "2024-10-16T06:23:04.269303Z"
        },
        "id": "Xmsnd8tx4PiR",
        "jupyter": {
          "outputs_hidden": false
        },
        "outputId": "15011128-fc7a-49c3-beb3-b46d035a4148",
        "trusted": true
      },
      "outputs": [
        {
          "name": "stdout",
          "output_type": "stream",
          "text": [
            "Animes closest to Tensei shitara Slime Datta Ken\n"
          ]
        },
        {
          "data": {
            "text/html": [
              "<div>\n",
              "<style scoped>\n",
              "    .dataframe tbody tr th:only-of-type {\n",
              "        vertical-align: middle;\n",
              "    }\n",
              "\n",
              "    .dataframe tbody tr th {\n",
              "        vertical-align: top;\n",
              "    }\n",
              "\n",
              "    .dataframe thead th {\n",
              "        text-align: right;\n",
              "    }\n",
              "</style>\n",
              "<table border=\"1\" class=\"dataframe\">\n",
              "  <thead>\n",
              "    <tr style=\"text-align: right;\">\n",
              "      <th></th>\n",
              "      <th>Name</th>\n",
              "      <th>Similarity</th>\n",
              "      <th>Genres</th>\n",
              "      <th>Synopsis</th>\n",
              "    </tr>\n",
              "  </thead>\n",
              "  <tbody>\n",
              "    <tr>\n",
              "      <th>4</th>\n",
              "      <td>That Time I Got Reincarnated as a Slime Season 2</td>\n",
              "      <td>75.18%</td>\n",
              "      <td>Action, Adventure, Comedy, Fantasy</td>\n",
              "      <td>Taking a break from his time as a teacher, the powerful slime Rimuru Tempest returns to his kingdom, eponymously named Tempest, just in time to begin negotiations with a nearby nation—the Kingdom of Eurazania. While the negotiations are anything but peaceful, they do end successfully, allowing Rimuru to return and finish teaching. When trying to again return to Tempest, this time permanently, Rimuru is stopped by a mysterious figure who is somehow able to constrain the many magical abilities he has at his disposal. \\n\\nIn Tempest, the situation is even worse. A group of unknown humans has invaded the land and are assaulting its citizens, both influential and innocent. They are not just trying to bring harm either—they have the intent to kill. Can Rimuru overcome his powerful and dangerous foe and return to Tempest before it is too late?</td>\n",
              "    </tr>\n",
              "    <tr>\n",
              "      <th>3</th>\n",
              "      <td>That Time I Got Reincarnated as a Slime Season 2 Part 2</td>\n",
              "      <td>73.22%</td>\n",
              "      <td>Action, Adventure, Comedy, Fantasy</td>\n",
              "      <td>The nation of Tempest is in a festive mood after successfully overcoming the surprise attack from the Falmuth Army and the Western Holy Church. Beyond the festivities lies a meeting between Tempest and its allies to decide the future of the Nation of Monsters. The aftermath of the Falmuth invasion, Milim Nava's suspicious behavior, and the disappearance of Demon Lord Carrion—the problems seem to keep on piling up.\\n\\nRimuru Tempest, now awakened as a \"True Demon Lord,\" decides to go on the offensive against Clayman. With the fully revived \"Storm Dragon\" Veldora, \"Ultimate Skill\" Raphael, and other powerful comrades, the ruler of the Tempest is confident in taking down his enemies one by one until he can face the man pulling the strings.</td>\n",
              "    </tr>\n",
              "    <tr>\n",
              "      <th>2</th>\n",
              "      <td>Demon Slayer: Kimetsu no Yaiba</td>\n",
              "      <td>64.96%</td>\n",
              "      <td>Action, Award Winning, Fantasy</td>\n",
              "      <td>Ever since the death of his father, the burden of supporting the family has fallen upon Tanjirou Kamado's shoulders. Though living impoverished on a remote mountain, the Kamado family are able to enjoy a relatively peaceful and happy life. One day, Tanjirou decides to go down to the local village to make a little money selling charcoal. On his way back, night falls, forcing Tanjirou to take shelter in the house of a strange man, who warns him of the existence of flesh-eating demons that lurk in the woods at night.\\n\\nWhen he finally arrives back home the next day, he is met with a horrifying sight—his whole family has been slaughtered. Worse still, the sole survivor is his sister Nezuko, who has been turned into a bloodthirsty demon. Consumed by rage and hatred, Tanjirou swears to avenge his family and stay by his only remaining sibling. Alongside the mysterious group calling themselves the Demon Slayer Corps, Tanjirou will do whatever it takes to slay the demons and protect the remnants of his beloved sister's humanity.</td>\n",
              "    </tr>\n",
              "    <tr>\n",
              "      <th>1</th>\n",
              "      <td>Demon Slayer: Kimetsu no Yaiba Entertainment District Arc</td>\n",
              "      <td>63.57%</td>\n",
              "      <td>Action, Fantasy</td>\n",
              "      <td>The devastation of the Mugen Train incident still weighs heavily on the members of the Demon Slayer Corps. Despite being given time to recover, life must go on, as the wicked never sleep: a vicious demon is terrorizing the alluring women of the Yoshiwara Entertainment District. The Sound Pillar, Tengen Uzui, and his three wives are on the case. However, when he soon loses contact with his spouses, Tengen fears the worst and enlists the help of Tanjirou Kamado, Zenitsu Agatsuma, and Inosuke Hashibira to infiltrate the district's most prominent houses and locate the depraved Upper Rank demon.</td>\n",
              "    </tr>\n",
              "    <tr>\n",
              "      <th>0</th>\n",
              "      <td>The Rising of the Shield Hero</td>\n",
              "      <td>63.38%</td>\n",
              "      <td>Action, Adventure, Drama, Fantasy</td>\n",
              "      <td>The Four Cardinal Heroes are a group of ordinary men from modern-day Japan summoned to the kingdom of Melromarc to become its saviors. Melromarc is a country plagued by the Waves of Catastrophe that have repeatedly ravaged the land and brought disaster to its citizens for centuries. The four heroes are respectively bestowed a sword, spear, bow, and shield to vanquish these Waves. Naofumi Iwatani, an otaku, becomes cursed with the fate of being the \"Shield Hero.\" Armed with only a measly shield, Naofumi is belittled and ridiculed by his fellow heroes and the kingdom's people due to his weak offensive capabilities and lackluster personality.\\n\\nWhen the heroes are provided with resources and comrades to train with, Naofumi sets out with the only person willing to train alongside him, Malty Melromarc. He is soon betrayed by her, however, and becomes falsely accused of taking advantage of her. Naofumi then becomes heavily discriminated against and hated by the people of Melromarc for something he didn't do. With a raging storm of hurt and mistrust in his heart, Naofumi begins his journey of strengthening himself and his reputation. Further along however, the difficulty of being on his own sets in, so Naofumi buys a demi-human slave on the verge of death named Raphtalia to accompany him on his travels.\\n\\nAs the Waves approach the kingdom, Naofumi and Raphtalia must fight for the survival of the kingdom and protect the people of Melromarc from their ill-fated future.</td>\n",
              "    </tr>\n",
              "  </tbody>\n",
              "</table>\n",
              "</div>"
            ],
            "text/plain": [
              "                                                        Name Similarity   \n",
              "4           That Time I Got Reincarnated as a Slime Season 2     75.18%  \\\n",
              "3    That Time I Got Reincarnated as a Slime Season 2 Part 2     73.22%   \n",
              "2                             Demon Slayer: Kimetsu no Yaiba     64.96%   \n",
              "1  Demon Slayer: Kimetsu no Yaiba Entertainment District Arc     63.57%   \n",
              "0                              The Rising of the Shield Hero     63.38%   \n",
              "\n",
              "                               Genres   \n",
              "4  Action, Adventure, Comedy, Fantasy  \\\n",
              "3  Action, Adventure, Comedy, Fantasy   \n",
              "2      Action, Award Winning, Fantasy   \n",
              "1                     Action, Fantasy   \n",
              "0   Action, Adventure, Drama, Fantasy   \n",
              "\n",
              "                                                                                                                                                                                                                                                                                                                                                                                                                                                                                                                                                                                                                                                                                                                                                                                                                                                                                                                                                                                                                                                                                                                                                                                                                                                                                                                                                                                                                                                                                                                                         Synopsis  \n",
              "4                                                                                                                                                                                                                                                                                                                                                                                                                                                                                                                                                                                                                                                                Taking a break from his time as a teacher, the powerful slime Rimuru Tempest returns to his kingdom, eponymously named Tempest, just in time to begin negotiations with a nearby nation—the Kingdom of Eurazania. While the negotiations are anything but peaceful, they do end successfully, allowing Rimuru to return and finish teaching. When trying to again return to Tempest, this time permanently, Rimuru is stopped by a mysterious figure who is somehow able to constrain the many magical abilities he has at his disposal. \\n\\nIn Tempest, the situation is even worse. A group of unknown humans has invaded the land and are assaulting its citizens, both influential and innocent. They are not just trying to bring harm either—they have the intent to kill. Can Rimuru overcome his powerful and dangerous foe and return to Tempest before it is too late?  \n",
              "3                                                                                                                                                                                                                                                                                                                                                                                                                                                                                                                                                                                                                                                                                                                                                                      The nation of Tempest is in a festive mood after successfully overcoming the surprise attack from the Falmuth Army and the Western Holy Church. Beyond the festivities lies a meeting between Tempest and its allies to decide the future of the Nation of Monsters. The aftermath of the Falmuth invasion, Milim Nava's suspicious behavior, and the disappearance of Demon Lord Carrion—the problems seem to keep on piling up.\\n\\nRimuru Tempest, now awakened as a \"True Demon Lord,\" decides to go on the offensive against Clayman. With the fully revived \"Storm Dragon\" Veldora, \"Ultimate Skill\" Raphael, and other powerful comrades, the ruler of the Tempest is confident in taking down his enemies one by one until he can face the man pulling the strings.  \n",
              "2                                                                                                                                                                                                                                                                                                                                                                                                                                                                    Ever since the death of his father, the burden of supporting the family has fallen upon Tanjirou Kamado's shoulders. Though living impoverished on a remote mountain, the Kamado family are able to enjoy a relatively peaceful and happy life. One day, Tanjirou decides to go down to the local village to make a little money selling charcoal. On his way back, night falls, forcing Tanjirou to take shelter in the house of a strange man, who warns him of the existence of flesh-eating demons that lurk in the woods at night.\\n\\nWhen he finally arrives back home the next day, he is met with a horrifying sight—his whole family has been slaughtered. Worse still, the sole survivor is his sister Nezuko, who has been turned into a bloodthirsty demon. Consumed by rage and hatred, Tanjirou swears to avenge his family and stay by his only remaining sibling. Alongside the mysterious group calling themselves the Demon Slayer Corps, Tanjirou will do whatever it takes to slay the demons and protect the remnants of his beloved sister's humanity.  \n",
              "1                                                                                                                                                                                                                                                                                                                                                                                                                                                                                                                                                                                                                                                                                                                                                                                                                                                                                                                           The devastation of the Mugen Train incident still weighs heavily on the members of the Demon Slayer Corps. Despite being given time to recover, life must go on, as the wicked never sleep: a vicious demon is terrorizing the alluring women of the Yoshiwara Entertainment District. The Sound Pillar, Tengen Uzui, and his three wives are on the case. However, when he soon loses contact with his spouses, Tengen fears the worst and enlists the help of Tanjirou Kamado, Zenitsu Agatsuma, and Inosuke Hashibira to infiltrate the district's most prominent houses and locate the depraved Upper Rank demon.  \n",
              "0  The Four Cardinal Heroes are a group of ordinary men from modern-day Japan summoned to the kingdom of Melromarc to become its saviors. Melromarc is a country plagued by the Waves of Catastrophe that have repeatedly ravaged the land and brought disaster to its citizens for centuries. The four heroes are respectively bestowed a sword, spear, bow, and shield to vanquish these Waves. Naofumi Iwatani, an otaku, becomes cursed with the fate of being the \"Shield Hero.\" Armed with only a measly shield, Naofumi is belittled and ridiculed by his fellow heroes and the kingdom's people due to his weak offensive capabilities and lackluster personality.\\n\\nWhen the heroes are provided with resources and comrades to train with, Naofumi sets out with the only person willing to train alongside him, Malty Melromarc. He is soon betrayed by her, however, and becomes falsely accused of taking advantage of her. Naofumi then becomes heavily discriminated against and hated by the people of Melromarc for something he didn't do. With a raging storm of hurt and mistrust in his heart, Naofumi begins his journey of strengthening himself and his reputation. Further along however, the difficulty of being on his own sets in, so Naofumi buys a demi-human slave on the verge of death named Raphtalia to accompany him on his travels.\\n\\nAs the Waves approach the kingdom, Naofumi and Raphtalia must fight for the survival of the kingdom and protect the people of Melromarc from their ill-fated future.  "
            ]
          },
          "execution_count": 26,
          "metadata": {},
          "output_type": "execute_result"
        }
      ],
      "source": [
        "find_similar_animes('Tensei shitara Slime Datta Ken', n=5, neg=False)  # That Time I Got Reincarnated as a Slime"
      ]
    },
    {
      "cell_type": "code",
      "execution_count": null,
      "metadata": {
        "_cell_guid": "1aa5e410-6c58-4357-8361-94e252d65ab3",
        "_uuid": "d8370c9f-c146-4a73-92ab-af9725de6d55",
        "execution": {
          "iopub.execute_input": "2024-10-16T06:23:04.326315Z",
          "iopub.status.busy": "2024-10-16T06:23:04.325702Z",
          "iopub.status.idle": "2024-10-16T06:23:04.375814Z",
          "shell.execute_reply": "2024-10-16T06:23:04.373931Z",
          "shell.execute_reply.started": "2024-10-16T06:23:04.326257Z"
        },
        "id": "aspXiaoy4PiR",
        "jupyter": {
          "outputs_hidden": false
        },
        "outputId": "c32c8360-3bab-4678-ffb9-94f278b5543c",
        "trusted": true
      },
      "outputs": [
        {
          "name": "stdout",
          "output_type": "stream",
          "text": [
            "Animes closest to Shigatsu wa Kimi no Uso\n"
          ]
        },
        {
          "data": {
            "text/html": [
              "<div>\n",
              "<style scoped>\n",
              "    .dataframe tbody tr th:only-of-type {\n",
              "        vertical-align: middle;\n",
              "    }\n",
              "\n",
              "    .dataframe tbody tr th {\n",
              "        vertical-align: top;\n",
              "    }\n",
              "\n",
              "    .dataframe thead th {\n",
              "        text-align: right;\n",
              "    }\n",
              "</style>\n",
              "<table border=\"1\" class=\"dataframe\">\n",
              "  <thead>\n",
              "    <tr style=\"text-align: right;\">\n",
              "      <th></th>\n",
              "      <th>Name</th>\n",
              "      <th>Similarity</th>\n",
              "      <th>Genres</th>\n",
              "      <th>Synopsis</th>\n",
              "    </tr>\n",
              "  </thead>\n",
              "  <tbody>\n",
              "    <tr>\n",
              "      <th>4</th>\n",
              "      <td>Your Name.</td>\n",
              "      <td>82.03%</td>\n",
              "      <td>Award Winning, Drama, Supernatural</td>\n",
              "      <td>Mitsuha Miyamizu, a high school girl, yearns to live the life of a boy in the bustling city of Tokyo—a dream that stands in stark contrast to her present life in the countryside. Meanwhile in the city, Taki Tachibana lives a busy life as a high school student while juggling his part-time job and hopes for a future in architecture.\\n\\nOne day, Mitsuha awakens in a room that is not her own and suddenly finds herself living the dream life in Tokyo—but in Taki's body! Elsewhere, Taki finds himself living Mitsuha's life in the humble countryside. In pursuit of an answer to this strange phenomenon, they begin to search for one another.\\n\\nKimi no Na wa. revolves around Mitsuha and Taki's actions, which begin to have a dramatic impact on each other's lives, weaving them into a fabric held together by fate and circumstance.</td>\n",
              "    </tr>\n",
              "    <tr>\n",
              "      <th>3</th>\n",
              "      <td>A Silent Voice</td>\n",
              "      <td>80.44%</td>\n",
              "      <td>Award Winning, Drama</td>\n",
              "      <td>As a wild youth, elementary school student Shouya Ishida sought to beat boredom in the cruelest ways. When the deaf Shouko Nishimiya transfers into his class, Shouya and the rest of his class thoughtlessly bully her for fun. However, when her mother notifies the school, he is singled out and blamed for everything done to her. With Shouko transferring out of the school, Shouya is left at the mercy of his classmates. He is heartlessly ostracized all throughout elementary and middle school, while teachers turn a blind eye.\\n\\nNow in his third year of high school, Shouya is still plagued by his wrongdoings as a young boy. Sincerely regretting his past actions, he sets out on a journey of redemption: to meet Shouko once more and make amends.\\n\\nKoe no Katachi tells the heartwarming tale of Shouya's reunion with Shouko and his honest attempts to redeem himself, all while being continually haunted by the shadows of his past.</td>\n",
              "    </tr>\n",
              "    <tr>\n",
              "      <th>2</th>\n",
              "      <td>Anohana: The Flower We Saw That Day</td>\n",
              "      <td>78.53%</td>\n",
              "      <td>Drama, Supernatural</td>\n",
              "      <td>Jinta Yadomi is peacefully living as a recluse, spending his days away from school and playing video games at home instead. One hot summer day, his childhood friend, Meiko \"Menma\" Honma, appears and pesters him to grant a forgotten wish. He pays her no mind, which annoys her, but he doesn't really care. After all, Menma already died years ago.\\n\\nAt first, Jinta thinks that he is merely hallucinating due to the summer heat, but he is later on convinced that what he sees truly is the ghost of Menma. Jinta and his group of childhood friends grew apart after her untimely death, but they are drawn together once more as they try to lay Menma's spirit to rest. Re-living their pain and guilt, will they be able to find the strength to help not only Menma move on—but themselves as well?</td>\n",
              "    </tr>\n",
              "    <tr>\n",
              "      <th>1</th>\n",
              "      <td>Steins;Gate: The Movie - Load Region of Déjà Vu</td>\n",
              "      <td>75.57%</td>\n",
              "      <td>Drama, Sci-Fi</td>\n",
              "      <td>After a year in America, Kurisu Makise returns to Akihabara and reunites with Rintarou Okabe. However, their reunion is cut short when Okabe begins to experience recurring flashes of other timelines as the consequences of his time traveling start to manifest. These side effects eventually culminate in Okabe suddenly vanishing from the world, and only the startled Kurisu has any memory of his existence.\\n\\nIn the midst of despair, Kurisu is faced with a truly arduous choice that will test both her duty as a scientist and her loyalty as a friend: follow Okabe's advice and stay away from traveling through time to avoid the potential consequences it may have on the world lines, or ignore it to rescue the person that she cherishes most. Regardless of her decision, the path she chooses is one that will affect the past, the present, and the future.</td>\n",
              "    </tr>\n",
              "    <tr>\n",
              "      <th>0</th>\n",
              "      <td>Steins;Gate</td>\n",
              "      <td>75.30%</td>\n",
              "      <td>Drama, Sci-Fi, Suspense</td>\n",
              "      <td>Eccentric scientist Rintarou Okabe has a never-ending thirst for scientific exploration. Together with his ditzy but well-meaning friend Mayuri Shiina and his roommate Itaru Hashida, Rintarou founds the Future Gadget Laboratory in the hopes of creating technological innovations that baffle the human psyche. Despite claims of grandeur, the only notable \"gadget\" the trio have created is a microwave that has the mystifying power to turn bananas into green goo.\\n\\nHowever, when Rintarou decides to attend neuroscientist Kurisu Makise's conference on time travel, he experiences a series of strange events that lead him to believe that there is more to the \"Phone Microwave\" gadget than meets the eye. Apparently able to send text messages into the past using the microwave, Rintarou dabbles further with the \"time machine,\" attracting the ire and attention of the mysterious organization SERN.\\n\\nDue to the novel discovery, Rintarou and his friends find themselves in an ever-present danger. As he works to mitigate the damage his invention has caused to the timeline, he is not only fighting a battle to save his loved ones, but also one against his degrading sanity.</td>\n",
              "    </tr>\n",
              "  </tbody>\n",
              "</table>\n",
              "</div>"
            ],
            "text/plain": [
              "                                              Name Similarity   \n",
              "4                                       Your Name.     82.03%  \\\n",
              "3                                   A Silent Voice     80.44%   \n",
              "2              Anohana: The Flower We Saw That Day     78.53%   \n",
              "1  Steins;Gate: The Movie - Load Region of Déjà Vu     75.57%   \n",
              "0                                      Steins;Gate     75.30%   \n",
              "\n",
              "                               Genres   \n",
              "4  Award Winning, Drama, Supernatural  \\\n",
              "3                Award Winning, Drama   \n",
              "2                 Drama, Supernatural   \n",
              "1                       Drama, Sci-Fi   \n",
              "0             Drama, Sci-Fi, Suspense   \n",
              "\n",
              "                                                                                                                                                                                                                                                                                                                                                                                                                                                                                                                                                                                                                                                                                                                                                                                                                                                                                                                                                                                                                                                                                                                                                                                                             Synopsis  \n",
              "4                                                                                                                                                                                                                                                                                                                                                         Mitsuha Miyamizu, a high school girl, yearns to live the life of a boy in the bustling city of Tokyo—a dream that stands in stark contrast to her present life in the countryside. Meanwhile in the city, Taki Tachibana lives a busy life as a high school student while juggling his part-time job and hopes for a future in architecture.\\n\\nOne day, Mitsuha awakens in a room that is not her own and suddenly finds herself living the dream life in Tokyo—but in Taki's body! Elsewhere, Taki finds himself living Mitsuha's life in the humble countryside. In pursuit of an answer to this strange phenomenon, they begin to search for one another.\\n\\nKimi no Na wa. revolves around Mitsuha and Taki's actions, which begin to have a dramatic impact on each other's lives, weaving them into a fabric held together by fate and circumstance.  \n",
              "3                                                                                                                                                                                                                                                 As a wild youth, elementary school student Shouya Ishida sought to beat boredom in the cruelest ways. When the deaf Shouko Nishimiya transfers into his class, Shouya and the rest of his class thoughtlessly bully her for fun. However, when her mother notifies the school, he is singled out and blamed for everything done to her. With Shouko transferring out of the school, Shouya is left at the mercy of his classmates. He is heartlessly ostracized all throughout elementary and middle school, while teachers turn a blind eye.\\n\\nNow in his third year of high school, Shouya is still plagued by his wrongdoings as a young boy. Sincerely regretting his past actions, he sets out on a journey of redemption: to meet Shouko once more and make amends.\\n\\nKoe no Katachi tells the heartwarming tale of Shouya's reunion with Shouko and his honest attempts to redeem himself, all while being continually haunted by the shadows of his past.  \n",
              "2                                                                                                                                                                                                                                                                                                                                                                                                Jinta Yadomi is peacefully living as a recluse, spending his days away from school and playing video games at home instead. One hot summer day, his childhood friend, Meiko \"Menma\" Honma, appears and pesters him to grant a forgotten wish. He pays her no mind, which annoys her, but he doesn't really care. After all, Menma already died years ago.\\n\\nAt first, Jinta thinks that he is merely hallucinating due to the summer heat, but he is later on convinced that what he sees truly is the ghost of Menma. Jinta and his group of childhood friends grew apart after her untimely death, but they are drawn together once more as they try to lay Menma's spirit to rest. Re-living their pain and guilt, will they be able to find the strength to help not only Menma move on—but themselves as well?  \n",
              "1                                                                                                                                                                                                                                                                                                                               After a year in America, Kurisu Makise returns to Akihabara and reunites with Rintarou Okabe. However, their reunion is cut short when Okabe begins to experience recurring flashes of other timelines as the consequences of his time traveling start to manifest. These side effects eventually culminate in Okabe suddenly vanishing from the world, and only the startled Kurisu has any memory of his existence.\\n\\nIn the midst of despair, Kurisu is faced with a truly arduous choice that will test both her duty as a scientist and her loyalty as a friend: follow Okabe's advice and stay away from traveling through time to avoid the potential consequences it may have on the world lines, or ignore it to rescue the person that she cherishes most. Regardless of her decision, the path she chooses is one that will affect the past, the present, and the future.  \n",
              "0  Eccentric scientist Rintarou Okabe has a never-ending thirst for scientific exploration. Together with his ditzy but well-meaning friend Mayuri Shiina and his roommate Itaru Hashida, Rintarou founds the Future Gadget Laboratory in the hopes of creating technological innovations that baffle the human psyche. Despite claims of grandeur, the only notable \"gadget\" the trio have created is a microwave that has the mystifying power to turn bananas into green goo.\\n\\nHowever, when Rintarou decides to attend neuroscientist Kurisu Makise's conference on time travel, he experiences a series of strange events that lead him to believe that there is more to the \"Phone Microwave\" gadget than meets the eye. Apparently able to send text messages into the past using the microwave, Rintarou dabbles further with the \"time machine,\" attracting the ire and attention of the mysterious organization SERN.\\n\\nDue to the novel discovery, Rintarou and his friends find themselves in an ever-present danger. As he works to mitigate the damage his invention has caused to the timeline, he is not only fighting a battle to save his loved ones, but also one against his degrading sanity.  "
            ]
          },
          "execution_count": 27,
          "metadata": {},
          "output_type": "execute_result"
        }
      ],
      "source": [
        "find_similar_animes('Shigatsu wa Kimi no Uso', n=5, neg=False) # Your Lie in April"
      ]
    },
    {
      "cell_type": "code",
      "execution_count": null,
      "metadata": {
        "_cell_guid": "3bbfe8dd-de13-4b43-9ed1-ae3d0851be1f",
        "_uuid": "aa778b18-596a-4173-80f9-0c6c124e1559",
        "execution": {
          "iopub.execute_input": "2024-10-16T06:23:04.379939Z",
          "iopub.status.busy": "2024-10-16T06:23:04.378293Z",
          "iopub.status.idle": "2024-10-16T06:23:04.432177Z",
          "shell.execute_reply": "2024-10-16T06:23:04.430267Z",
          "shell.execute_reply.started": "2024-10-16T06:23:04.379873Z"
        },
        "id": "v9R9g0Jt4PiR",
        "jupyter": {
          "outputs_hidden": false
        },
        "outputId": "ffdf9a3f-36bd-4f53-ca80-d78cd52defad",
        "trusted": true
      },
      "outputs": [
        {
          "name": "stdout",
          "output_type": "stream",
          "text": [
            "Animes closest to One Punch Man\n"
          ]
        },
        {
          "data": {
            "text/html": [
              "<div>\n",
              "<style scoped>\n",
              "    .dataframe tbody tr th:only-of-type {\n",
              "        vertical-align: middle;\n",
              "    }\n",
              "\n",
              "    .dataframe tbody tr th {\n",
              "        vertical-align: top;\n",
              "    }\n",
              "\n",
              "    .dataframe thead th {\n",
              "        text-align: right;\n",
              "    }\n",
              "</style>\n",
              "<table border=\"1\" class=\"dataframe\">\n",
              "  <thead>\n",
              "    <tr style=\"text-align: right;\">\n",
              "      <th></th>\n",
              "      <th>Name</th>\n",
              "      <th>Similarity</th>\n",
              "      <th>Genres</th>\n",
              "      <th>Synopsis</th>\n",
              "    </tr>\n",
              "  </thead>\n",
              "  <tbody>\n",
              "    <tr>\n",
              "      <th>4</th>\n",
              "      <td>Haikyu!! 3rd Season</td>\n",
              "      <td>80.38%</td>\n",
              "      <td>Sports</td>\n",
              "      <td>After the victory against Aoba Jousai High, Karasuno High School, once called “a fallen powerhouse, a crow that can’t fly,” has finally reached the climax of the heated Spring tournament. Now, to advance to nationals, the Karasuno team has to defeat the powerhouse Shiratorizawa Academy. Karasuno’s greatest hurdle is their adversary’s ace, Wakatoshi Ushijima, the number one player in the Miyagi Prefecture, and one of the country’s top three aces.\\n\\nOnly the strongest team will make it to the national tournament. Since this match is the third-year players’ last chance to qualify for nationals, Karasuno has to use everything they learned during the training camp and prior matches to attain victory. Filled with restlessness and excitement, both teams are determined to come out on top in the third season of Haikyuu!!.</td>\n",
              "    </tr>\n",
              "    <tr>\n",
              "      <th>3</th>\n",
              "      <td>Your Name.</td>\n",
              "      <td>80.17%</td>\n",
              "      <td>Award Winning, Drama, Supernatural</td>\n",
              "      <td>Mitsuha Miyamizu, a high school girl, yearns to live the life of a boy in the bustling city of Tokyo—a dream that stands in stark contrast to her present life in the countryside. Meanwhile in the city, Taki Tachibana lives a busy life as a high school student while juggling his part-time job and hopes for a future in architecture.\\n\\nOne day, Mitsuha awakens in a room that is not her own and suddenly finds herself living the dream life in Tokyo—but in Taki's body! Elsewhere, Taki finds himself living Mitsuha's life in the humble countryside. In pursuit of an answer to this strange phenomenon, they begin to search for one another.\\n\\nKimi no Na wa. revolves around Mitsuha and Taki's actions, which begin to have a dramatic impact on each other's lives, weaving them into a fabric held together by fate and circumstance.</td>\n",
              "    </tr>\n",
              "    <tr>\n",
              "      <th>2</th>\n",
              "      <td>Gintama Season 5</td>\n",
              "      <td>79.74%</td>\n",
              "      <td>Action, Comedy, Sci-Fi</td>\n",
              "      <td>After joining the resistance against the bakufu, Gintoki and the gang are in hiding, along with Katsura and his Joui rebels. The Yorozuya is soon approached by Nobume Imai and two members of the Kiheitai, who explain that the Harusame pirates have turned against 7th Division Captain Kamui and their former ally Takasugi. The Kiheitai present Gintoki with a job: find Takasugi, who has been missing since his ship was ambushed in a Harusame raid. Nobume also makes a stunning revelation regarding the Tendoushuu, a secret organization pulling the strings of numerous factions, and their leader Utsuro, the shadowy figure with an uncanny resemblance to Gintoki's former teacher.\\n\\nHitching a ride on Sakamoto's space ship, the Yorozuya and Katsura set out for Rakuyou, Kagura's home planet, where the various factions have gathered and tensions are brewing. Long-held grudges, political infighting, and the Tendoushuu's sinister overarching plan finally culminate into a massive, decisive battle on Rakuyou.</td>\n",
              "    </tr>\n",
              "    <tr>\n",
              "      <th>1</th>\n",
              "      <td>Gintama: The Movie: The Final Chapter: Be Forever Yorozuya</td>\n",
              "      <td>79.64%</td>\n",
              "      <td>Action, Comedy, Sci-Fi</td>\n",
              "      <td>When Gintoki apprehends a movie pirate at a premiere, he checks the camera's footage and finds himself transported to a bleak, post-apocalyptic version of Edo, where a mysterious epidemic called the \"White Plague\" has ravished the world's population. It turns out that the movie pirate wasn't a pirate after all—it was an android time machine, and Gintoki has been hurtled five years into the future! Shinpachi and Kagura, his Yorozuya cohorts, have had a falling out and are now battle-hardened solo vigilantes and he himself has been missing for years, disappearing without a trace after scribbling a strange message in his journal.\\n\\nSetting out in the disguise given to him by the android time machine, Gintoki haphazardly reunites the Yorozuya team to investigate the White Plague, and soon discovers that the key to saving the future lies in the darkness of his own past. Determined to confront a powerful foe, he makes an important discovery—with a ragtag band of friends and allies at his side, he doesn't have to fight alone.</td>\n",
              "    </tr>\n",
              "    <tr>\n",
              "      <th>0</th>\n",
              "      <td>Gintama: Enchousen</td>\n",
              "      <td>78.95%</td>\n",
              "      <td>Action, Comedy, Sci-Fi</td>\n",
              "      <td>While Gintoki Sakata was away, the Yorozuya found themselves a new leader: Kintoki, Gintoki's golden-haired doppelganger. In order to regain his former position, Gintoki will need the help of those around him, a troubling feat when no one can remember him! Between Kintoki and Gintoki, who will claim the throne as the main character?\\n\\nIn addition, Yorozuya make a trip back down to red-light district of Yoshiwara to aid an elderly courtesan in her search for her long-lost lover. Although the district is no longer in chains beneath the earth's surface, the trio soon learn of the tragic backstories of Yoshiwara's inhabitants that still haunt them. With flashback after flashback, this quest has Yorozuya witnessing everlasting love and protecting it as best they can with their hearts and souls.</td>\n",
              "    </tr>\n",
              "  </tbody>\n",
              "</table>\n",
              "</div>"
            ],
            "text/plain": [
              "                                                         Name Similarity   \n",
              "4                                         Haikyu!! 3rd Season     80.38%  \\\n",
              "3                                                  Your Name.     80.17%   \n",
              "2                                            Gintama Season 5     79.74%   \n",
              "1  Gintama: The Movie: The Final Chapter: Be Forever Yorozuya     79.64%   \n",
              "0                                          Gintama: Enchousen     78.95%   \n",
              "\n",
              "                               Genres   \n",
              "4                              Sports  \\\n",
              "3  Award Winning, Drama, Supernatural   \n",
              "2              Action, Comedy, Sci-Fi   \n",
              "1              Action, Comedy, Sci-Fi   \n",
              "0              Action, Comedy, Sci-Fi   \n",
              "\n",
              "                                                                                                                                                                                                                                                                                                                                                                                                                                                                                                                                                                                                                                                                                                                                                                                                                                                                                                                                                                                                                                                                      Synopsis  \n",
              "4                                                                                                                                                                                                                    After the victory against Aoba Jousai High, Karasuno High School, once called “a fallen powerhouse, a crow that can’t fly,” has finally reached the climax of the heated Spring tournament. Now, to advance to nationals, the Karasuno team has to defeat the powerhouse Shiratorizawa Academy. Karasuno’s greatest hurdle is their adversary’s ace, Wakatoshi Ushijima, the number one player in the Miyagi Prefecture, and one of the country’s top three aces.\\n\\nOnly the strongest team will make it to the national tournament. Since this match is the third-year players’ last chance to qualify for nationals, Karasuno has to use everything they learned during the training camp and prior matches to attain victory. Filled with restlessness and excitement, both teams are determined to come out on top in the third season of Haikyuu!!.  \n",
              "3                                                                                                                                                                                                                  Mitsuha Miyamizu, a high school girl, yearns to live the life of a boy in the bustling city of Tokyo—a dream that stands in stark contrast to her present life in the countryside. Meanwhile in the city, Taki Tachibana lives a busy life as a high school student while juggling his part-time job and hopes for a future in architecture.\\n\\nOne day, Mitsuha awakens in a room that is not her own and suddenly finds herself living the dream life in Tokyo—but in Taki's body! Elsewhere, Taki finds himself living Mitsuha's life in the humble countryside. In pursuit of an answer to this strange phenomenon, they begin to search for one another.\\n\\nKimi no Na wa. revolves around Mitsuha and Taki's actions, which begin to have a dramatic impact on each other's lives, weaving them into a fabric held together by fate and circumstance.  \n",
              "2                              After joining the resistance against the bakufu, Gintoki and the gang are in hiding, along with Katsura and his Joui rebels. The Yorozuya is soon approached by Nobume Imai and two members of the Kiheitai, who explain that the Harusame pirates have turned against 7th Division Captain Kamui and their former ally Takasugi. The Kiheitai present Gintoki with a job: find Takasugi, who has been missing since his ship was ambushed in a Harusame raid. Nobume also makes a stunning revelation regarding the Tendoushuu, a secret organization pulling the strings of numerous factions, and their leader Utsuro, the shadowy figure with an uncanny resemblance to Gintoki's former teacher.\\n\\nHitching a ride on Sakamoto's space ship, the Yorozuya and Katsura set out for Rakuyou, Kagura's home planet, where the various factions have gathered and tensions are brewing. Long-held grudges, political infighting, and the Tendoushuu's sinister overarching plan finally culminate into a massive, decisive battle on Rakuyou.  \n",
              "1  When Gintoki apprehends a movie pirate at a premiere, he checks the camera's footage and finds himself transported to a bleak, post-apocalyptic version of Edo, where a mysterious epidemic called the \"White Plague\" has ravished the world's population. It turns out that the movie pirate wasn't a pirate after all—it was an android time machine, and Gintoki has been hurtled five years into the future! Shinpachi and Kagura, his Yorozuya cohorts, have had a falling out and are now battle-hardened solo vigilantes and he himself has been missing for years, disappearing without a trace after scribbling a strange message in his journal.\\n\\nSetting out in the disguise given to him by the android time machine, Gintoki haphazardly reunites the Yorozuya team to investigate the White Plague, and soon discovers that the key to saving the future lies in the darkness of his own past. Determined to confront a powerful foe, he makes an important discovery—with a ragtag band of friends and allies at his side, he doesn't have to fight alone.  \n",
              "0                                                                                                                                                                                                                                            While Gintoki Sakata was away, the Yorozuya found themselves a new leader: Kintoki, Gintoki's golden-haired doppelganger. In order to regain his former position, Gintoki will need the help of those around him, a troubling feat when no one can remember him! Between Kintoki and Gintoki, who will claim the throne as the main character?\\n\\nIn addition, Yorozuya make a trip back down to red-light district of Yoshiwara to aid an elderly courtesan in her search for her long-lost lover. Although the district is no longer in chains beneath the earth's surface, the trio soon learn of the tragic backstories of Yoshiwara's inhabitants that still haunt them. With flashback after flashback, this quest has Yorozuya witnessing everlasting love and protecting it as best they can with their hearts and souls.  "
            ]
          },
          "execution_count": 28,
          "metadata": {},
          "output_type": "execute_result"
        }
      ],
      "source": [
        "find_similar_animes('One Punch Man', n=5, neg=False)"
      ]
    },
    {
      "cell_type": "code",
      "execution_count": null,
      "metadata": {
        "_cell_guid": "e7aac5e9-559e-4d62-b722-35b91e3a7163",
        "_uuid": "f933fada-3f32-49da-9792-23c1b367b75d",
        "execution": {
          "iopub.execute_input": "2024-10-16T06:23:04.435882Z",
          "iopub.status.busy": "2024-10-16T06:23:04.435217Z",
          "iopub.status.idle": "2024-10-16T06:23:04.488472Z",
          "shell.execute_reply": "2024-10-16T06:23:04.486672Z",
          "shell.execute_reply.started": "2024-10-16T06:23:04.43582Z"
        },
        "id": "bt31H_Zc4PiR",
        "jupyter": {
          "outputs_hidden": false
        },
        "outputId": "3bb23f7c-2ab5-49a8-b421-8af349009996",
        "trusted": true
      },
      "outputs": [
        {
          "name": "stdout",
          "output_type": "stream",
          "text": [
            "Animes closest to Mushoku Tensei: Isekai Ittara Honki Dasu\n"
          ]
        },
        {
          "data": {
            "text/html": [
              "<div>\n",
              "<style scoped>\n",
              "    .dataframe tbody tr th:only-of-type {\n",
              "        vertical-align: middle;\n",
              "    }\n",
              "\n",
              "    .dataframe tbody tr th {\n",
              "        vertical-align: top;\n",
              "    }\n",
              "\n",
              "    .dataframe thead th {\n",
              "        text-align: right;\n",
              "    }\n",
              "</style>\n",
              "<table border=\"1\" class=\"dataframe\">\n",
              "  <thead>\n",
              "    <tr style=\"text-align: right;\">\n",
              "      <th></th>\n",
              "      <th>Name</th>\n",
              "      <th>Similarity</th>\n",
              "      <th>Genres</th>\n",
              "      <th>Synopsis</th>\n",
              "    </tr>\n",
              "  </thead>\n",
              "  <tbody>\n",
              "    <tr>\n",
              "      <th>4</th>\n",
              "      <td>Mushoku Tensei: Jobless Reincarnation Part 2</td>\n",
              "      <td>83.67%</td>\n",
              "      <td>Drama, Fantasy, Ecchi</td>\n",
              "      <td>After the mysterious mana calamity, Rudeus Greyrat and his fierce student Eris Boreas Greyrat are teleported to the Demon Continent. There, they team up with their newfound companion Ruijerd Supardia—the former leader of the Superd's Warrior group—to form \"Dead End,\" a successful adventurer party. Making a name for themselves, the trio journeys across the continent to make their way back home to Fittoa.\\n\\nFollowing the advice he received from the faceless god Hitogami, Rudeus saves Kishirika Kishirisu, the Great Emperor of the Demon World, who rewards him by granting him a strange power. Now, as Rudeus masters the powerful ability that offers a number of new opportunities, it might prove to be more than what he bargained for when unexpected dangers threaten to hinder their travels.</td>\n",
              "    </tr>\n",
              "    <tr>\n",
              "      <th>3</th>\n",
              "      <td>Kaguya-sama: Love is War - Ultra Romantic</td>\n",
              "      <td>59.98%</td>\n",
              "      <td>Comedy, Romance</td>\n",
              "      <td>The elite members of Shuchiin Academy's student council continue their competitive day-to-day antics. Council president Miyuki Shirogane clashes daily against vice-president Kaguya Shinomiya, each fighting tooth and nail to trick the other into confessing their romantic love. Kaguya struggles within the strict confines of her wealthy, uptight family, rebelling against her cold default demeanor as she warms to Shirogane and the rest of her friends.\\n\\nMeanwhile, council treasurer Yuu Ishigami suffers under the weight of his hopeless crush on Tsubame Koyasu, a popular upperclassman who helps to instill a new confidence in him. Miko Iino, the newest student council member, grows closer to the rule-breaking Ishigami while striving to overcome her own authoritarian moral code.\\n\\nAs love further blooms at Shuchiin Academy, the student council officers drag their outsider friends into increasingly comedic conflicts.</td>\n",
              "    </tr>\n",
              "    <tr>\n",
              "      <th>2</th>\n",
              "      <td>Re:ZERO -Starting Life in Another World- Season 2</td>\n",
              "      <td>58.73%</td>\n",
              "      <td>Drama, Fantasy, Suspense</td>\n",
              "      <td>A reunion that was supposed to spell the arrival of peaceful times is quickly shattered when Subaru Natsuki and Emilia return to Irlam village. Witnessing the devastation left behind by the calamities known as Sin Archbishops, Subaru sinks into the depths of despair as his ability to redo proves futile.\\n\\nAs the group makes their way to the Sanctuary in search of answers, Subaru has an unexpected encounter with the Witch of Greed—Echidna. Subjected to her untamed rhythm, he is forced to dive into the spirals of the past and future. At the same time, several mysterious threats set their sights on the Sanctuary, heralding a horrific fate for the hapless people trapped within.\\n\\nEverlasting contracts, past sins, and unrequited love will clash and submerge into a river of blood in the second season of Re:Zero kara Hajimeru Isekai Seikatsu. Pushed to the brink of hopelessness, how long will Subaru's resolve to save his loved ones last?</td>\n",
              "    </tr>\n",
              "    <tr>\n",
              "      <th>1</th>\n",
              "      <td>Demon Slayer: Kimetsu no Yaiba</td>\n",
              "      <td>53.88%</td>\n",
              "      <td>Action, Award Winning, Fantasy</td>\n",
              "      <td>Ever since the death of his father, the burden of supporting the family has fallen upon Tanjirou Kamado's shoulders. Though living impoverished on a remote mountain, the Kamado family are able to enjoy a relatively peaceful and happy life. One day, Tanjirou decides to go down to the local village to make a little money selling charcoal. On his way back, night falls, forcing Tanjirou to take shelter in the house of a strange man, who warns him of the existence of flesh-eating demons that lurk in the woods at night.\\n\\nWhen he finally arrives back home the next day, he is met with a horrifying sight—his whole family has been slaughtered. Worse still, the sole survivor is his sister Nezuko, who has been turned into a bloodthirsty demon. Consumed by rage and hatred, Tanjirou swears to avenge his family and stay by his only remaining sibling. Alongside the mysterious group calling themselves the Demon Slayer Corps, Tanjirou will do whatever it takes to slay the demons and protect the remnants of his beloved sister's humanity.</td>\n",
              "    </tr>\n",
              "    <tr>\n",
              "      <th>0</th>\n",
              "      <td>My Dress-Up Darling</td>\n",
              "      <td>53.71%</td>\n",
              "      <td>Romance</td>\n",
              "      <td>High school student Wakana Gojou spends his days perfecting the art of making hina dolls, hoping to eventually reach his grandfather's level of expertise. While his fellow teenagers busy themselves with pop culture, Gojou finds bliss in sewing clothes for his dolls. Nonetheless, he goes to great lengths to keep his unique hobby a secret, as he believes that he would be ridiculed were it revealed. \\n\\nEnter Marin Kitagawa, an extraordinarily pretty girl whose confidence and poise are in stark contrast to Gojou's meekness. It would defy common sense for the friendless Gojou to mix with the likes of Kitagawa, who is always surrounded by her peers. However, the unimaginable happens when Kitagawa discovers Gojou's prowess with a sewing machine and brightly confesses to him about her own hobby: cosplay. Because her sewing skills are pitiable, she decides to enlist his help.\\n\\nAs Gojou and Kitagawa work together on one cosplay outfit after another, they cannot help but grow close—even though their lives are worlds apart.</td>\n",
              "    </tr>\n",
              "  </tbody>\n",
              "</table>\n",
              "</div>"
            ],
            "text/plain": [
              "                                                Name Similarity   \n",
              "4       Mushoku Tensei: Jobless Reincarnation Part 2     83.67%  \\\n",
              "3          Kaguya-sama: Love is War - Ultra Romantic     59.98%   \n",
              "2  Re:ZERO -Starting Life in Another World- Season 2     58.73%   \n",
              "1                     Demon Slayer: Kimetsu no Yaiba     53.88%   \n",
              "0                                My Dress-Up Darling     53.71%   \n",
              "\n",
              "                           Genres   \n",
              "4           Drama, Fantasy, Ecchi  \\\n",
              "3                 Comedy, Romance   \n",
              "2        Drama, Fantasy, Suspense   \n",
              "1  Action, Award Winning, Fantasy   \n",
              "0                         Romance   \n",
              "\n",
              "                                                                                                                                                                                                                                                                                                                                                                                                                                                                                                                                                                                                                                                                                                                                                                                                                                                                                                                                                                                                                                                                       Synopsis  \n",
              "4                                                                                                                                                                                                                                                     After the mysterious mana calamity, Rudeus Greyrat and his fierce student Eris Boreas Greyrat are teleported to the Demon Continent. There, they team up with their newfound companion Ruijerd Supardia—the former leader of the Superd's Warrior group—to form \"Dead End,\" a successful adventurer party. Making a name for themselves, the trio journeys across the continent to make their way back home to Fittoa.\\n\\nFollowing the advice he received from the faceless god Hitogami, Rudeus saves Kishirika Kishirisu, the Great Emperor of the Demon World, who rewards him by granting him a strange power. Now, as Rudeus masters the powerful ability that offers a number of new opportunities, it might prove to be more than what he bargained for when unexpected dangers threaten to hinder their travels.  \n",
              "3                                                                                                                   The elite members of Shuchiin Academy's student council continue their competitive day-to-day antics. Council president Miyuki Shirogane clashes daily against vice-president Kaguya Shinomiya, each fighting tooth and nail to trick the other into confessing their romantic love. Kaguya struggles within the strict confines of her wealthy, uptight family, rebelling against her cold default demeanor as she warms to Shirogane and the rest of her friends.\\n\\nMeanwhile, council treasurer Yuu Ishigami suffers under the weight of his hopeless crush on Tsubame Koyasu, a popular upperclassman who helps to instill a new confidence in him. Miko Iino, the newest student council member, grows closer to the rule-breaking Ishigami while striving to overcome her own authoritarian moral code.\\n\\nAs love further blooms at Shuchiin Academy, the student council officers drag their outsider friends into increasingly comedic conflicts.  \n",
              "2                                                                                            A reunion that was supposed to spell the arrival of peaceful times is quickly shattered when Subaru Natsuki and Emilia return to Irlam village. Witnessing the devastation left behind by the calamities known as Sin Archbishops, Subaru sinks into the depths of despair as his ability to redo proves futile.\\n\\nAs the group makes their way to the Sanctuary in search of answers, Subaru has an unexpected encounter with the Witch of Greed—Echidna. Subjected to her untamed rhythm, he is forced to dive into the spirals of the past and future. At the same time, several mysterious threats set their sights on the Sanctuary, heralding a horrific fate for the hapless people trapped within.\\n\\nEverlasting contracts, past sins, and unrequited love will clash and submerge into a river of blood in the second season of Re:Zero kara Hajimeru Isekai Seikatsu. Pushed to the brink of hopelessness, how long will Subaru's resolve to save his loved ones last?  \n",
              "1  Ever since the death of his father, the burden of supporting the family has fallen upon Tanjirou Kamado's shoulders. Though living impoverished on a remote mountain, the Kamado family are able to enjoy a relatively peaceful and happy life. One day, Tanjirou decides to go down to the local village to make a little money selling charcoal. On his way back, night falls, forcing Tanjirou to take shelter in the house of a strange man, who warns him of the existence of flesh-eating demons that lurk in the woods at night.\\n\\nWhen he finally arrives back home the next day, he is met with a horrifying sight—his whole family has been slaughtered. Worse still, the sole survivor is his sister Nezuko, who has been turned into a bloodthirsty demon. Consumed by rage and hatred, Tanjirou swears to avenge his family and stay by his only remaining sibling. Alongside the mysterious group calling themselves the Demon Slayer Corps, Tanjirou will do whatever it takes to slay the demons and protect the remnants of his beloved sister's humanity.  \n",
              "0        High school student Wakana Gojou spends his days perfecting the art of making hina dolls, hoping to eventually reach his grandfather's level of expertise. While his fellow teenagers busy themselves with pop culture, Gojou finds bliss in sewing clothes for his dolls. Nonetheless, he goes to great lengths to keep his unique hobby a secret, as he believes that he would be ridiculed were it revealed. \\n\\nEnter Marin Kitagawa, an extraordinarily pretty girl whose confidence and poise are in stark contrast to Gojou's meekness. It would defy common sense for the friendless Gojou to mix with the likes of Kitagawa, who is always surrounded by her peers. However, the unimaginable happens when Kitagawa discovers Gojou's prowess with a sewing machine and brightly confesses to him about her own hobby: cosplay. Because her sewing skills are pitiable, she decides to enlist his help.\\n\\nAs Gojou and Kitagawa work together on one cosplay outfit after another, they cannot help but grow close—even though their lives are worlds apart.  "
            ]
          },
          "execution_count": 29,
          "metadata": {},
          "output_type": "execute_result"
        }
      ],
      "source": [
        "find_similar_animes('Mushoku Tensei: Isekai Ittara Honki Dasu', n=5, neg=False)"
      ]
    },
    {
      "cell_type": "markdown",
      "metadata": {
        "_cell_guid": "34969dc7-0762-42ed-90ac-b5790b7a3ee4",
        "_uuid": "cc2af3eb-bdb0-4e1c-add0-e570e5abf914",
        "id": "kv2ANZMv4PiR",
        "trusted": true
      },
      "source": [
        "# 2: User Based Recommendation\n",
        "#### (The user-based recommendation system is divided into three parts:)"
      ]
    },
    {
      "cell_type": "markdown",
      "metadata": {
        "_cell_guid": "2fb52520-70f3-4d29-8b32-c7e74cab6722",
        "_uuid": "f0c61e2e-76e2-4e77-9822-6b8947c293d5",
        "id": "8su7kCZm4PiS",
        "trusted": true
      },
      "source": [
        "## Part 1: Finding Similar Users\n",
        "#### In this part, we randomly select a user from the dataset and find similar users based on their anime preferences. The find_similar_users function calculates the similarity between users using a weighted matrix and returns a dataframe of similar users. The function takes an input user, number of similar users to find (n), and other optional parameters. The result is a list of similar users to the input user."
      ]
    },
    {
      "cell_type": "code",
      "execution_count": null,
      "metadata": {
        "_cell_guid": "b46c6353-baeb-4eea-b9a5-b039823a45cd",
        "_uuid": "2b1582e0-db28-4ab6-bbc7-37ceba4e539e",
        "execution": {
          "iopub.execute_input": "2024-10-16T06:23:04.491616Z",
          "iopub.status.busy": "2024-10-16T06:23:04.491022Z",
          "iopub.status.idle": "2024-10-16T06:23:04.510626Z",
          "shell.execute_reply": "2024-10-16T06:23:04.508812Z",
          "shell.execute_reply.started": "2024-10-16T06:23:04.491545Z"
        },
        "id": "nBo74-cK4PiS",
        "jupyter": {
          "outputs_hidden": false
        },
        "trusted": true
      },
      "outputs": [],
      "source": [
        "def find_similar_users(item_input, n=10, return_dist=False, neg=False):\n",
        "    try:\n",
        "        index = item_input\n",
        "        encoded_index = user_encoder.transform([index])[0]\n",
        "        weights = user_weights\n",
        "        dists = np.dot(weights, weights[encoded_index])\n",
        "        sorted_dists = np.argsort(dists)\n",
        "        n = n + 1\n",
        "\n",
        "        if neg:\n",
        "            closest = sorted_dists[:n]\n",
        "        else:\n",
        "            closest = sorted_dists[-n:]\n",
        "\n",
        "        SimilarityArr = []\n",
        "\n",
        "        for close in closest:\n",
        "            similarity = dists[close]\n",
        "            if isinstance(item_input, int):\n",
        "                decoded_id = user_encoder.inverse_transform([close])[0]\n",
        "                SimilarityArr.append({\"similar_users\": decoded_id, \"similarity\": similarity})\n",
        "        Frame = pd.DataFrame(SimilarityArr).sort_values(by=\"similarity\", ascending=False)\n",
        "        return Frame\n",
        "    except:\n",
        "        print('\\033[1m{}\\033[0m, Not Found in User list'.format(item_input))"
      ]
    },
    {
      "cell_type": "code",
      "execution_count": null,
      "metadata": {
        "_cell_guid": "bfed8902-fe70-4186-8177-87a88edf54a4",
        "_uuid": "0cfabf04-d71d-4169-83ff-81cfdbf91738",
        "execution": {
          "iopub.execute_input": "2024-10-16T06:23:04.513333Z",
          "iopub.status.busy": "2024-10-16T06:23:04.512785Z",
          "iopub.status.idle": "2024-10-16T06:23:05.495606Z",
          "shell.execute_reply": "2024-10-16T06:23:05.494722Z",
          "shell.execute_reply.started": "2024-10-16T06:23:04.513282Z"
        },
        "id": "k66OBwND4PiS",
        "jupyter": {
          "outputs_hidden": false
        },
        "outputId": "5eecf668-cff9-4ca1-e5ed-f56b39e2787a",
        "trusted": true
      },
      "outputs": [
        {
          "data": {
            "text/html": [
              "<div>\n",
              "<style scoped>\n",
              "    .dataframe tbody tr th:only-of-type {\n",
              "        vertical-align: middle;\n",
              "    }\n",
              "\n",
              "    .dataframe tbody tr th {\n",
              "        vertical-align: top;\n",
              "    }\n",
              "\n",
              "    .dataframe thead th {\n",
              "        text-align: right;\n",
              "    }\n",
              "</style>\n",
              "<table border=\"1\" class=\"dataframe\">\n",
              "  <thead>\n",
              "    <tr style=\"text-align: right;\">\n",
              "      <th></th>\n",
              "      <th>similar_users</th>\n",
              "      <th>similarity</th>\n",
              "    </tr>\n",
              "  </thead>\n",
              "  <tbody>\n",
              "    <tr>\n",
              "      <th>9</th>\n",
              "      <td>1148381</td>\n",
              "      <td>0.40006</td>\n",
              "    </tr>\n",
              "  </tbody>\n",
              "</table>\n",
              "</div>"
            ],
            "text/plain": [
              "   similar_users  similarity\n",
              "9        1148381     0.40006"
            ]
          },
          "execution_count": 31,
          "metadata": {},
          "output_type": "execute_result"
        }
      ],
      "source": [
        "# Select a random user\n",
        "ratings_per_user = df.groupby('user_id').size()\n",
        "random_user = int(ratings_per_user[ratings_per_user < 500].sample(1, random_state=None).index[0])\n",
        "\n",
        "# Find similar users to the random user\n",
        "similar_users = find_similar_users(random_user, n=10, neg=False)\n",
        "similar_users = similar_users[similar_users.similarity > 0.4]\n",
        "similar_users = similar_users[similar_users.similar_users != random_user]\n",
        "similar_users"
      ]
    },
    {
      "cell_type": "markdown",
      "metadata": {
        "_cell_guid": "f9b7248a-2d67-4332-bcf6-e3b5a32dcec8",
        "_uuid": "9ff2c830-a9a6-4869-a03b-4b2afb27a36a",
        "id": "dEtxVCKj4PiS",
        "trusted": true
      },
      "source": [
        "## Part 2: User Preferences\n",
        "#### This part focuses on understanding the preferences of the selected user. The get_user_preferences function takes a user ID as input and retrieves the anime preferences of that user. It considers the top-rated animes by the user and analyzes the genres they prefer. The function also provides an option to plot a word cloud to visualize the preferred genres. The output is a dataframe containing the anime titles and their associated genres."
      ]
    },
    {
      "cell_type": "code",
      "execution_count": null,
      "metadata": {
        "_cell_guid": "54d80b9d-5aba-4911-8ce6-4df833987682",
        "_uuid": "98e141c0-6c48-45bd-a3a5-e12409986405",
        "execution": {
          "iopub.execute_input": "2024-10-16T06:23:05.497049Z",
          "iopub.status.busy": "2024-10-16T06:23:05.49672Z",
          "iopub.status.idle": "2024-10-16T06:23:05.506323Z",
          "shell.execute_reply": "2024-10-16T06:23:05.505573Z",
          "shell.execute_reply.started": "2024-10-16T06:23:05.497022Z"
        },
        "id": "zXWJY__T4PiS",
        "jupyter": {
          "outputs_hidden": false
        },
        "trusted": true
      },
      "outputs": [],
      "source": [
        "# Function to display a word cloud of preferred genres\n",
        "def showWordCloud(all_genres):\n",
        "    genres_cloud = WordCloud(width=700, height=400, background_color='white', colormap='gnuplot').generate_from_frequencies(all_genres)\n",
        "    plt.figure(figsize=(10, 8))\n",
        "    plt.imshow(genres_cloud, interpolation='bilinear')\n",
        "    plt.axis('off')\n",
        "    plt.show()\n",
        "\n",
        "def get_user_preferences(user_id, plot=False, verbose=0):\n",
        "    animes_watched_by_user = df[df['user_id'] == user_id]\n",
        "\n",
        "    if animes_watched_by_user.empty:\n",
        "        print(\"User #{} has not watched any animes.\".format(user_id))\n",
        "        return pd.DataFrame()\n",
        "\n",
        "    user_rating_percentile = np.percentile(animes_watched_by_user.rating, 75)\n",
        "    animes_watched_by_user = animes_watched_by_user[animes_watched_by_user.rating >= user_rating_percentile]\n",
        "    top_animes_user = (\n",
        "        animes_watched_by_user.sort_values(by=\"rating\", ascending=False)\n",
        "        .anime_id.values\n",
        "    )\n",
        "\n",
        "    anime_df_rows = df_anime[df_anime[\"anime_id\"].isin(top_animes_user)]\n",
        "    anime_df_rows = anime_df_rows[[\"Name\", \"Genres\"]]\n",
        "\n",
        "    if verbose != 0:\n",
        "        print(\"User \\033[1m{}\\033[0m has watched {} anime(s) with an average rating of {:.1f}/10\\n\".format(\n",
        "            user_id, len(animes_watched_by_user), animes_watched_by_user['rating'].mean()\n",
        "        ))\n",
        "        print('\\033[1m----- Preferred genres----- \\033[0m\\n')\n",
        "\n",
        "    if plot:\n",
        "        genres_list = []\n",
        "        for genres in anime_df_rows['Genres']:\n",
        "            if isinstance(genres, str):\n",
        "                for genre in genres.split(','):\n",
        "                    genres_list.append(genre.strip())\n",
        "\n",
        "        showWordCloud(dict(Counter(genres_list)))\n",
        "\n",
        "    return anime_df_rows"
      ]
    },
    {
      "cell_type": "code",
      "execution_count": null,
      "metadata": {
        "_cell_guid": "9b394dc8-7fe2-4b76-80f0-eeb4ba4dc2dd",
        "_uuid": "e1f32b78-c117-4b5f-b02d-9dc3d9aec842",
        "execution": {
          "iopub.execute_input": "2024-10-16T06:23:05.507575Z",
          "iopub.status.busy": "2024-10-16T06:23:05.507311Z",
          "iopub.status.idle": "2024-10-16T06:23:05.782295Z",
          "shell.execute_reply": "2024-10-16T06:23:05.7814Z",
          "shell.execute_reply.started": "2024-10-16T06:23:05.507552Z"
        },
        "id": "-pVsWuyv4PiS",
        "jupyter": {
          "outputs_hidden": false
        },
        "outputId": "80a986e3-55a5-45af-e416-52eea8c084ac",
        "trusted": true
      },
      "outputs": [
        {
          "name": "stdout",
          "output_type": "stream",
          "text": [
            "User \u001b[1m306462\u001b[0m has watched 1 anime(s) with an average rating of 10.0/10\n",
            "\n",
            "\u001b[1m----- Preferred genres----- \u001b[0m\n",
            "\n"
          ]
        },
        {
          "data": {
            "image/png": "[encoded data removed]",
            "text/plain": [
              "<Figure size 1000x800 with 1 Axes>"
            ]
          },
          "metadata": {},
          "output_type": "display_data"
        },
        {
          "data": {
            "text/html": [
              "<div>\n",
              "<style scoped>\n",
              "    .dataframe tbody tr th:only-of-type {\n",
              "        vertical-align: middle;\n",
              "    }\n",
              "\n",
              "    .dataframe tbody tr th {\n",
              "        vertical-align: top;\n",
              "    }\n",
              "\n",
              "    .dataframe thead th {\n",
              "        text-align: right;\n",
              "    }\n",
              "</style>\n",
              "<table border=\"1\" class=\"dataframe\">\n",
              "  <thead>\n",
              "    <tr style=\"text-align: right;\">\n",
              "      <th></th>\n",
              "      <th>Name</th>\n",
              "      <th>Genres</th>\n",
              "    </tr>\n",
              "  </thead>\n",
              "  <tbody>\n",
              "    <tr>\n",
              "      <th>1566</th>\n",
              "      <td>Devil May Cry</td>\n",
              "      <td>Action, Fantasy</td>\n",
              "    </tr>\n",
              "  </tbody>\n",
              "</table>\n",
              "</div>"
            ],
            "text/plain": [
              "               Name           Genres\n",
              "1566  Devil May Cry  Action, Fantasy"
            ]
          },
          "execution_count": 33,
          "metadata": {},
          "output_type": "execute_result"
        }
      ],
      "source": [
        "# Get user preferences for the random user\n",
        "user_pref = get_user_preferences(random_user, plot=True, verbose=1)\n",
        "pd.DataFrame(user_pref).head(5)"
      ]
    },
    {
      "cell_type": "markdown",
      "metadata": {
        "_cell_guid": "772b59b3-ec05-48fa-ac13-b7f023c509ec",
        "_uuid": "49138f5d-06c5-4637-9543-084e987a85da",
        "id": "saCN2kUd4PiT",
        "trusted": true
      },
      "source": [
        "## Part 3: Recommending Animes for a User\n",
        "#### In the final part, we recommend animes to the selected user based on the preferences of similar users. The get_recommended_animes function iterates through the list of similar users, retrieves their preferences, and identifies animes that are not present in the preferences of the selected user. It then generates a list of recommended animes along with their genres and a brief synopsis. The output is a dataframe containing the recommended animes for the user."
      ]
    },
    {
      "cell_type": "code",
      "execution_count": null,
      "metadata": {
        "_cell_guid": "fc2edebf-0e28-4ae9-99cc-eeea9533faad",
        "_uuid": "007317b9-5576-466b-a8ba-dc63ff3f2fec",
        "execution": {
          "iopub.execute_input": "2024-10-16T06:23:05.783643Z",
          "iopub.status.busy": "2024-10-16T06:23:05.783346Z",
          "iopub.status.idle": "2024-10-16T06:23:05.793117Z",
          "shell.execute_reply": "2024-10-16T06:23:05.792379Z",
          "shell.execute_reply.started": "2024-10-16T06:23:05.783618Z"
        },
        "id": "VWfkMMcD4PiZ",
        "jupyter": {
          "outputs_hidden": false
        },
        "trusted": true
      },
      "outputs": [],
      "source": [
        "def get_recommended_animes(similar_users, user_pref, n=10):\n",
        "    recommended_animes = []\n",
        "    anime_list = []\n",
        "\n",
        "    for user_id in similar_users.similar_users.values:\n",
        "        pref_list = get_user_preferences(int(user_id))\n",
        "        if not pref_list.empty:  # Check if user has watched any animes\n",
        "            pref_list = pref_list[~pref_list[\"Name\"].isin(user_pref[\"Name\"].values)]\n",
        "            anime_list.append(pref_list.Name.values)\n",
        "\n",
        "    if len(anime_list) == 0:\n",
        "        print(\"No anime recommendations available for the given users.\")\n",
        "        return pd.DataFrame()\n",
        "\n",
        "    anime_list = pd.DataFrame(anime_list)\n",
        "    sorted_list = pd.DataFrame(pd.Series(anime_list.values.ravel()).value_counts()).head(n)\n",
        "    # Count the occurrences of each anime in the entire dataset\n",
        "    anime_count = df['anime_id'].value_counts()\n",
        "\n",
        "    for i, anime_name in enumerate(sorted_list.index):\n",
        "        if isinstance(anime_name, str):\n",
        "            try:\n",
        "                anime_id = df_anime[df_anime.Name == anime_name].anime_id.values[0]\n",
        "                english_name = df_anime[df_anime['Name'] == anime_name]['English name'].values[0]\n",
        "                name = english_name if english_name != \"UNKNOWN\" else anime_name\n",
        "                genre = df_anime[df_anime.Name == anime_name].Genres.values[0]\n",
        "                Synopsis = df_anime[df_anime.Name == anime_name].Synopsis.values[0]\n",
        "                n_user_pref = anime_count.get(anime_id, 0)  # Get the total count of users who have watched this anime\n",
        "                recommended_animes.append({\n",
        "                    \"n\": n_user_pref,\n",
        "                    \"anime_name\": anime_name,\n",
        "                    \"Genres\": genre,\n",
        "                    \"Synopsis\": Synopsis\n",
        "                })\n",
        "            except:\n",
        "                pass\n",
        "    return pd.DataFrame(recommended_animes)"
      ]
    },
    {
      "cell_type": "code",
      "execution_count": null,
      "metadata": {
        "_cell_guid": "69b4485b-f9c3-4950-b090-c675434f3874",
        "_uuid": "f3f43aee-7a3f-40f5-8b2a-cecf2209a64a",
        "execution": {
          "iopub.execute_input": "2024-10-16T06:23:05.796001Z",
          "iopub.status.busy": "2024-10-16T06:23:05.795741Z",
          "iopub.status.idle": "2024-10-16T06:23:06.491331Z",
          "shell.execute_reply": "2024-10-16T06:23:06.490367Z",
          "shell.execute_reply.started": "2024-10-16T06:23:05.795978Z"
        },
        "id": "CXDuytCs4Pia",
        "jupyter": {
          "outputs_hidden": false
        },
        "outputId": "348f50a4-ae13-41e3-ce7c-88d7a9fddf1a",
        "trusted": true
      },
      "outputs": [
        {
          "name": "stdout",
          "output_type": "stream",
          "text": [
            "\n",
            "> Top recommendations for user: 306462\n"
          ]
        },
        {
          "data": {
            "text/html": [
              "<div>\n",
              "<style scoped>\n",
              "    .dataframe tbody tr th:only-of-type {\n",
              "        vertical-align: middle;\n",
              "    }\n",
              "\n",
              "    .dataframe tbody tr th {\n",
              "        vertical-align: top;\n",
              "    }\n",
              "\n",
              "    .dataframe thead th {\n",
              "        text-align: right;\n",
              "    }\n",
              "</style>\n",
              "<table border=\"1\" class=\"dataframe\">\n",
              "  <thead>\n",
              "    <tr style=\"text-align: right;\">\n",
              "      <th></th>\n",
              "      <th>n</th>\n",
              "      <th>anime_name</th>\n",
              "      <th>Genres</th>\n",
              "      <th>Synopsis</th>\n",
              "    </tr>\n",
              "  </thead>\n",
              "  <tbody>\n",
              "    <tr>\n",
              "      <th>0</th>\n",
              "      <td>89579</td>\n",
              "      <td>Naruto</td>\n",
              "      <td>Action, Adventure, Fantasy</td>\n",
              "      <td>Moments prior to Naruto Uzumaki's birth, a huge demon known as the Kyuubi, the Nine-Tailed Fox, attacked Konohagakure, the Hidden Leaf Village, and wreaked havoc. In order to put an end to the Kyuubi's rampage, the leader of the village, the Fourth Hokage, sacrificed his life and sealed the monstrous beast inside the newborn Naruto.\\n\\nNow, Naruto is a hyperactive and knuckle-headed ninja still living in Konohagakure. Shunned because of the Kyuubi inside him, Naruto struggles to find his place in the village, while his burning desire to become the Hokage of Konohagakure leads him not only to some great new friends, but also some deadly foes.</td>\n",
              "    </tr>\n",
              "  </tbody>\n",
              "</table>\n",
              "</div>"
            ],
            "text/plain": [
              "       n anime_name                      Genres   \n",
              "0  89579     Naruto  Action, Adventure, Fantasy  \\\n",
              "\n",
              "                                                                                                                                                                                                                                                                                                                                                                                                                                                                                                                                                                                                                                                                    Synopsis  \n",
              "0  Moments prior to Naruto Uzumaki's birth, a huge demon known as the Kyuubi, the Nine-Tailed Fox, attacked Konohagakure, the Hidden Leaf Village, and wreaked havoc. In order to put an end to the Kyuubi's rampage, the leader of the village, the Fourth Hokage, sacrificed his life and sealed the monstrous beast inside the newborn Naruto.\\n\\nNow, Naruto is a hyperactive and knuckle-headed ninja still living in Konohagakure. Shunned because of the Kyuubi inside him, Naruto struggles to find his place in the village, while his burning desire to become the Hokage of Konohagakure leads him not only to some great new friends, but also some deadly foes.  "
            ]
          },
          "execution_count": 35,
          "metadata": {},
          "output_type": "execute_result"
        }
      ],
      "source": [
        "# Get recommended animes for the random user\n",
        "recommended_animes = get_recommended_animes(similar_users, user_pref, n=10)\n",
        "\n",
        "print('\\n> Top recommendations for user: {}'.format(random_user))\n",
        "recommended_animes"
      ]
    },
    {
      "cell_type": "markdown",
      "metadata": {
        "_cell_guid": "23ace9f8-11f4-4688-a98c-7f9d25f13fcb",
        "_uuid": "3c2bb201-ace3-499a-8c10-acc3d340afcf",
        "id": "WsuvvGIp4Pia",
        "trusted": true
      },
      "source": [
        "# Model training (content-based filtering)"
      ]
    },
    {
      "cell_type": "code",
      "execution_count": null,
      "metadata": {
        "_cell_guid": "299c6266-5b87-47c2-94f5-9abb202b50e9",
        "_uuid": "2a8bde1b-83d9-4fa1-ae23-b8bf3be63c21",
        "execution": {
          "iopub.execute_input": "2024-10-16T06:23:06.492688Z",
          "iopub.status.busy": "2024-10-16T06:23:06.492393Z",
          "iopub.status.idle": "2024-10-16T06:23:14.415413Z",
          "shell.execute_reply": "2024-10-16T06:23:14.414263Z",
          "shell.execute_reply.started": "2024-10-16T06:23:06.492662Z"
        },
        "id": "gjnU_xz64Pia",
        "jupyter": {
          "outputs_hidden": false
        },
        "trusted": true
      },
      "outputs": [],
      "source": [
        "# Create a TF-IDF vectorizer\n",
        "tfidf = TfidfVectorizer(stop_words='english')\n",
        "\n",
        "# Define a generator to compute TF-IDF matrix on the fly\n",
        "tfidf_matrix_generator = tfidf.fit_transform((genre for genre in df_anime['Genres'].values.astype('U')))\n",
        "\n",
        "# Compute cosine similarity matrix as a sparse matrix\n",
        "cosine_sim_sparse = linear_kernel(tfidf_matrix_generator, tfidf_matrix_generator)"
      ]
    },
    {
      "cell_type": "markdown",
      "metadata": {
        "_cell_guid": "57ba81e7-ce99-4278-b8cd-e41967df6e4b",
        "_uuid": "9a6be872-46f8-49eb-af73-f59b1d690353",
        "id": "bZBl9le24Pia",
        "trusted": true
      },
      "source": [
        "# 2: Content-Based Recommendation"
      ]
    },
    {
      "cell_type": "code",
      "execution_count": null,
      "metadata": {
        "_cell_guid": "4b974b99-25ed-4d3b-98d2-a46997f2a914",
        "_uuid": "f2fb6af4-e871-4ff3-a156-d1c7ea36a8ff",
        "execution": {
          "iopub.execute_input": "2024-10-16T06:23:14.416779Z",
          "iopub.status.busy": "2024-10-16T06:23:14.416504Z",
          "iopub.status.idle": "2024-10-16T06:23:14.424013Z",
          "shell.execute_reply": "2024-10-16T06:23:14.423238Z",
          "shell.execute_reply.started": "2024-10-16T06:23:14.416753Z"
        },
        "id": "tktd_SLt4Pia",
        "jupyter": {
          "outputs_hidden": false
        },
        "trusted": true
      },
      "outputs": [],
      "source": [
        "# Function to get recommendations based on cosine similarity, genre, and ratings based on score\n",
        "def get_recommendations(title, cosine_sim, df):\n",
        "    idx = df_anime[df_anime['Name'] == title].index[0]\n",
        "\n",
        "    # Compute the similarity scores between the anime at the given index and all other animes\n",
        "    sim_scores = list(enumerate(cosine_sim[idx]))\n",
        "\n",
        "    # Filter out animes with unknown scores\n",
        "    valid_scores = [x for x in sim_scores if df_anime.iloc[x[0]]['Score'] != \"UNKNOWN\"]\n",
        "\n",
        "    # Sort the valid anime similarity scores based on the cosine similarity and ratings score in descending order\n",
        "    sorted_scores = sorted(valid_scores, key=lambda x: (x[1], df_anime.iloc[x[0]]['Score']), reverse=True)\n",
        "\n",
        "    # Get the top 10 similar animes (excluding the anime itself)\n",
        "    top_animes = [x for x in sorted_scores if x[0] != idx][:10]\n",
        "\n",
        "    # Extract the indices of the recommended animes\n",
        "    recommended_indices = [idx for idx, _ in top_animes]\n",
        "    recommended_animes = df_anime.iloc[recommended_indices][['Name', 'Genres', 'Score']]\n",
        "    return recommended_animes"
      ]
    },
    {
      "cell_type": "code",
      "execution_count": null,
      "metadata": {
        "_cell_guid": "ba176569-27cc-4e1b-bcd0-123d84dbe283",
        "_uuid": "6975b796-b042-4f09-a0f2-2dc09674e732",
        "execution": {
          "iopub.execute_input": "2024-10-16T06:23:14.425142Z",
          "iopub.status.busy": "2024-10-16T06:23:14.424915Z",
          "iopub.status.idle": "2024-10-16T06:23:17.683649Z",
          "shell.execute_reply": "2024-10-16T06:23:17.682733Z",
          "shell.execute_reply.started": "2024-10-16T06:23:14.425123Z"
        },
        "id": "8O7dsJzj4Pib",
        "jupyter": {
          "outputs_hidden": false
        },
        "outputId": "fc41ee33-bc41-4fde-ec4b-bdc3761b2f7d",
        "trusted": true
      },
      "outputs": [
        {
          "name": "stdout",
          "output_type": "stream",
          "text": [
            "Recommendations for \"Kono Subarashii Sekai ni Shukufuku wo!\":\n"
          ]
        },
        {
          "data": {
            "text/html": [
              "<div>\n",
              "<style scoped>\n",
              "    .dataframe tbody tr th:only-of-type {\n",
              "        vertical-align: middle;\n",
              "    }\n",
              "\n",
              "    .dataframe tbody tr th {\n",
              "        vertical-align: top;\n",
              "    }\n",
              "\n",
              "    .dataframe thead th {\n",
              "        text-align: right;\n",
              "    }\n",
              "</style>\n",
              "<table border=\"1\" class=\"dataframe\">\n",
              "  <thead>\n",
              "    <tr style=\"text-align: right;\">\n",
              "      <th></th>\n",
              "      <th>Name</th>\n",
              "      <th>Genres</th>\n",
              "      <th>Score</th>\n",
              "    </tr>\n",
              "  </thead>\n",
              "  <tbody>\n",
              "    <tr>\n",
              "      <th>14578</th>\n",
              "      <td>Kono Subarashii Sekai ni Shukufuku wo! Movie: Kurenai Densetsu</td>\n",
              "      <td>Adventure, Comedy, Fantasy</td>\n",
              "      <td>8.45</td>\n",
              "    </tr>\n",
              "    <tr>\n",
              "      <th>11572</th>\n",
              "      <td>Kono Subarashii Sekai ni Shukufuku wo! 2</td>\n",
              "      <td>Adventure, Comedy, Fantasy</td>\n",
              "      <td>8.27</td>\n",
              "    </tr>\n",
              "    <tr>\n",
              "      <th>6241</th>\n",
              "      <td>Doraemon Movie 31: Shin Nobita to Tetsujin Heidan - Habatake Tenshi-tachi</td>\n",
              "      <td>Adventure, Comedy, Fantasy</td>\n",
              "      <td>8.14</td>\n",
              "    </tr>\n",
              "    <tr>\n",
              "      <th>12451</th>\n",
              "      <td>Kono Subarashii Sekai ni Shukufuku wo! 2: Kono Subarashii Geijutsu ni Shukufuku wo!</td>\n",
              "      <td>Adventure, Comedy, Fantasy</td>\n",
              "      <td>8.03</td>\n",
              "    </tr>\n",
              "    <tr>\n",
              "      <th>502</th>\n",
              "      <td>Slayers Next</td>\n",
              "      <td>Adventure, Comedy, Fantasy</td>\n",
              "      <td>8.02</td>\n",
              "    </tr>\n",
              "    <tr>\n",
              "      <th>1068</th>\n",
              "      <td>Slayers Try</td>\n",
              "      <td>Adventure, Comedy, Fantasy</td>\n",
              "      <td>7.81</td>\n",
              "    </tr>\n",
              "    <tr>\n",
              "      <th>11859</th>\n",
              "      <td>Little Witch Academia (TV)</td>\n",
              "      <td>Adventure, Comedy, Fantasy</td>\n",
              "      <td>7.81</td>\n",
              "    </tr>\n",
              "    <tr>\n",
              "      <th>12531</th>\n",
              "      <td>Mahoujin Guruguru (2017)</td>\n",
              "      <td>Adventure, Comedy, Fantasy</td>\n",
              "      <td>7.81</td>\n",
              "    </tr>\n",
              "    <tr>\n",
              "      <th>7105</th>\n",
              "      <td>Little Witch Academia</td>\n",
              "      <td>Adventure, Comedy, Fantasy</td>\n",
              "      <td>7.8</td>\n",
              "    </tr>\n",
              "    <tr>\n",
              "      <th>8061</th>\n",
              "      <td>Little Witch Academia: Mahoujikake no Parade</td>\n",
              "      <td>Adventure, Comedy, Fantasy</td>\n",
              "      <td>7.75</td>\n",
              "    </tr>\n",
              "  </tbody>\n",
              "</table>\n",
              "</div>"
            ],
            "text/plain": [
              "                                                                                      Name   \n",
              "14578                       Kono Subarashii Sekai ni Shukufuku wo! Movie: Kurenai Densetsu  \\\n",
              "11572                                             Kono Subarashii Sekai ni Shukufuku wo! 2   \n",
              "6241             Doraemon Movie 31: Shin Nobita to Tetsujin Heidan - Habatake Tenshi-tachi   \n",
              "12451  Kono Subarashii Sekai ni Shukufuku wo! 2: Kono Subarashii Geijutsu ni Shukufuku wo!   \n",
              "502                                                                           Slayers Next   \n",
              "1068                                                                           Slayers Try   \n",
              "11859                                                           Little Witch Academia (TV)   \n",
              "12531                                                             Mahoujin Guruguru (2017)   \n",
              "7105                                                                 Little Witch Academia   \n",
              "8061                                          Little Witch Academia: Mahoujikake no Parade   \n",
              "\n",
              "                           Genres Score  \n",
              "14578  Adventure, Comedy, Fantasy  8.45  \n",
              "11572  Adventure, Comedy, Fantasy  8.27  \n",
              "6241   Adventure, Comedy, Fantasy  8.14  \n",
              "12451  Adventure, Comedy, Fantasy  8.03  \n",
              "502    Adventure, Comedy, Fantasy  8.02  \n",
              "1068   Adventure, Comedy, Fantasy  7.81  \n",
              "11859  Adventure, Comedy, Fantasy  7.81  \n",
              "12531  Adventure, Comedy, Fantasy  7.81  \n",
              "7105   Adventure, Comedy, Fantasy   7.8  \n",
              "8061   Adventure, Comedy, Fantasy  7.75  "
            ]
          },
          "execution_count": 38,
          "metadata": {},
          "output_type": "execute_result"
        }
      ],
      "source": [
        "# Example usage: Get recommendations for an anime\n",
        "anime_title = 'Kono Subarashii Sekai ni Shukufuku wo!'\n",
        "recommendations = get_recommendations(anime_title, cosine_sim_sparse, df_anime)\n",
        "print(f'Recommendations for \"{anime_title}\":')\n",
        "recommendations"
      ]
    },
    {
      "cell_type": "code",
      "execution_count": null,
      "metadata": {
        "_cell_guid": "a188b38a-d9cf-461c-918c-bda60558f136",
        "_uuid": "503cd1d4-56a0-48ea-9b73-5860dc649c26",
        "execution": {
          "iopub.execute_input": "2024-10-16T06:23:17.68486Z",
          "iopub.status.busy": "2024-10-16T06:23:17.684583Z",
          "iopub.status.idle": "2024-10-16T06:23:20.954395Z",
          "shell.execute_reply": "2024-10-16T06:23:20.95352Z",
          "shell.execute_reply.started": "2024-10-16T06:23:17.684838Z"
        },
        "id": "p0urAJpX4Pib",
        "jupyter": {
          "outputs_hidden": false
        },
        "outputId": "5277490a-947a-499f-a39e-980e78d43576",
        "trusted": true
      },
      "outputs": [
        {
          "name": "stdout",
          "output_type": "stream",
          "text": [
            "Recommendations for \"One Piece\":\n"
          ]
        },
        {
          "data": {
            "text/html": [
              "<div>\n",
              "<style scoped>\n",
              "    .dataframe tbody tr th:only-of-type {\n",
              "        vertical-align: middle;\n",
              "    }\n",
              "\n",
              "    .dataframe tbody tr th {\n",
              "        vertical-align: top;\n",
              "    }\n",
              "\n",
              "    .dataframe thead th {\n",
              "        text-align: right;\n",
              "    }\n",
              "</style>\n",
              "<table border=\"1\" class=\"dataframe\">\n",
              "  <thead>\n",
              "    <tr style=\"text-align: right;\">\n",
              "      <th></th>\n",
              "      <th>Name</th>\n",
              "      <th>Genres</th>\n",
              "      <th>Score</th>\n",
              "    </tr>\n",
              "  </thead>\n",
              "  <tbody>\n",
              "    <tr>\n",
              "      <th>16617</th>\n",
              "      <td>Bleach: Sennen Kessen-hen</td>\n",
              "      <td>Action, Adventure, Fantasy</td>\n",
              "      <td>9.07</td>\n",
              "    </tr>\n",
              "    <tr>\n",
              "      <th>6456</th>\n",
              "      <td>Hunter x Hunter (2011)</td>\n",
              "      <td>Action, Adventure, Fantasy</td>\n",
              "      <td>9.04</td>\n",
              "    </tr>\n",
              "    <tr>\n",
              "      <th>115</th>\n",
              "      <td>Hunter x Hunter</td>\n",
              "      <td>Action, Adventure, Fantasy</td>\n",
              "      <td>8.41</td>\n",
              "    </tr>\n",
              "    <tr>\n",
              "      <th>116</th>\n",
              "      <td>Hunter x Hunter: Original Video Animation</td>\n",
              "      <td>Action, Adventure, Fantasy</td>\n",
              "      <td>8.31</td>\n",
              "    </tr>\n",
              "    <tr>\n",
              "      <th>1574</th>\n",
              "      <td>Naruto: Shippuuden</td>\n",
              "      <td>Action, Adventure, Fantasy</td>\n",
              "      <td>8.26</td>\n",
              "    </tr>\n",
              "    <tr>\n",
              "      <th>19600</th>\n",
              "      <td>Jigokuraku</td>\n",
              "      <td>Action, Adventure, Fantasy</td>\n",
              "      <td>8.26</td>\n",
              "    </tr>\n",
              "    <tr>\n",
              "      <th>118</th>\n",
              "      <td>Hunter x Hunter: Greed Island Final</td>\n",
              "      <td>Action, Adventure, Fantasy</td>\n",
              "      <td>8.25</td>\n",
              "    </tr>\n",
              "    <tr>\n",
              "      <th>23239</th>\n",
              "      <td>Dungeon ni Deai wo Motomeru no wa Machigatteiru Darou ka IV: Fuka Shou - Yakusai-hen</td>\n",
              "      <td>Action, Adventure, Fantasy</td>\n",
              "      <td>8.24</td>\n",
              "    </tr>\n",
              "    <tr>\n",
              "      <th>7799</th>\n",
              "      <td>Magi: The Kingdom of Magic</td>\n",
              "      <td>Action, Adventure, Fantasy</td>\n",
              "      <td>8.22</td>\n",
              "    </tr>\n",
              "    <tr>\n",
              "      <th>14699</th>\n",
              "      <td>One Piece Movie 14: Stampede</td>\n",
              "      <td>Action, Adventure, Fantasy</td>\n",
              "      <td>8.22</td>\n",
              "    </tr>\n",
              "  </tbody>\n",
              "</table>\n",
              "</div>"
            ],
            "text/plain": [
              "                                                                                       Name   \n",
              "16617                                                             Bleach: Sennen Kessen-hen  \\\n",
              "6456                                                                 Hunter x Hunter (2011)   \n",
              "115                                                                         Hunter x Hunter   \n",
              "116                                               Hunter x Hunter: Original Video Animation   \n",
              "1574                                                                     Naruto: Shippuuden   \n",
              "19600                                                                            Jigokuraku   \n",
              "118                                                     Hunter x Hunter: Greed Island Final   \n",
              "23239  Dungeon ni Deai wo Motomeru no wa Machigatteiru Darou ka IV: Fuka Shou - Yakusai-hen   \n",
              "7799                                                             Magi: The Kingdom of Magic   \n",
              "14699                                                          One Piece Movie 14: Stampede   \n",
              "\n",
              "                           Genres Score  \n",
              "16617  Action, Adventure, Fantasy  9.07  \n",
              "6456   Action, Adventure, Fantasy  9.04  \n",
              "115    Action, Adventure, Fantasy  8.41  \n",
              "116    Action, Adventure, Fantasy  8.31  \n",
              "1574   Action, Adventure, Fantasy  8.26  \n",
              "19600  Action, Adventure, Fantasy  8.26  \n",
              "118    Action, Adventure, Fantasy  8.25  \n",
              "23239  Action, Adventure, Fantasy  8.24  \n",
              "7799   Action, Adventure, Fantasy  8.22  \n",
              "14699  Action, Adventure, Fantasy  8.22  "
            ]
          },
          "execution_count": 39,
          "metadata": {},
          "output_type": "execute_result"
        }
      ],
      "source": [
        "anime_title = 'One Piece'\n",
        "recommendations = get_recommendations(anime_title, cosine_sim_sparse, df_anime)\n",
        "print(f'Recommendations for \"{anime_title}\":')\n",
        "recommendations"
      ]
    },
    {
      "cell_type": "markdown",
      "metadata": {
        "id": "FBGwUqqi4Pib"
      },
      "source": [
        "## Recommendation based on User-id and Anime"
      ]
    },
    {
      "cell_type": "code",
      "execution_count": null,
      "metadata": {
        "_cell_guid": "71c8fc99-e1db-4c59-922a-f452556ac9c5",
        "_uuid": "da09a1ab-796c-46d1-8e37-b05f0446de29",
        "execution": {
          "iopub.execute_input": "2024-10-16T06:23:20.955662Z",
          "iopub.status.busy": "2024-10-16T06:23:20.955394Z",
          "iopub.status.idle": "2024-10-16T06:23:20.966307Z",
          "shell.execute_reply": "2024-10-16T06:23:20.965553Z",
          "shell.execute_reply.started": "2024-10-16T06:23:20.95564Z"
        },
        "id": "YxL8HfgM4Pif",
        "jupyter": {
          "outputs_hidden": false
        },
        "trusted": true
      },
      "outputs": [],
      "source": [
        "def recommend_anime(user_id, anime_title, df, df_anime, user_encoder, anime_encoder, user_weights, anime_weights, n=10):\n",
        "    recommendations = []\n",
        "\n",
        "    # 1. Collaborative Filtering: User-based\n",
        "    encoded_user = user_encoder.transform([user_id])[0]\n",
        "    user_sim = np.dot(user_weights, user_weights[encoded_user])\n",
        "    similar_users = user_encoder.inverse_transform(np.argsort(user_sim)[-n-1:-1])\n",
        "\n",
        "    user_anime = set(df[df['user_id'] == user_id]['anime_id'])\n",
        "    for sim_user in similar_users:\n",
        "        sim_user_anime = set(df[df['user_id'] == sim_user]['anime_id']) - user_anime\n",
        "        recommendations.extend(list(sim_user_anime))\n",
        "\n",
        "    # 2. Collaborative Filtering: Item-based\n",
        "    encoded_anime = anime_encoder.transform([df_anime[df_anime['Name'] == anime_title]['anime_id'].values[0]])[0]\n",
        "    anime_sim = np.dot(anime_weights, anime_weights[encoded_anime])\n",
        "    similar_anime = anime_encoder.inverse_transform(np.argsort(anime_sim)[-n-1:-1])\n",
        "    recommendations.extend(similar_anime)\n",
        "\n",
        "    # 3. Content-Based Filtering\n",
        "    tfidf = TfidfVectorizer(stop_words='english')\n",
        "    tfidf_matrix = tfidf.fit_transform(df_anime['Genres'].fillna(''))\n",
        "    cosine_sim = linear_kernel(tfidf_matrix, tfidf_matrix)\n",
        "\n",
        "    idx = df_anime[df_anime['Name'] == anime_title].index[0]\n",
        "    sim_scores = list(enumerate(cosine_sim[idx]))\n",
        "    sim_scores = sorted(sim_scores, key=lambda x: x[1], reverse=True)\n",
        "    sim_indices = [i[0] for i in sim_scores[1:n+1]]\n",
        "    content_based_recommendations = df_anime['anime_id'].iloc[sim_indices].tolist()\n",
        "    recommendations.extend(content_based_recommendations)\n",
        "\n",
        "    # Remove duplicates and get top N recommendations\n",
        "    recommendations = list(dict.fromkeys(recommendations))[:n]\n",
        "\n",
        "    # Get anime details for recommendations\n",
        "    recommended_anime = df_anime[df_anime['anime_id'].isin(recommendations)][['Name', 'Genres', 'Synopsis']]\n",
        "    recommended_anime = recommended_anime.drop_duplicates(subset=['Name'])\n",
        "\n",
        "    return recommended_anime\n"
      ]
    },
    {
      "cell_type": "code",
      "execution_count": null,
      "metadata": {
        "execution": {
          "iopub.execute_input": "2024-10-16T06:23:20.967399Z",
          "iopub.status.busy": "2024-10-16T06:23:20.967167Z",
          "iopub.status.idle": "2024-10-16T06:23:30.81776Z",
          "shell.execute_reply": "2024-10-16T06:23:30.816646Z",
          "shell.execute_reply.started": "2024-10-16T06:23:20.967379Z"
        },
        "id": "M45f7FjZ4Pif",
        "outputId": "f426e72a-4c30-4631-a7d0-e1dc2eb57e76",
        "trusted": true
      },
      "outputs": [
        {
          "data": {
            "text/html": [
              "<div>\n",
              "<style scoped>\n",
              "    .dataframe tbody tr th:only-of-type {\n",
              "        vertical-align: middle;\n",
              "    }\n",
              "\n",
              "    .dataframe tbody tr th {\n",
              "        vertical-align: top;\n",
              "    }\n",
              "\n",
              "    .dataframe thead th {\n",
              "        text-align: right;\n",
              "    }\n",
              "</style>\n",
              "<table border=\"1\" class=\"dataframe\">\n",
              "  <thead>\n",
              "    <tr style=\"text-align: right;\">\n",
              "      <th></th>\n",
              "      <th>Name</th>\n",
              "      <th>Genres</th>\n",
              "      <th>Synopsis</th>\n",
              "    </tr>\n",
              "  </thead>\n",
              "  <tbody>\n",
              "    <tr>\n",
              "      <th>0</th>\n",
              "      <td>Cowboy Bebop</td>\n",
              "      <td>Action, Award Winning, Sci-Fi</td>\n",
              "      <td>Crime is timeless. By the year 2071, humanity has expanded across the galaxy, filling the surface of other planets with settlements like those on Earth. These new societies are plagued by murder, drug use, and theft, and intergalactic outlaws are hunted by a growing number of tough bounty hunters.\\n\\nSpike Spiegel and Jet Black pursue criminals throughout space to make a humble living. Beneath his goofy and aloof demeanor, Spike is haunted by the weight of his violent past. Meanwhile, Jet manages his own troubled memories while taking care of Spike and the Bebop, their ship. The duo is joined by the beautiful con artist Faye Valentine, odd child Edward Wong Hau Pepelu Tivrusky IV, and Ein, a bioengineered Welsh Corgi.\\n\\nWhile developing bonds and working to catch a colorful cast of criminals, the Bebop crew's lives are disrupted by a menace from Spike's past. As a rival's maniacal plot continues to unravel, Spike must choose between life with his newfound family or revenge for his old wounds.</td>\n",
              "    </tr>\n",
              "    <tr>\n",
              "      <th>5958</th>\n",
              "      <td>Ao no Exorcist</td>\n",
              "      <td>Action, Fantasy</td>\n",
              "      <td>Humans and demons are two sides of the same coin, as are Assiah and Gehenna, their respective worlds. The only way to travel between the realms is by the means of possession, like in ghost stories. However, Satan, the ruler of Gehenna, cannot find a suitable host to possess and therefore, remains imprisoned in his world. In a desperate attempt to conquer Assiah, he sends his son instead, intending for him to eventually grow into a vessel capable of possession by the demon king.\\n\\nAo no Exorcist follows Rin Okumura who appears to be an ordinary, somewhat troublesome teenager—that is until one day he is ambushed by demons. His world turns upside down when he discovers that he is in fact the very son of Satan and that his demon father wishes for him to return so they can conquer Assiah together. Not wanting to join the king of Gehenna, Rin decides to begin training to become an exorcist so that he can fight to defend Assiah alongside his brother Yukio.</td>\n",
              "    </tr>\n",
              "    <tr>\n",
              "      <th>5962</th>\n",
              "      <td>Sekaiichi Hatsukoi</td>\n",
              "      <td>Boys Love, Romance</td>\n",
              "      <td>After having to deal with jealousy from his co-workers for working under his father's name, prideful literary editor Ritsu Onodera is determined to establish himself in the industry. To accomplish this, he quits his job at his father's publishing company and transfers to Marukawa Publishing. But instead of being placed in their literary division, Ritsu finds himself working as the rookie manga editor for the Emerald editing department, a team that operates under extremely tight schedules in order to meet deadlines. There, Ritsu is introduced to the infamous editor-in-chief Masamune Takano, a persistent man who strives for results.\\n\\nAs it turns out, Takano is actually Ritsu's high school love, and it is the aftermath of that heartbreak has caused Ritsu's reluctance to fall in love again. Now with the two reunited after several years of separation, the reestablishment of their relationship is marked by Takano's vow to make Ritsu say that he loves him again.\\n\\nSekaiichi Hatsukoi follows three couples that are interconnected within the manga industry, with each being subject to the budding of first love.</td>\n",
              "    </tr>\n",
              "    <tr>\n",
              "      <th>5968</th>\n",
              "      <td>Ikoku Meiro no Croisée The Animation</td>\n",
              "      <td>Slice of Life</td>\n",
              "      <td>In 19th century Paris, Claude Claudel and his grandfather Oscar run a metalworking shop tucked away in the Galerie du Roy shopping arcade. Back home from his recent travels, Oscar appears with a young Japanese girl—Yune—by his side. Although he is initially against it, Claude comes to accept Oscar's announcement that Yune will live and work with them going forward.\\n\\nBewildered by Yune's foreign customs, Claude must balance looking after her and managing the shop. But over time, as she settles into her new role as a live-in maid, Claude slowly shows interest in learning to understand Yune and the vastly different world she comes from.</td>\n",
              "    </tr>\n",
              "    <tr>\n",
              "      <th>5971</th>\n",
              "      <td>Tiger &amp; Bunny</td>\n",
              "      <td>Action, Comedy, Mystery</td>\n",
              "      <td>In Stern Bild City, those with special abilities are called \"NEXT,\" and can use their powers for good or bad. A unique organized group of NEXT appear regularly on Hero TV, where they chase down evildoers to bring limelight to their sponsors and earn Hero Points in the hopes of becoming the next \"King of Heroes.\"\\n\\nKotetsu T. Kaburagi, known as \"Wild Tiger,\" is a veteran hero whose performance has been dwindling as of late, partially due to his inability to cooperate with other heroes. After a disappointing season in which most of the other heroes far outperformed Tiger, he is paired up with a brand new hero who identifies himself by his real name—Barnaby Brooks Jr.\\n\\nBarnaby, nicknamed \"Bunny\" by his frivolous new partner, quickly makes it clear that the two could not be more different. Though they mix as well as oil and water, Tiger and Bunny must learn to work together, both for the sake of their careers and to face the looming threats within Stern Bild.</td>\n",
              "    </tr>\n",
              "    <tr>\n",
              "      <th>6074</th>\n",
              "      <td>No.6</td>\n",
              "      <td>Action, Drama, Mystery, Sci-Fi</td>\n",
              "      <td>Many years ago, after the end of a bloody world war, mankind took shelter in six city-states that were peaceful and perfect... at least on the surface. However, Shion—an elite resident of the city-state No. 6—gained a new perspective on the world he lives in, thanks to a chance encounter with a mysterious boy, Nezumi. Nezumi turned out to be just one of many who lived in the desolate wasteland beyond the walls of the supposed utopia. But despite knowing that the other boy was a fugitive, Shion decided to take him in for the night and protect him, which resulted in drastic consequences: because of his actions, Shion and his mother lost their status as elites and were relocated elsewhere, and the darker side of the city began to make itself known. \\n\\nNow, a long time after their life-altering first meeting, Shion and Nezumi are finally brought together once again—the former elite and the boy on the run are about to embark on an adventure that will, in time, reveal the shattering secrets of No. 6.</td>\n",
              "    </tr>\n",
              "    <tr>\n",
              "      <th>6075</th>\n",
              "      <td>Usagi Drop</td>\n",
              "      <td>Slice of Life</td>\n",
              "      <td>Daikichi Kawachi is a 30-year-old bachelor working a respectable job but otherwise wandering aimlessly through life. When his grandfather suddenly passes away, he returns to the family home to pay his respects. Upon arriving at the house, he meets a mysterious young girl named Rin who, to Daikichi’s astonishment, is his grandfather's illegitimate daughter!\\n \\nThe shy and unapproachable girl is deemed an embarrassment to the family, and finds herself ostracized by her father's relatives, all of them refusing to take care of her in the wake of his death. Daikichi, angered by their coldness toward Rin, announces that he will take her in—despite the fact that he is a young, single man with no prior childcare experience.\\n\\nUsagi Drop is the story of Daikichi's journey through fatherhood as he raises Rin with his gentle and affectionate nature, as well as an exploration of the warmth and interdependence that are at the heart of a happy, close-knit family.</td>\n",
              "    </tr>\n",
              "    <tr>\n",
              "      <th>6141</th>\n",
              "      <td>Uta no☆Prince-sama♪ Maji Love 1000%</td>\n",
              "      <td>Comedy, Romance</td>\n",
              "      <td>Haruka Nanami, an aspiring composer from the countryside, longs to write music for her beloved idol, Hayato Ichinose. Determined to accomplish this goal, she enrolls into Saotome Academy, a highly regarded vocational school for the performing arts.\\n\\nUpon her arrival, Haruka soon learns that everyone on staff, including the headmaster, is either an idol, a composer, or a poet. To top it all off, she is surrounded by incredibly talented future idols and composers, and the competition among the students is fierce; with the possibility of recruitment by the Shining Agency upon graduation, the stakes are incredibly high. As she strives to reach her dream at the academy, one fateful night, a series of events lead Haruka to a mysterious man standing in the moonlight, and he seems a bit familiar...</td>\n",
              "    </tr>\n",
              "    <tr>\n",
              "      <th>6168</th>\n",
              "      <td>Kamisama Dolls</td>\n",
              "      <td>Action, Supernatural</td>\n",
              "      <td>Kyouhei, after moving away to Tokyo from his old town to get away from the events that happened, is on a goukon with his friends, including his old neighbor, Shiba. After drinking for a whole night, he and Shiba discover a dead, bloody body in the elevator. He is told by his younger sister, Utao with her Kamisama Doll, that Aki, an old friend, and his Doll are the culprits responsible.</td>\n",
              "    </tr>\n",
              "    <tr>\n",
              "      <th>6473</th>\n",
              "      <td>Sekaiichi Hatsukoi 2</td>\n",
              "      <td>Boys Love, Romance</td>\n",
              "      <td>First loves are messy. While settling in as a shoujo manga editor at the famous Marukawa Publishing House, Ritsu Onodera is quite troubled. Working under the stern and superb Masamune Takano is hard enough as it is. However, Masamune is not only Ritsu's first love from middle school but he also suddenly declares that he will make Ritsu fall for him again.\\n\\nUnknown to them, another editor in the department, Yoshiyuki Katori, is in a relationship with the popular manga artist Chiaki Yoshino. The carefree Chiaki fails to notice, however, that his high school friend—Yuu Yanase—thinks of him as more than a friend. The stoic but caring Hatori will not surrender his love so easily.\\n\\nFalling in love for the first time when you are 30 is certainly troublesome. Shouta Kisa, yet another editor, is going out with 21-year-old Kou Yukina, an art student. Despite Yukina's assurances, Kisa cannot help but doubt whether someone like himself is truly worthy of his younger, \"sparkling\" boyfriend.</td>\n",
              "    </tr>\n",
              "  </tbody>\n",
              "</table>\n",
              "</div>"
            ],
            "text/plain": [
              "                                      Name                          Genres   \n",
              "0                             Cowboy Bebop   Action, Award Winning, Sci-Fi  \\\n",
              "5958                        Ao no Exorcist                 Action, Fantasy   \n",
              "5962                    Sekaiichi Hatsukoi              Boys Love, Romance   \n",
              "5968  Ikoku Meiro no Croisée The Animation                   Slice of Life   \n",
              "5971                         Tiger & Bunny         Action, Comedy, Mystery   \n",
              "6074                                  No.6  Action, Drama, Mystery, Sci-Fi   \n",
              "6075                            Usagi Drop                   Slice of Life   \n",
              "6141   Uta no☆Prince-sama♪ Maji Love 1000%                 Comedy, Romance   \n",
              "6168                        Kamisama Dolls            Action, Supernatural   \n",
              "6473                  Sekaiichi Hatsukoi 2              Boys Love, Romance   \n",
              "\n",
              "                                                                                                                                                                                                                                                                                                                                                                                                                                                                                                                                                                                                                                                                                                                                                                                                                                                                                                                                                                                                                                                                                                                                                              Synopsis  \n",
              "0                                                                                                                     Crime is timeless. By the year 2071, humanity has expanded across the galaxy, filling the surface of other planets with settlements like those on Earth. These new societies are plagued by murder, drug use, and theft, and intergalactic outlaws are hunted by a growing number of tough bounty hunters.\\n\\nSpike Spiegel and Jet Black pursue criminals throughout space to make a humble living. Beneath his goofy and aloof demeanor, Spike is haunted by the weight of his violent past. Meanwhile, Jet manages his own troubled memories while taking care of Spike and the Bebop, their ship. The duo is joined by the beautiful con artist Faye Valentine, odd child Edward Wong Hau Pepelu Tivrusky IV, and Ein, a bioengineered Welsh Corgi.\\n\\nWhile developing bonds and working to catch a colorful cast of criminals, the Bebop crew's lives are disrupted by a menace from Spike's past. As a rival's maniacal plot continues to unravel, Spike must choose between life with his newfound family or revenge for his old wounds.  \n",
              "5958                                                                                                                                                              Humans and demons are two sides of the same coin, as are Assiah and Gehenna, their respective worlds. The only way to travel between the realms is by the means of possession, like in ghost stories. However, Satan, the ruler of Gehenna, cannot find a suitable host to possess and therefore, remains imprisoned in his world. In a desperate attempt to conquer Assiah, he sends his son instead, intending for him to eventually grow into a vessel capable of possession by the demon king.\\n\\nAo no Exorcist follows Rin Okumura who appears to be an ordinary, somewhat troublesome teenager—that is until one day he is ambushed by demons. His world turns upside down when he discovers that he is in fact the very son of Satan and that his demon father wishes for him to return so they can conquer Assiah together. Not wanting to join the king of Gehenna, Rin decides to begin training to become an exorcist so that he can fight to defend Assiah alongside his brother Yukio.  \n",
              "5962  After having to deal with jealousy from his co-workers for working under his father's name, prideful literary editor Ritsu Onodera is determined to establish himself in the industry. To accomplish this, he quits his job at his father's publishing company and transfers to Marukawa Publishing. But instead of being placed in their literary division, Ritsu finds himself working as the rookie manga editor for the Emerald editing department, a team that operates under extremely tight schedules in order to meet deadlines. There, Ritsu is introduced to the infamous editor-in-chief Masamune Takano, a persistent man who strives for results.\\n\\nAs it turns out, Takano is actually Ritsu's high school love, and it is the aftermath of that heartbreak has caused Ritsu's reluctance to fall in love again. Now with the two reunited after several years of separation, the reestablishment of their relationship is marked by Takano's vow to make Ritsu say that he loves him again.\\n\\nSekaiichi Hatsukoi follows three couples that are interconnected within the manga industry, with each being subject to the budding of first love.  \n",
              "5968                                                                                                                                                                                                                                                                                                                                                                                                                                                                                               In 19th century Paris, Claude Claudel and his grandfather Oscar run a metalworking shop tucked away in the Galerie du Roy shopping arcade. Back home from his recent travels, Oscar appears with a young Japanese girl—Yune—by his side. Although he is initially against it, Claude comes to accept Oscar's announcement that Yune will live and work with them going forward.\\n\\nBewildered by Yune's foreign customs, Claude must balance looking after her and managing the shop. But over time, as she settles into her new role as a live-in maid, Claude slowly shows interest in learning to understand Yune and the vastly different world she comes from.  \n",
              "5971                                                                                                                                                      In Stern Bild City, those with special abilities are called \"NEXT,\" and can use their powers for good or bad. A unique organized group of NEXT appear regularly on Hero TV, where they chase down evildoers to bring limelight to their sponsors and earn Hero Points in the hopes of becoming the next \"King of Heroes.\"\\n\\nKotetsu T. Kaburagi, known as \"Wild Tiger,\" is a veteran hero whose performance has been dwindling as of late, partially due to his inability to cooperate with other heroes. After a disappointing season in which most of the other heroes far outperformed Tiger, he is paired up with a brand new hero who identifies himself by his real name—Barnaby Brooks Jr.\\n\\nBarnaby, nicknamed \"Bunny\" by his frivolous new partner, quickly makes it clear that the two could not be more different. Though they mix as well as oil and water, Tiger and Bunny must learn to work together, both for the sake of their careers and to face the looming threats within Stern Bild.  \n",
              "6074                                                                                                                Many years ago, after the end of a bloody world war, mankind took shelter in six city-states that were peaceful and perfect... at least on the surface. However, Shion—an elite resident of the city-state No. 6—gained a new perspective on the world he lives in, thanks to a chance encounter with a mysterious boy, Nezumi. Nezumi turned out to be just one of many who lived in the desolate wasteland beyond the walls of the supposed utopia. But despite knowing that the other boy was a fugitive, Shion decided to take him in for the night and protect him, which resulted in drastic consequences: because of his actions, Shion and his mother lost their status as elites and were relocated elsewhere, and the darker side of the city began to make itself known. \\n\\nNow, a long time after their life-altering first meeting, Shion and Nezumi are finally brought together once again—the former elite and the boy on the run are about to embark on an adventure that will, in time, reveal the shattering secrets of No. 6.  \n",
              "6075                                                                                                                                                             Daikichi Kawachi is a 30-year-old bachelor working a respectable job but otherwise wandering aimlessly through life. When his grandfather suddenly passes away, he returns to the family home to pay his respects. Upon arriving at the house, he meets a mysterious young girl named Rin who, to Daikichi’s astonishment, is his grandfather's illegitimate daughter!\\n \\nThe shy and unapproachable girl is deemed an embarrassment to the family, and finds herself ostracized by her father's relatives, all of them refusing to take care of her in the wake of his death. Daikichi, angered by their coldness toward Rin, announces that he will take her in—despite the fact that he is a young, single man with no prior childcare experience.\\n\\nUsagi Drop is the story of Daikichi's journey through fatherhood as he raises Rin with his gentle and affectionate nature, as well as an exploration of the warmth and interdependence that are at the heart of a happy, close-knit family.  \n",
              "6141                                                                                                                                                                                                                                                                                                                               Haruka Nanami, an aspiring composer from the countryside, longs to write music for her beloved idol, Hayato Ichinose. Determined to accomplish this goal, she enrolls into Saotome Academy, a highly regarded vocational school for the performing arts.\\n\\nUpon her arrival, Haruka soon learns that everyone on staff, including the headmaster, is either an idol, a composer, or a poet. To top it all off, she is surrounded by incredibly talented future idols and composers, and the competition among the students is fierce; with the possibility of recruitment by the Shining Agency upon graduation, the stakes are incredibly high. As she strives to reach her dream at the academy, one fateful night, a series of events lead Haruka to a mysterious man standing in the moonlight, and he seems a bit familiar...  \n",
              "6168                                                                                                                                                                                                                                                                                                                                                                                                                                                                                                                                                                                                                                                                                                                                                              Kyouhei, after moving away to Tokyo from his old town to get away from the events that happened, is on a goukon with his friends, including his old neighbor, Shiba. After drinking for a whole night, he and Shiba discover a dead, bloody body in the elevator. He is told by his younger sister, Utao with her Kamisama Doll, that Aki, an old friend, and his Doll are the culprits responsible.  \n",
              "6473                                                                                                                              First loves are messy. While settling in as a shoujo manga editor at the famous Marukawa Publishing House, Ritsu Onodera is quite troubled. Working under the stern and superb Masamune Takano is hard enough as it is. However, Masamune is not only Ritsu's first love from middle school but he also suddenly declares that he will make Ritsu fall for him again.\\n\\nUnknown to them, another editor in the department, Yoshiyuki Katori, is in a relationship with the popular manga artist Chiaki Yoshino. The carefree Chiaki fails to notice, however, that his high school friend—Yuu Yanase—thinks of him as more than a friend. The stoic but caring Hatori will not surrender his love so easily.\\n\\nFalling in love for the first time when you are 30 is certainly troublesome. Shouta Kisa, yet another editor, is going out with 21-year-old Kou Yukina, an art student. Despite Yukina's assurances, Kisa cannot help but doubt whether someone like himself is truly worthy of his younger, \"sparkling\" boyfriend.  "
            ]
          },
          "execution_count": 41,
          "metadata": {},
          "output_type": "execute_result"
        }
      ],
      "source": [
        "# Select a random user\n",
        "ratings_per_user = df.groupby('user_id').size()\n",
        "random_user = int(ratings_per_user[ratings_per_user < 500].sample(1, random_state=None).index[0])\n",
        "\n",
        "anime_title = \"One Punch Man\"  # Replace with actual anime title\n",
        "recommended_anime = recommend_anime(random_user, anime_title, df, df_anime, user_encoder, anime_encoder, user_weights, anime_weights)\n",
        "recommended_anime"
      ]
    },
    {
      "cell_type": "code",
      "execution_count": null,
      "metadata": {
        "id": "LCrl1zaD4Pig"
      },
      "outputs": [],
      "source": []
    }
  ],
  "metadata": {
    "colab": {
      "name": "Anime-Recommendation-final",
      "provenance": []
    },
    "kaggle": {
      "accelerator": "tpu1vmV38",
      "dataSources": [
        {
          "datasetId": 28524,
          "sourceId": 45582,
          "sourceType": "datasetVersion"
        },
        {
          "datasetId": 1225408,
          "sourceId": 2422513,
          "sourceType": "datasetVersion"
        },
        {
          "datasetId": 2029086,
          "sourceId": 3364185,
          "sourceType": "datasetVersion"
        },
        {
          "datasetId": 3384322,
          "sourceId": 6207733,
          "sourceType": "datasetVersion"
        }
      ],
      "dockerImageVersionId": 30499,
      "isGpuEnabled": false,
      "isInternetEnabled": true,
      "language": "python",
      "sourceType": "notebook"
    },
    "kernelspec": {
      "display_name": "Python 3",
      "language": "python",
      "name": "python3"
    },
    "language_info": {
      "codemirror_mode": {
        "name": "ipython",
        "version": 3
      },
      "file_extension": ".py",
      "mimetype": "text/x-python",
      "name": "python",
      "nbconvert_exporter": "python",
      "pygments_lexer": "ipython3",
      "version": "3.8.16"
    }
  },
  "nbformat": 4,
  "nbformat_minor": 0
}
