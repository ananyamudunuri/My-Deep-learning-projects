{
 "cells": [
  {
   "cell_type": "markdown",
   "id": "140747ed",
   "metadata": {},
   "source": [
    "# Assignment 2"
   ]
  },
  {
   "cell_type": "markdown",
   "id": "077370a7",
   "metadata": {},
   "source": [
    "### 2- In a new .ipynb notebook, reproduce the results utilizing the \"QMNIST\" dataset "
   ]
  },
  {
   "cell_type": "code",
   "execution_count": null,
   "id": "ec2741d9",
   "metadata": {},
   "outputs": [],
   "source": []
  },
  {
   "cell_type": "code",
   "execution_count": 24,
   "id": "2301e153",
   "metadata": {},
   "outputs": [],
   "source": [
    "import torch\n",
    "import torch.nn as nn\n",
    "import torch.optim as optim\n",
    "import torchvision\n",
    "import torchvision.transforms as tran\n",
    "from torch.utils.data import DataLoader\n",
    "import matplotlib.pyplot as plt"
   ]
  },
  {
   "cell_type": "code",
   "execution_count": 25,
   "id": "088a1142",
   "metadata": {},
   "outputs": [],
   "source": [
    "tran = tran.Compose([\n",
    "    tran.ToTensor(),  \n",
    "    tran.Normalize((0.1307,), (0.3081,))  #this is to Normalize with mean and std\n",
    "])\n",
    "\n",
    "FirstTrainData = torchvision.datasets.QMNIST(root='./data', train=True, download=True, transform=transform)\n",
    "FirstTestData = torchvision.datasets.QMNIST(root='./data', train=False, download=True, transform=transform)\n",
    "\n",
    "train_loader = DataLoader(FirstTrainData, batch_size=64, shuffle=True)\n",
    "test_loader = DataLoader(FirstTestData, batch_size=1000, shuffle=False)\n"
   ]
  },
  {
   "cell_type": "code",
   "execution_count": 26,
   "id": "3edc2b79",
   "metadata": {},
   "outputs": [
    {
     "data": {
      "image/png": "[encoded data removed]",
      "text/plain": [
       "<Figure size 1200x400 with 6 Axes>"
      ]
     },
     "metadata": {},
     "output_type": "display_data"
    }
   ],
   "source": [
    "def visualize_qmnist(data_loader, num_images=6):\n",
    "    # Get a batch of training images\n",
    "    data_iter = iter(data_loader)\n",
    "    images, labels = next(data_iter)  # Use next() to get the first batch\n",
    "    \n",
    "    # Plot the images in the batch\n",
    "    fig, axes = plt.subplots(1, num_images, figsize=(12, 4))\n",
    "    for i in range(num_images):\n",
    "        axes[i].imshow(images[i].squeeze(), cmap='gray')\n",
    "        axes[i].set_title(f'Label: {labels[i].item()}')\n",
    "        axes[i].axis('off')\n",
    "    plt.show()\n",
    "\n",
    "# Visualize some images from QMNIST\n",
    "visualize_qmnist(train_loader)"
   ]
  },
  {
   "cell_type": "code",
   "execution_count": 27,
   "id": "2d5e26a2",
   "metadata": {},
   "outputs": [
    {
     "data": {
      "image/png": "[encoded data removed]",
      "text/plain": [
       "<Figure size 800x800 with 9 Axes>"
      ]
     },
     "metadata": {},
     "output_type": "display_data"
    }
   ],
   "source": [
    "# Visualize the test dataset\n",
    "figure = plt.figure(figsize=(8, 8))\n",
    "cols, rows = 3, 3\n",
    "for i in range(1, cols * rows + 1):\n",
    "    sample_idx = torch.randint(len(FirstTestData), size=(1,)).item()\n",
    "    img, label = FirstTestData[sample_idx]\n",
    "    figure.add_subplot(rows, cols, i)\n",
    "    plt.title(f'Label: {label}')\n",
    "    plt.axis(\"off\")\n",
    "    plt.imshow(img.squeeze(), cmap=\"gray\")\n",
    "plt.show()"
   ]
  },
  {
   "cell_type": "code",
   "execution_count": 28,
   "id": "8a9aa64c",
   "metadata": {},
   "outputs": [],
   "source": [
    "# Define the neural network architecture for QMNIST\n",
    "class MLP(nn.Module):\n",
    "    def __init__(self):\n",
    "        super(MLP, self).__init__()\n",
    "        self.fc1 = nn.Linear(28 * 28, 128)  # Input layer to first hidden layer\n",
    "        self.fc2 = nn.Linear(128, 64)       # First hidden layer to second hidden layer\n",
    "        self.fc3 = nn.Linear(64, 10)        # Second hidden layer to output layer\n",
    "\n",
    "    def forward(self, x):\n",
    "        x = x.view(-1, 28 * 28)  # Flatten the 28x28 input images\n",
    "        x = torch.relu(self.fc1(x))\n",
    "        x = torch.relu(self.fc2(x))\n",
    "        x = self.fc3(x)\n",
    "        return x\n",
    "\n",
    "# Initialize the neural network for QMNIST\n",
    "model = MLP()"
   ]
  },
  {
   "cell_type": "code",
   "execution_count": null,
   "id": "62412f9d",
   "metadata": {},
   "outputs": [],
   "source": []
  },
  {
   "cell_type": "markdown",
   "id": "fa18e600",
   "metadata": {},
   "source": [
    "### 3- Report on the results in terms of prediction accuracy on the train and test datasets"
   ]
  },
  {
   "cell_type": "code",
   "execution_count": null,
   "id": "89bc9de4",
   "metadata": {},
   "outputs": [],
   "source": []
  },
  {
   "cell_type": "code",
   "execution_count": 29,
   "id": "6720db5d",
   "metadata": {},
   "outputs": [
    {
     "name": "stdout",
     "output_type": "stream",
     "text": [
      "Epoch 1, Batch 100, Loss: 0.7507481563091278\n",
      "Epoch 1, Batch 200, Loss: 0.35701928436756136\n",
      "Epoch 1, Batch 300, Loss: 0.2656426803022623\n",
      "Epoch 1, Batch 400, Loss: 0.24471366576850415\n",
      "Epoch 1, Batch 500, Loss: 0.22475007466971875\n",
      "Epoch 1, Batch 600, Loss: 0.191103161200881\n",
      "Epoch 1, Batch 700, Loss: 0.18328881192952395\n",
      "Epoch 1, Batch 800, Loss: 0.16517075017094612\n",
      "Epoch 1, Batch 900, Loss: 0.17252349521964788\n",
      "Epoch 2, Batch 100, Loss: 0.13790451930835843\n",
      "Epoch 2, Batch 200, Loss: 0.11818829074501991\n",
      "Epoch 2, Batch 300, Loss: 0.12692921413108707\n",
      "Epoch 2, Batch 400, Loss: 0.1275392660871148\n",
      "Epoch 2, Batch 500, Loss: 0.12683207508176564\n",
      "Epoch 2, Batch 600, Loss: 0.12950636815279723\n",
      "Epoch 2, Batch 700, Loss: 0.11478969346731902\n",
      "Epoch 2, Batch 800, Loss: 0.10829249026253819\n",
      "Epoch 2, Batch 900, Loss: 0.11880509339272977\n",
      "Epoch 3, Batch 100, Loss: 0.08524348329752683\n",
      "Epoch 3, Batch 200, Loss: 0.09210634500719607\n",
      "Epoch 3, Batch 300, Loss: 0.07535734883509576\n",
      "Epoch 3, Batch 400, Loss: 0.08805174465756864\n",
      "Epoch 3, Batch 500, Loss: 0.07490807982161642\n",
      "Epoch 3, Batch 600, Loss: 0.09711979539599269\n",
      "Epoch 3, Batch 700, Loss: 0.08628814595751465\n",
      "Epoch 3, Batch 800, Loss: 0.08615363153629005\n",
      "Epoch 3, Batch 900, Loss: 0.0848694306332618\n",
      "Epoch 4, Batch 100, Loss: 0.05796943424735218\n",
      "Epoch 4, Batch 200, Loss: 0.0622593380138278\n",
      "Epoch 4, Batch 300, Loss: 0.07253010226413607\n",
      "Epoch 4, Batch 400, Loss: 0.06549623951548711\n",
      "Epoch 4, Batch 500, Loss: 0.062316255695186555\n",
      "Epoch 4, Batch 600, Loss: 0.06763298145961016\n",
      "Epoch 4, Batch 700, Loss: 0.06601908314507454\n",
      "Epoch 4, Batch 800, Loss: 0.06491050352342427\n",
      "Epoch 4, Batch 900, Loss: 0.07130801762454211\n",
      "Epoch 5, Batch 100, Loss: 0.05181522408965975\n",
      "Epoch 5, Batch 200, Loss: 0.04722415617667139\n",
      "Epoch 5, Batch 300, Loss: 0.04473552920622751\n",
      "Epoch 5, Batch 400, Loss: 0.05445089863147587\n",
      "Epoch 5, Batch 500, Loss: 0.052289472240954635\n",
      "Epoch 5, Batch 600, Loss: 0.05360468192724511\n",
      "Epoch 5, Batch 700, Loss: 0.060654490098822865\n",
      "Epoch 5, Batch 800, Loss: 0.05808077388908714\n",
      "Epoch 5, Batch 900, Loss: 0.05864918940234929\n",
      "Finished Training\n"
     ]
    }
   ],
   "source": [
    "# Define the loss function and optimizer\n",
    "criterion = nn.CrossEntropyLoss()\n",
    "optimizer = optim.Adam(model.parameters(), lr=0.001)\n",
    "\n",
    "# Train the neural network on the QMNIST dataset\n",
    "num_epochs = 5\n",
    "for epoch in range(num_epochs):\n",
    "    model.train()\n",
    "    running_loss = 0.0\n",
    "    for i, data in enumerate(train_loader, 0):\n",
    "        inputs, labels = data\n",
    "        optimizer.zero_grad()\n",
    "        outputs = model(inputs)\n",
    "        loss = criterion(outputs, labels)\n",
    "        loss.backward()\n",
    "        optimizer.step()\n",
    "        running_loss += loss.item()\n",
    "        if i % 100 == 99:  # Print every 100 mini-batches\n",
    "            print(f'Epoch {epoch + 1}, Batch {i + 1}, Loss: {running_loss / 100}')\n",
    "            running_loss = 0.0\n",
    "\n",
    "print('Finished Training')"
   ]
  },
  {
   "cell_type": "markdown",
   "id": "e659740b",
   "metadata": {},
   "source": []
  },
  {
   "cell_type": "code",
   "execution_count": 30,
   "id": "2e831147",
   "metadata": {},
   "outputs": [
    {
     "name": "stdout",
     "output_type": "stream",
     "text": [
      "Accuracy on the test set: 96.86%\n"
     ]
    }
   ],
   "source": [
    "model.eval()\n",
    "correct = 0\n",
    "total = 0\n",
    "with torch.no_grad():\n",
    "    for data in test_loader:\n",
    "        images, labels = data\n",
    "        outputs = model(images)\n",
    "        _, predicted = torch.max(outputs.data, 1)\n",
    "        total += labels.size(0)\n",
    "        correct += (predicted == labels).sum().item()\n",
    "\n",
    "accuracy = 100 * correct / total\n",
    "print(f'Accuracy on the test set: {accuracy:.2f}%')"
   ]
  },
  {
   "cell_type": "code",
   "execution_count": 31,
   "id": "6f8e676a",
   "metadata": {},
   "outputs": [
    {
     "name": "stdout",
     "output_type": "stream",
     "text": [
      "Accuracy on the test set: 96.86%\n"
     ]
    }
   ],
   "source": [
    "model.eval()\n",
    "predictions = []\n",
    "correct = 0\n",
    "total = 0\n",
    "\n",
    "with torch.no_grad():\n",
    "    for data in test_loader:\n",
    "        images, labels = data\n",
    "        outputs = model(images)\n",
    "        _, predicted = torch.max(outputs.data, 1)\n",
    "        \n",
    "        # Convert predictions to numpy and store them\n",
    "        predictions.extend(predicted.cpu().numpy())  # Move tensor to CPU before converting to numpy\n",
    "        \n",
    "        total += labels.size(0)\n",
    "        correct += (predicted == labels).sum().item()\n",
    "\n",
    "accuracy = 100 * correct / total\n",
    "print(f'Accuracy on the test set: {accuracy:.2f}%')"
   ]
  },
  {
   "cell_type": "code",
   "execution_count": 37,
   "id": "d111061d",
   "metadata": {},
   "outputs": [
    {
     "data": {
      "image/png": "[encoded data removed]",
      "text/plain": [
       "<Figure size 640x480 with 1 Axes>"
      ]
     },
     "metadata": {},
     "output_type": "display_data"
    }
   ],
   "source": [
    "# Get one test image and its label\n",
    "image, label = images[1], labels[1]\n",
    "\n",
    "# Reshape the image tensor to a 28x28 shape\n",
    "image = image.view(28, 28)\n",
    "\n",
    "# Convert the image tensor to a numpy array for visualization\n",
    "image_numpy = image.cpu().numpy()  # Ensure the tensor is moved to CPU before converting to numpy\n",
    "\n",
    "# Show the image\n",
    "plt.imshow(image_numpy, cmap='gray')\n",
    "plt.title(f'Predicted Label: {predictions[1]}, Actual Label: {label.item()}')\n",
    "plt.axis('off')\n",
    "plt.show()"
   ]
  },
  {
   "cell_type": "markdown",
   "id": "46f92b02",
   "metadata": {},
   "source": [
    "showing wrong prediction "
   ]
  },
  {
   "cell_type": "code",
   "execution_count": null,
   "id": "155ee84a",
   "metadata": {},
   "outputs": [],
   "source": []
  },
  {
   "cell_type": "markdown",
   "id": "dc1a74f2",
   "metadata": {},
   "source": [
    "### 4- Choose one of the proposed modifications below\n",
    "\n",
    "#### Add another Dense layer of 128 nodes\n",
    "\n",
    "Hypothesize how it would change the performance results:\n",
    "This will help in increasing the models capacity to basicaaly differenciate complex tasks like telling the difference bewteen similar looking numbers. This will help in increasing the learning ability of the model to detect the complex features. "
   ]
  },
  {
   "cell_type": "raw",
   "id": "400924cb",
   "metadata": {},
   "source": [
    " Adding Another Dense Layer of 128 Nodes"
   ]
  },
  {
   "cell_type": "code",
   "execution_count": 42,
   "id": "30811b00",
   "metadata": {},
   "outputs": [],
   "source": [
    "import torch.optim as optim\n",
    "from torch.utils.data import DataLoader\n",
    "from torchvision import datasets, transforms\n",
    "\n",
    "# Load the QMNIST dataset\n",
    "transform = transforms.Compose([\n",
    "    transforms.ToTensor(),  # Convert images to PyTorch tensors\n",
    "    transforms.Normalize((0.1307,), (0.3081,))  # Normalize with mean and std\n",
    "])\n",
    "\n",
    "train_dataset = datasets.QMNIST(root='./data', train=True, download=True, transform=transform)\n",
    "train_loader = DataLoader(train_dataset, batch_size=64, shuffle=True)"
   ]
  },
  {
   "cell_type": "markdown",
   "id": "281db643",
   "metadata": {},
   "source": [
    "### 5- Modify the model based on the chosen method and train"
   ]
  },
  {
   "cell_type": "code",
   "execution_count": null,
   "id": "4f98ab2d",
   "metadata": {},
   "outputs": [],
   "source": []
  },
  {
   "cell_type": "code",
   "execution_count": 43,
   "id": "c6e9ed0d",
   "metadata": {},
   "outputs": [
    {
     "name": "stdout",
     "output_type": "stream",
     "text": [
      "This is the new model modelnew architecture to basically verify the modification  ModifiedMLP(\n",
      "  (fc1): Linear(in_features=784, out_features=128, bias=True)\n",
      "  (fc2): Linear(in_features=128, out_features=128, bias=True)\n",
      "  (fc3): Linear(in_features=128, out_features=64, bias=True)\n",
      "  (fc4): Linear(in_features=64, out_features=10, bias=True)\n",
      ")\n"
     ]
    }
   ],
   "source": [
    "\n",
    "class ModifiedMLP(nn.Module):\n",
    "    def __init__(self):\n",
    "        super(ModifiedMLP, self).__init__()\n",
    "        self.fc1 = nn.Linear(28 * 28, 128) \n",
    "        self.fc2 = nn.Linear(128, 128)      #  Adding Another Dense Layer of 128 Nodes\n",
    "        self.fc3 = nn.Linear(128, 64)       \n",
    "        self.fc4 = nn.Linear(64, 10)       \n",
    "    def forward(self, x):\n",
    "        x = x.view(-1, 28 * 28)             \n",
    "        x = torch.relu(self.fc1(x))\n",
    "        x = torch.relu(self.fc2(x))         \n",
    "        x = torch.relu(self.fc3(x))\n",
    "        x = self.fc4(x)\n",
    "        return x\n",
    "\n",
    "modelnew = ModifiedMLP()\n",
    "\n",
    "print('This is the new model ''modelnew'' architecture to basically verify the modification ',modelnew)"
   ]
  },
  {
   "cell_type": "code",
   "execution_count": 44,
   "id": "c512005e",
   "metadata": {},
   "outputs": [
    {
     "name": "stdout",
     "output_type": "stream",
     "text": [
      "Epoch 1, Batch 100, Loss: 0.8251295740902423\n",
      "Epoch 1, Batch 200, Loss: 0.3348378924280405\n",
      "Epoch 1, Batch 300, Loss: 0.274042282551527\n",
      "Epoch 1, Batch 400, Loss: 0.22782042756676674\n",
      "Epoch 1, Batch 500, Loss: 0.22089141853153704\n",
      "Epoch 1, Batch 600, Loss: 0.20117520965635777\n",
      "Epoch 1, Batch 700, Loss: 0.18137603543698788\n",
      "Epoch 1, Batch 800, Loss: 0.16463984113186597\n",
      "Epoch 1, Batch 900, Loss: 0.15064507331699134\n",
      "Epoch 2, Batch 100, Loss: 0.12490918565541506\n",
      "Epoch 2, Batch 200, Loss: 0.12942522438243032\n",
      "Epoch 2, Batch 300, Loss: 0.12863109990023078\n",
      "Epoch 2, Batch 400, Loss: 0.09966310484334827\n",
      "Epoch 2, Batch 500, Loss: 0.11785555928014219\n",
      "Epoch 2, Batch 600, Loss: 0.11993815014138817\n",
      "Epoch 2, Batch 700, Loss: 0.10499951167032123\n",
      "Epoch 2, Batch 800, Loss: 0.11505110783502459\n",
      "Epoch 2, Batch 900, Loss: 0.10733258286491036\n",
      "Epoch 3, Batch 100, Loss: 0.09229339812882245\n",
      "Epoch 3, Batch 200, Loss: 0.09384526588022708\n",
      "Epoch 3, Batch 300, Loss: 0.07793211231008172\n",
      "Epoch 3, Batch 400, Loss: 0.07672286401037126\n",
      "Epoch 3, Batch 500, Loss: 0.0776977655198425\n",
      "Epoch 3, Batch 600, Loss: 0.07588340396992863\n",
      "Epoch 3, Batch 700, Loss: 0.0883267694246024\n",
      "Epoch 3, Batch 800, Loss: 0.07842905812431127\n",
      "Epoch 3, Batch 900, Loss: 0.08023829687852413\n",
      "Epoch 4, Batch 100, Loss: 0.0653430049191229\n",
      "Epoch 4, Batch 200, Loss: 0.060048032598569986\n",
      "Epoch 4, Batch 300, Loss: 0.0714939043438062\n",
      "Epoch 4, Batch 400, Loss: 0.06371777309570462\n",
      "Epoch 4, Batch 500, Loss: 0.07547089709900319\n",
      "Epoch 4, Batch 600, Loss: 0.06694594445405527\n",
      "Epoch 4, Batch 700, Loss: 0.05988406527787447\n",
      "Epoch 4, Batch 800, Loss: 0.060020386106334624\n",
      "Epoch 4, Batch 900, Loss: 0.05649244328029454\n",
      "Epoch 5, Batch 100, Loss: 0.038714320482686165\n",
      "Epoch 5, Batch 200, Loss: 0.0428441590606235\n",
      "Epoch 5, Batch 300, Loss: 0.04909959264332429\n",
      "Epoch 5, Batch 400, Loss: 0.051859609161037955\n",
      "Epoch 5, Batch 500, Loss: 0.06179362507071346\n",
      "Epoch 5, Batch 600, Loss: 0.05076436744537204\n",
      "Epoch 5, Batch 700, Loss: 0.04772215963806957\n",
      "Epoch 5, Batch 800, Loss: 0.05485349589725956\n",
      "Epoch 5, Batch 900, Loss: 0.06018689589109272\n",
      "Finished Training\n"
     ]
    }
   ],
   "source": [
    "\n",
    "\n",
    "# Initialize the modified model\n",
    "modelnew = ModifiedMLP()\n",
    "\n",
    "# Define the loss function and optimizer\n",
    "criterion = nn.CrossEntropyLoss()\n",
    "optimizer = optim.Adam(modelnew.parameters(), lr=0.001)\n",
    "\n",
    "# Train the modified neural network\n",
    "num_epochs = 5\n",
    "for epoch in range(num_epochs):\n",
    "    modelnew.train()\n",
    "    running_loss = 0.0\n",
    "    for i, data in enumerate(train_loader, 0):\n",
    "        inputs, labels = data\n",
    "        optimizer.zero_grad()\n",
    "        outputs = modelnew(inputs)\n",
    "        loss = criterion(outputs, labels)\n",
    "        loss.backward()\n",
    "        optimizer.step()\n",
    "        running_loss += loss.item()\n",
    "        if i % 100 == 99:  # Print every 100 mini-batches\n",
    "            print(f'Epoch {epoch + 1}, Batch {i + 1}, Loss: {running_loss / 100}')\n",
    "            running_loss = 0.0\n",
    "\n",
    "print('Finished Training')\n"
   ]
  },
  {
   "cell_type": "code",
   "execution_count": 48,
   "id": "f8fa95d5",
   "metadata": {},
   "outputs": [
    {
     "name": "stdout",
     "output_type": "stream",
     "text": [
      "Accuracy on the test set of the modified model: 97.18%\n"
     ]
    }
   ],
   "source": [
    "# Load the QMNIST test dataset\n",
    "test_dataset = datasets.QMNIST(root='./data', train=False, download=True, transform=transform)\n",
    "test_loader = DataLoader(test_dataset, batch_size=64, shuffle=False)\n",
    "\n",
    "# Evaluate the modified model on the QMNIST test dataset\n",
    "modelnew.eval()\n",
    "correct = 0\n",
    "total = 0\n",
    "predictions = []\n",
    "with torch.no_grad():\n",
    "    for data in test_loader:\n",
    "        images, labels = data\n",
    "        outputs = modelnew(images)\n",
    "        _, predicted = torch.max(outputs.data, 1)\n",
    "        predictions.extend(predicted.cpu().numpy())\n",
    "        total += labels.size(0)\n",
    "        correct += (predicted == labels).sum().item()\n",
    "\n",
    "accuracyofnewmodel = 100 * correct / total\n",
    "print(f'Accuracy on the test set of the modified model: {accuracyofnewmodel:.2f}%')\n"
   ]
  },
  {
   "cell_type": "code",
   "execution_count": null,
   "id": "72f37ec9",
   "metadata": {},
   "outputs": [],
   "source": []
  },
  {
   "cell_type": "markdown",
   "id": "59419d06",
   "metadata": {},
   "source": [
    "### 6- Report on the results of the modified model and if it matches your hypothesis"
   ]
  },
  {
   "cell_type": "code",
   "execution_count": null,
   "id": "c640ddb9",
   "metadata": {},
   "outputs": [],
   "source": []
  },
  {
   "cell_type": "raw",
   "id": "8ef35306",
   "metadata": {},
   "source": [
    "The model accuracy has increased to 97.18% from 96.86%. This proves the hypothesis of  Adding Another Dense Layer of 128 Nodes"
   ]
  },
  {
   "cell_type": "code",
   "execution_count": null,
   "id": "715d110a",
   "metadata": {},
   "outputs": [],
   "source": []
  },
  {
   "cell_type": "markdown",
   "id": "542c9f7b",
   "metadata": {},
   "source": [
    "### 7- Experiment with different optimizers, loss functions, dropout, and activation functions, and observe the change in performance as you tune these hyperparameters."
   ]
  },
  {
   "cell_type": "code",
   "execution_count": null,
   "id": "4418f938",
   "metadata": {},
   "outputs": [],
   "source": []
  },
  {
   "cell_type": "code",
   "execution_count": 66,
   "id": "4de3da73",
   "metadata": {},
   "outputs": [
    {
     "name": "stdout",
     "output_type": "stream",
     "text": [
      "SGD - Epoch 1, Batch 100, Loss: 0.00827553087263368\n",
      "SGD - Epoch 1, Batch 200, Loss: 0.003345763402171542\n",
      "SGD - Epoch 1, Batch 300, Loss: 0.006717359465837945\n",
      "SGD - Epoch 1, Batch 400, Loss: 0.005036717600762586\n",
      "SGD - Epoch 1, Batch 500, Loss: 0.00455007920742446\n",
      "SGD - Epoch 1, Batch 600, Loss: 0.005478059608631156\n",
      "SGD - Epoch 1, Batch 700, Loss: 0.0019452117056880526\n",
      "SGD - Epoch 1, Batch 800, Loss: 0.00527936599871964\n",
      "SGD - Epoch 1, Batch 900, Loss: 0.0026613482243919863\n",
      "SGD - Epoch 2, Batch 100, Loss: 0.0009039496556306403\n",
      "SGD - Epoch 2, Batch 200, Loss: 0.0009938725729352882\n",
      "SGD - Epoch 2, Batch 300, Loss: 0.00068138420518153\n",
      "SGD - Epoch 2, Batch 400, Loss: 0.0008513239377407444\n",
      "SGD - Epoch 2, Batch 500, Loss: 0.0010845827538287266\n",
      "SGD - Epoch 2, Batch 600, Loss: 0.0014164898623653243\n",
      "SGD - Epoch 2, Batch 700, Loss: 0.0020122620853180707\n",
      "SGD - Epoch 2, Batch 800, Loss: 0.001256524486498165\n",
      "SGD - Epoch 2, Batch 900, Loss: 0.0009014186360127496\n",
      "SGD - Epoch 3, Batch 100, Loss: 0.0004465009275418197\n",
      "SGD - Epoch 3, Batch 200, Loss: 0.0005642790959018384\n",
      "SGD - Epoch 3, Batch 300, Loss: 0.0002938516083492004\n",
      "SGD - Epoch 3, Batch 400, Loss: 0.0003334594728846696\n",
      "SGD - Epoch 3, Batch 500, Loss: 0.00039289601919108465\n",
      "SGD - Epoch 3, Batch 600, Loss: 0.0005473478130693366\n",
      "SGD - Epoch 3, Batch 700, Loss: 0.0002989359827461158\n",
      "SGD - Epoch 3, Batch 800, Loss: 0.00042804311026088725\n",
      "SGD - Epoch 3, Batch 900, Loss: 0.0003753582043381698\n",
      "SGD - Epoch 4, Batch 100, Loss: 0.0003084266784404122\n",
      "SGD - Epoch 4, Batch 200, Loss: 0.00022714368835806908\n",
      "SGD - Epoch 4, Batch 300, Loss: 0.000370029031400918\n",
      "SGD - Epoch 4, Batch 400, Loss: 0.00029674864831008563\n",
      "SGD - Epoch 4, Batch 500, Loss: 0.00047569716355340576\n",
      "SGD - Epoch 4, Batch 600, Loss: 0.00026072357961993476\n",
      "SGD - Epoch 4, Batch 700, Loss: 0.0001901197543742228\n",
      "SGD - Epoch 4, Batch 800, Loss: 0.00024603262415297424\n",
      "SGD - Epoch 4, Batch 900, Loss: 0.00035711778867700164\n",
      "SGD - Epoch 5, Batch 100, Loss: 0.0001566283055092299\n",
      "SGD - Epoch 5, Batch 200, Loss: 0.0001450729591456934\n",
      "SGD - Epoch 5, Batch 300, Loss: 0.00030658736359100657\n",
      "SGD - Epoch 5, Batch 400, Loss: 0.00025890328777165904\n",
      "SGD - Epoch 5, Batch 500, Loss: 0.00017668515567066832\n",
      "SGD - Epoch 5, Batch 600, Loss: 0.00021105000750708312\n",
      "SGD - Epoch 5, Batch 700, Loss: 0.00016972394916976442\n",
      "SGD - Epoch 5, Batch 800, Loss: 0.00021199296997707507\n",
      "SGD - Epoch 5, Batch 900, Loss: 0.00035576769372980266\n",
      "Finished Training with SGD Optimizer\n"
     ]
    }
   ],
   "source": [
    "# Initialize the model\n",
    "modelnew = ModifiedMLP()\n",
    "\n",
    "# Define loss function and optimizer\n",
    "criterion = nn.CrossEntropyLoss()\n",
    "optimizer = optim.SGD(model.parameters(), lr=0.01, momentum=0.9)\n",
    "\n",
    "# Train the model\n",
    "num_epochs = 5\n",
    "for epoch in range(num_epochs):\n",
    "    model.train()\n",
    "    running_loss = 0.0\n",
    "    for i, data in enumerate(train_loader, 0):\n",
    "        inputs, labels = data\n",
    "        optimizer.zero_grad()\n",
    "        outputs = model(inputs)\n",
    "        loss = criterion(outputs, labels)\n",
    "        loss.backward()\n",
    "        optimizer.step()\n",
    "        running_loss += loss.item()\n",
    "        if i % 100 == 99:\n",
    "            print(f'SGD - Epoch {epoch + 1}, Batch {i + 1}, Loss: {running_loss / 100}')\n",
    "            running_loss = 0.0\n",
    "\n",
    "print('Finished Training with SGD Optimizer')"
   ]
  },
  {
   "cell_type": "code",
   "execution_count": 67,
   "id": "2681497b",
   "metadata": {},
   "outputs": [
    {
     "name": "stdout",
     "output_type": "stream",
     "text": [
      "Accuracy on the test set after SGD Optimizer: 98.09%\n"
     ]
    }
   ],
   "source": [
    "# Evaluate the model\n",
    "modelnew.eval()\n",
    "correct = 0\n",
    "total = 0\n",
    "with torch.no_grad():\n",
    "    for data in test_loader:\n",
    "        images, labels = data\n",
    "        outputs = model(images)\n",
    "        _, predicted = torch.max(outputs.data, 1)\n",
    "        total += labels.size(0)\n",
    "        correct += (predicted == labels).sum().item()\n",
    "\n",
    "accuracy = 100 * correct / total\n",
    "print(f'Accuracy on the test set after SGD Optimizer: {accuracy:.2f}%')"
   ]
  },
  {
   "cell_type": "code",
   "execution_count": 68,
   "id": "71ed5dc4",
   "metadata": {},
   "outputs": [
    {
     "name": "stdout",
     "output_type": "stream",
     "text": [
      "RMSprop - Epoch 1, Batch 100, Loss: 0.057594943838269616\n",
      "RMSprop - Epoch 1, Batch 200, Loss: 0.020604122808971965\n",
      "RMSprop - Epoch 1, Batch 300, Loss: 0.01782489703241879\n",
      "RMSprop - Epoch 1, Batch 400, Loss: 0.013128173333633412\n",
      "RMSprop - Epoch 1, Batch 500, Loss: 0.01425962608232794\n",
      "RMSprop - Epoch 1, Batch 600, Loss: 0.02133756498782077\n",
      "RMSprop - Epoch 1, Batch 700, Loss: 0.016774093498111427\n",
      "RMSprop - Epoch 1, Batch 800, Loss: 0.015003449729684917\n",
      "RMSprop - Epoch 1, Batch 900, Loss: 0.017120502127845612\n",
      "RMSprop - Epoch 2, Batch 100, Loss: 0.008635762034533628\n",
      "RMSprop - Epoch 2, Batch 200, Loss: 0.012071608847472817\n",
      "RMSprop - Epoch 2, Batch 300, Loss: 0.01376221705609396\n",
      "RMSprop - Epoch 2, Batch 400, Loss: 0.019168083770537123\n",
      "RMSprop - Epoch 2, Batch 500, Loss: 0.01649295761145254\n",
      "RMSprop - Epoch 2, Batch 600, Loss: 0.009796825609469125\n",
      "RMSprop - Epoch 2, Batch 700, Loss: 0.020924208516935893\n",
      "RMSprop - Epoch 2, Batch 800, Loss: 0.010947268318291207\n",
      "RMSprop - Epoch 2, Batch 900, Loss: 0.015124038062528483\n",
      "RMSprop - Epoch 3, Batch 100, Loss: 0.011529272977015807\n",
      "RMSprop - Epoch 3, Batch 200, Loss: 0.023269981544551684\n",
      "RMSprop - Epoch 3, Batch 300, Loss: 0.011681347123041802\n",
      "RMSprop - Epoch 3, Batch 400, Loss: 0.008731550210637665\n",
      "RMSprop - Epoch 3, Batch 500, Loss: 0.012516599979462058\n",
      "RMSprop - Epoch 3, Batch 600, Loss: 0.014596677933400314\n",
      "RMSprop - Epoch 3, Batch 700, Loss: 0.012390365731880024\n",
      "RMSprop - Epoch 3, Batch 800, Loss: 0.016699687461050418\n",
      "RMSprop - Epoch 3, Batch 900, Loss: 0.011163082720842965\n",
      "RMSprop - Epoch 4, Batch 100, Loss: 0.017744622627222383\n",
      "RMSprop - Epoch 4, Batch 200, Loss: 0.012481753829324588\n",
      "RMSprop - Epoch 4, Batch 300, Loss: 0.009409096457021064\n",
      "RMSprop - Epoch 4, Batch 400, Loss: 0.006676952314176674\n",
      "RMSprop - Epoch 4, Batch 500, Loss: 0.01805279737490082\n",
      "RMSprop - Epoch 4, Batch 600, Loss: 0.007969667706923929\n",
      "RMSprop - Epoch 4, Batch 700, Loss: 0.01305504034489786\n",
      "RMSprop - Epoch 4, Batch 800, Loss: 0.013602706044769092\n",
      "RMSprop - Epoch 4, Batch 900, Loss: 0.015398808652684011\n",
      "RMSprop - Epoch 5, Batch 100, Loss: 0.01676082106632066\n",
      "RMSprop - Epoch 5, Batch 200, Loss: 0.011813621806525135\n",
      "RMSprop - Epoch 5, Batch 300, Loss: 0.0055648170024667105\n",
      "RMSprop - Epoch 5, Batch 400, Loss: 0.012042537496618023\n",
      "RMSprop - Epoch 5, Batch 500, Loss: 0.013186861917429269\n",
      "RMSprop - Epoch 5, Batch 600, Loss: 0.00838601145083544\n",
      "RMSprop - Epoch 5, Batch 700, Loss: 0.008626127707022419\n",
      "RMSprop - Epoch 5, Batch 800, Loss: 0.01800523569802948\n",
      "RMSprop - Epoch 5, Batch 900, Loss: 0.020229992879289397\n",
      "Finished Training with RMSprop Optimizer\n"
     ]
    }
   ],
   "source": [
    "# Initialize the model\n",
    "modelnew = ModifiedMLP()\n",
    "\n",
    "# Define loss function and optimizer\n",
    "criterion = nn.CrossEntropyLoss()\n",
    "optimizer = optim.RMSprop(model.parameters(), lr=0.001)\n",
    "\n",
    "# Train the model\n",
    "num_epochs = 5\n",
    "for epoch in range(num_epochs):\n",
    "    model.train()\n",
    "    running_loss = 0.0\n",
    "    for i, data in enumerate(train_loader, 0):\n",
    "        inputs, labels = data\n",
    "        optimizer.zero_grad()\n",
    "        outputs = model(inputs)\n",
    "        loss = criterion(outputs, labels)\n",
    "        loss.backward()\n",
    "        optimizer.step()\n",
    "        running_loss += loss.item()\n",
    "        if i % 100 == 99:\n",
    "            print(f'RMSprop - Epoch {epoch + 1}, Batch {i + 1}, Loss: {running_loss / 100}')\n",
    "            running_loss = 0.0\n",
    "\n",
    "print('Finished Training with RMSprop Optimizer')"
   ]
  },
  {
   "cell_type": "code",
   "execution_count": 69,
   "id": "0af0f347",
   "metadata": {},
   "outputs": [
    {
     "name": "stdout",
     "output_type": "stream",
     "text": [
      "Accuracy on the test set after RMSprop Optimizer: 97.60%\n"
     ]
    }
   ],
   "source": [
    "# Evaluate the model\n",
    "modelnew.eval()\n",
    "correct = 0\n",
    "total = 0\n",
    "with torch.no_grad():\n",
    "    for data in test_loader:\n",
    "        images, labels = data\n",
    "        outputs = model(images)\n",
    "        _, predicted = torch.max(outputs.data, 1)\n",
    "        total += labels.size(0)\n",
    "        correct += (predicted == labels).sum().item()\n",
    "\n",
    "accuracy = 100 * correct / total\n",
    "print(f'Accuracy on the test set after RMSprop Optimizer: {accuracy:.2f}%')"
   ]
  },
  {
   "cell_type": "code",
   "execution_count": 71,
   "id": "48591f4d",
   "metadata": {},
   "outputs": [
    {
     "name": "stdout",
     "output_type": "stream",
     "text": [
      "MSE - Epoch 1, Batch 100, Loss: 0.038404599316418174\n",
      "MSE - Epoch 1, Batch 200, Loss: 0.031155221071094273\n",
      "MSE - Epoch 1, Batch 300, Loss: 0.02792476464062929\n",
      "MSE - Epoch 1, Batch 400, Loss: 0.0257039082236588\n",
      "MSE - Epoch 1, Batch 500, Loss: 0.024577207565307617\n",
      "MSE - Epoch 1, Batch 600, Loss: 0.023963981401175262\n",
      "MSE - Epoch 1, Batch 700, Loss: 0.023158919624984266\n",
      "MSE - Epoch 1, Batch 800, Loss: 0.02333525810390711\n",
      "MSE - Epoch 1, Batch 900, Loss: 0.023113490771502255\n",
      "MSE - Epoch 2, Batch 100, Loss: 0.021593415718525646\n",
      "MSE - Epoch 2, Batch 200, Loss: 0.021962590143084527\n",
      "MSE - Epoch 2, Batch 300, Loss: 0.02212824461981654\n",
      "MSE - Epoch 2, Batch 400, Loss: 0.02232949098572135\n",
      "MSE - Epoch 2, Batch 500, Loss: 0.021880355896428227\n",
      "MSE - Epoch 2, Batch 600, Loss: 0.021763530168682335\n",
      "MSE - Epoch 2, Batch 700, Loss: 0.021714199809357525\n",
      "MSE - Epoch 2, Batch 800, Loss: 0.021575242346152664\n",
      "MSE - Epoch 2, Batch 900, Loss: 0.021576138949021696\n",
      "MSE - Epoch 3, Batch 100, Loss: 0.02139580650255084\n",
      "MSE - Epoch 3, Batch 200, Loss: 0.020782128246501087\n",
      "MSE - Epoch 3, Batch 300, Loss: 0.021063829995691775\n",
      "MSE - Epoch 3, Batch 400, Loss: 0.02142033581621945\n",
      "MSE - Epoch 3, Batch 500, Loss: 0.021668447041884066\n",
      "MSE - Epoch 3, Batch 600, Loss: 0.021382803777232767\n",
      "MSE - Epoch 3, Batch 700, Loss: 0.020654744049534202\n",
      "MSE - Epoch 3, Batch 800, Loss: 0.020977939087897537\n",
      "MSE - Epoch 3, Batch 900, Loss: 0.020668705236166717\n",
      "MSE - Epoch 4, Batch 100, Loss: 0.02073279842734337\n",
      "MSE - Epoch 4, Batch 200, Loss: 0.020136869931593537\n",
      "MSE - Epoch 4, Batch 300, Loss: 0.02048877694644034\n",
      "MSE - Epoch 4, Batch 400, Loss: 0.020548714781180023\n",
      "MSE - Epoch 4, Batch 500, Loss: 0.02055224260315299\n",
      "MSE - Epoch 4, Batch 600, Loss: 0.020821189880371092\n",
      "MSE - Epoch 4, Batch 700, Loss: 0.0202476738858968\n",
      "MSE - Epoch 4, Batch 800, Loss: 0.020481053069233895\n",
      "MSE - Epoch 4, Batch 900, Loss: 0.02100079208612442\n",
      "MSE - Epoch 5, Batch 100, Loss: 0.020822753636166452\n",
      "MSE - Epoch 5, Batch 200, Loss: 0.020079285074025392\n",
      "MSE - Epoch 5, Batch 300, Loss: 0.020075525026768445\n",
      "MSE - Epoch 5, Batch 400, Loss: 0.020538243260234595\n",
      "MSE - Epoch 5, Batch 500, Loss: 0.020728807151317596\n",
      "MSE - Epoch 5, Batch 600, Loss: 0.020284754801541568\n",
      "MSE - Epoch 5, Batch 700, Loss: 0.02044005900621414\n",
      "MSE - Epoch 5, Batch 800, Loss: 0.020224137250334024\n",
      "MSE - Epoch 5, Batch 900, Loss: 0.019942795680835842\n",
      "Finished Training with MSE Loss\n",
      "Accuracy on the test set after MSE Loss: 79.34%\n"
     ]
    }
   ],
   "source": [
    "# Initialize the model\n",
    "modelnew = ModifiedMLP()\n",
    "\n",
    "# Define loss function and optimizer\n",
    "criterion = nn.MSELoss()\n",
    "optimizer = optim.Adam(model.parameters(), lr=0.001)\n",
    "\n",
    "# Train the model\n",
    "num_epochs = 5\n",
    "for epoch in range(num_epochs):\n",
    "    model.train()\n",
    "    running_loss = 0.0\n",
    "    for i, data in enumerate(train_loader, 0):\n",
    "        inputs, labels = data\n",
    "        \n",
    "        # Convert labels to one-hot encoding for MSELoss\n",
    "        labels_one_hot = torch.nn.functional.one_hot(labels, num_classes=10).float()\n",
    "        \n",
    "        optimizer.zero_grad()\n",
    "        outputs = model(inputs)\n",
    "        loss = criterion(outputs, labels_one_hot)\n",
    "        loss.backward()\n",
    "        optimizer.step()\n",
    "        running_loss += loss.item()\n",
    "        if i % 100 == 99:\n",
    "            print(f'MSE - Epoch {epoch + 1}, Batch {i + 1}, Loss: {running_loss / 100}')\n",
    "            running_loss = 0.0\n",
    "\n",
    "print('Finished Training with MSE Loss')\n",
    "\n",
    "# Evaluate the model\n",
    "modelnew.eval()\n",
    "correct = 0\n",
    "total = 0\n",
    "with torch.no_grad():\n",
    "    for data in test_loader:\n",
    "        images, labels = data\n",
    "        outputs = model(images)\n",
    "        _, predicted = torch.max(outputs.data, 1)\n",
    "        total += labels.size(0)\n",
    "        correct += (predicted == labels).sum().item()\n",
    "\n",
    "accuracy = 100 * correct / total\n",
    "print(f'Accuracy on the test set after MSE Loss: {accuracy:.2f}%')"
   ]
  },
  {
   "cell_type": "code",
   "execution_count": null,
   "id": "fad3018c",
   "metadata": {},
   "outputs": [],
   "source": []
  },
  {
   "cell_type": "code",
   "execution_count": null,
   "id": "960da74a",
   "metadata": {},
   "outputs": [],
   "source": []
  },
  {
   "cell_type": "code",
   "execution_count": 72,
   "id": "90ffb927",
   "metadata": {},
   "outputs": [
    {
     "name": "stdout",
     "output_type": "stream",
     "text": [
      "Dropout - Epoch 1, Batch 100, Loss: 0.7072926089167595\n",
      "Dropout - Epoch 1, Batch 200, Loss: 0.49781426578760146\n",
      "Dropout - Epoch 1, Batch 300, Loss: 0.4183750095963478\n",
      "Dropout - Epoch 1, Batch 400, Loss: 0.35245897859334946\n",
      "Dropout - Epoch 1, Batch 500, Loss: 0.13769448800710962\n",
      "Dropout - Epoch 1, Batch 600, Loss: 0.040263966186903415\n",
      "Dropout - Epoch 1, Batch 700, Loss: 0.0375491330458317\n",
      "Dropout - Epoch 1, Batch 800, Loss: 0.039702816909994\n",
      "Dropout - Epoch 1, Batch 900, Loss: 0.02473827091176645\n",
      "Dropout - Epoch 2, Batch 100, Loss: 0.022990714357292746\n",
      "Dropout - Epoch 2, Batch 200, Loss: 0.014540646058158017\n",
      "Dropout - Epoch 2, Batch 300, Loss: 0.01914439535277779\n",
      "Dropout - Epoch 2, Batch 400, Loss: 0.02274506539448339\n",
      "Dropout - Epoch 2, Batch 500, Loss: 0.019542443085665582\n",
      "Dropout - Epoch 2, Batch 600, Loss: 0.02098520162900968\n",
      "Dropout - Epoch 2, Batch 700, Loss: 0.015290018461237197\n",
      "Dropout - Epoch 2, Batch 800, Loss: 0.022242374242923687\n",
      "Dropout - Epoch 2, Batch 900, Loss: 0.015352704340912168\n",
      "Dropout - Epoch 3, Batch 100, Loss: 0.01392030145649187\n",
      "Dropout - Epoch 3, Batch 200, Loss: 0.014557492474086758\n",
      "Dropout - Epoch 3, Batch 300, Loss: 0.014721824254736475\n",
      "Dropout - Epoch 3, Batch 400, Loss: 0.022921536511348678\n",
      "Dropout - Epoch 3, Batch 500, Loss: 0.020048538397568337\n",
      "Dropout - Epoch 3, Batch 600, Loss: 0.01182521374852513\n",
      "Dropout - Epoch 3, Batch 700, Loss: 0.012325040670475573\n",
      "Dropout - Epoch 3, Batch 800, Loss: 0.01808553594382829\n",
      "Dropout - Epoch 3, Batch 900, Loss: 0.017170663683700696\n",
      "Dropout - Epoch 4, Batch 100, Loss: 0.00991869127168684\n",
      "Dropout - Epoch 4, Batch 200, Loss: 0.005188428245974137\n",
      "Dropout - Epoch 4, Batch 300, Loss: 0.010120873113228299\n",
      "Dropout - Epoch 4, Batch 400, Loss: 0.010366732497741395\n",
      "Dropout - Epoch 4, Batch 500, Loss: 0.007486314935285918\n",
      "Dropout - Epoch 4, Batch 600, Loss: 0.009197751882129523\n",
      "Dropout - Epoch 4, Batch 700, Loss: 0.00650665284303841\n",
      "Dropout - Epoch 4, Batch 800, Loss: 0.013734433144618379\n",
      "Dropout - Epoch 4, Batch 900, Loss: 0.018078890870056055\n",
      "Dropout - Epoch 5, Batch 100, Loss: 0.010654108959533915\n",
      "Dropout - Epoch 5, Batch 200, Loss: 0.01591056048642713\n",
      "Dropout - Epoch 5, Batch 300, Loss: 0.011467074967840744\n",
      "Dropout - Epoch 5, Batch 400, Loss: 0.015792762497694637\n",
      "Dropout - Epoch 5, Batch 500, Loss: 0.01420678061684157\n",
      "Dropout - Epoch 5, Batch 600, Loss: 0.013305287473522186\n",
      "Dropout - Epoch 5, Batch 700, Loss: 0.01599866345697592\n",
      "Dropout - Epoch 5, Batch 800, Loss: 0.0156204596030193\n",
      "Dropout - Epoch 5, Batch 900, Loss: 0.009986052649874183\n",
      "Finished Training with Dropout\n",
      "Accuracy on the test set after dropout: 97.71%\n"
     ]
    }
   ],
   "source": [
    "# Define the neural network with dropout\n",
    "class ModifiedMLPWithDropout(nn.Module):\n",
    "    def __init__(self):\n",
    "        super(ModifiedMLPWithDropout, self).__init__()\n",
    "        self.fc1 = nn.Linear(28 * 28, 128)\n",
    "        self.dropout1 = nn.Dropout(0.25)\n",
    "        self.fc2 = nn.Linear(128, 128)\n",
    "        self.dropout2 = nn.Dropout(0.25)\n",
    "        self.fc3 = nn.Linear(128, 64)\n",
    "        self.fc4 = nn.Linear(64, 10)\n",
    "\n",
    "    def forward(self, x):\n",
    "        x = x.view(-1, 28 * 28)\n",
    "        x = torch.relu(self.fc1(x))\n",
    "        x = self.dropout1(x)  # Apply dropout\n",
    "        x = torch.relu(self.fc2(x))\n",
    "        x = self.dropout2(x)  # Apply dropout\n",
    "        x = torch.relu(self.fc3(x))\n",
    "        x = self.fc4(x)\n",
    "        return x\n",
    "\n",
    "# Initialize the modified model with dropout\n",
    "modelnew = ModifiedMLPWithDropout()\n",
    "\n",
    "# Define the loss function and optimizer\n",
    "criterion = nn.CrossEntropyLoss()\n",
    "optimizer = optim.Adam(model.parameters(), lr=0.001)\n",
    "\n",
    "# Train the model with dropout\n",
    "num_epochs = 5\n",
    "for epoch in range(num_epochs):\n",
    "    model.train()\n",
    "    running_loss = 0.0\n",
    "    for i, data in enumerate(train_loader, 0):\n",
    "        inputs, labels = data\n",
    "        optimizer.zero_grad()\n",
    "        outputs = model(inputs)\n",
    "        loss = criterion(outputs, labels)\n",
    "        loss.backward()\n",
    "        optimizer.step()\n",
    "        running_loss += loss.item()\n",
    "        if i % 100 == 99:\n",
    "            print(f'Dropout - Epoch {epoch + 1}, Batch {i + 1}, Loss: {running_loss / 100}')\n",
    "            running_loss = 0.0\n",
    "\n",
    "print('Finished Training with Dropout')\n",
    "\n",
    "# Evaluate the model\n",
    "modelnew.eval()\n",
    "correct = 0\n",
    "total = 0\n",
    "with torch.no_grad():\n",
    "    for data in test_loader:\n",
    "        images, labels = data\n",
    "        outputs = model(images)\n",
    "        _, predicted = torch.max(outputs.data, 1)\n",
    "        total += labels.size(0)\n",
    "        correct += (predicted == labels).sum().item()\n",
    "\n",
    "accuracy = 100 * correct / total\n",
    "print(f'Accuracy on the test set after dropout: {accuracy:.2f}%')"
   ]
  },
  {
   "cell_type": "code",
   "execution_count": 73,
   "id": "809f3fcf",
   "metadata": {},
   "outputs": [
    {
     "name": "stdout",
     "output_type": "stream",
     "text": [
      "Tanh Activation - Epoch 1, Batch 100, Loss: 0.006607833274563291\n",
      "Tanh Activation - Epoch 1, Batch 200, Loss: 0.010786891182884801\n",
      "Tanh Activation - Epoch 1, Batch 300, Loss: 0.012239427611963265\n",
      "Tanh Activation - Epoch 1, Batch 400, Loss: 0.015639572989440645\n",
      "Tanh Activation - Epoch 1, Batch 500, Loss: 0.012946894485449435\n",
      "Tanh Activation - Epoch 1, Batch 600, Loss: 0.02393206746316537\n",
      "Tanh Activation - Epoch 1, Batch 700, Loss: 0.016757413547854868\n",
      "Tanh Activation - Epoch 1, Batch 800, Loss: 0.014801206123149769\n",
      "Tanh Activation - Epoch 1, Batch 900, Loss: 0.02163590364281845\n",
      "Tanh Activation - Epoch 2, Batch 100, Loss: 0.003916728422409505\n",
      "Tanh Activation - Epoch 2, Batch 200, Loss: 0.007371184928310868\n",
      "Tanh Activation - Epoch 2, Batch 300, Loss: 0.007247665797979153\n",
      "Tanh Activation - Epoch 2, Batch 400, Loss: 0.012824440564351107\n",
      "Tanh Activation - Epoch 2, Batch 500, Loss: 0.010672280179087466\n",
      "Tanh Activation - Epoch 2, Batch 600, Loss: 0.012828484264882718\n",
      "Tanh Activation - Epoch 2, Batch 700, Loss: 0.015817451835209793\n",
      "Tanh Activation - Epoch 2, Batch 800, Loss: 0.007590603002943226\n",
      "Tanh Activation - Epoch 2, Batch 900, Loss: 0.0060827045981704944\n",
      "Tanh Activation - Epoch 3, Batch 100, Loss: 0.013832093052951678\n",
      "Tanh Activation - Epoch 3, Batch 200, Loss: 0.009073090020045811\n",
      "Tanh Activation - Epoch 3, Batch 300, Loss: 0.004472377326546848\n",
      "Tanh Activation - Epoch 3, Batch 400, Loss: 0.002705085203813269\n",
      "Tanh Activation - Epoch 3, Batch 500, Loss: 0.002003888803631071\n",
      "Tanh Activation - Epoch 3, Batch 600, Loss: 0.004705610765875292\n",
      "Tanh Activation - Epoch 3, Batch 700, Loss: 0.01348536975355728\n",
      "Tanh Activation - Epoch 3, Batch 800, Loss: 0.018351936830313206\n",
      "Tanh Activation - Epoch 3, Batch 900, Loss: 0.025075546875177677\n",
      "Tanh Activation - Epoch 4, Batch 100, Loss: 0.019594538509081758\n",
      "Tanh Activation - Epoch 4, Batch 200, Loss: 0.008013627979105422\n",
      "Tanh Activation - Epoch 4, Batch 300, Loss: 0.009599096469137293\n",
      "Tanh Activation - Epoch 4, Batch 400, Loss: 0.008896686676907848\n",
      "Tanh Activation - Epoch 4, Batch 500, Loss: 0.009611236829714471\n",
      "Tanh Activation - Epoch 4, Batch 600, Loss: 0.008854588555059308\n",
      "Tanh Activation - Epoch 4, Batch 700, Loss: 0.007817259837365783\n",
      "Tanh Activation - Epoch 4, Batch 800, Loss: 0.01418845269866324\n",
      "Tanh Activation - Epoch 4, Batch 900, Loss: 0.016757265129890585\n",
      "Tanh Activation - Epoch 5, Batch 100, Loss: 0.010535899398723814\n",
      "Tanh Activation - Epoch 5, Batch 200, Loss: 0.01310487701429338\n",
      "Tanh Activation - Epoch 5, Batch 300, Loss: 0.011440133740069882\n",
      "Tanh Activation - Epoch 5, Batch 400, Loss: 0.010694535095861112\n",
      "Tanh Activation - Epoch 5, Batch 500, Loss: 0.010662817922368504\n",
      "Tanh Activation - Epoch 5, Batch 600, Loss: 0.024223654936704406\n",
      "Tanh Activation - Epoch 5, Batch 700, Loss: 0.010041291971101601\n",
      "Tanh Activation - Epoch 5, Batch 800, Loss: 0.012982483866591111\n",
      "Tanh Activation - Epoch 5, Batch 900, Loss: 0.006741052664701783\n",
      "Finished Training with Tanh Activation\n",
      "Accuracy on the test set after Tanh Activation: 97.72%\n"
     ]
    }
   ],
   "source": [
    "# Define the neural network with tanh activation\n",
    "class ModifiedMLPWithTanh(nn.Module):\n",
    "    def __init__(self):\n",
    "        super(ModifiedMLPWithTanh, self).__init__()\n",
    "        self.fc1 = nn.Linear(28 * 28, 128)\n",
    "        self.fc2 = nn.Linear(128, 128)\n",
    "        self.fc3 = nn.Linear(128, 64)\n",
    "        self.fc4 = nn.Linear(64, 10)\n",
    "\n",
    "    def forward(self, x):\n",
    "        x = x.view(-1, 28 * 28)\n",
    "        x = torch.tanh(self.fc1(x))  # Using tanh activation\n",
    "        x = torch.tanh(self.fc2(x))  # Using tanh activation\n",
    "        x = torch.tanh(self.fc3(x))  # Using tanh activation\n",
    "        x = self.fc4(x)\n",
    "        return x\n",
    "\n",
    "# Initialize the model with tanh activation\n",
    "modelnew = ModifiedMLPWithTanh()\n",
    "\n",
    "# Define the loss function and optimizer\n",
    "criterion = nn.CrossEntropyLoss()\n",
    "optimizer = optim.Adam(model.parameters(), lr=0.001)\n",
    "\n",
    "# Train the model with tanh activation\n",
    "num_epochs = 5\n",
    "for epoch in range(num_epochs):\n",
    "    model.train()\n",
    "    running_loss = 0.0\n",
    "    for i, data in enumerate(train_loader, 0):\n",
    "        inputs, labels = data\n",
    "        optimizer.zero_grad()\n",
    "        outputs = model(inputs)\n",
    "        loss = criterion(outputs, labels)\n",
    "        loss.backward()\n",
    "        optimizer.step()\n",
    "        running_loss += loss.item()\n",
    "        if i % 100 == 99:\n",
    "            print(f'Tanh Activation - Epoch {epoch + 1}, Batch {i + 1}, Loss: {running_loss / 100}')\n",
    "            running_loss = 0.0\n",
    "\n",
    "print('Finished Training with Tanh Activation')\n",
    "\n",
    "\n",
    "# Evaluate the model\n",
    "modelnew.eval()\n",
    "correct = 0\n",
    "total = 0\n",
    "with torch.no_grad():\n",
    "    for data in test_loader:\n",
    "        images, labels = data\n",
    "        outputs = model(images)\n",
    "        _, predicted = torch.max(outputs.data, 1)\n",
    "        total += labels.size(0)\n",
    "        correct += (predicted == labels).sum().item()\n",
    "\n",
    "accuracy = 100 * correct / total\n",
    "print(f'Accuracy on the test set after Tanh Activation: {accuracy:.2f}%')"
   ]
  },
  {
   "cell_type": "code",
   "execution_count": 62,
   "id": "ca8152cc",
   "metadata": {},
   "outputs": [
    {
     "name": "stdout",
     "output_type": "stream",
     "text": [
      "Accuracy on the test set: 97.69%\n"
     ]
    }
   ],
   "source": [
    "# Evaluate the model\n",
    "modelnew.eval()\n",
    "correct = 0\n",
    "total = 0\n",
    "with torch.no_grad():\n",
    "    for data in test_loader:\n",
    "        images, labels = data\n",
    "        outputs = model(images)\n",
    "        _, predicted = torch.max(outputs.data, 1)\n",
    "        total += labels.size(0)\n",
    "        correct += (predicted == labels).sum().item()\n",
    "\n",
    "accuracy = 100 * correct / total\n",
    "print(f'Accuracy on the test set: {accuracy:.2f}%')"
   ]
  },
  {
   "cell_type": "raw",
   "id": "ffb97c16",
   "metadata": {},
   "source": [
    "After using various different optimizers, loss functions, dropout, and activation functions , the accuracy have increased. SGD has the highest accuracy with approximately 98%. After  RMSprop Optimizer is 97.60%. This tell how effective learning rates and momentum tuning. However using MSE as the loss function did not improve that accuracy as much as the earlier indicating that these methods are better fit for classification tasks. Moreover , using activation functions generated higher accuracy as well like around 97%."
   ]
  },
  {
   "cell_type": "code",
   "execution_count": null,
   "id": "662e60eb",
   "metadata": {},
   "outputs": [],
   "source": []
  }
 ],
 "metadata": {
  "kernelspec": {
   "display_name": "Python 3 (ipykernel)",
   "language": "python",
   "name": "python3"
  },
  "language_info": {
   "codemirror_mode": {
    "name": "ipython",
    "version": 3
   },
   "file_extension": ".py",
   "mimetype": "text/x-python",
   "name": "python",
   "nbconvert_exporter": "python",
   "pygments_lexer": "ipython3",
   "version": "3.11.5"
  }
 },
 "nbformat": 4,
 "nbformat_minor": 5
}
