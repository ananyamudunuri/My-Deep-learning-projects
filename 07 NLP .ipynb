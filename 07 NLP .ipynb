{
  "nbformat": 4,
  "nbformat_minor": 0,
  "metadata": {
    "kernelspec": {
      "display_name": "Python 3",
      "name": "python3"
    },
    "language_info": {
      "codemirror_mode": {
        "name": "ipython",
        "version": 3
      },
      "file_extension": ".py",
      "mimetype": "text/x-python",
      "name": "python",
      "nbconvert_exporter": "python",
      "pygments_lexer": "ipython3",
      "version": "3.7.3"
    },
    "colab": {
      "provenance": [],
      "machine_shape": "hm"
    }
  },
  "cells": [
    {
      "cell_type": "code",
      "source": [
        "pip install gensim"
      ],
      "metadata": {
        "colab": {
          "base_uri": "https://localhost:8080/"
        },
        "id": "C_208e0YIgw6",
        "outputId": "5bfe4624-fdf5-4449-8fc0-8a5c79794843"
      },
      "execution_count": 26,
      "outputs": [
        {
          "output_type": "stream",
          "name": "stdout",
          "text": [
            "Requirement already satisfied: gensim in /usr/local/lib/python3.10/dist-packages (4.3.3)\n",
            "Requirement already satisfied: numpy<2.0,>=1.18.5 in /usr/local/lib/python3.10/dist-packages (from gensim) (1.22.4)\n",
            "Requirement already satisfied: scipy<1.14.0,>=1.7.0 in /usr/local/lib/python3.10/dist-packages (from gensim) (1.7.3)\n",
            "Requirement already satisfied: smart-open>=1.8.1 in /usr/local/lib/python3.10/dist-packages (from gensim) (7.0.5)\n",
            "Requirement already satisfied: wrapt in /usr/local/lib/python3.10/dist-packages (from smart-open>=1.8.1->gensim) (1.16.0)\n"
          ]
        }
      ]
    },
    {
      "cell_type": "code",
      "source": [
        "from google.colab import drive\n",
        "drive.mount('/content/drive')"
      ],
      "metadata": {
        "colab": {
          "base_uri": "https://localhost:8080/"
        },
        "id": "1rQdtEwsKDN1",
        "outputId": "7fa66189-5801-423e-ef96-d1720ffabab1"
      },
      "execution_count": 1,
      "outputs": [
        {
          "output_type": "stream",
          "name": "stdout",
          "text": [
            "Mounted at /content/drive\n"
          ]
        }
      ]
    },
    {
      "cell_type": "markdown",
      "source": [
        "**Step 1: Load the Wikipedia GLoVE Word2Vec.**"
      ],
      "metadata": {
        "id": "5THcFE7bQXne"
      }
    },
    {
      "cell_type": "code",
      "source": [
        "import gensim\n",
        "from gensim.scripts.glove2word2vec import glove2word2vec\n",
        "from gensim.models import KeyedVectors\n",
        "\n",
        "# Paths to the GloVe file and the output Word2Vec file\n",
        "glove_input_file = '/content/glove.6B.300d.txt'\n",
        "word2vec_output_file = 'glove.6B.300d.word2vec.txt'  # Output Word2Vec format file\n",
        "\n",
        "# Convert GloVe to Word2Vec format\n",
        "glove2word2vec(glove_input_file, word2vec_output_file)\n",
        "\n",
        "# Load the converted file\n",
        "model = KeyedVectors.load_word2vec_format(word2vec_output_file, binary=False)\n"
      ],
      "metadata": {
        "colab": {
          "base_uri": "https://localhost:8080/"
        },
        "id": "49UP3ZcbP8In",
        "outputId": "fddcdc76-3f72-48e1-8bd9-7de8d38ef6fe"
      },
      "execution_count": 27,
      "outputs": [
        {
          "output_type": "stream",
          "name": "stderr",
          "text": [
            "<ipython-input-27-8f5dd961eabf>:10: DeprecationWarning: Call to deprecated `glove2word2vec` (KeyedVectors.load_word2vec_format(.., binary=False, no_header=True) loads GLoVE text vectors.).\n",
            "  glove2word2vec(glove_input_file, word2vec_output_file)\n"
          ]
        }
      ]
    },
    {
      "cell_type": "markdown",
      "source": [
        "**Step 2: Show how similar are these words**"
      ],
      "metadata": {
        "id": "8eSnRvhZQegF"
      }
    },
    {
      "cell_type": "code",
      "source": [
        "# Step 2: Show how similar these words are\n",
        "similarity_man_woman = model.similarity('man', 'woman')\n",
        "similarity_chair_throne = model.similarity('chair', 'throne')\n",
        "similarity_water_baby = model.similarity('water', 'baby')\n",
        "\n",
        "print(f\"Similarity between 'man' and 'woman': {similarity_man_woman:.4f}\")\n",
        "print(f\"Similarity between 'chair' and 'throne': {similarity_chair_throne:.4f}\")\n",
        "print(f\"Similarity between 'water' and 'baby': {similarity_water_baby:.4f}\")"
      ],
      "metadata": {
        "colab": {
          "base_uri": "https://localhost:8080/"
        },
        "id": "AtC_O5KqP8LL",
        "outputId": "b71264a5-bf1c-4c9e-dcd2-1c6823f1f053"
      },
      "execution_count": 28,
      "outputs": [
        {
          "output_type": "stream",
          "name": "stdout",
          "text": [
            "Similarity between 'man' and 'woman': 0.6999\n",
            "Similarity between 'chair' and 'throne': 0.2755\n",
            "Similarity between 'water' and 'baby': 0.2417\n"
          ]
        }
      ]
    },
    {
      "cell_type": "markdown",
      "source": [
        "**Step 3: Using these provide analogies**"
      ],
      "metadata": {
        "id": "dOFqAX0sQnLG"
      }
    },
    {
      "cell_type": "code",
      "source": [
        "# Step 3: Provide analogies\n",
        "\n",
        "# Example analogy: _____ is to King as Woman is to Man\n",
        "analogy_king = model.most_similar(positive=['woman', 'king'], negative=['man'])\n",
        "print(f\"_____ is to King as Woman is to Man: {analogy_king[0][0]}\")\n",
        "\n",
        "# Example analogy: _____ is to Princess as Man is to Woman\n",
        "analogy_princess = model.most_similar(positive=['man', 'princess'], negative=['woman'])\n",
        "print(f\"_____ is to Princess as Man is to Woman: {analogy_princess[0][0]}\")\n",
        "\n",
        "# Example analogy: _____ is to a woman as a child is to an adult\n",
        "analogy_woman_child = model.most_similar(positive=['woman', 'child'], negative=['adult'])\n",
        "print(f\"_____ is to a woman as a child is to an adult: {analogy_woman_child[0][0]}\")"
      ],
      "metadata": {
        "colab": {
          "base_uri": "https://localhost:8080/"
        },
        "id": "MI0lXzq6P8NS",
        "outputId": "0d9f45e3-d57c-4be8-d81b-4c9aa77c7687"
      },
      "execution_count": 29,
      "outputs": [
        {
          "output_type": "stream",
          "name": "stdout",
          "text": [
            "_____ is to King as Woman is to Man: queen\n",
            "_____ is to Princess as Man is to Woman: prince\n",
            "_____ is to a woman as a child is to an adult: mother\n"
          ]
        }
      ]
    },
    {
      "cell_type": "markdown",
      "source": [
        "**Step 4: Apply Naive-Bayes Classifier on the Spam-Ham dataset**"
      ],
      "metadata": {
        "id": "DxoHqEeIRJwr"
      }
    },
    {
      "cell_type": "code",
      "source": [],
      "metadata": {
        "id": "Eyl2jfTWRJZg"
      },
      "execution_count": null,
      "outputs": []
    },
    {
      "cell_type": "code",
      "source": [
        "import pandas as pd\n",
        "# Specify the correct encoding, e.g., 'ISO-8859-1' or 'latin1' might work\n",
        "messages = pd.read_csv('/content/spam.csv', encoding='ISO-8859-1')"
      ],
      "metadata": {
        "id": "QECh-FDeIgtP"
      },
      "execution_count": 31,
      "outputs": []
    },
    {
      "cell_type": "markdown",
      "metadata": {
        "id": "X7xG8Po-6Uv3"
      },
      "source": [
        "**Spam SMS detection**"
      ]
    },
    {
      "cell_type": "code",
      "metadata": {
        "id": "udWJntsD6Uv6",
        "colab": {
          "base_uri": "https://localhost:8080/"
        },
        "outputId": "a8c10bec-1f31-4826-caac-35138a603f00"
      },
      "source": [
        "from sklearn_pandas import DataFrameMapper\n",
        "from sklearn.model_selection import cross_val_score\n",
        "import numpy as np\n",
        "import pandas as pd\n",
        "import re\n",
        "import matplotlib.pyplot as plt\n",
        "import string\n",
        "from nltk.corpus import stopwords\n",
        "from sklearn.model_selection import train_test_split\n",
        "from sklearn.feature_extraction.text import CountVectorizer\n",
        "#from scipy.sparse import csr_matrix\n",
        "import scikitplot as skplt\n",
        "from sklearn import svm\n",
        "from sklearn.metrics import accuracy_score, confusion_matrix, classification_report\n",
        "from nltk.stem import PorterStemmer\n",
        "stemmer = PorterStemmer()\n",
        "#from wordcloud import WordCloud\n",
        "import nltk\n",
        "nltk.download('stopwords')"
      ],
      "execution_count": 32,
      "outputs": [
        {
          "output_type": "stream",
          "name": "stderr",
          "text": [
            "[nltk_data] Downloading package stopwords to /root/nltk_data...\n",
            "[nltk_data]   Package stopwords is already up-to-date!\n"
          ]
        },
        {
          "output_type": "execute_result",
          "data": {
            "text/plain": [
              "True"
            ]
          },
          "metadata": {},
          "execution_count": 32
        }
      ]
    },
    {
      "cell_type": "markdown",
      "metadata": {
        "id": "pfhW-7Ao6Uv7"
      },
      "source": [
        "**Creating emoticon list**"
      ]
    },
    {
      "cell_type": "code",
      "metadata": {
        "id": "n1HXPTXO6Uv8"
      },
      "source": [
        "emotions_list = [\":)\", \":(\", \":p\", \":D\", \"-_-\", \":o\"]"
      ],
      "execution_count": 33,
      "outputs": []
    },
    {
      "cell_type": "markdown",
      "metadata": {
        "id": "OHKuFuNR6Uv8"
      },
      "source": [
        "**Filtering SMS based on character length**"
      ]
    },
    {
      "cell_type": "code",
      "metadata": {
        "id": "8ouoKbvw6Uv9"
      },
      "source": [
        "def char_flag(l):\n",
        "    if l <= 40:\n",
        "        return 1\n",
        "    elif l <= 60:\n",
        "        return 2\n",
        "    elif l <= 80:\n",
        "        return 3\n",
        "    elif l <= 120:\n",
        "        return 4\n",
        "    elif l <= 160:\n",
        "        return 5\n",
        "    else:\n",
        "        return 6"
      ],
      "execution_count": 34,
      "outputs": []
    },
    {
      "cell_type": "markdown",
      "metadata": {
        "id": "IV_kcaXj6Uv9"
      },
      "source": [
        "**Removing stopwords**"
      ]
    },
    {
      "cell_type": "code",
      "metadata": {
        "id": "wM5vMcXG6Uv-"
      },
      "source": [
        "stop_words = []\n",
        "def text_process(mess):\n",
        "    no_punct = re.sub('[^A-Za-z ]+', '', mess.lower())\n",
        "    return np.array([stemmer.stem(word) for word in no_punct.split() if word not in stop_words])"
      ],
      "execution_count": 35,
      "outputs": []
    },
    {
      "cell_type": "markdown",
      "metadata": {
        "id": "PNdpceDT6Uv-"
      },
      "source": [
        "**Data Preprocessing**"
      ]
    },
    {
      "cell_type": "code",
      "metadata": {
        "id": "8udP3M556Uv_",
        "colab": {
          "base_uri": "https://localhost:8080/"
        },
        "outputId": "047e6228-7ea3-477d-fbc2-49cd9e9ef75b"
      },
      "source": [
        "def preprocessing_text():\n",
        "    for d, ln in zip(messages_data, token_4):\n",
        "        token_1.append(d)\n",
        "        token_2.append(d.count('$'))\n",
        "        x =re.sub('[^0-9 ]+', '', d.lower())\n",
        "        token_3.append(len(x))\n",
        "        token_5.append(char_flag(ln))\n",
        "        if (re.sub(r'[^://@]', '', d.lower())) is not '':\n",
        "            token_6.append(1)\n",
        "        else:\n",
        "            token_6.append(0)\n",
        "        token_7.append(len(x.split()))\n",
        "        for emoji in emotions_list:\n",
        "            if(re.search(re.escape(emoji), d)):\n",
        "                token_8.append(1)\n",
        "            else:\n",
        "                token_8.append(0)\n",
        "    return np.array(\n",
        "        [np.array([token_1[i], token_2[i], token_3[i], token_4[i], token_5[i], token_6[i],\n",
        "                   token_7[i],token_8[i]], dtype=object) for i in\n",
        "         range(len(messages_data))])"
      ],
      "execution_count": 36,
      "outputs": [
        {
          "output_type": "stream",
          "name": "stderr",
          "text": [
            "<>:8: SyntaxWarning: \"is not\" with a literal. Did you mean \"!=\"?\n",
            "<>:8: SyntaxWarning: \"is not\" with a literal. Did you mean \"!=\"?\n",
            "<ipython-input-36-43d7392cab2a>:8: SyntaxWarning: \"is not\" with a literal. Did you mean \"!=\"?\n",
            "  if (re.sub(r'[^://@]', '', d.lower())) is not '':\n"
          ]
        }
      ]
    },
    {
      "cell_type": "markdown",
      "metadata": {
        "id": "xuEe8F0S6Uv_"
      },
      "source": [
        "**Data conversion to vector form**"
      ]
    },
    {
      "cell_type": "code",
      "metadata": {
        "id": "S93HuTlL6UwA"
      },
      "source": [
        "def data_mapper():\n",
        "    data = preprocessing_text()\n",
        "    labels = ['message','f1','f2','f3','f4','f5','f6','f7']\n",
        "    df = pd.DataFrame.from_records(data,columns=labels)\n",
        "    mapper = DataFrameMapper([\n",
        "    (['f1', 'f2','f3','f4','f5','f6','f7'], None),\n",
        "    ('message',CountVectorizer(analyzer = text_process,ngram_range=(2, 2)))])\n",
        "    X=mapper.fit_transform(df)\n",
        "    return X"
      ],
      "execution_count": 37,
      "outputs": []
    },
    {
      "cell_type": "markdown",
      "metadata": {
        "id": "aZpfD6oE6UwA"
      },
      "source": [
        "**Main Function**"
      ]
    },
    {
      "cell_type": "code",
      "metadata": {
        "id": "qjzkXNVr6UwA",
        "colab": {
          "base_uri": "https://localhost:8080/"
        },
        "outputId": "d17fe2ac-73ad-4ec6-b0b6-c8d2fc16f7c0"
      },
      "source": [
        "if __name__ == \"__main__\":\n",
        "\n",
        "    messages = pd.read_csv(\"/content/spam.csv\", encoding='latin-1')\n",
        "    print(messages)\n",
        "    messages = messages.drop(columns=['Unnamed: 2', 'Unnamed: 3', 'Unnamed: 4'])\n",
        "    print(messages)\n",
        ""
      ],
      "execution_count": 38,
      "outputs": [
        {
          "output_type": "stream",
          "name": "stdout",
          "text": [
            "        v1                                                 v2 Unnamed: 2  \\\n",
            "0      ham  Go until jurong point, crazy.. Available only ...        NaN   \n",
            "1      ham                      Ok lar... Joking wif u oni...        NaN   \n",
            "2     spam  Free entry in 2 a wkly comp to win FA Cup fina...        NaN   \n",
            "3      ham  U dun say so early hor... U c already then say...        NaN   \n",
            "4      ham  Nah I don't think he goes to usf, he lives aro...        NaN   \n",
            "...    ...                                                ...        ...   \n",
            "5567  spam  This is the 2nd time we have tried 2 contact u...        NaN   \n",
            "5568   ham              Will Ì_ b going to esplanade fr home?        NaN   \n",
            "5569   ham  Pity, * was in mood for that. So...any other s...        NaN   \n",
            "5570   ham  The guy did some bitching but I acted like i'd...        NaN   \n",
            "5571   ham                         Rofl. Its true to its name        NaN   \n",
            "\n",
            "     Unnamed: 3 Unnamed: 4  \n",
            "0           NaN        NaN  \n",
            "1           NaN        NaN  \n",
            "2           NaN        NaN  \n",
            "3           NaN        NaN  \n",
            "4           NaN        NaN  \n",
            "...         ...        ...  \n",
            "5567        NaN        NaN  \n",
            "5568        NaN        NaN  \n",
            "5569        NaN        NaN  \n",
            "5570        NaN        NaN  \n",
            "5571        NaN        NaN  \n",
            "\n",
            "[5572 rows x 5 columns]\n",
            "        v1                                                 v2\n",
            "0      ham  Go until jurong point, crazy.. Available only ...\n",
            "1      ham                      Ok lar... Joking wif u oni...\n",
            "2     spam  Free entry in 2 a wkly comp to win FA Cup fina...\n",
            "3      ham  U dun say so early hor... U c already then say...\n",
            "4      ham  Nah I don't think he goes to usf, he lives aro...\n",
            "...    ...                                                ...\n",
            "5567  spam  This is the 2nd time we have tried 2 contact u...\n",
            "5568   ham              Will Ì_ b going to esplanade fr home?\n",
            "5569   ham  Pity, * was in mood for that. So...any other s...\n",
            "5570   ham  The guy did some bitching but I acted like i'd...\n",
            "5571   ham                         Rofl. Its true to its name\n",
            "\n",
            "[5572 rows x 2 columns]\n"
          ]
        }
      ]
    },
    {
      "cell_type": "code",
      "metadata": {
        "colab": {
          "base_uri": "https://localhost:8080/"
        },
        "id": "ap9uWao8bZee",
        "outputId": "234d42b0-72f9-48c1-88d9-4d744283110d"
      },
      "source": [
        "    messages['length'] = messages['v2'].apply(len)\n",
        "    messages_data = messages['v2']\n",
        "    messages_labels = messages['v1']\n",
        "    print(messages)"
      ],
      "execution_count": 39,
      "outputs": [
        {
          "output_type": "stream",
          "name": "stdout",
          "text": [
            "        v1                                                 v2  length\n",
            "0      ham  Go until jurong point, crazy.. Available only ...     111\n",
            "1      ham                      Ok lar... Joking wif u oni...      29\n",
            "2     spam  Free entry in 2 a wkly comp to win FA Cup fina...     155\n",
            "3      ham  U dun say so early hor... U c already then say...      49\n",
            "4      ham  Nah I don't think he goes to usf, he lives aro...      61\n",
            "...    ...                                                ...     ...\n",
            "5567  spam  This is the 2nd time we have tried 2 contact u...     161\n",
            "5568   ham              Will Ì_ b going to esplanade fr home?      37\n",
            "5569   ham  Pity, * was in mood for that. So...any other s...      57\n",
            "5570   ham  The guy did some bitching but I acted like i'd...     125\n",
            "5571   ham                         Rofl. Its true to its name      26\n",
            "\n",
            "[5572 rows x 3 columns]\n"
          ]
        }
      ]
    },
    {
      "cell_type": "code",
      "metadata": {
        "colab": {
          "base_uri": "https://localhost:8080/"
        },
        "id": "NqHmZMHiZPJ_",
        "outputId": "92fa6b48-c8d8-49d6-ed5a-7ea93dd748ac"
      },
      "source": [
        "    token_1 = []\n",
        "    token_2 = []\n",
        "    token_3 = []\n",
        "    token_4 = messages['length']\n",
        "    token_5 = []\n",
        "    token_6 = []\n",
        "    token_7 = []\n",
        "    token_8 = []\n",
        "\n",
        "    freq = pd.Series(' '.join(messages_data).split()).value_counts()\n",
        "    print(freq)"
      ],
      "execution_count": 40,
      "outputs": [
        {
          "output_type": "stream",
          "name": "stdout",
          "text": [
            "to           2134\n",
            "you          1622\n",
            "I            1466\n",
            "a            1327\n",
            "the          1197\n",
            "             ... \n",
            "AOM             1\n",
            "Box61,M60       1\n",
            "1ER             1\n",
            "Ages            1\n",
            "Rofl.           1\n",
            "Name: count, Length: 15585, dtype: int64\n"
          ]
        }
      ]
    },
    {
      "cell_type": "code",
      "metadata": {
        "colab": {
          "base_uri": "https://localhost:8080/"
        },
        "id": "K4X1drYd7iQd",
        "outputId": "80de4b22-8a9d-48ef-92a4-74ec4f6cb9d8"
      },
      "source": [
        "    stop_words = stopwords.words('english')\n",
        "    print(stop_words)\n",
        "    stop_words.extend(freq[-9268:].index)\n",
        "    print(stop_words)"
      ],
      "execution_count": 41,
      "outputs": [
        {
          "output_type": "stream",
          "name": "stdout",
          "text": [
            "['i', 'me', 'my', 'myself', 'we', 'our', 'ours', 'ourselves', 'you', \"you're\", \"you've\", \"you'll\", \"you'd\", 'your', 'yours', 'yourself', 'yourselves', 'he', 'him', 'his', 'himself', 'she', \"she's\", 'her', 'hers', 'herself', 'it', \"it's\", 'its', 'itself', 'they', 'them', 'their', 'theirs', 'themselves', 'what', 'which', 'who', 'whom', 'this', 'that', \"that'll\", 'these', 'those', 'am', 'is', 'are', 'was', 'were', 'be', 'been', 'being', 'have', 'has', 'had', 'having', 'do', 'does', 'did', 'doing', 'a', 'an', 'the', 'and', 'but', 'if', 'or', 'because', 'as', 'until', 'while', 'of', 'at', 'by', 'for', 'with', 'about', 'against', 'between', 'into', 'through', 'during', 'before', 'after', 'above', 'below', 'to', 'from', 'up', 'down', 'in', 'out', 'on', 'off', 'over', 'under', 'again', 'further', 'then', 'once', 'here', 'there', 'when', 'where', 'why', 'how', 'all', 'any', 'both', 'each', 'few', 'more', 'most', 'other', 'some', 'such', 'no', 'nor', 'not', 'only', 'own', 'same', 'so', 'than', 'too', 'very', 's', 't', 'can', 'will', 'just', 'don', \"don't\", 'should', \"should've\", 'now', 'd', 'll', 'm', 'o', 're', 've', 'y', 'ain', 'aren', \"aren't\", 'couldn', \"couldn't\", 'didn', \"didn't\", 'doesn', \"doesn't\", 'hadn', \"hadn't\", 'hasn', \"hasn't\", 'haven', \"haven't\", 'isn', \"isn't\", 'ma', 'mightn', \"mightn't\", 'mustn', \"mustn't\", 'needn', \"needn't\", 'shan', \"shan't\", 'shouldn', \"shouldn't\", 'wasn', \"wasn't\", 'weren', \"weren't\", 'won', \"won't\", 'wouldn', \"wouldn't\"]\n",
            "['i', 'me', 'my', 'myself', 'we', 'our', 'ours', 'ourselves', 'you', \"you're\", \"you've\", \"you'll\", \"you'd\", 'your', 'yours', 'yourself', 'yourselves', 'he', 'him', 'his', 'himself', 'she', \"she's\", 'her', 'hers', 'herself', 'it', \"it's\", 'its', 'itself', 'they', 'them', 'their', 'theirs', 'themselves', 'what', 'which', 'who', 'whom', 'this', 'that', \"that'll\", 'these', 'those', 'am', 'is', 'are', 'was', 'were', 'be', 'been', 'being', 'have', 'has', 'had', 'having', 'do', 'does', 'did', 'doing', 'a', 'an', 'the', 'and', 'but', 'if', 'or', 'because', 'as', 'until', 'while', 'of', 'at', 'by', 'for', 'with', 'about', 'against', 'between', 'into', 'through', 'during', 'before', 'after', 'above', 'below', 'to', 'from', 'up', 'down', 'in', 'out', 'on', 'off', 'over', 'under', 'again', 'further', 'then', 'once', 'here', 'there', 'when', 'where', 'why', 'how', 'all', 'any', 'both', 'each', 'few', 'more', 'most', 'other', 'some', 'such', 'no', 'nor', 'not', 'only', 'own', 'same', 'so', 'than', 'too', 'very', 's', 't', 'can', 'will', 'just', 'don', \"don't\", 'should', \"should've\", 'now', 'd', 'll', 'm', 'o', 're', 've', 'y', 'ain', 'aren', \"aren't\", 'couldn', \"couldn't\", 'didn', \"didn't\", 'doesn', \"doesn't\", 'hadn', \"hadn't\", 'hasn', \"hasn't\", 'haven', \"haven't\", 'isn', \"isn't\", 'ma', 'mightn', \"mightn't\", 'mustn', \"mustn't\", 'needn', \"needn't\", 'shan', \"shan't\", 'shouldn', \"shouldn't\", 'wasn', \"wasn't\", 'weren', \"weren't\", 'won', \"won't\", 'wouldn', \"wouldn't\", '\\\\NOT', \"wat'll\", 'misundrstud', '10am', 'frnd:', 'club,', '150ppmPOBox10183BhamB64XE', '078', '09071517866', 'Eve', 'wth', '8pm,', 'CALLED', 'colleg?', \"hw'd\", 'TEXTCOMP', 'coughing', 'witout', 'frnd..', 'stink!', 'fast!', 'Thurs,', 'lt', 'Jerk!', 'drms.take', 'cancer', 'Aldrine,', 'survey...', 'owed', 'costume.', 'ni8.swt', 'prince', 'send.', 'again..', 'www.Ldew.com1win150ppmx3age16subscription', 'resuming.', 'minimum', 'reapply?', 'warned', \"espe'll\", 'cared,', 'london', 'yet..', '1stone,', 'irritated', 'Hrishi.', \"treatin'\", 'treacle?', 'fixed.', '08712405020', 'events', 'hard...', 'genes', '177.', 'strtd', 'ENUFCREDEIT', 'Tyler', 'throwin', 'cell?', 'charming', 'urself:-(', 'functions?', 'Gn:-)', 'whr', 'thm', '2u2.', 'havent...', 'spl..wat', 'Atlast', 'life?', '(getting', 'SOMETHIN', 'training?', 'lamp,', 'caroline!', 'processed', 'subsequent', 'late:)but', 'k.wish', 'helens', 'link.', 'walk,', 'da:)where', 'successfully.', 'unintentionally', 'eight.', 'ideas', 'turkeys.', 'vale...', 'installation', 'Broadband', 'Love!!', 'wks', 'asap.ok', 'SWAN', 'dark.', 'PARENTS', 'DRINK', '\\\\ER', 'teeth?if', 'sea*', 'Hello.How', 'Airtel', 'doing?What', 'princes', '84128,custcare', 'charged@150p/msg.2', 'asa', '09050000878.', '2?When', 'clearly', 'call.urgent.', 'mrng.', 'rakhesh', 'comes!', 'Unlike', 'Actually,', 'any,', 'mahfuuz...meaning', 'here.pls', 'RTM', 'pounded', 'warning.', '9,', 'necesity', '8th)', 'Lion', 'comp.', '*childish', 'TONIGHT?', 'Vikky,', 'mufti', 'fishrman', 'foward', 'person,', 'follows,', 'tensed', 'sources', '3,', 'stuff--why', 'unhappiness!', 'friendship..', 'Oic', 'patients', 'night:-)', 'along!', 'sack', 'wk?s', 'stones.', '09061790126', 'timi', 'thurs...', 'mumHas', 'am.x', 'TOCALL.SHALL', 'Sir,Salam', 'captaining', 'Alaikkum.Pride', 'burgundy', 'ask.', 'forgiveness?\\\\\"', 'Neither', 'wicket:)', 'steyn', '[in', 'Tea', 'js', 'penis', 'ASKED,', 'nit', 'alrite.have', '2yrs.', 'synced', 'time-hope', 'arm?', 'Staff', 'aquarius', 'topic', 'ibored.', 'Kothi', 'Garbage', '146tf150p', 'Wednesday.', '09058095107', 'Anyway.', 'marandratha.', 'glo', 'resolved,', 'bless!', 'problem...', 'correctly...', 'Okors,', 'sub,', 'Thanks,', 'voice]', 'sterm', 'Aah', 'cheetos', 'Petey!noiåÕm', 'Shop.We', 'eggs,', 'gal-can', 'gloucesterroad', 'life:', 'gal-no,', 'ILEAVE', 'fundamentals', 'passes', 'away?', '08704439680.', 'Buzz!', 'allalo', '10.1mega', 'pole', 'hand?', 'again*loving', 'boy-y?', 'oru', 'mone,eppolum', 'crazy,', 'poo', 'early?', '\\\\Walk', 'uup', 'pisces.', 'holiday,', 'shangela.', 'Qatar.Rakhesh', 'treats', 'Indian.Pls', 'both!', 'Chikku,', 'letter.', 'ouch', 'Number.Respectful', 'HOUSE?\\\\\"\"', 'pixels,', 'prince..GN:-)', 'dooms.', '+GET', 'Holder', 'Regards.', '5digital', 'heaven', '3optical', 'Gal', 'tv...', 'S3XY', 'beendropping', 'cinema?', 'SLEEPING', 'yoga?', 'Orchard', 'univ.', 'before...', 'rajas', 'WRLD.', 'burrito,', 'DEAD', 'MO...', 'money.i', 'SPUN-OUT', 'tonite...', 'scenario', 'warner', 'Bennys', 'Frankie', \"that'd\", 'mate!!', 'shldxxxx', 'SOFA', 'lion', 'sumthin!', 'mention', 'theplace!', 'adress?\\\\\"\"', '4wrd', 'Thursday.', 'Yay.', 'Cheers.', 'Jolly', '7.30.', 'dear-loving', 'wthout', 'xxxxxxxxxxxxxX', \"K.k:)i'm\", '..i', 'alle', 'changing', 'served', 'Takecare..:)', '.so', 'arnt', 'Guaranteed', '4give', 'pmt', 'jam,', 'zeros.', 'Hmm...', 'strong:)', 'wheat', 'Yes.mum', 'bpo..', 'profile', 'Amrita', 'hannaford', 'savings.', 'Sprint', 'leh,', 'bread,', 'oyster...', 'sashimi...', 'rumbling...', 'adding', 'stitch', '9!', 'trouser', '2/2', 'sore...', 'goigng', 'spouse', 'Sday', 'wasnåÕt', 'pubs', 'Hanging', 'Dorothy@kiefer.com', 'grocers.', 'joined.so', 'grownup', 'wlcome', 'kid.', 'regretted', 'chex', 'keep.', 'perfume,', 'cheaper.', 'small.', 'advance.', 'apologise', 'persevered', 'nighters.', 'pride.', 'diapers', 'dogs', 'friendship.', 'basketball.', 'collecting.', 'Water', 'kaypoh..', 'gong.', 'individual', 'extra,', 'Whos', 'bhaskar,', 'cal.', 'bare', 'epi,', 'class:-)', 'like!', 'nite!', 'voted', 'formatting...', 'Jordan', 'attracts', 'wounds', 'pa...', 'ask:-)', 'salt,', 'energy.', 'I\\x89Û÷ve', 'conserve', 'logging', 'alot', 'Number:', 'outdoors.', 'apology', 'moms', 'Sweetheart', ':zed', 'nokias', 'strange.', 'Darling', '2StopTxt', 'implications.', 'Sugar', 'Geoenvironmental', 'Alfie', 'Hi.what', 'match?', 'listed', 'plum', 'blank', 'point,', 'Loverboy', '*smacks', 'ass*', 'interfued', 'desert.', 'range', '50s?', 'Promotion', 'outages', 'sweet...', 'were/are', 'cyclists', 'Lancaster,', 'pesky', 'uneventful', 'equally', 'lst', '02085076972', 'LtdHelpDesk:', 'strt', '6pm', 'Neway', 'maga', 'twins', 'be.', 'Foned', 'showed', 'division,', 'independently', 'karnan', 'couldnåÕt', 'båÕday', 'Multiply', 'chuck.:-)', 'nights...We', 'port', ';).', 'nalla', '8714714', 'reply-', 'installing.', 'Cps', 'K.k.how', '2309.', 'Vegas', '09066660100', 'Draw.', 'August', 'sch?', 'Winner', 'Won.', \"YOU'VE\", 'Year!', 'selected.', 'hitman', 'Jane', 'vegas', 'hire', 'wrk,', 'bluray', 'wkend.', 'kittum', 'nattil', 'entey', 'lou', 'BOOKS?', 'hustle', 'jurong', 'Facebook', 'sarasota?', '07090298926', 'LOCAXX\\\\\"\"', 'MUCHXXLOVE', 'SOO', 'uploaded', 'FIT', 'Langport.', 'virtual', 'dinner...', 'awkward.', 'cheap!', 'UP+NOT', 'hug?...', '+CHEER', 'IT+BOTH', 'i\\x89Û÷m', 'Senthil', 'salmon', 'splash', 'better..', '4GET', 'Apnt', '5pm.', 'difficulties', 'Ref:9307622', 'skateboarding', 'air?', 'forgiven!', 'laid?want', 'wamma', 'WRKIN?', 'now!nyt.', 'date.', 'swoop.', 'ree', 'hectic', 'OK,', 'upstairs.', '5000', 'sky', 'MFL', 'GBP4.50/week.', 'terms.', 'å£1.50/msg.', 'html', 'cancel,', 'my-tone.com/enjoy.', 'MIX\\\\\"', '\\\\STOP', 'compensation', 'bandages', 'winds', 'thrown', 'really??', 'LETS', \"hasn't,\", 'merely', 'leg', 'Wherevr..', 'hurts.', 'Musta', 'Sms', 'Whenevr..', 'overdid', 'www.telediscount.co.uk', 'fri!', 'Forevr...', 'Gudnyt', 'STUDENT', 'dear..\"', 'SENT:)', 'DISCOUNT', 'Huh?', 'cannot?', 'zac', 'fats...', 'workout', 'Goin', 'harlem.', 'gently', 'mistakes?', 'forth', 'relationship.....its', 'word.....not', 'request.', 'lanka?', 'talent?', 'Studying.', 'pants.', '\\\\ME', 'Wait.i', 'underdtand', 'edge.', 'pushes', 'else,', 'cry.', 'out..', 'cooked', 'versus', 'difference.', 'weekend!', 'langport?', 'lib.', 'xin', 'Hui', 'Fuuuuck', 'those!', 'sexy...', 'xmas!', 'Pls:-)', 'go2sri', 'hun!', 'liao...Too', 'TH', 'highest', 'fun!', 'BANNEDUK', 'forums.', 'flea', 'inpersonation', 'me...ummifying...bye.', 'box245c2150pm', 'J89.', '09050000460', 'colourful', 'studies', 'anyones', 'associate.', 'rip', 'vibrant', 'study.', 'uterus.', 'go..', 'tranquility', 'stability', 'dreams...', 'already..sabarish', 'MobcudB', 'surprise!', 'family...may', 'dull', 'å£54.', 'PoBox84', 'maximum', 'vid..not', 'kano:-)', 'TOWN?', 'renewal.', 'pa?', 'life:):)', 'finishd..', 'commercial', 'Hasbro...in', 'AUGUST!', 'jump', '&Cs', '177', 'luck.', 'before,', 'hoops', 'late,so', 'morning.take', 'dreams....u', '83383.', 'å£10)', '(to', 'BIDS', 'bid,', 'å£71.', 'time..:-)', '1st4Terms', \"NY's\", 'K..then', '&XXX', 'filthy', \"100's\", 'chik.', 'Rock', 'RANDOM!', 'movie...', '2nights', 'absolutely', '4?', 'Uve', 'XCHAT,', 'Uks', 'WK?', 'wildest', 'åÔMORROW.', 'South', 'Park!', 'chat!', 'film:)', 'MAN?', 'AM!?!', 'WHERE', 'WHICH', 'GOWER', 'Craigslist', 'blank?', 'Wire3.net', 'FILTH', 'cbe.', '9061100010', 'doggin', '50%', 'chennai.', '420', 'Din', 'sick?', 'swoop', 'Stop2', 'wenever', 'jacuzzi', '450p', 'X49.', '09065989182.', 'From:', '08701752560.', '[colour=red]text[/colour]TXTstar', 'Blank', '9YT', 'E14', 'Blank.', 'Saristar', 'treadmill', '69669.', 'bawling', 'TAJ', 'stuffs.', 'L8R.', 're-met', 'nichols', 'lubly!', 'Rs.5', 'BOYFRIEND.', '087147123779am-7pm.', 'dealing!', 'Sends', 'geting', 'webadres', 'www.rtf.sphosting.com', '69101.', 'Text:', 'S:)but', 'luck.2', 'guaranteed!', 'Hotel', 'Flight', '<fone', 'no>', 'catches', 'down:)', '08715203656', 'specify', 'domain', 'XXX\\\\\"\"', 'SI', '26/10/04', 'Velusamy', 'soc...', 'ar...', 'morning:)', '\\\\OH', 'k:)', 'bsn', 'FUCK.', 'JUSWOKE', 'advising', 'account..', 'dat..', 'BOATIN', 'passport', 'lobby', 'confirmed', 'facilities', 'showered', 'DOCKS.', 'SLEPT', \"sir's\", \"er'ything!\", 'WID', 'OLD.', 'SPINOUT!', 'GOSSIP', '42049', \"VALENTINE'S\", 'booty...', 'assessment', 'wifes.', 'also?', 'bari', 'hudgi', 'yorge', 'wife,', 'Someonone', 'service!', 'pataistha', '09064015307', 'BOX334SK38ch', \"Shahjahan's\", 'ertini', 'first,', 'tke', 'facts', 'known', 'lesser', 'symbol', 'care..', 'tease', 'MAHAL', 'temales', 'Thank.', 'failure', 'Shahjahan', 'habit..', 'nusstu...', 'vale', 'Oh...i', 'OK.', 'Haha...take', 'pouch?', 'Nope,', 'realise', 'chat..', 'bother.', 'Started', 'YEARS', 'loverboy!', 'aha', 'uworld', 'ok..come', 'site.', 'qbank', 'Hari-', '-The', 'LOVE?:-|', 'failing', 'Hell', 'studying?', 'arises', 'Question', 'Kent', 'adi', 'youwanna', 'kent', 'blessings', 'appeal', 'lor...We', 'dinner,', 'reassuring,', 'thriller', 'director', 'goodnight.', 'mac', '8.30.', 'Machan', 'elephant', 'shove', 'um', 'ass!!', 'cr', 'films.', ':-):-)', 'oredi?', 'le..u', \"mei's\", 'reformat.', 'facebook,', 'Mah', 'b,', 'referin', 'maga..', 'usual...', 'plumbers', 'young', 'wrench', 'borrow?', 'http://www.e-tlp.co.uk/reward.', 'bcum', '20%', 'endless', 'revealing', 'pookie', 'mouth', 'well?', 'identification,', 'text!', 'diddy', 'neighbor', 'toothpaste', 'av', 'one,ta.', 'poking', 'Perhaps', 'everyday', 'canada', 'abi!', 'suntec...', 'spoken.', 'aft?', '88039.SkilGme.TsCs087147403231Winawk!Age16+å£1.50perWKsub', 'you....dear.with', 'pie!', 'MAYBE', 'WOKE', 'boundaries.', \"WOULDN'T\", 'PROBLEM.', 'love.rakhesh', 'limit.', 'NRI', 'measure.', 'X2', 'ItåÕs', 'deserve.', 'Sleep', 'treat,', 'asus', 'liao...So', 'gd,', 'OKDEN', 'adventuring', 'system.', 'Compliments', 'HUNNY', 'UIN', 'WK', \"tantrum's\", 'SAT?SOUNDåÕS', 'LIKEYOUR', 'irritation.', 'effect', 'HAVIN', 'GR8FUN', 'J!', 'chief,', 'june.', 'Gsex', 'UP.YEH', 'kodthini!', 'kano;-)', '\\\\SHIT', 'BABE..', 'THASA', 'MESSED', 'late!', '2667', 'ASKED', 'TEX', 'MECAUSE', 'WEREBORED!', '3XX', 'WC1N', 'disappointment,', '26/11/04', '49557', '09053750005', 'colany', 'saibaba', 'smiling..', ':-)keep', 'describe', 'miles', '310303.', 'opened', '08718725756.', '140ppm', 'difference..?', 'smiles', 'Miles', 'onwards...', 'batch!', 'solved!', 'UPDAT', 'Common.', 'COUNTINLOTS', 'XXXXX.\\\\\"\"', 'Yo!', 'Declare', 'L', 'tagged', 'BETTER', 'casing', 'CAUSE', 'chic.', 'USED', 'OTHERWISE', 'challenge?', 'hdd', 'de.am', 'Apo', 'asked.', 'ding', 'back..', 'cute:)', 'luvd:*', 'lucky;)', 'Hmmmm?', 'negative', 'None?', 'chgs', 'them..:-P', 'Funny', 'positive', 'volcanoes', 'erupt,', 'tsunamis', \"mummy's\", 'Dhoni', 'frndshp', 'title.so', 'li', 'feng', 'reservations.', 'swimsuit', 'lecturer', 'friendship:', 'hai...', 'K52', 'win:)', '09064017295', 'Holby?!', 'stressful.', 'Squeeeeeze!!', 'command...', 'hug..', 'arise,', 'hurricanes', 'sway', 'person;', 'www.shortbreaks.org.uk\\\\\"\"', '2025050', 'K:)k..its', 'good:)when', '0121', 'lasagna', 'vodka...', '7pm', '45', 'breaks', 'sparkling', '\\\\For', 'going,', 'drunk!', '......forward', 'four,', 'slide', 'treasure', '09050000332', 'holiday!', 'RingtoneåÁ', 'wml?id=820554ad0a1705572711&first=trueåÁC', 'http//tms.', 'aroundn', 'www.gamb.tv', 'lighters', 'belong', 'Natural', 'disasters', 'wot?', 'Gyno', 'loud', 'tai', 'repeating', 'conditions?', 'Ron', 'pin?', 'alive....', 'bread', 'windy.', '09066358361', 'Y87.', 'mahal', 'stop..', 'Yes...', 'know:)this', 'tirunelvai', 'dusk', 'solve', 'tonight!', 'puzzles', 'divorce.', 'BOUT!)xx', 'TALKIN', 'HAV', 'coccooning', '06/11/04', 'correct.', 'mus', 'asap?', 'YEAH,AND', 'NEWQUAY-SEND', '1IM', '40411', '08719899229', '07808247860', '!1', 'WHILE', 'GONE(U', 'X29.', '09065989180', 'stairs', 'earning', 'dick', 'Sup,', 'do..', 'recycling:', 'twice-', 'bong', 'rhode', '08448350055', 'max.', 'time!;-)', 'morning..', 'motor', 'Toledo.', 'yeovil', 'Ofcourse', 'PlanetTalkInstant.com', '*phews*', '83338', \"thangam.it's\", 'mistake.', 'need...', 'tip', 'tamilnadu..then', '8Ball', 'SPIDER', \"C's.\", '(å£4.50)', 'Spider-man', 'Ultimate', 'Marvel', 'eggs', 'lot..i', 'eerulli', 'mutai', 'Hogli', 'answered:', 'at!', 'Fine.', 'Jordan,', 'abroad', 'lonely,', 'xxSP', 'stopCost', '08712400603', 'agent', 'Mob!', 'goodies!', 'MAT', 'april.', 'Ay', 'sat?Ì_', 'K..k...from', 'considering...', 'participate', 'available!', 'fine!\\\\\"', 'Gudnite\"', 'topic..sorry', 'that..', 'date?', 'Webpage', 'Yeesh', 'Gopalettan.', 'unsubscribed', 'services.', 'hunks', 'http://gotbabes.co.uk.', 'subscriptions.', 'all,', 'salesman...', 'Apart', 'steal', \"'Wnevr\", 'Bye.', 'importantly,', 'process?', 'Holding', 'tightly.', 'Dad.', 'fal', '4years', 'books,', 'fals', 'accent.', \"me..!''\", 'Yen', 'madodu,', 'hit.', 'Others', 'recently.', '*deep', 'Isaiah.=D', 'Hoping', 'BORING.', 'lowes.', 'penis.', 'expert', 'heap.', 'dental', 'dump', 'S.s:)i', 'thinl', 'exam.', 'nmde', 'sachin.just', '\\\\\"She', 'smiled', 'pretsorginta,', 'life?\\\\\"', 'Jokin', 'pleasure...', ';-)', 'lennon.', 'bothering', 'answers.', 'bitching', 'crab', 'shore..The', 'waves', 'suggestions?', 'crab..', 'Crab', 'asked:', 'footprints?', \"Don't4get2text\", 'portal.', 'payment', 'selflessness.', 'lifeis', 'daywith', 'thoughts', 'somewhereSomeone', 'tosend', 'greeting..', 'plenty.', 'wasting.', 'lady.', \"\\\\don't\", 'initiate\\\\\"', 'understand\"', 'game?', 'tallent', 'So...any', 'Pity,', 'Waves', 'O2:', 'yeah?', 'H&M', 'Friday,', 'wait.', 'name,', '2.50', 'REMINDER', 'å£750', 'Become', 'slob-', 'wait,', 'Awesome', 'answer:', '\\\\how', 'impossible.', 'However', 'replied:', 'summon', 'fox', 'off:)', 'frndsship', 'dwn', 'GUD', 'Slaaaaave', 'esplanade', 'range.', 'anymore?', 'å£33.65', 'bad!', 'NOW1!', '087187272008', 'appendix', 'nav', 'nammanna', 'agalla', 'Ic.', 'fuckin', 'BILL.', 'pre', 'MEGA', 'L8ER', 'AGAIN!', 'SED', 'sacked', 'ever,', 'SERVs', 'by?', 'LookAtMe!:', 'clip', 'CUST', 'MINS.', 'sexy!', 'photos.', 'Poly/200p', 'Small', 'desk', 'mouse', 'walmart,', 'Armand', 'DAYS.', 'roger.', 'auction:)punj', 'BAILIFF', 'DUE', 'tiwary', 'str8', 'Classic', 'Polys.', 'Nokia/150p', 'LookAtMe!,', '35p.', 'better?', ':)going', 'CHATLINES', 'INC', 'VAT', 'CANCEL', '3MOBILE', 'patent.', 'only.don', 'MSGS', 'Boy;', 'aids', 'Hogolo', 'kodstini', 'Agalla', 'madstini', '150P', 'RECD', 'MMSto', 'twat', '32323.', 'INCLU', 'barred', 'Q', 'stores', 'life!?This', 'dungerees', 'fun?', 'decking?', 'punch', 'in!!', 'mentionned', 'chinese.', 'porn!', 'durban', 'childporn', 'units', 'records.', 'emigrated', 'kane', 'hopeful...', 'Olol', 'Tho', 'replacement.', 'Yeh.', 'stagwood', 'winterstone', 'victors', 'influx', 'Address', 'jp', 'mofo?', 'Pathaya', 'staff.science.nus.edu.sg/~phyhcmk/teaching/pc1323', 'home.love', 'he.', 'LORD', 'calculation', 'Pshew...missing', 'pretsovru', 'alwa....!!:)', 'eveB-).', 'window:-)', 'RINGS:RETURN', 'shud', 'KING', 'NOW!REPLY', 'Mite', 'Chance', 'soundtrack', 'StdTxtRate.', 'enketa', 'sudden', 'barring', 'Cute', 'blog.', '28th', '06.', 'shirts,', 'wear.', ';V', 'got.', 'case.', 'footie', 'Phil', 'Neville?', 'park...', 'Abbey!', 'returning', 'announced', 'cashed', 'maraikara', 'deep.', \"pa'\", 'priest', 'lousy,', 'dead...', 'hrs.', 'reserves', 'spiritual', 'walkabout', 'intrude', 'Cribbs', 'belt,', 'hun', 'hat,', 'jumpers,', 'chickened', 'boobs.', 'openings', '80878', 'pic.', 're-send.', 'Uhhhhrmm', 'website', '08715705022', 'enuff', 'mb...', 'gbp/sms', '600', '400', 'Inclusive', 'delTOMORROW', '09066368470', 'Welcome!', 'http//www.gr8prizes.com', 'didnt.', 'obey', 'spacebucks', 'CRISIS!SPK', 'IKNOW', 'WELLDA', 'PERIL', 'maintaining', 'me.Remove', 'STUDENTFINANCIAL', 'L8R.\\\\\"\"', \"weather's\", 'hill.....', 'monster!', 'though!', 'too.Pray', 'squeezed', '0207-083-6089', 'begin.', 'e.g', 'woould', 'wk.TXT', 'pause', 'callback', 'orno', 'fink', '09099726553', 'promised', 'CARLIE', 'Callså£1/minMobsmore', 'LKPOBOX177HP51FL', 'okay...', 'youPhone', 'atHome', 'chat.\\\\\"\"', '151.', 'leading', 'Care:', 'texts/weekend', 'å£s', '68866.', 'PSP', '24M', 'Freemsg:', '1-month', 'calls!', 'SmartCall', 'Subscriptn3gbp/wk', 'camera/video', '8800,', 'Help:', '08448714184', 'Stop?txt', 'landlineonly', 'gr8prizes', 'COOL...', 'DAS', 'chillaxin,', 'tear....\\\\\"\"', 'resizing', 'finished.', 'STAR', 'Ooooooh', '09066364349', 'Box434SK38WP150PPM18+', 'opposed', 'ajith', 'K...', 'sunday?', 'MSG:We', 'NITE!!', 'shortcode', 'FIGHTS.', '83332.Please', 'shuhui?', 'Wun', 'yoville', 'counts', 'phone:)', 'oni.', 'postponed,', 'stocked', 'pa..', 'doing!', 'tiime', 'interviews.', 'tears.', 'asda', 'fml.', 'mega', 'smoke,', 'afternon,', 'Soon', '08081263000', 'refunded.This', 'least,', 'Prize.', '09058095201', 'Heehee', 'arithmetic', 'percentages.', '5.IåÕm', 'honey.', 'dreading', \"'An\", 'nights', \"Quote''\", 'babes.', '\\\\Sometimes', 'wrong!!', 'knackered', 'thou', 'somerset...', 'Lands', 'forgt', 'far!', 'overtime', 'nigpun?', 'dismissial', 'helps', 'suggestion', 'floating', 'problems?', 'test:-).', 'screwd', '08712402972', 'cooking', 'Bull.', 'jack', 'say/ask', 'helpful', 'notixiquating', 'door:)', 'knickers', '01223585236', 'Nikiyu4.net', 'accident', 'a30.', 'divert', 'wadebridge.I', 'brilliant', 'K..', 'vill', 'nb.', 'slacking.', '2,', 'program.', 'bathe.', 'thk.', 'Junna', 'books', 'laxinorficated', 'filling', 'bambling', 'entropication....', 'oblisingately', 'opted', 'masteriastering', 'Opinion????', 'amplikater', 'fidalfication?', 'champlaxigating,', 'atrocious..', 'Wotz', 'office..still', 'orc', '4...', \"ryan's\", 'upcharge.', 'ended.', \"Wherre's\", 'phone750', 'prospects.', '8-hr', '*a', 'resolution.', 'yetunde', 'reply.Be', 'frank...good', 'windows', 'logoff', 'sound..', 'parkin', 'paragon...', 'Inform', 'waiting.', 'figures,', 'astrology....', 'select', 'white?', 'bottle.', 'seeking', 'sheets.', 'difficult...;-)', 'bus!', 'day:)except', 'sunday..', 'Being', 'jogging...', 'naughty...', 'Guai...', 'forms.don', 'Nowadays', 'pretend', 'mentor', 'cantdo', 'anythingtomorrow', 'myparents', 'aretaking', 'outfor', 'meal.', 'Lol,', 'Katexxx\\\\\"\"', 'coincidence?', 'india', 'level', 'these.', 'record:)', 'gate?', 'Charles', 'Ok.,', 'mins,', 'Sending', 'occasion', 'hypotheticalhuagauahahuagahyuhagga', 'brainy', 'helping.', 'fighting', 'STUDY', 'sane.', 'Celebrated', 'Christmas...', 'Reflection', 'UR...', 'Values...,', 'Desires...,', 'Affections...&amp;', 'Traditions....', 'uh,', '89105.', 'free!', 'la,', \"we'd\", 'ecstacy.', \"8'o\", 'Mon', 'erotic', 'okie', '09095350301', 'MESSAGE.', 'western', 'chinese', 'food...', 'prefer...', 'percent', 'incident..', 'pending.', 'attempt.', 'Extra', 'superb', 'dating:i', \"t's\", \"c's\", 'lingerie', 'www.bridal.petticoatdreams.co.uk', '08717507382', '13/4/04.', 'inst', 'dept.', 'Brought', 'WeddingFriend', 'board', 'overheating', 'reslove.', '07090201529', 'officer', 'barolla..', 'yck', 'flew', 'diet', '330.', '1120', '1205', 'gal...', 'mind?', 'askd..', '\\\\wylie', 'justify', 'siva..tats', 'k..sry', 'shit\"', 'little.', 'Meds', 'window', 'Calling!', '09058094583', 'block', 'NIC', 'CHECKIN', 'tix', 'NUMBER-SO', 'IT?T.B*', 'help!', 'house,', '09058097189', 'armenia', 'attention', 'pub/cafe', '15:26,', 'swann', 'howard', 'confirmed?', 'story)', '(long', 'tough,', 'everyones', 'broth', 'babysitting', 'coast', 'East', \"It'll\", 'GONNAMISSU', 'Vatian', '2morrowxxxx', '4eva', 'MUCH!!I', 'WOULD', 'SEND', 'BUTTHERES', 'ramen', 'Rgds', 'fowler', 'light!', 'comes..', 'comes,', 'really.', 'hunt', 'GOODMORNING:)', 'leona?', '5226', 'Adrian', '?350', 'hava', '1131', \"RCT'\", 'THNQ', 'slave!', 'Mode', \"biola's\", 'MEREMEMBERIN', 'owe', '7732584351,', 'cops', 'Tb', 'stolen,', 'toilet', 'pendent?', 'receipts.', 'hour.', 'shop--the', 'think???', 'efreefone', 'legitimat', 'on-edge', 'Raviyog', 'Peripherals', '44', 'ex?', 'on:)', 'talks', '08718726978', 'city.', 'drove', 'chick', 'Except', 'lift...', 'What????', 'HU.', 'guidance.', 'require', 'choosing', 'shore', 'through.', 'navigate', 'bhayandar', 'east', 'sunoco', 'fatty', 'cooked.', 'worc', 'Sar', 'diet?', 'Everyday', 'youdoing', 'interview?', 'shrub', 'Badrith', 'chennai:)i', 'us:)no', 'mate...', 'leave...', 'fne', 'foregate', 'watch,', 'howard?', 'eating.', 'MOON', 'STARS', 'musical', 'Peaceful', 'Sleep.', '(18+).', '32000', 'get4an18th.', 'plate.', 'leftovers', 'Hang', 'much!', 'Food', 'starving.', 'ABOUTAS', 'ASTHERE', 'madoke', 'Fml', \"yetty's\", 'cream...', 'Per', 'theory', 'book?', 'may.', 'jiayin.', '09050000928.', 'kisses', 'GAS', 'STATION.', 'THERE.', '*covers', 'kisses*', 'walmart.', 'batsman:-)', 'hundred.he', 'prometazine', 'spaces.', 'supose', '5mls', 'much.i', 'babysit', 'there.xx', 'since.', 'embassy', 'hardcore', 'work...', 'painting?', '11?', 'lightly,', 'syrup.', 'checkboxes', 'well!i', 'Franxx', 'English', 'carly', 'ing', 'someone....that', 'express', 'tuesday', 'TRUE:', 'HARD', 'cinema.', '3miles', 'bffs', 'Brainless', 'Doll..:-D;-),', 'vehicle', 'sariyag', 'respectful', 'taxi.', 'Minimum', 'brolly', 'Babes', \"U're\", 'welcome...', 'Caught', 'baby.', 'talk?', 'brand?', 'evening...', 'slurp!', 'seperated...!\\x8eö´\\x89Ó_??\\x8bÛ¬ud', 'emailed', 'yifeng', 'oredi..', 'him..', \"they'll\", 'office?', 'ice.', 'OFSI', 'craving', 'ee', 'janarige', 'ivatte', 'kalisidare', 'olage', 'ondu', 'keluviri...!', 'Maretare', 'inde', 'dodda', 'problum', 'nalli', 'siguviri', 'idu', 'matra', '7-Mahaveer', '6-Ramaduth', '5-Sankatmochan', 'pocay', 'BREAKIN', 'CONTRACT!!', 'Yaxx', 'Ee', 'poortiyagi', 'wocay', 'Nite', '4-Pavanaputra', 'odalebeku:', 'Hanumanji', 'album', '1-Hanuman', '2-Bajarangabali', '3-Maruti', 'true..', \"when's\", 'traffic.', 'gei.', 'Hyde', 'then?', 'opps,', 'feed.', 'confused...', \"tt's\", 'happend', 'MORNING!', 'tron.', 'dl', 'selfish', 'worries,', 'spiffing', 'workage.', 'Huh...', 'TALKED', 'neglet.', 'forgets', 'victoria', 'Gr8.', 'nite...', 'NUMBER', 'Set', 'singapore', 'Day!', 'me:', 'bishan?', 'Daddy,', 'INTO', 'TROUBLE?', 'yijue?', 'IJUST', 'stones,', 'ALETTER', 'diamonds.', 'Emotion', 'page...', 'fgkslpo', 'Exorcism', 'fgkslpoPW', 'Emily', 'snogs!', 'sms.shsex.netUN', 'Videos', 'Out', '\\\\\"How', 'gooD', 'capacity', 'second,', 'smaller', 'Evry', '0871277810710p/min', 'Drink', 'POBox84,', 'C-IN', 'AD', 'Persian', 'chess', 'WKEND', 'LOOKIN', '4WARD', '\\\\Checkmate\\\\\"', '09058091870', 'JAZ', 'shy!', 'admission', 'defer', 'reply,', 'interesting', 'paper?', 'prescription', 'kill', 'Words.Evry', 'Poop.', 'hugging', 'both.', 'sweater', 'Predicte', 'mango', 'irritating.', 'Honey,', 'involved', 'Anytime', 'del', 'å£600.', 'question:', 'Complete', 'landmark,', 'Wtf.', 'lane.', 'parantella', 'Drop', 'loosing', 'Prayrs..', 'Second-', 'Smile,D', 'u.Othrwise', 'First-', 'Stay', 'sandiago', 'situations:', 'u.So', 'happy..', 'Ujhhhhhhh', 'shipped', 'reaching...', 'HOPEU', 'ME.', 'TEXD', 'NITW', 'ALSO', 'å£1.', 'lavender?', 'manky', 'themes?', 'scouse', 'steve,like!', 'Rats.', 'travelling', 'home.wot', 'inmind', ':-):):-):-):-).', 'recreation', 'Po', 'day..:)\"', 'hill', 'Care..:-)', 'TXTAUCTION.', '1Cup', 'tonite.', 'burns', 'Leaf/Day=No', 'Cancer.', '1Lemon/Day=No', 'Fat.', 'Milk/day=No', 'Snd', 'Bone', 'Problms', 'Litres', 'Watr/Day=No', 'pee', 'Diseases', 'gym.', 'Goodmorning..', 'dead..\\\\\"', 'smokes,', 'smiling?', 'Fun', 'fact:', 'although', 'eventually', 'tolerance', 'fucked', '\\\\\"Shah', 'hits', '0789xxxxxxx.', 'phrase', 'HELLOGORGEOUS,', 'CHARGE', 'LST', 'dear?y', 'save.', 'Ha!', 'Hi:)did', '\\\\\"the', 'seemed.', 'means;', 'judgemental....i', 'fridays', 'best?', 'waheeda', 'Rent', 'half-8th', 'Maat\\\\\"', 'rs.', 'bot', 'notes', 'got...', 'Big,', 'Brb', 'that.i', 'repeat', 'was.', ':-/', 'Shola', 'medicine', 'SEEN.', 'BEAUTIFUL', 'department,', 'secretary', 'pop', 'Sagamu', 'lautech.', 'vital', 'completes', 'education', 'complacent...', 'COMMON', 'ROOM', 'ignoring', 'Sen', 'go..a', 'miwa', 'finance', 'Cheers,', \"S.i'm\", 'christmassy', 'ready,', 'Baaaaaaaabe!', 'mina?', 'plans?', 'RECPT', '1/3.', 'Ringtone.', 'processed...', 'zealand.', 'qet...', 'punishment', 'FRIENDS', 'surf...', 'subscribers', 'G.B.', 'ENTER.', 'lotz', 'well.you', 'lonlines', 'atlast', 'built', 'reLation', 'watever', '1172.', 'show?', 'Whens', 'email:)', 'browser', 'memories!', 'dial', 'CHEERS', 'Hi..i', 'GAILxx', 'CAME!', 'SHAME', 'GOODNITE', 'LOU!', 'Other..', 'words,', 'CLoSE', 'feeling..', 'UNDERSTaND', 'Other...', 'TRUE', 'STaY', 'jiayin', 'snowboarding', '8000930705', 'cardiff', 'miserable', 'Ben', '?.', '83738.', 'consent', 'forms', 'TONEXS', 'renewed', 'www.clubzed.co.uk', 'www.santacalling.com', '*BILLING', 'MSG*', '30s', 'Calls1.50ppm', '09077818151', 'total', 'C.', 'Barry', 'limping', 'poorly', 'oga.', '06.05.05', '08719180219', '078498****7', 'aa', 'Er,', 'B.', 'fired?', 'nervous', 'paperwork', 'A.', 'quarter,', 'Bob,', 'Eve?', 'calling!', 'crazy..', 'statement,', 'edwards', '-call', 'Indeed', 'anderson', 'nyc!', 'haunt', 'hsbc.', 'Holy', 'promoting', 'hex', '.by', 'Joke', 'crowd', 'senthil', '09066649731from', 'flies,', '09061702893', '9ja.', 'Swayze', 'Patrick', 'Dolls', 'Guys', 'Saw', 'resume:-)', 'nothing,', 'mth', 'can\\x89Û÷t', 'Mathews', 'tait', 'outside.', 'heavily', 'opposite', 'RITE.', '1Tulsi', 'Doctor.', 'price...', '7.Romantic', '6.Cruel', '5.Terror', 'Aah!', 'lush!', 'Innocent', 'Waste', 'soup', 'Smiling', 'fumbling!', 'swashbuckling', 'stone', 'dokey', 'rents?\"', 'taunton.', 'BBDELUXE', 'å£5', 'T-Mobile.', 'jewelry,', \"Dip's\", 'must.', 'blur', 'blur...', 'Can?', 'clothes,', 'Block', 'graphics', 'Breaker', 'deluxe', 'features', '.joker', '9.decent', '8.Lovable', 'weekdays', 'Cut', '1Apple/Day=No', 'nails', 'TOBED', '430', 'Beauty', 'pimples', 'connections', 'Skip', '150p/MSGRCVD', 'Service.', 'Subscription', 'those?', 'asthma', 'MESSAGE**Thanks', '**FREE', 'lovly..', 'attack,', 'NITE', 'FUCKED', 'STIL', 'Loooooool', \"Wasn't\", 'wat,', \"nobody's\", 'couch\\\\\"', 'asia.', '\\\\sleep', 'trip!', 'CustomerCare', 'Shit,', 'Oh!', 'fire', 'lit', 'clas..', 'play..i', 'dead.', 'calculation.', 'method', 'mean.', 'Detroit.', 'abdomen', 'Show', 'antibiotic', 'colours!', 'Euro', '2-4-1', 'Flag', '3Lions', 'info!', 'toshiba', 'When/where', 'asap', 'crisis', \"tyler's\", 'Safe', 'numbers,', \"ugo's\", 'random.', 'infections.', 'FREEMSG:', 'bone', 'infections', '3750', 'garments', 'Sez,', 'bimbo', 'arab', 'evry1', 'eshxxxxxxxxxxx', 'LAY', 'MAN!', 'gynae', 'pie', 'list.', 'lists.', 'careless.', 'Pete!', 'gprs', 'repeat,', 'Loosu', 'feelin', 'De', 'eighth?', 'polyphonic', 'gek1510...', 'freaking', 'MySpace', 'Texting', 'logged', \"PARTNER'S\", 'ringtones.', 'Wuld', 'differences...', 'portege', 'characters...', 'happiest', \"world's\", 'www.SMS.ac/u/hmmross', 'NO-910.', 'YES-910', 'lyricalladie(21/F)', '69669', 'm100', 'gd?', 'welp', 'mayb?', 'semiobscure', 'PASS', \"'HEART'...\", 'Ball', 'weapon', 'thesmszone.com', 'type.', 'billy', 'jogging,', 'concert?', 'Awww', 'xxx.', 'useless', 'loo', '08715203652', 'hello-ed', 'manageable', 'california', '....photoshop', 'swollen', 'glands', 'available?', 'TA', 'magazine,', 'avenue', 'masked', 'messages..im', 'there..do', 'abuse???', 'Erm...', 'Woodland', 'somewhere.', '42810', 'inshah', 'parish', 'too.pray', 'hotel...', 'Hmmm....', '29/10/0', 'big?', 'together!', 'Yay', 'view', 'WEEK+', 'BCK', 'DAN', 'S...i', 'only:)', 'gautham?', 'gays', 'AV', 'dual', 'PETE,', 'hostile', 'haircut.', 'breezy', 'BEST', 'WONT', '2GEVA', 'report.', 'STU', 'WEEK.', 'room:)', 'speak,', 'THAN', 'bcaz', 'LONGER', '2.IM', 'HELL', 'TRUBLE', 'AGAIN.', 'MOMENT', 'EVONE', 'HATES', 'EVEN', 'anonymous', '08712402578', 'powerful', 'OJA', 'saves', 'say!', 'relation', 'quiet', 'nothin', 'relation..', 'eveB-)', 'Science', 'bomb', 'BCoz,I', 'pussy!', 'audiitions', 'stretch', 'relocate.', 'pocked', 'somtimes', 'breathing', 'dem.', 'million', 'lot.will', 'spin', ':)so', 'bat:)', 'Haiyoh...', '\\\\Response\\\\\"', \"aunty's\", 'bud,', 'glad.', 'dreams.', 'finally...', 'URGENT.', '02', 'prsn', 'Congrats.', 'motivating', 'gre', 'drunk', 'Gain', 'less.', 'instead???', 'winning.', 'increase', 'G.W.R', 'S.this', 'bullshit', 'joys', 'Kit', 'Strip', 'Ashley', '1013', 'IG11', 'wife.dont', 'yelling.', 'sharing', 'texas', 'me.........', 'care:-)', 'brison', 'language', 'Okay,', 'problem,', 'thanx!', 'caps.', 'carolina', 'north', 'information,', 'too.Lets', 'spelled', 'it.i', 'life.you', 'conversations', 'albi', 'avin', 'IT.(NOW', 'READ', 'BACKWARDS)', '*whispers*', 'contented', 'police', 'abstract?', '...*deep', \"vikky..i'm\", 'torch.', 'you*', '*snuggles', 'g?', 'hiya', 'Mmmmmmm', 'POINT', 'REALISE', 'TALKING', '3.U', '\\\\\"1.U', 'giv..its', '2.U', '2bold?', 'bold,', 'package.', 'Wif', 'PISS', 'healthy.', 'error.', 'your\"', 'on...', 'Gettin', 'rdy', 'africa?', 'Anytime...', 'Sry', 'i\\x89Û÷ll', '300603t&csBCM4235WC1N3XX.callcost150ppmmobilesvary.', '07808726822', '50\\\\\"\"', 'slowly.', 'sugar.', 'behind...', 'complete.', 'Abt', 'rows', 'ending,', 'review.', 'Surly', 'try,', 'Hmmm.but', 'Eatin', '09071512432', 'å£1000CALL', '\\\\URGENT!', '4217', 'laugh?', 'dokey,', 'CHIT-CHAT', 'Logon', '8883', 'CM', 'dumb', 'THATåÕSCOOL', 'W1A', '0871-872-9758', '6ZF', '118p/msg', '\\\\CHA', 'QUITEAMUZING', 'kano..anyway', 'love:', '\\\\SYMPTOMS\\\\\"', 'surrender', 'coach', 'TASTS', 'smells', 'fat!', 'duvet', '(not', 'predictive', 'word).', 'Hiya.', 'clothes', 'CAKE', 'Ready', 'PEACH!', 'HELLO', 'clearer..', 'Urgh,', 'appreciated)', 'LUSH!', 'ask...', 'activ8.', 'POST,', 'TELLMISS', 'Normally', 'daily:)', 'Dare', 'car?', 'greatly', \"Party's\", 'Golf', 'Rayman', '(but', 'GAME.', 'contribute', 'sections', 'Okie,', 'haha...', 'brother\\x89Û÷s', 'Deliver', '24th', 'sept.', 'misfits', 'barrel', 'scraped', '\\\\Hey!', 'share...', 'cha', 'lil', 'beverage', 'v.pist', 'Big', 'salary..:-);-)', 'enuff...', 'eyes...', 'meet?', '4uTxt', 'Her', 'care,', 'moby.', 'pic?', 'chat?Im', 'w8in', 'success', 'weight', 'lazy...', 'switch', 'lunch:)', 'url', 'S:)8', 'Ì_..', 'da..jst', 'bw', 'us.GET', 'contains', 'ennal', 'robinson', \"'That\", 'genus', 'Ladies', 'Cancer', 'mns', \"is'LOVE'\", 'me....\"', 'blowing', '7634', '7684', 'difficult:)', 'Everybody', 'adventure', 'prakasam', 'sneham\\\\\"', 'prakasamanu', 'ceiling.', 'Nvm...', 'shoes', 'anyway...', 'SHOWR', 'Received,', 'upon!', 'outs', 'neekunna', 'presnts', 'name..', 'bcz', '\\\\jeevithathile', 'Not..tel', 'irulinae', 'bit?', 'gay.', 'mb.', 'firmware', '21/11/04', 'hands..', 'happened..!', 'decades..!', '48922', 'BEER', 'PETROL!', '08718738002', 'ettans', 'goverment', 'Prasanth', 'spice', 'expects', '\\\\DRINK\\\\\".', '\\\\\"DRIVE', 'btwn', 'chennai?', 'Doctor', 'hide', 'hair...', 'vijaykanth', 'FIZZ.', 'APPY', 'captain', 'tv..he', 'anythiing', 'India:-):', 'Havent.', 'ripped', 'www.clubmoby.com', '08717509990', 'poly/true/Pix/Ringtones/Games', 'keypad.', 'bottom...', 'MQUIZ', 'Australia?', 'REALY', 'freak!', 'chop', 'off:-)', 'Noooooooo', 'Ref:9280114', 'fair.', '07099833605', '09065171142-stopsms-08718727870150ppm', 'bit,', 'missing,', 'firsg', 'split', 'wasnt', 'yours!', 'change.', 'common.', 'finish.', 'Chloe,', 'Iriver', '128', '255.', '....My', 'engagement', 'fixd', 'bt....hmm', 'njan', 'chapter', '130.', 'vilikkam....t', 'Wewa', 'sudn;-(.', '150p/text', 'maths', 'Full', 'heat', 'pa:-)', 'option!', 'IDIOT\\\\\".', 'roller', 'born,', '2MORO', 'MUMS', 'IMAT', 'pending', 'oxygen!', 'SOZ', 'hard?', '4.30', 'Quiz!', 'recorder', 'canname', 'resort', 'managed', 'applyed', 'msg..sometext', 'oil', 'lt...', 'airtel', 'rest?', 'virgin', 'sumfing', 'j!', 'hiphop', 'PUTTIN', 'ME!!', 'born', 'Gee,', 'nvm', 'Kaiez,', 'Termsapply', 'mate!', 'steve', 'Eyed-Dont', 'drive\\\\\"', 'weekend!)', 'archive.', 'sad...', '(Get', 'UK-mobile-date', 'Cashbin.co.uk', 'wasted', '08719839835.', '>>>More', 'mgs', '\\\\go', 'stop\\\\\"', '89123\"', 'speechless.', 'dogwood', '\\\\usf', 'www.cashbin.co.uk', 'annie!', 'denying', 'Dom', 'Roger?', 'TAMPA', 'FFFFUUUUUUU', 'båÕday,', '\\\\julianaland\\\\\"', 'mapquest', 'oblivious', \"upset--it's\", 'upset', 'mad.\"', 'dehydrated.', 'reach?', 'lengths', 'behalf', \"There'll\", 'stunning.', 'smsing', 'Wa...', 'efficient...', 'Frog-AXEL', '!This', 'Cool-Mob', 'soon.xxx', '5.15pm', ':-)only', 'Erutupalam', 'thandiyachu', 'invention', \"fly..i'm\", 'joking.,', 'No..its', 'X\\\\\"\"', 'PROPERLY', 'WENWECAN', 'CALLIN', 'visa', 'gucci', 'bags.', 'sha.', \"shit's\", 'roommate,', 'BABE.SOZI', 'F>>>', 'CULDNT', 'TALKBUT', 'WANNATELL', 'DETAILS', 'Akon-Lonely>>>', 'LATER', 'reaching?', 'away!!', 'laready', 'These..', 'fancied', 'bevies.waz', 'least...Which', '&othrs', 'spoon', '$180', 'watchng', 'planet', 'earth&sofa', 'comfey;', 'quitting', 'least5times', \"wudn't\", 'ard...Ìä', 'darlings', 'bedrm', 'skint', '($900)', 'support.providing', 'time.Your', 'senses.respect', 'assistance', 'overemphasise.or', 'Headset', '\\\\ADP\\\\\"\"', 'internal', 'to,', 'extract', 'Hi.:)technical', 'de:-)', 'god.You', 'immed.', 'pleasured', 'coast...', \"ÌÏ'll\", 'back...', 'years!!', 'snappy', 'happy!', 'risk', 'dreams..', 'grasp', 'ni8..swt', 'tea.', 'lib', 'flavour', 'adds', 'Life!', 'Laugh..', 'stressfull..', 'canteen', 'floppy...', 'uk', '$140', 'frequently', 'President?', 'advice.', 'Name', 'continued', \"I'ma\", 'sleep...', 'message.it', 'yellow', 'money?', 'cupboard', 'noe?', 'route', '2mro', 'Goodnight.', 'lyrics..', 'reckon', 'nevr', 'hostel?', 'valentine?', 'Nottingham', '63miles.', '40mph.', 'clearly.', 'mornin..', 'Thanku', 'same..', '2MORRO', 'part..', 'guessed', 'cock!', \"hubby's\", '89938', 'strings', 'wife....', 'allows', 'wife.', 'K:)eng', 'lesson,', \"xin's\", 'wining', '946', 'ashes:)', 'rocking', 'roomate', 'cooperative', 'graduated', 'beautiful,', 'intelligent,', 'caring,', 'loving,', 'adjustable,', 'action.', '(Txt', 'phonebook', 'IT?xx', 'HAVENT', 'BORED', 'HOLIDAY', 'COLLEGE!', 'SAD', 'ISNT', 'beside', 'MISSED', 'brisk', 'walks', 'tonite?', 'invited?', 'sexiest', 'dirtiest', 'shindig', 'School?', 'end,', 'LA1', 'å£1.50ea.', 'OTBox', '731', 'INDYAROCKS.COM', 'Tel)', '(Career', 'mins/texts.', 'gain', '7WS.', 'NUMBER,', 'Camera/Video', 'Jason', 'Understand.', 'interested?', 'decorating)', '(an', 'thanx.', 'algebra', 'opponenter', 'dhorte', 'beauty', 'Right?', 'show.', 'lage.', 'rule.', 'Orh', 'wins.', '\\\\Thinking', '\\\\\"oh\\\\\"\"', 'fried', 'spares', 'looovvve', 'warwick,', 'second..', 'hides', 'kintu', 'undrstnd', 'unrecognized.', 'somone', 'mistakes', 'valuing', 'definitly', 'darlin!im', 'Shopping?', 'secrets.', 'ger', 'toking', 'n8', 'syd', 'leh...Haha', 'khelate', 'realising', '\\\\woah\\\\\"', 'tmw,', 'decision?', 'GUARANTEED!', 'with:', '83355', 'Norcorp', 'k:)after', 'Ltd.å£1,50/Mtmsgrcvd18+', 'bitch?', 'offense', 'posting', 'chennai:)because', '7cfca1a', 'grumble', 'Shijutta...........', 'linear', 'possession,', 'proze', '3wks.', 'tops', 'ovulate.when', 'canceled,', \"havn't\", 'ages,', 'sometime!', 'condition..and', 'vinobanagar', '+å£400', 'cold..heard', 'dvg', 'grandma', 'parade', 'BBD..thts', 'iPOD', 'Poor', 'lmao', '6times', 'right..', '(20/F)', 'Eek!', 'born!', 'FREE>Ringtone!', 'REAL1', 'PushButton', 'DontCha', 'BabyGoodbye', 'GoldDigger', 'WeBeBurnin', 'Natalie', 'really?', 'kerala.', 'perform,', 'cards', 'flurries', 'wish!', 'this...', 'NO-165', 'Rental?', 'dear.take', 'plan!', 'www.SMS.ac/u/natalie2k9', 'cold!', 'radiator!', 'Serious?', 'suddenly', 'proper', 'tongued', 'shorts...', 'qi...', 'YES-165', 'izzit', 'raining?', 'rebooting', 'Barkleys', 'Nigh', 'perumbavoor', 'STRIKE', 'RED', 'ONE.', 'BIRD', 'ANTELOPE', 'TOPLAY', 'dudette,', 'FIELDOF', 'approved..', 'SELFINDEPENDENCE', 'BELIEVE', 'CONTENTION', 'GROW.RANDOM!', 'doctor?', 'stage', 'laugh.', '(You', 'Playin', 'urself.', 'present.', 'Nooooooo', 'Cable', 'outage.', 'Sos!', 'preponed', 'me)', 'clarify', 'poker,', 'guoyang', 'Now.', 'rahul', 'dengra.', 'younger', 'babies', '26.03.05', 'XXXXX', 'e-mail?', 'fat...', 'senthil.hsbc', 'vague.', 'skyving', 'loneliness', 'accounting', 'watched', 'delayed', 'housing', 'agency', 'guides', 'opener?', 'renting', 'Hmmm.still', 'multimedia', ':-):-).\"', 'MORNING', 'hooked', 'thangam', 'WORRY.C', 'L8TR', 'HUN!LOVE', 'Yaxxx', 'Theoretically', 'of,', 'more\\\\\"', \"there're\", 'Goodnight', 'formally.Pls', 'praying.will', 'ho!', 'is-', 'managed.', 'juan.', 'presents.', 'depends.', 'Limited', 'call2optout/HF8', 'Desires-', '09061702893.', 'ic', 'confirmed...', '08701213186.', 'care.umma', 'treated?', '88888', '07XXXXXXXXX', 'Jamster!', '08719181259', 'code:', 'Unlimited', 'ok....take', 'Loads', 'liver.', 'nicky', \"Gumby's\", 'cheese', 'stylish.', '$2', 'tonight\"', 'http://alto18.co.uk/wave/wave.asp?o=44345', 'steps.', 'sized', 'Same,', 'tarpon', 'springs', 'Cab', 'available.they', 'Gnarls', 'adsense', 'exposed', 'nachos.', 'ringtoneking', '84484', 'have?', 'Nationwide', 'k.its', 'that)', 'Mileage', 'Newport', 'Whatever,', \"olayiwola's\", 'camry', 'juliana.', 'Sort', 'toyota', 'www.ldew.com1win150ppmx3age16', 'landing', 'BLOKES', 'NEEDS', 'DREAMZ', 'Reason', 'unsold', 'achan,amma.Rakhesh.Qatar', 'rate..', 'CERI', 'REBEL!', 'LITTLE', 'sell.', 'BUDDY!!', 'id.convey', 'number.pls', '2MORO!', 'clover', 'Holla', 'xt', 'eta.', '\\\\Crazy\\\\\"', 'Dizzamn,', 'gift?', 'baller.', 'head,', 'Hmph.', 'else...', 'Esplanade', 'Monday,', 'read.', 'emerging', 'fiend/make', 'much/impede', 'hesitant', 'ow', 'dey.i', '60,400thousad.i', '087104711148', 'Cine', 'treat?', 'continent?', 'Freeentry', 'suitemates', 'å£125', 'Nimbomsons.', 'Obviously,', 'cuddle!', '4u:', 'punto.', 'Looking', 'travelled,', 'ayo', 'Thurs', 'worse.', 'K...k...when', 'face...............asssssholeeee................', 'seing', \"'rencontre'\", 'Mountains', 'oso.', 'mising', 'crossing', 'bit...', 'Refused', '13/10/04', 'Code:4xx26', 'loan?', '08715203685', 'Row/W1j6HL', 'Secured', 'HG/Suite342/2lands', 'Unsecured?', 'credit?', '195', 'along.', 'deepest', 'darkest', 'inconvenient', 'TOTALLY', 'now!\"', 'borderline', 'Until', '545', 'vl..do', '09094646631', 'fantasies.', '??', 'early,', 'nightnight', 'possibility', 'HMM', 'grooved', '6669', 'will!', 'pop.', 'Expecting', 'sacrifice.', 'process', 'classes', 'nÌÂte?', 'gals...U', 'dodgey', 'tomo!', 'heater', 'recovery,', 'G,', '08714712412', 'dont....', 'Call2OptOut/674&', 'J?', 'degrees.', 'heater?', 'yest?', 'ph?', '=)', 'training:-)', 'lanre', \"fakeye's\", 'Eckankar', '150p/meg.', '\\\\3000', 'Getting', 'sarasota', 'Promo\"', 'bruv!', 'amore', 'noise', 'puppy', 'course...', 'WRONG!!TAKE', 'bugis...', '8.30', 'rs..i', 'Pink', 'rs..', 'weirdy', 'brownies', 'TheMob>Hit', 'kotees', 'cookies.', '09061701851.', 'K61.', '12hours', 'restrict', 'K.k.this', 'Audrey', '7.30', 'getiing', 'Panther', 'Sugababes,', 'creative.', 'Beer-Rs.', 'nvm,', 'Hoody', 'cash,', \"armand's\", 'bro.', 'fake..my', 'Joking', 'badass', 'animation', 'Zebra', 'reffering', 'u..if', 'link,', 'Prem.', 'age.', 'GAIL', 'god.not', 'at,', 'issue.', 'Gokila', 'out--if', 'there--', 'greece.', 'tt...', 'lor,goin', \"virgil's\", 'andre,', 'sing?', '..will', 'dysentry', 'suffering', 'end?', 'aha:)', 'Shanil,Rakhesh', 'here.thanks,i', 'irritating', 'Dino', 'jesus.', 'Can.', 'Excellent', 'her...', 'chikku..k,', 'msging', 'exams,', 'vivek..', 'stuff.leaving', '74355', 'diamond', 'uncut', 'exchanged', 'Petrol-Rs.', 'wallpaper-all', 'Onion-Rs.', 'India..!!', 'desert', 'something...', 'beers', 'WHORE', 'UNBELIEVABLE.', 'calm', 'Fills', '1st?', 'humanities', '\\\\get', 'warm?', 'VCo', '08715205273', '*adoring', 'responsibilities.', 'Salad', 'transaction?', 'delicious', 'spree,', 'Moral:\\\\Dont', 'muht', 'beeen', 'tohar', \"mrng''\", 'night\"', '08717895698', 'reassurance!', 'won!', 'MobStoreQuiz10ppm', 'physics', 'a-?', 'Aslamalaikkum....insha', 'Ar.Praveesh.', 'Twinks,', 'bears,', 'scallies,', 'customersqueries@netvision.uk.com', 'HAUGHAIGHGTUJHYGUJ', 'requests.', 'History', \"'Need'\", 'andres', 'hassling', 'Queries', 'Ding', 'error', \"'Comfort'\", \"'Luxury'\", 'Sold', 'resent', '-tho', 'nitro', 'forums', '4EVA', 'flood', 'skins', 'jocks', 'KISS', '08712466669', '08712460324(nat', 'londn', 'cum...', 'fassyole!', 'dr.', 'Blacko', 'beads', 'Ever.', 'wishlist', 'section', 'worms', '!:-)', 'Amazing...', 'rounder:)so', '88039.', 'Single?', 'area!', 'Starting', 'now!Send', 'styles?', '62220Cncl', '5p', 'STOPCS', '08717890890å£1.50', '(Ranju)', 'Rajitha', 'cheese.', 'åÒHarry', 'Yep.', 'cine...', 'zoom', 'open.', 'disagreeable', '\\\\Keep', 'true..k,Do', 'afterwards.', 'lambu', 'madam.', 'Guy,', '09066361921', 'party:-)', 'å£1.50perweeksub.', '1Winawk!', 'TsCs08714740323', 'ji', 'come..til', 'batchlor', 'pink', 'number..:)', 'friends...', 'Pilates', 'pure', \"dad's\", 'hearted', 'Call2OptOut/674', 'sat....', 'his/her', 'enemies', 'show...', 'enemy..', 'smile..:)', 'SMILEY', 'that...', 'SUNDAY..:)', 'GIRL,', 'chg', 'cst', 'Ringtone!From:', 'wml?id=1b6a5ecef91ff9*37819&first=true18:0430-JUL-05', '15541', 'http://tms.', 'mustprovide', 'AccommodationVouchers', '62735=å£450', '83039', 'mumbai.', 'haf...', 'god!', 'glad,', 'xafter', 'mtnl', 'onwords', 'Afternoon', 'required:)', 'sleeps', '=Twelve', 'cuddling..', 'Deal?', 'Mother-in-law', 'auction..', 'Early', 'recount', 'bird!', 'Lies', 'Election', 'purchases', 'starer', 'rent.', 'Moon', 'authorise', 'payment.', 'Astronomer', 'Woman', 'tickets.', 'Hitler', '09061104276', 'recorded', 'someday', 'Goodmorning,my', 'grandfather', 'expired..so', 'November', 'TS&Cs', 'lotto', 'costå£3.75max', 'yuou', 'spot', 'agree.', 'Eleven', 'bunch', 'Erm', '6.45pm.', \"That'll\", 'season.', 'UAWAKE?FEELLIKW', 'today.do', 'ystrday.ice', 'chile,', 'subletting', 'feb-april', 'ammae....life', 'GOSS!x', '\\\\HI', 'steering...', 'thought,', \"anything's\", 'Mmmm....', 'excuses', 'pain.it', 'DE', 'MATE!', '4thNOV.BEHIND', 'Dirty', 'Dormitory', 'meaning...', 'rearrange', 'FUCKINNICE!SELFISH', 'OURBACKS', 'GOTMARRIED', 'GIMMI', 'THATMUM', '\\\\\"\"', 'VIA', 'SHIT.JUSTFOUND', 'HONEY?DID', 'HOLIDAY?', 'FINE', ':-xx', 'BABES', \"child's\", 'knees', 'Grazed', 'Splat!', 'toaday', 'hooch', 'nonetheless.', 'unintentional.', 'Ride', 'parent...not', 'regard', 'renewing', 'upgrading', 'handset', '3680', 'subject', 'everything!', 'tomorrow!', 'Amanda', 'isnåÕt', 'C)', 'shame!', 'now....', 'canåÕt', 'hearin', 'cornwall.', 'itåÕs', 'hont.', 'shite.', 'confirm/deny', 'kip', 'call;', 'Re', 'suite', 'nannys', 'eaten?', 'membership.take', 'Phone?', 'Feeling', 'http://www.wtlp.co.uk/text.', 'Goal!', 'dentists', 'INCONVENIENCE', 'flaked.', 'jb', 'you,so', 'Year,', 'love!!', \"joke's\", 'TERMINATED.WE', 'florida', 'wisdom', '2B', 'debating', 'planned?', 'he...', 'margin', 'fighting?', \"It'snot\", 'puts', 'parent.', 'perspective', '78', 'so...not', 'Ese', 'conveying', 'Bergkamp', 'reason..', 'yards', 'Henry', '(Henry,', 'evng.', 'yah...', '(Send', 'Day.', 'job...', 'someone.', 'chapel', 'fortune', 'allday!', 'piss', 'town.', 'liao?', 'court.', 'perf?', 'legal.', 'K..k.:)congratulation', 'outsider', 'Good!', 'receipts\\x89ÛÓwell', 'workin.', 'SPJanuary', 'posts..', 'mail.i', 'Amrca', 'Serena:)', 'varma', 'Yunny...', 'mailed', 'prescribed', 'deer', 'panalam...but', 'mountain', 'stuff?', 'loverboy.', 'frontierville?', 'meatballs', 'approve', 'done!', 'buy:)', 'started.india', 'band', 'wasn\\x89Û÷t', 'hopeing', 'Movie', ':D', 'July', 'art?!', 'england?', 'Simpsons', 'torture', 'intro...', 'film?', 'A-Green', 'B-Blue', 'C-Red', 'sisters', 'Infact', 'Match', '98321561', 'lips', '(\\x89Û_)', 'What\\x89Û÷s', 'chatting.', 'meh', 'heavy...', 'familiar', 'Ni8;-)', 'Expression', 'SEXYCHAT', 'everyone...', 'depression', 'Loved', 'ones..', 'HOSPITAL', 'LOCAL', 'hidden', 'dealer', 'this:)don', 'message.pandy', 'mental:)', 'Oi', '07008009200', 'attended', 'mw', 'tuth', 'ad.', 'xy?', 'SUPER', \"mine's\", 'FREE*', 'eviction', 'Spiral', 'da..always', 'da:)he', 'Mark.', '0796XXXXXX.', 'NR31', 'decision', 'enjoying', 'semester?', 'ORANGE', 'USER', 'DAY!2', 'gravy.', 'PoBox202', 'PRIZEAWAITING', 'first..', 'kfc', 'Tuesday.', 'meals', 'Michael', 'riddance', 'Taka', 'bookedthe', 'cricket', 'Gimme', 'dog.', 'closeby', 'da..please:)', 'skye', 'hut?', 'edward', 'beatings', 'off?', 'device', 'drastic.', 'chastity', 'vomiting.', 'uses', 'stops.', 'them!', 'friendship:-)', 'ou', 'tallahassee', 'sake', '\\\\The', 'suffers', \"fuck's\", 'months.', 'raglan', 'wrenching', 'silence', 'gut', 'people!\\\\\"', 'effects', 'Miserable.', 'lunsford', 'Wylie', 'REPORT', 'å£1.50.', 'SONY', 'miss.take', 'planned.', '0906346330.', '47', 'PO19', '@kiosk.', 't&c', '4-7/12.', 'msg+ticket@kiosk.Valid', 'Popcorn!Just', '2EZ', 'med.', 'vote?', 'sore!', '2day.love', 'dey,hope', 'swhrt', 'NHS', 'remove.', 'BORN.PLEASE', 'ACTUALLY', 'MISTAKE.U', 'MADE', 'HAS', 'INFORM', 'teams', 'REGRET', 'queen.', 'anything?', 'lag.', 'solihull,', 'mre', '@Warner', 'general', 'SWAT', 'horny,', 'friend-of-a-friend', 'cmon', 'ritten', 'wrote', \"*didn't*\", 'stops.\\\\\"\"', '*turn*', 'today.Good', 'fantasy', '-)', '\\\\I;m', '450pw', '7ZS', 'replies', 'jetton', 'clean,', 'Farrell', 'hope,afternoon', '/oz,', 'if/when/how', 'Moment', 'Colin', 'day,has', 'value-Morning', 'faith,Evening', 'rest,Wish', '83118', 'Warner', 'etc.?', 'laundry,', 'fold', 'luv,Night', 'camp', 'hlday', 'AINT', 'darkness,', 'collapsed', 'buffet...', 'flatter', 'pints', 'carlin', 'please....', 'called.', 'scared!', 'msn...', 'Ciao!', 'X49.Your', '09065989182', 'starve', 'impression', 'understand.', 'crazy.', 'Stuff', 'Thout', 'cumming', 'evenings', 'vikky,', 'olave', 'mandara', 'JADE', 'kano', 'gorgeous!', 'panties?', 'trishul', 'Woo', 'hoo', 'dude!', 'Yar...', 'DOES', 'Motivate', 'time.you', '116', 'wknd', 'trip...', 'cme.', '2morow.', 'hos', 'details!', '139,', 'LA3', '2WU.', 'å£1.50/week.', 'occurs', 'ages.', 'Prof:', 'congrats', 'Student:', 'Enna', 'xuhui', '08709501522', 'accessible.', 'me..so', 'starting.', 'nan', 'yalrigu', 'heltini..Iyo', 'kothi', 'shared', 'uttered', 'esaplanade', 'trusting', 'others..', 'me..ok,', 'chikku:-);-)B-)', 'Noice.', 'online!', 'anyway,', 'PAUL.', '[\\x89Û_]', 'moan?', 'XXXX', 'Phony', 'NOTHING!!', \"wasn't?\", 'coulda', 'channel:-):-):):-).', 'rushing.', 'Cannot', 'busy...', 'L8r.', 'tram.', 'cousin', 'vic', 'stress', 'www.SMS.ac/u/goldviking', 'everywhere...', 'essay', 'nose', '12:30', 'okday?!', 'planned,', 'THO!', 'SAW', 'SCARY', 'MOVIE', 'Eta', 'ring.', 'YEST', 'QUITE', 'FUNNY!', 'AFTERNOON?', 'MALL', 'SUMTHIN?xx', 'Discussed', 'him:', 'NO-762', 'Call.', 'BARMED?', 'REMEMBER', 'AGO.CUSOON', 'DIDNåÕT', 'HONI\\\\\"\"', 'Dial', 'Bx526,', 'Spending', 'University', 'southern', 'rayan', 'macleran', 'Balls.', 'conform.', 'TALK', 'Slept?', 'coherently,', 'Pie', 'Triple', 'YES-762', 'Echo', 'cheap:-)', 'Eek', '(29/M)', '\\\\GRAN', 'thinkThis', 'ONLYFOUND', 'AFEW', 'goldviking', 'DAYS', 'dangerous', 'pm)', 'kalaachutaarama..!!', 'Prof:????', 'mrng!', 'unconvinced', 'åÈ10', 'evey', 'stuffing', 'woot!', 'woot', '402.', 'mnth', 'prin', '\\x89Û_Thanks', 'GSOH?', 'SPAM', 'ladies?U', 'male', 'gigolo?', \"uk's\", 'sleepy', 'face!', 'answerin', '\\\\\"life', 'da:)do', 'willpower', '9-6.', '\\\\Life', 'check,', 'everything\\\\\".', '\\\\\".', 'Ahhhh...just', 'vivek:)i', 'Real', 'tho,so', 'absence....', 'up!had', 'mrng\"', 'dialling', 'advisors', 'trained', 'line--you', 'joke--thet', 'days,', 'skinny', 'Amy,', 'secure', 'Wrong', 'allah.', 'Seem', 'casting', 'care.insha', 'look.', 'hockey', 'elections', 'shouldn\\x89Û÷t', 'parties...', '09061790125', 'benefits.', '08714342399.2stop', 'Select,', 'mens', 'ortxt', 'ONCALL.', 'mjzgroup.', '7:30', 'msg@å£1.50rcvd', '<UKP>2000', 'ashwini', '08707500020', 'farting', 'tomorrow/today?', 'james', 'bored!', 'elaborate', 'mj', 'coco', 'luv.', 'Welcome.', 'DONATE', 'NoWorriesLoans.com', '08717111821', 'harder', 'NBME', 'sickness', 'round.', '87077:', 'Kick', '2wks', 'goals', 'VILLA', 'sathya', 'sathya.', 'Credit!', 'Loans', 'burden', 'TBS/PERSOLVO.', 'cme', 'sporadically', 'bc', 'Dating', '09064017305', 'PoBox75LDNS7', 'present...', '864233.', 'today...!', 'tomorrow.....!', 'forå£38', 'Kath.', 'Manchester.', 'youåÕre', 'Gam', 'smash', 'religiously.', 'hubby', '08715203649', 'dealing', 'Muhommad,', 'Penny', 'mall', 't', 'experiencehttp://www.vouch4me.com/etlp/dining.asp', '07973788240', 'fiting', 'dining', 'holder', 'load', 'abi', 'hw,keep', 'kaila', '09058094507', 'dad.', 'Chart', 'feb.', 'Soup', 'tm.', 'move,', 'fund', 'guilty...', 'Heroes,', 'donate', 'disaster', 'Ringtones', 'tips', 'Tsunami', 'Asian', \"UNICEF's\", 'motherfucker', 'Okies...', \"THESE...your's\", \"shade's\", '08707808226.', 'wearing?', 'Oh:)as', 'excited', 'different?', 'hand:)', 'parents.:)i', 'Really...', '08450542832', \"see's\", 'ago...', 'copied', 'use?', 'envy', 'notified', 'marketing', 'Information', '1stchoice.co.uk', 'Requests', 'piah', 'Catching', 'shit....!!\\\\\"', 'situation:', 'throws', 'brothers', 'bootydelious', 'HMV1', 'errors', 'difficulties,', 'correction.', '-PLS', 'pain?hope', 'fine..', 'tau', 'sar', '84122', 'Help', 'NOTHING', 'Aaooooright', 'me?Are', 'danger.', 'peeps', 'comment', 'veggie', 'pizza...', 'buying...', 'only...', '07046744435', 'neighbors', 'computerless.', 'mist,', 'truffles', 'balloon!', 'hail', 'pass.They', 'Hee', 'tmr..', 'signing', 'Hey..', 'driving...', 'Raining!', 'tank', '(That', 'time?)', 'also...', 'annoncement.', 'virgins', 'sexual', 'theirs?', 'CUTE', '69911(å£1.50p.', 'm)', 'sitter', 'kaitlyn?', '1.50p', 'www.txt43.com', '80160', 'nxt?', 'alright.Okay.', 'GIFTS!!', 'cliff', 'frnd,', 'S89.', 'interesting.', 'wrking', 'uni', 'yesterday!', 'depressed', 'sittin', 'ring...', 'wind', 'drops', 'scary', 'jeans...', \"address.u'll\", 'postal', 'strips', 'Birthday?', '3030', \"cali's\", 'complexities', 'bridge', 'freely,', 'taxes', 'outrageous.', 'escape.', 'Ryder', 'unsold.now', 'gibbs.', \"one's?\", 'missunderstding', 'Elvis', 'Presleys', '09061701939.', 'cultures', 'internet/service', '449050000301', '09050000301.', 'dating?', 'NO-434', 'SPEEDCHAT,', 'SPEEDCHAT', '80155,', 'SWAP', 'chatter!', 'Chat80155', 'rcd', 'Cancel', 'cheyyamo?and', 'YES-434', '(32/F)', 'survey', 'price!', 'evaluation', 'bangb.', 'convenience.', 'GoTo', 'hen', 'SHOULD', 'BangBabes', 'smoked', 'www.SMS.ac/u/bootydelious', 's..first', 'time..dhoni', 'rocks...', 'teju', 'movie,', 'hourish?', 'no:)this', 'ground.amla', 'durban:)', 'rain,', 'nt.swt', 'drms', 'senrd-dnot', \"U'll\", 'fast.', 'snatch', '\\\\Hello-/@drivby-:0quit', 'edrunk', 'iff', 'pthis', '^', '5years', 'dancce', 'drum', 'basq!ihave', '2nhite', 'ros', 'xxxxxxx\\\\\"\"', 'getting?', 'cust', 'submitting', 'ph:08700435505150p', 'www.phb1.com', 'easier.', 'in.our', 'Ummma.will', 'Prakesh', 'Teach', 'Rofl', 'betta', 'invest', 'aging', 'products', '1hr', 'BY', 'POST', 'accommodation', 'global', 'local.', 'relieved', 'westonzoyland,', 'GOODTIME!OLI', 'MELNITE', 'IFINK', 'MITE', 'SORTED,BUT', 'EXPLAIN', 'EVERYTHIN', 'MON.L8RS.x', '08712402779', 'shun', 'bian', 'glass', 'exhibition...', 'el', 'nino', 'himself.', 'RANG', 'AVA', 'greatness.', 'ME,', 'no!', 'world,', 'europe?', 'Now?', 'soon..', 'sexy,', 'mean,', 'credit!', 'goin2bed', 'Only1more', 'Randy,', 'mc?', 'HUN!', '2NITE-TELL', 'EVERY1', 'salary.', 'phd,', '@Shesil', 'popcorn', 'hangin', 'windows,', 'alive.better', 'lodge', 'worrying', 'appt.', 'quizzes', 'Jordan!', 'passable.', '88600.', 'celeb!', 'dirt,', '087016248', '08719181503', 'matter.', 'everywhere', 'shirt.', 'Annoying', 'mouth,', 'cstore', 'exist,', 'melody!', 'gf?', 'Yay!', 'macs', 'prepared.', 'live,', 'Q?', 'hme', 'islands,', 'chores', 'velachery:)', 'flippin', 'sec,', 'breaking', 'thin', 'typical', 'fault&al', '150p/msg,', '30Apr', 'arms...', 'maaaan', 'why?', 'Guessin', 'walmart', 'Ilol', 'K..i', 'personally', 'wuldnt', 'bother,', 'hard.', 'well!!', 'lunchtime,', 'organise', 'EXP.', 'Bonus!', 'arguments', 'subscriber,', 'fault&fed', 'himso', 'bother?', '2go,', 'thanx.xx', 'nevering..', 'understanding.', 'Sindu', 'appreciated', 'two!', 'map', 'semi', 'apart', 'P.', 'SIM', 'lager.', 'hands!', 'bus..', 'league', 'Feels', 'quiet.', 'Beth', 'charlie', 'lots.', 'helen', 'mo.', 'www.areyouunique.co.uk', 'DoubleMins', 'August.', 'No..but', '30th', 'tat..', 'syllabus', 'Umma.', 'Panasonic', 'touch.', 'Yetunde', 'escalator...', 'week.|', 'sd', 'la.', 'butt', 'sore.', 'JULY', 'relaxing', 'ever!', '7am', '5ish.', 'course:)', 'stripes', 'skirt...', ':)finally', \"can't,\", 'number!', 'BluetoothHdset', 'DoubleTxt', 'spatula', 'coaxing', 'car..ente', 'ishtamayoo?happy', 'bakrid!', 'know..wait', 'glorious', 'finds', 'Prey.', 'images', 'contract.', 'fond', 'souveniers', 'Cougar-Pen', 'Working', '09065394514', 'finding', \"Hasn't\", 'home.left', 'ctla', 'call.drove', 'cudnt', '7.30pm', 'Poyyarikatur,kolathupalayam,unjalur', 'post,erode', 'dis,', 'Hero,i', 'apt', 'opportunity.pls', '&lt;EMAIL&gt;', ',kerala', 'Meat', 'lovers', 'supreme.', 'pick.', 'told..she', 'Dear,regret', 'Gotta', 'days.Ì¬n', '5wkg', 'retired', \"dobby's\", 'alter', 'Filthy', 'stories', 'ga.', 'in...', 'Welp', 'natwest.', 'park.6ph', 'person!', 'chad', 'gymnastics', 'Christians', 'full..', 'back?.a', 'token', 'yo,', 'dats', 'dogg', 'refund', 'secondary', 'schools.', 'applying,', 'Contact', 'joke', 'ogunrinde,', 'useful?', 'break.', 'lodging', 'Chk', 'belovd', 'ms', 'dict', 'Shb', 'bruv,', 'you.thats', 'LIKING.BE', 'SEE..NO', 'babyjontet!', 'mrt?', '1pm', 'polyPH', 'dead?', 'stool.', 'FUCK', 'ors', 'ah.the', 'ubi', 'tomorrow.call', '67441233', 'irene.ere', 'bus8,22,65,61,66,382.', 'Ubi', 'cres,ubi', 'evening?', 'carpark.', 'that.dont', 'eightish', 'aptitude', '2.15', 'horse', 'mah,', 'rice.', 'closes', 'wrongly', 'boggy', 'biatch!', 'hesitate.', 'weakness', 'notebook', 'ENC', 'alcohol.', 'Reckon', 'weekends?', 'sore', 'throat.', 'Kicchu', 'obese.', 'Oyea.', 'Oi.', 'Ami', 'parchi', 'surname', 're.', 'kaaj', 'visit.need', 'korte', 'iccha', 'korche', 'hell,', 'tul', 'Dvd', 'copies.', 'shes', 'gettin.', 'nurses', 'gossip', 'point!', 'Turns', 'mall?', 'AREA.', 'good...fine', 'www.flirtparty.us', 'REPLYS150', 'dentist.', 'm...', 'begins', 'bathing...', 'alright,', 'spanish', 'clue,', 'Lul', 'sculpture', 'Bloody', 'surya', 'makiing', 'then.will', 'AXIS', 'me.I', 'lot..will', \"FR'NDSHIP\", 'needle', 'Though', 'clock,', 'Evn', 'meet,itz', '4few', 'seconds.', 'alwys', 'conected.', '9t;-)', 'sambar.life', 'praises', '.after', 'planet.I', 'POKKIRI', 'abt...', 'ard...', 'Hmmm..', 'attraction.i', 'me.she', 'thoughts.I', 'her.she', 'dream.love', 'name.my', 'her.my', 'her.will', 'sorrows.I', 'BANK', 'proove', 'works.', 'travel', 'scratches', 'hopes', 'blankets', 'sufficient,', 'thx', \"'its\", 'approaches', 'hurt,', 'hurt...:-)', 'lifted', '.dont', 'other.', 'atten', 'iåÕd', 'indian?', '09058097218', 'who.', 'round,', 'Filling', 'baby,', 'LEKDOG', 'MILLIONS', 'asleep?', 'handsome', 'great.bye', 'close?', 'NO.1', 'MR', 'SHEFFIELD!', 'will,', 'nanny.', 'one!!', 'SHITIN', 'MYSELF', 'DEFO', 'HARDEST', 'CUM', 'BLOKE', 'AGE,', 'chatting!', 'DRUNK!', 'YET?', 'SENDS', 'INK', 'BATH.', '515', 'Y?', \"how're\", 'throwing', '~', 'process.networking', 'field.', 'kerala', 'days.so', 'prepared', 'finalise', 'COLLEGE', 'SNORING.THEY', 'doesnåÕt', 'YRS', 'serious?', 'soiree', '3rd?', 'closes?', 'data', 'analysis', 'thesis', \"Jay's\", 'belligerent', 'BRISTOL', 'ST', 'APRIL.', 'LES', 'OFF', 'RUDI', 'chikku..going', 'news:', 'K:)k:)good:)study', 'edhae,', 'chikku..', 'innu', 'mundhe', 'ali', 'halla', 'bilo', '(marriage)program', 'ovr', 'prone', 'chikku..ali', 'vargu', 'meow', 'meow:-D', 'Kinda.', 'twelve!', 'Aah.', 'astne', 'Yalru', 'offering', 'Bought', 'comes.', 'Ya!', 'practical', 'june..', 'Summers', 'area?', 'MATCHED', 'SUMMER', 'Join.', 'Help08714742804', 'Haha..', 'spys', 'mails', 'puttin', '09099725823', 'formal...', 'falls.', 'chords', 'lotr', 'tablet', 'dinner.msg', 'incomm', 'plural', 'Nice.', 'Wait...should', 'ticket,', 'busy.', '07801543489', 'aft.', 'jokes...', 'maps', 'dorm.', 'tiring', 'Uni', 'concentrating', 'dose', 'after.', 'loud.', 'Wa,', 'latests', 'word:COLLECT', 'No:83355!', 'TC-LLC', 'NY-USA', '150p/Mt', 'msgrcvd18+', 'permission.', 'LUCY', 'Hubby', 'meetins', 'cumin', '09099726395', 'Lucy', 'openin', 'rajini', 'thanks2.', 'charts', '\\\\smokes', 'INTERVIW', 'EXETER', 'WORRIED!x', 'what,', 'spreadsheet', 'needed!', 'determine', 'entire', 'BBC', 'arsenal', 'dartboard.', 'condition', 'doubles', 'trebles!', 'sick.', 'gym!!!', 'GOTTA', 'BOYF?', 'STILL', 'REVISION?', 'before.went', 'wonder...', 'directly.', 'Lmao.', '\\\\Speak', 'silence...\\\\\"', 'mrng:-)\"', 'scotland', 'www.Ldew.com', 'win150ppmx3age16', 'message..', 'THING', 'EXAMS', 'MARCH', 'Hmm...my', 'thought-', 'ratio', 'egg-potato', '\\\\GOODMORNING', 'Ya:)going', 'restaurant..', 'ok.,', 'no?', 'ducking', 'chinchillas', 'function', 'headstart', '2.30ish', 'earlier-we', 'rummer.', 'flying', 'weight...Haha...', 'optin', 'subscriber', ':)\"', 'birds...', 'recognises', 'Twittering', 'alone\\\\\"\"', 'wisheds.', 'intrepid', 'duo', 'him!', 'about,', 'dunno...', 'Arms', 'uni?', '0871277810910p/min', 'tues', 'Cool', 'breeze...', 'Fresh', 'flower...', 'welp?', 'guy,', 'browsin', 'messages,', 'play!!', 'Makes', 'beforehand.', 'earliest', 'nordstrom', 'conference', 'hairdressers', 'apply:', 'i.e.', 'www.orange.co.uk/ow', 'degree.', 'finance.', 'bleak,', 'Shant', 'anymore...', 'Bishan', 'u?\\\\\"', 'feel?', 'say.', 'legal!', '1/08/03!', '0871-4719-523', 'wow.', '4the', 'shuhui.', 'Hi:)cts', 'employee', 'nike.', 'sooo', 'shouting..', 'settled?', 'dang!', 'Unfortunately', 'ams', 'bf...', 'nearer...', 'Me,', 'sux', 'sunroof', 'sub', 'Tmrw.', 'loans', 'ago,', 'blanked', 'image', 'kalainar', 'office.thenampet', 'CC', 'movie..wat', 'gd...', 'Wah,', 'nosy', 'Idk', 'reacting', 'Sux', 'tablets.', 'snake.', 'pack.also', 'raiden', 'chechi', 'totes.', 'wanna?', 'pierre', 'cardin', 'rhythm.', 'establish', 'rhythm', 'Truro', 'Hospital', 'ext.', 'adventure?', 'worry...use', 'cloth', 'Sarcasm', 'speling', 'compulsory', 'smile,', 'thing....how', 'sha!', 'weather.', 'vitamin', 'gals..', 'Anyone', 'crucial', \"someone's\", 'corect', 'JSco:', 'Energy', 'high,', '2channel', 'leadership', 'skills', 'strong.', 'memorable.', 'you...money', 'moneY...as', 'www.80488.biz', 'lying.', 'Grumpy', 'server', 'minecraft', '(I', 'it)', 'lover!', 'wake,', 'gautham..', 'investigate', 'anywhere.', 'receive..', 'ip', 'Messages.', 'activate,', 'Psychic?', 'ANS', 'w/question.', 'signin', 'station.', 'changed.', 'nyc,', 'sucks,', 'disc', 'internet.', 'great,', 'champ', 'glasgow!', 'K:)all', 'best:)congrats...', 'lovin...', 'install', 'browse', 'artists.', 'eight', 'now?:)', 'JSCO', 'Leanne.what', 'Host-based', 'IDPS', 'linux', 'systems.', 'converter', 'search:)', 'Vote.', 'Karaoke', 'SING', 'sayy', 'Umma', 'boston.', 'nit.', 'Pete,is', 'Jenny', 'No..few', 'snickering', 'staff', 'Ok,', 'call:', '09701213186', 'Hardcore', 'svc.', 'jokin', 'oni', 'lar..', 'careful', 'darker', 'spirit.', 'shattered.', 'alrite.', 'idiot?', 'yijue@hotmail.com', 'girlie', 'bigger?', '16+only', 'jamster.co.uk!', 'logos+musicnews!', 'videosounds+2', 'BROKE', 'KNACKERED', 'BOUT', 'JANX', 'P.S', '69988', 'DADS', 'FONE,', '-NO', 'Designation', 'developer', 'chennai:)', 'jamster', 'videosound', 'to:', 'colours', 'styling', 'character?', \"Girl'\", 'clock', 'retard', 'bathroom,', 'å£500.', 'is:', 'sang', \"'Uptown\", \"80's\", 'sad,', 'ANSWER', '83600.', 'rush,', 'Nt.', 'Icic...', '69888!', 'day...', \"4'o\", 'vasai', 'urgnt', 'area.', 'gray,', 'Remembr', 'listn', 'watevr', 'while,&amp;', 'smile.:-)', '\\x89ÛÏHarry', 'Correct.', 'msn.', 'u....', 'minus', '10..', 'paragraphs?', 'plz.', 'coveragd', 'COMPLETELY', 'DECIDED', 't-shirt.', 'bye.', 'WORDS', '09096102316', '2moro', 'JANE', 'hee.', 'lecture,', 'cheery', 'dot', 'novelty', 'collected', 'operator.', '80488.biz', 'Hearts..', 'weirdo?', 'Coz..somtimes', 'stalk', 'EXACT', 'THOSE', 'SERIOUSLY.', 'hunny', 'downstem', 'Hungry', '08718730555', 'wahala.', 'inperialmusic', 'listening2the', 'byåÓleafcutter', 'johnåÓ-sounds', 'insects', 'molested&someone', 'plumbing,remixed', 'evil', 'acid!', 'didntgive', 'bellearlier', 'profiles?', 'persons..\\\\\"', '\\\\Nver', 'Verify', 'EAT', 'Sure!', 'destination', '8th?', 'Fifty?', 'daily', 'favour', 'settling', 'happenin', 'ola?', 'Age', 'cocksuckers.', 'ipads', 'worthless', 'garbage', 'wheellock?', 'secret.', 'swt', 'publish', 'pouch', 'drinkin', 'wondering,', 'type...', 'c...', 'Hey...Great', 'deal...Farm', '9am', '5pm', '$95/pax,', '$50', 'deposit', 'jap', 'disappeared,', 'certificate', 'GRAVEL', 'Syria', 'Canada,', 'net..no', 'walking..', 'waiting..\\\\\"', 'Goodnight!\"', 'arm', 'reserve', 'thirunelvali', 'eve...i', 'available..i', 'out--have', 'tackle', 'buying?', 'tonght', 'comes?', 'ploughing', 'pile', 'ironing', '\\\\paths', 'is..', 'us..', 'appear', 'sending.', 'know,yetunde', 'Bears', 'Pic', 'Nick,', 'Tom,', 'Dick.', 'fact,', 'types', 'TXTAUCTION', 'Auntie', 'huai', 'juan', 'tel,', 'path', 'Staying', 'chinky', 'k.i', 'detailed', '-apples&pairs&all', 'losers', 'Kaiez...', 'BOX42WR29C,', 'beta...', 'babies!', 'K..k..any', 'URGENT,', '09064019788', '5/9/03', 'USER.', 'DAY!', 'HTTP://WWW.URAWINNER.COM', 'bucks,', 'noncomittal', 'malarky', 'check?', 'wi', 'stretch...', 'nz', 'predict', 'sao', '4041', 'weight,', '$350', 'effect...', 'Gee,later', 'aust', 'bk', '7548', 'recharged', 'kidding,', 'papa', 'lessons...', 'involve', 'Alright.', 'Txting', 'Bugis', 'Fredericksburg', 'Que', 'pases', 'un', 'buen', 'tiempo', 'Xavier', 'tmrw', 'panicks', 'Compass', 'Map', 'Soul', 'world....gnun', 'WAY2SMS.COM', 'Goodnight,', 'Please.', 'mob?', \"leona's\", 'korean', 'married.', 'hearts,not', 'hurt..', 'closer..', 'GOODNOON:)', 'Sweet,', 'gauge', \"patty's\", 'shower.', 'monday..nxt', 'completing..', 'ax', 'surgical', 'emergency', 'unfolds.', 'ar', 'Baaaaabe!', 'misss', 'youuuuu', 'Yetunde,', 'forgive', 'LUCYxx', 'messenger.', 'SUM', 'tp', 'C!', 'AGAIN', 'BAK!', 'DEL', 'GIRL.', 'Bbq', 'imposed', '6ish.', 'everyso', 'often,', 'moji', 'where?', 'convince', 'steamboat?', 'witot', 'buyer', 'me?like', '%of', 'accomodate.', 'lovers...', 'becz', 'undrstndng', 'avoids', 'problems.', 'Tmorrow.pls', 'chain.', 'suffer.', 'read...', 'cost?', 'sophas', 'blown', 'satanic', 'ex-wife', 'unfortuntly', 'bites', 'frnt', 'sayin', 'Bite', 'textand', '08002988890', 'kids.', 'gotany', 'scotland.', 'JJC', 'tendencies.', 'Hmmm,', 'guess...', 'Yogasana', '\\\\Pete', 'walkin', 'Arngd', '09050005321.', 'å£5000,', 'pleasure!', 'slap', 'dick!', 'flight!', 'MISSY?', 'Bristol', 'Guild.', 'gon', 'clean...', 'goggles', 'door?', 'l8', 'daddy...', 'call09050000327', 'arguing', 'meive', 'credit\\\\\"\"', 'wined', 'occur', 'nitz...', 'GBP1.50/week', 'pie.', '3UZ.', 'ar.', 'blastin..', 'Tsunamis', 'on..', 'srsly', 'Rajnikant', '84,', 'swimming', 'WinnersClub', 'Ocean..:-D', 'Speaking', 'now!T&Cs', 'forever!!!', '2day,', 'way&this', 'ends.', 'yi', 'yoga...', 'Hmmm...', 'pongal.', 'Promo', '07753741225', 'K.k:)advance', 'mylife.', '08715203677', '42478', '24/10/04', 'unique&I', 'prix?', 'stranger', 'stands,', 'anyways,', 'ey?', 'ridden', 'BTW', 'cooped', 'invitation', 'Cali', 'paperwork.', \"bloke's\", 'weddin', \"employer's\", 'alibi.', 'eh?', 'sink', 'stealing', 'paces,', 'cage', 'surrounded', 'reminding', 'Enjoy,', 'supervisor.', 'recovery', 'bash', 'oclock', 'tirupur', 'CustCare:08718720201.', 'www.Applausestore.com', 'MonthlySubscription@50p/msg', 'max6/month', 'T&CsC', '2stop', 'famous', \"'anything'\", 'unconditionally', 'temper', 'confidence,', '.........', \"'MARRIED'\", 'self.', 'cuck', 'privacy', 'violated', 'online?why?', 'mei,', 'haven', 'huh,', 'bao', 'sugardad', 'ah...gee..', \"me:)i'm\", 'brownie', '..?', 'k.good', 'ninish,', 'icky', 'freek', 'K.k:)apo', 'Jen', 'pretty.', 'lunch:)you', 'weed-deficient', 'Having', 'evaporated', 'acknowledgement', 'astoundingly', 'tactless', 'oath', 'magic.', 'it\\x89Û÷s', 'perhaps.', 'silly', 'isn\\x89Û÷t', 'uv', 'causes', 'mutations.', 'Sunscreen', 'thesedays', '85222', 'TaKe', 'gET', 'Tuesday?', 'actor', 'call09050000327.', 'womdarfull', 'Sonetimes', 'rough', 'fridge!', 'taxi?', 'Wait,', 'Biola', 'wesleys', 'Def', 'drugs!', 'second.', 'scary,', \"dealer's\", 'rays.', '08715203694', 'uncomfortable.', 'Date', '4U!:', 'United', 'fetching', 'Aberdeen,', 'restock', 'thanksgiving,', '21/m', 'effects!', 'brighten', 'Allo!', 'braved', 'triumphed.', 'we\\x89Û÷re', 'b\\x89Û÷ham.', 'jolly', 'Rodds1', 'cloud', 'rain.', 'diesel', 'lakhs:)', 'Ho', 'laugh!', 'sun0819', 'posts', 'HELLO:\\\\You', 'TONE.', 'appropriate', 'TOP', 'GURL', \"28thFeb.T&C's\", '08452810071', 'Ditto.', '3680.Offer', 'ANYTHING', 'Peace.', 'msg?', \"Carlos'll\", 'more,', 'tea/coffee?', 'wikipedia.com', '88800', '89034', '08718711108', 'repent', 'first...', 'de:-).', 'next:-)..', 'positions', 'kama', 'sutra', 'En', 'nange', 'bakra', 'kalstiya..then', 'Kingdom.', 'Him', 'WeLL', '\\\\Happy', 'dependents', 'THANX4', 'CER', 'CATCH', 'OFTEN', 'SOON.C', 'him:)then', 'valentines', 'Sweetheart,', 'day\\\\\"', 'hundreds', 'handsomes', 'beauties', 'aunties', '1st...\"', 'shock', 'best?rply', '83222', 'removed', '22', 'sOOn', 'XCLUSIVE@CLUBSAISAI', '28/5', 'SOIREE', 'SPECIALE', 'ZOUK', 'PARIS.FREE', 'ROSES', 'LADIES', 'quiz,', 'info:', '07946746291/07880867867', 'bridgwater', 'banter', 'somethin.', 'reaction', 'happiness..', 'bookshelf', 'Games,', 'TheMob>', 'Jos', 'Seventeen', 'seven', 'hundred', 'ml', 'book...', 'remb...', 'HIDE', 'Dates', 'ac/W/icmb3cktz8r7!-4', 'http://img.', 'apply.2', '80062.', 'funny...', '89693', 'Tones,', 'keys?', 'longer.', 'friendships', 'grow.', 'words....', 'dismay', 'MAKE', 'FIFTEEN', \"YOU'RE\", 'CONCERNED', 'straight,', 'useful', 'hear,', 'Gossip,', 'tootsie', 'pop?', 'teacher', 'Ta-Daaaaa!', 'dined', 'Maybe?!', 'WORRY.', 'AMY', 'BEAUTIFUL,', 'INTELLIGENT', 'WOMAN', 'Fr', 'LOT.', 'buffet', 'consistently', 'feeling.wavering', 'intelligent', 'kind.', 'practicum', 'links', 'ears', 'ttyl', '1.20', 'truffles.', 'si.', 'Si', 'only?', 'month.not', 'hmm.', 'concentration', 'calculated', 'performance', 'years?', '7.30ish?', 'hanks', 'lotsly!', 'K:)k:)what', 'detail', 'transfer?acc', 'optimistic', 'lap', 'kickboxing', 'owl', 'individual.time', 'buttons', 'bars', 'Becaus', 'taught', 'rinu', 'payasam', 'heron', 'screamed,', 'enters', 'rate.', 'heal', 'removed.', 'differ', 'differ.be', 'Lindsay', 'Face.:)', 'cos...', 'Mob?', 'verifying', 'okmail:', 'language.', 'Prabu', '945+', 'deal:-)', 'UpgrdCentre', '9153.', 'wallet', 'July.', 'followin', 'oral.', 'Doggy', 'tests,', 'position.', 'roads', 'slippery', 'repairs', 'bike?', 'period..', 'gr8.', 'exercise,', '2.naughty', 'aha:-.', '09058094455', 'shipped.', 'voice.....', 'speaking', 'expression?', '1.childish', '3.Sentiment', 'blimey,', '4.rowdy', '5.ful', 'attitude', '6.romantic', '7.shy', '8.Attractive', '9.funny', 'hostel', 'Siva', 'PoBox12n146tf150p', '09111032124', 'blah...', 'Wendy', 'cal;l', '09064012103', 'box334sk38ch', 'busetop', 'Headin', 'always?', 'wld', 'darlings!', 'fav', 'disastrous', 'stoners', 'Yes:)from', 'None', '.irritating', '.lovable.', \"She'll\", 'Shoul', 'iouri,', 'Wahleykkum.sharing', 'txt~journey', 'hasnt', 'gd,now', 'Salam', 'arrange.', 'violated.', 'WERETHE', 'MONKEESPEOPLE', 'wake.', 'MONKEYAROUND!', 'HOWDY', 'GORGEOUS', 'sis.', 'news.By', 'God,', 'eå£nd', 'hillsborough', 'urination', '3xå£150pw', '2814032', 'esplanade..', 'tone!', 'administrator..', 'administrator', 'da:-)i', 'field', 'Hmmm...k...but', 'sometime.Rakhesh,visitor', 'Allah,meet', 'fine.Inshah', 'joined.Hope', 'Tayseer,TISSCO', 'me..i', 'MOAN', '69888Nyt.', 'bday,', 'topped', 'http://www.bubbletext.com', 'renewal', 'Pin', 'tgxxrz', 'alcohol?', 'problematic', 'unconscious', 'person.Meet', 'adults', 'abnormally.', 'elsewhere.', 'rude,', 'campus?', 'URGENT!:', 'apeshit', 'safely', 'ISH', 'Toxic', 'Jamz', 'No..jst', 'only..', 'Sirji.I', 'Onam', 'calling.Forgot', 'WTF.', '150p/Mtmsgrcvd18+', 'S:)no', 'AGO.', 'Boltblue', 'POLY#', 'MONO#', 'POLY3', 'Slide', 'Slow', 'iphone', 'Jeremiah.', '0871-872-9755', 'double-faggot', '07815296484', 'hiding', 'Bless', 'favourite.', '41782', '18/11/04', 'caroline', 'l8r', 'Bani', 'big,', 'especially.', 'leads', 'phone...', 'while,', '&lt;)', 'stranger?', 'Pg', 'merry', 'Teletext', \"x'mas.\", 'Txts', '69876.', 'SUZY', 'XXUK', 'sextextuk.com', 'do.Interested?', 'shag?', 'prestige', 'huiming', 'yijue.', 'single?', 'recieve', '24hrs.', 'Channel', 'forgiven', 'ak', 'heart-', 'www.regalportfolio.co.uk.', 'uniform?', '08717205546', 'railway.', 'Services', 'boye,', 'faded', 'glory,', 'ralphs', 'ammo', 'message?', \"account's\", 'would,', 'RP176781.', 'reunion?', 'now?can', 'call2optout/F4Q=', 'falconerf', 'thuglyfe', 'jaykwon', 'cuddling', '09057039994', 'GBP', 'T91.', '9t:)', 'ah?what', 'machi?any', 'Reference', \"When're\", 'Order,', 'price.', 'mcr', 'Almost', 'carlos,', 'agree', 'spoil', 'When?', 'monday...', 'accenture', 'chikku:-):-DB-)', 'significance?', 'cold.', 'andrews-boy', 'unemployed,', 'moment,', 'unemployed', 'actor.', '08708800282', 'TISSCO,Tayseer.', 'AIG', 'Tata', 'Allah.Rakhesh,', 'Insha', 'Qatar', \"g's\", 'need....|', 'prob..', 'jackson', \"audrey's\", 'Bluetooth!', '7ish,', 'reache', 'Z', 'nuerologist.', 'Lolnice.', '..water.?', 'alive?', 'refreshed', 'dawns', 'sunshine!', 'Trying', 'westshore', 'hyde', 'village,', 'milk..', 'wetherspoons?', 'sorta', 'okay?', 'meet.', 'ana', 'tomarrow', 'sathy', 'RTO', '-msg', 'Spoons', '25.', '09061104283', 'Sam', 'genius', 'REPLY', 'connections,', '10p.', 'corvettes', 'Virgin', '83110', 'recd@thirtyeight', 'sexy!!', 'upstairs', 'real,', 'inner', 'tigress...', '\\\\AH', 'POOR', 'BABY!HOPE', 'URFEELING', 'BETTERSN', 'LUV!', 'PROBTHAT', 'OVERDOSE', 'CAREFUL', 'LOTS', 'LOVEJEN', 'story.', 'Records', 'å£1.50pm', 'yowifes.', 'Atleast', 'saved!', 'good...no', 'problem..but', 'experience', 'american', 'voice...', 'exhausted.', 'Day...!!!', 'consider', 'WORLD...!!!', '-Shakespeare-', 'gandhipuram', 'Lessons.', 'Exam', 'exam,', '09065171142-stopsms-08', 'hole,', 'philosophical', 'more!', '0721072', 'bunkers', 'peaceful', '07808', 'XXXXXX', '08719899217', 'rubber', 'posh', 'chaps', 'trial', 'prods', 'champneys.', 'dob', 'asap.', 'Ta', 'Xmas?', 'you?when', 'shoes.', 'us,', 'SMSSERVICES.', 'SOONLOTS', 'goodnight', 'XXXX.\\\\\"\"', 'starshine!', 'Ache', '*sips', 'cappuccino*', 'yourinclusive', 'break:).', 'commercial?', 'touched...', \"u've\", 'watches', 'baig', 'Although', 'Bits', '2U', 'IåÕLLSPEAK', 'OK?TAKE', 'HUNNY!HOPE', 'borrow', 'outbid', 'simonwatson5120', 'Shinco', 'Plyr.', 'ac/smsrewards', 'notifications,', 'Youi', 'dearly', 'dobby', '\\\\BOO', 'ENJOYIN', 'YOURJOB?', 'SEEMED', 'GETTIN', 'turned', 'green,', 'signing,', 'soo', 'paying,', \"Prashanthettan's\", 'K.k:)when', 'suite:', 'warning', 'samantha', 'guitar', 'impress', 'shit.', 'doug', 'realizes', 'trauma', 'swear', 'office:)whats', 'matter..msg', 'comprehensive', 'now!SavaMob-member', 'burial.', 'vouchers-Text', 'SPORTSx', 'RV', 'hol', 'ages', 'roads!RVx', 'AVENT', 'TEL', 'PLEASSSSSSSEEEEEE', 'Surely', 'offer:)', 'VIDEO', 'cant.', 'hearing', 'HALF', 'PRICE', 'Reminder:', 'Goto', 'http://doit.', 'box403', 'K:)i', 'kvb', 'atm', 'details:)', 'money!!!', 'å£1million', 'ppt150x3+normal', 'w1t1jy', 'dieting', 'friday.hope', 'alternative.hope', \"term's\", 'ok:-)', 'ore', 'owo', 'wa.', 'register.', 'slices', 'chikku..il', 'magicalsongs.blogspot.com', 'reminder', 'scenery', 'romantic', 'shop..', 'yck?', 'disk...you', \"ashley's\", 'installing', 'avalarr', 'hollalater', 'ubandu', 'rounds', 'today..but', 'website..now', 'blogging', 'fro', 'should.', 'samus', 'Made', 'stuffed', 'nights.', 'Tired.', 'writhing', 'coins.', 'paypal.', 'Voila!', 'pockets:)', 'Theyre', 'places.', 'prediction.', 'hospitals', 'folks', 'company?', '(150p/SMS)', 'Friday', 'Better.', 'shoulders', '1YF', 'Matthew', '09063440451', '4*Lux', 'ppm150', 'Box334', 'SK38XH.', 'jeans', 'when,', 'side,', 'fever,', 'vomitin.', 'K:)k.are', '09061749602', '528', 'HP20', 'early.', 'nauseous.', 'mymoby.', 'elama', 'unsold.mike', 'hussey', 'mudyadhu.', 'failed.', 'sad.', 'unbelievable', 'faglord', 'ARIES', \"Can't.\", 'Nutter.', 'Cutter.', 'Ctter.', 'Cttergg.', 'Cttargg.', 'Ctargg.', 'Ctagg.', 'Gibbs', 'mac.', 'permissions', 'Yoyyooo', 'tv/', 'Teacher', 'woul', 'curfew.', 'gibe', 'MIDNIGHT', 'teacher...', 'getsleep', 'anything,', 'studdying', 'training.', 'massages.', 'oil...', 'position?', 'strict', 'ie', 'thus', 'Superb', 'Stereophonics,', 'Dizzee', 'Racal,', 'Libertines', 'Strokes!', 'Nookii', 'Flirt!!', 'TheMob', 'Bookmark', 'grinule', 'WHITE', 'FUDGE', 'OREOS', 'STORES', 'January', \"Zaher's?\", 'Marley,', 'lastest', 'Thought-', 'charles', 'grateful', 'happier', 'today.\\\\\":-)\"', 'agents', 'boston,', 'experiment.', 'star', 'thing,', 'invoices', 'where.', 'start?', 'smell', 'tobacco...', 'flyng', 'assumed', 'Hint', 'costumes.', 'Piggy,', 'jelly', 'AGAIN.call', 'Celebrations', \"S'fine.\", 'Anytime.', 'wondar', 'flim.', 'cookies', 'still.maybe', 'scrumptious...', 'same,so', 'it.or', 'admit,i', 'mad.then', 'correction?or', 'life.and', 'world,may', 'us.LET', 'tool?', 'mindset.believe', 'upset.i', 'jenny', 'cruisin', 'shitstorm', 'attributed', '08714712388', 'ahold', 'dorm', 'account,', '+449071512431', 'lesson?', 'sth...', 'specs.', 'PX3748', '08714712394', 'Macha', 'running.lets', 'theater', 'S:)s.nervous', 'Leaving', 'Spring', 'steak', 'convincing..just', 'objection.', 'guess,', 'neglect', 'it..just', 'opportunity.all', 'long!', 'fast.pls', 'Usf', 'prayers', 'dear.Rakhesh', 'narcotics', ':)all', 'Thing', \"didn't.\", '123', 'drvgsTo', 'prescripiton', 'dao', 'gf', 'mack', 'rob', 'omw,', 'half8th', 'Exactly.', 'jide', 'visiting', 'Email', 'AlertFrom:', 'Jeri', 'StewartSize:', '2KBSubject:', 'Low-cost', 'alerts', 'www.cnupdates.com/newsletter.', 'Nokia,', 'cherthala.in', 'Building', 'Map..', 'Imprtant', 'TODAY,', 'TOMORW.', 'bit.', 'Dear,Me', 'bfore', 'deck', 'start.i', 'Oops.', 'accordingly.or', 'coming.tmorow', 'engaged', 'holiday.', 'bold.', 'Crying', 'Resend', 'lect.', '150ppmsg', 'Cause', 'freaky', 'yelling', 'scrappy.', \"'hex'\", 'Explain!', 'sdryb8i', 'sue.', 'lapdancer.', 'sex.', 'SUE', '89555.', 'TextOperator', 'G2', '1DA', '448712404000>Please', '08712404000', 'open?', 'tonite.busy', 'pay?', 'prevent', 'dehydration', 'fluids', 'weird,', '?-', 'happening?', 'dear..i', 'so.so', \"sms'd\", 'Dear,shall', 'trek', 'town,', 'harri', 'N-Gage', 'K..u', 'working!', 'gautham', 'street,shall', 'sense.', '1405,', '1680,', '1843.', 'small,', 'law,', 'ollu.but', 'raksha', 'poop.', 'edukkukayee', 'ok.varunnathu', 'entrepreneurs', \"alex's\", 'corporation', 'tonite.things', 'ahead:', '\\x89Û_.', \"hadn't\", '81618,', '(100p/SMS)', 'Polyphonic', '087018728737,', 'suzy', 'Rate.', 'toppoly', 'tune', 'pole.', 'damn', 'UnSub', '08718727870.', 'fondly', 'Y?WHERE', 'DOGBREATH?', 'SOUNDING', 'JAN', 'community.', 'partner?', 'spelling.', 'fixes', 'drunkard!', 'Dint', 'idc', 'weaseling', 'H*', 'trash.', 'AROUND!', '0125698789', 'card!', 'LUTON', 'MINI!!!!', 'slave,', 'punish', 'Beerage?', 'randomlly', 'AL!!!!!!!!!', 'headin', 'scream.', 'ago\"', 'lag', 'usps', '2wks.', 'Appt', 'also,', '3days', 'Ups', 'PHP.', 'RG21', '4JX', 'dled', 'imp', 'smokin', 'Boooo', 'bec', 'bribe', 'few\\\\\"', 'weighed', '\\\\Gimme', 'weight!', 'Woohoo!', 'uncountable', 'dictionary.', 'around.', '9996.', '14thMarch.', 'availa', '\\\\Petey', 'whereare', 'friendsare', 'theKingshead', 'canlove', 'Nic\\\\\"\"', 'nipost', 'hunting', 'Same.', 'clocks', 'MK45', 'caveboy', '2WT', 'Realy', 'sorry-i', 'confused', 'please?!', 'holla?', 'Box1146', 'Wana', 'Club4', 'Faith', '150p/wk', 'possible,Hope', 'work,Love', 'beautiful,May', 'Christmas!Merry', 'gimme', 'tattoos?', 'evo.', 'years,', 'realised', 'wahay.', 'ringtone!', 'ladies.', 'Gaze', 'eyes.', 'lido.', '930.', 'chart', 'chance.', '82324.', '08706091795', 'year?', 'Jealous?', 'flash.', 'Christmas!', 'you/carlos', 'is/are', 'gua...', 'faber', 'yest...', 'Yest', '87070.', 'Stop?', 'club4mobiles.com', 'credits!', 'changed!', 'yet,', 'goin,', 'sometme', 'dramatic.', 'Schools', 'closed', 'Apparently', 'mt', 'å£1.50pmmorefrommobile2Bremoved-MobyPOBox734LS27YF', \"phone's\", 'M39M51', 'vibrate', 'acting', 'Romantic', 'Paris.', 'nights,', 'å£79', '08704439680Ts&Cs', 'grandmas.', 'dear,', 'ill?', 'hungover!', 'unclaimed!', '09066368327', 'closingdate04/09/02', 'claimcode', 'freaked?', 'imposter', 'WISHING', 'sec?', 'oso?', 'Misplaced', 'Wondering', 'mcat.', 'atlanta', 'computers?', 'Love.', 'begun', 'wet.', 'registration', 'permanent', 'residency', 'thatåÕs', 'claire', 'costs,', 'risks,', 'ktv', \"Yes.i'm\", 'splendid', 'Bognor', 'sq825,', 'arrival', 'Yunny', 'citylink', 'Props?', 'account?', 'pleasant', '-u', 'c,', 'statements', '6230', 'digital', 'camera.', '83383', 'POBOX114/14TCR/W1', 'benefits', 'Hmmm:)how', 'sry', 'logos', 'prior', 'grief', 'VIOLENCE', 'AGAINST', 'WOMEN.', 'Text82228>>', 'ringtones,', 'www.txt82228.com.', 'selected?', 'Questions:', 'info@txt82228.co.uk', 'Honestly', 'promptly', 'burnt', ':)my', 'name...', 'concern', 'fuelled', 'hands', 'incident.', 'snow,', 'predicting', 'accumulation.', 'mode.', 'meh.', 'Package', 'programs', 'sister..', 'belongs', 'family..', 'tomorrow..', 'Pray', 'her,who', 'fated', 'Shoranur', 'maga?', 'kano..whr', '...*kiss*', 'week.:/', 'about!', 'kanji', 'took.', 'drink.pa', 'srs', 'drizzling', 'appointments', 'body?', 'feel.', 'sad..', 'over..', 'Concentrate', 'gota', 'Greetings', 'Consider', 'excused.', 'years!', 'jungle', 'Macedonia', 'Pansy!', 'locks', 'news.', 'jenne.', 'goals/team', 'easiest', 'barcelona.', 'Sppok', 'logo&pic', 'complementary', 'WA14', '2PX', 'Sender:', 'Hol', 'K.:)do', 'da:)urgent:)', 'drama', 'Pls.i', 'struggling', 'process.Excellent', '.Call', 'Ms.Suman', 'Telephonic', '-via', 'Indyarocks.com', 'resume', 'forgot..', 'Ola', 'bids', 'cut.', 'Invest', 'rest!U??Wud', 'reliant', 'Fwiw', 'afford', 'needed.Salary', 'voice', 'strange', 'FRESHERS', 'place.No', 'ego', \"'IF\", \"INVITED'\", 'necessity', 'go.wait', 'reppurcussions.', 'ThatåÕs', 'cosign', 'alcohol,', 'WINNER!', 'hvae', '09061701444.', 'HCL', 'requires', ':-)please', 'try:-)', 'FreeMSG', 'WIV', 'dosomething', 'late?\\\\\"\"', '\\\\HELLO', 'U.CALL', 'WRK.I', 'FANCY', 'MEETIN', 'TONITE', 'WILL!!', 'BREAK', 'DABOOKS.', 'HRS', 'NITE+2', 'WRK!\\\\\"\"', '&SAM', 'EACHOTHER.', '10:30', 'squid!', 'arestaurant', 'rimac', 'upping', 'grams', \"(he's\", '),', 'timin', 'That\\x89Û÷s', 'apes,', 'go,', 'notice.', 'fujitsu,', 'ibm,', 'hp,', 'toshiba...', 'Gosh', 'Spose', 'HOUSE', 'Luckily', 'starring', 'website?', 'above', '\\\\POLYS\\\\\"', '87131.', 'tone.', '0870737910216yrs', 'å£1.50/wk.\"', 'Unni', 'recharge..Rakhesh', 'lacking', 'particular', \"dramastorm's\", 'what...', 'forfeit...', 'treated', 'digi', 'da..al', 'reality', 'madam', 'cc100p/min', 'restocked', 'www.tkls.com', 'stoptxtstopå£1.50/week', 'SUNDAY', 'innocent', 'mental', 'question..', 'smoothly.', 'challenging', 'hon', 'pple...$700', '$900', 'nights...Excellent', 'breakfast', 'hamper!!!', 'on:)it', 'shrink', 'DIGITAL', 'rolled', 'tor', 'motive', 'tui', 'achieve', 'korli.', 'we\\x89Û÷ll', 'dock,', 'newscaster', 'Bc', 'dabbles', 'flute', 'wheel', \"k...i'm\", 'enjoy!', 'vid', 'keyword', 'Ultimately', 'you..', 'room?', 'die.', 'CAMERA,', 'SNAP', '(quizclub', 'Opt', '80122300p/wk', 'SP:RWM', 'Ph:08704050406)', 'GMW', 'connected', 'someplace,', 'gd.', 'goods.', 'pressies', '7ish?', 'Dr', 'video.', 'thesis!', 'Erm.', 'department', 'you:)any', 'credit,', 'conform', 'it:)', 'horniest', 'XXXMobileMovieClub:', '2nite!.', 'instructions.', 'ENTRY', '69888', 'Nyt.EC2A.3LP.msg@150p', 'flow', 'developed', 'ovarian', 'cysts.', 'ours:)so', 'here>>', 'xxxmobilemovieclub.com?n=QJKGIGHJJGCBL', '1hr.', 'the4th', 'october.', 'when...', 'pilates...', '83435.', '08706091795.', 'elaborating', 'safety', 'aspects', 'issues..', 'TAROT', 'TEXTS!', 'http://wap.', '85555', 'Free,', 'problem!', 'pple...', 'coupla', 'restrictions,', 'posible', 'century', 'cm', 'frwd', 'affectionate', 'sorts', 'Download', 'choose.', 'clarification', 'buddys.', '08712402902', 'bus?', 'convincing.', 'screamed', 'owned', '*possessive', 'yijue,', 'or2optout/HV9D', 'FREE-Nokia', 'B/Tooth', '\\\\Aww', 'dead!Well', 'Jez', 'isComing', 'toDo', 'workAnd', 'whillTake', 'forever!\\\\\"\"', 'Zogtorius.', 'IåÕve', 'tea?', 'financial', 'problem.i', 'help:)', 'alian', 'No..he', 'regret', 'road...', 'SARY!', 'cakes.', 'iron', 'draws!', 'slice.', '2day!', 'goodmate', 'RITE', 'ASUSUAL!1', 'coimbatore.', 'CHEERED', 'UP!', 'FRANYxxxxx', 'forced', 'batt', 'sooner?', 'Ffffffffff.', 'unfortunately...', 'Hmm,', 'cut?', 'sense?', 'expired', 're-sub', 'MONOC', 'monos', 'POLYC', 'Stream', '0871212025016', 'nice!', 'sheffield', 'opinions', 'categories', 'ethnicity', 'census.', 'transcribing.', 'paragon,', 'Expected...', 'beach', 'store.', 'va?i', 'Remind', 'romantic!', '08718738034.', 'MISSIN', 'HAVING', 'HOME.', 'vaguely', 'so:)', 'Why:-)', 'Hrishi', 'Nothin', 'hanger', 'heavy?', 'Work.', 'restaurant.', \"that'll\", 'X.', 'ANNIE', 'DOIN?', 'BABE,', 'Hmm...Bad', 'news...Hype', '$700', 'studio', 'taken...Only', 'bedrm-$900...', 'reached.', 'Call,', 'apologetic.', 'Velly', 'journey', 'terrible.', 'marking', 'clear,', '2StopTx', 'Arrow', 'blanket', '08718726971', 'sochte', 'ham', 'jeetey', 'hai..........', 'packing', 'stalking', 'Dan', 'reminded', 'Apps', 'varaya', 'elaya.', '***************', '10/06/03!', '09066368753', '97N7QP,', 'anand', 'Zindgi', 'hum', 'Ahhh.', 'milta,Zindgi', 'tddnewsletter@emc1.co.uk', '(More', 'TheDailyDraw)', 'Helen,', 'Dozens', 'prizesWith..', 'significant', 'high.', 'Waqt', 'pehle', 'naseeb', 'zyada', 'kisi', 'ko', 'kuch', 'this,', '8am.', 'Love:', '83370.', 'padhe.g.m.\\\\\"\"', 'boye.', 'torrents', 'particularly', 'slowing', 'moon.', 'commit', 'www.music-trivia.net', 'crore\\\\\"', 'Hee..', 'Rightio.', '11.48', 'church', 'brum!', 'scorable', 'care!', 'pura', 'ki', 'karo', 'Itna', \"'taxless'\", '4txt/Ì¼1.20', 'crore', 'Indians.', 'lane', 'roads.', 'Forever', 'suply', 'projects.', '/-', 'Bank', 'IMF', 'loan.', 'blocked', 'corrupt', 'bad,', '(kadeem)', 'break,', 'event?', 'ela', 'than.', 'K.k..how', 'kids?', 'can.dont', 'Try:WALES,', 'change,', 'poet', 'imagination..My', 'forever....', 'car.so', 'S.i', 'rr..', 'famamus....', 'together.', 'Onum', 'sponsors', 'paranoid', 'start.', 'brin', 'properly', 'sheet', 'K..give', 'SCOTLAND', 'complain', 'only..bettr', 'bsnl', 'offc', 'friday?', 'payed.', 'Suganya.', 'dessert.', 'Abeg,', 'profit.', 'deposited', 'lac', 'me.\\\\\"...', 'SLO(4msgs)', 'WHASSUP?', 'CL.', 'Babe:', 'filthyguys.', 'bitch.', 'slo', 'hard!', 'Wasted...', 'POBOXox36504W45WQ', 'chiong', 'Darren...', 'dialogue', 'reltnship..!!', 'Die', 'name?', 'Aww', 'BYATCH', 'Neshanth..tel', 'them...', 'ill!', 'Gn\"', 'perfect!', 'becausethey', '09058098002.', 'PoBox1,', 'W14RG', 'Boo.', 'gained', 'Second', 'pressure', 'limits', 'DUMB?', 'doke.', 'comin...', 'laying', 'Pose', 'comb', 'dryer', 'k:)but', 'Hey!!!', 'B-day', 'ya!!', 'CustCare:08718720201', 'find.', 'offline', \"anjola's\", 'I?This', 'WWW.ASJESUS.COM', 'wrote.', 'opinions.', '1/1', 'drug.', 'Says', 'directors.', 'hitter.anyway', 'fun...', 'fps', '8pm.', 'computational', 'science...', 'answered', 'Lk', 'Madam,regret', 'disturbance.might', 'DLF', 'Premarica.kindly', 'informed.Rgds,Rakhesh,Kerala.', 'SERVICES', 'gotto', '08702840625', 'comuk.220cm2', 'Err...', 'Cud', 'cam,', 'wks!', 'Anything!', 'celebrate.', 'CANT', 'WAIT', 'ANAL', 'GANG', 'BANG', 'Ha.', 'pears', 'Such', 'MOB', 'sight', 'white.', 'Oooooh', '09058094454', 'that...now', 'thinking.', 'Kindly', 'WISH', 'isn\\x89Ûªt', 'i\\x89Ûªm', 'in:', 'doinat', 'mo?', 'callon', 'Friday.', \"ron's\", 'watch...', 'Babe?', 'K...k...yesterday', 'ganesh', 'pdate_Now', 'call2optout/!YHL', 'configure', 'settings', '..now', 'Bill,', 'Sorry!', '54', 'black..and', '9+2+4=', \"Hi'\", 'Test', '2%', 'solved', 'CAT', \"'xam...\", '5+3+2=', '8+6+3=', 'weeks>', '7+2+5=?????', 'brilliant...1thing.i', 'answr.', 'liquor?', 'loko', '730.', 'lined', 'xxxxxxxx', 'everyboy', 'wuld', 'Anything...', 'resubmit', 'expiry.', 'THEMOB', 'chikku..:-)', 'nyt:-*', 'weåÕve', '2geva,', 'mint!', 'u!xxxx', 'sitting.', 'humans', 'natural', 'god..', 'studyn', 'shows...', 'hon!', 'talks?', 'attending', 'fault.', '16+only!', 'dear?', 'wipro', 'tall', 'case...', 'sound...', 'robs', 'Avenge', 'shaping', 'cried', \"fren's\", 'choices', 'toss', 'Gudni8', 'Adult', 'lovely,', 'GBP/week!', '88888.', 'MAD2', 'MAD1,', 'sweatter..', 'mate,', 'ambitious.', 'miiiiiiissssssssss', 'Tunji,', 'queen?', 'iZ', 'Yellow', 'misscall', 'frndZ', '6missed', 'Lover.', 'Free-message:', 'Jamster!Get', 'frog', 'drinkin,', 'dancin,', 'eatin,', 'reserved', '69855,', '24Hrs', 'STOPBCM', 'SF', 'painting', 'wall?', 'Printer', 'groovy.', 'groovying', \"Harish's\", 'transfred', 'Acnt.', 'Cbe', 'nowadays:)lot', 'showrooms:)city', 'Boys.', 'durham', 'cinema,', 'tho)', 'about...', 'explicitly', 'nora', 'Smith', 'da.i', 'gayle.', 'Woke', 'Crucify', 's.', 'moved,', 'butting', 'vs.', 'tired.', 'cedar', '(come', '\\\\wow', \"tm'ing\", '?!\\\\\"', 'disconnected', 'buyers.', 'figuring', 'entirely', 'Ho.', 'underwear.', 'know..he', 'computer..', 'onluy', 'non', 'matters', 'offcampus', '18+only', 'Excellent,', \"riley's\", 'Ew', 'them?', 'you.:)k:)where', 'grinder?', 'play?', 'Woods', 'elsewhere?', 'DVD!', 'call2optout/4QF2', 'sleeping?', 'nap..', 'Tonight?', 'senor', 'giggle', 'possibly', 'person2die', 'NVQ,', 'for!', 'How...', 'professional', 'Tiger', 'wesley', \"how've\", 'lingo.', 'So,', 'republic', 'Shivratri', 'Ugadi', 'Fools', 'Independence', 'Friendship,Mother,Father,Teachers,Childrens', 'Ganesh', 'festival', 'Dasara', 'Diwali', 'Mornings', 'Afternoons,', 'Evenings', 'Nights.', 'RememberI', 'Sankranti', 'approaching.', '12Mths', 'boring.', 'rental:', '400mins...Call', 'call2optout=J5Q', 'WITHOUT', 'ME...', 'see..', \"me?Don't\", 'worry..', \"l'm\", 'Goodnoon..:)', 'anyone?', 'HARDCORE', '69200', 'chrgd@50p', '2exit.', 'stop...', 'pocy', '*laughs*\"', 'bowls', 'pls:-)', 'å£1,500', '27/6/03.', '08714714011', 'teaching', 'twelve,', 'two.', 'cozy.', 'ingredients!', 'night.nobody', 'closed.', 'Buzzzz!', 'ass?', 'vibrator', 'shake', 'covers', 'fletcher', 'downs', 'mys', 'ignorant.', 'fireplace.', 'icon', '08712400200.', 'job,', 'fifth', 'woozles', 'weasels...', 'exeter', 'still,', '08718723815.', 'sooner.', 'machines', '3!', 'fucks', 'sake?!', 'energy', 'trends', 'pros', 'aunty', \"y'day\", 'hogidhe..chinnu', 'swalpa', 'agidhane..', 'Mostly', 'type..lyk', 'footbl,crckt..', 'Ma', 'swell', 'Sary', 'Tim', 'bollox', '&it', 'tol', 'hang', 'manege', 'sapna', 'cons...', 'had..ya', 'Brief', 'description', 'nuclear', 'fusion', 'brief', 'iter', 'jet', 'pages..', '\\\\NONE!NOWHERE', 'IKNO', 'DOESDISCOUNT!SHITINNIT\\\\\"\"', 'jabo', 'driving,', 'slower', 'maniac?', 'cold,', 'pimples..even', '077xxx', '09050000555.', 'PLUS', 'SPORT', '0870141701216+', '4txt/120p', '930', 'Europe', '10th', 'BA128NNFWFLY150ppm', 'neither', 'nudist', 'themed', 'fulfil', 'pump', 'petrol', 'å£12', 'granted', 'str*', 'fans', 'witin', 'frosty', 'Ab..,', 'Sara', 'Jorge-Shock..', 'Smith-Switch..', 'Chasing', 'dream.', 'next.', 'Yupz...', 'model..sony', 'ericson', 'der..', '..it', 'luks', 'modl', 'cheesy', 'signal.', 'has,', 'BBD(pooja)', 'overa', 'advance..', 'big!', 'Okie..', 'Thanx..', 'buy?', 'process.', 'justbeen', 'brains', 'unusual', 'mush!', 'Tunde,', 'missions', '20M12AQ.', '\\x89ÛÏ', 'Lux', 'James', 'Flung', 'lessons..', 'pract', 'yogasana?', 'itself!', 'snogs.', 'Omw', 'palm,', 'printing', 'handing', 'flirt?', 'optout', '83021.', 'stated', 'Reaction', 'breather.', 'perpetual', 'DD', 'shop.', '1)McFly-All', 'playng', 'alone.', 'usc.edu', 'job..', 'try!', 'lost,', 'fact.', 'hee', 'Em,', 'olowoyey@', 'argentina.', '?!', 'secretary,', 'It,,s', 'taxt', 'massage....tie-pos', 'argh', 'Lool!', 'february.', 'today.he', 'technologies', '4w', 'Pandy', '09066362206', 'CAL', 'SIR.', 'sundayish,', 'held', 'prasad.', 'Tiwary', 'rcb.battle', 'bang', 'kochi.', 'Moms', 'checkup', 'aka', 'smear', 'gobi', 'confidence', \"taylor's\", 'shaking', 'boring?!', 'only:-)..', 'Network.', 'PARK', 'Nyt.', 'å£1.50/msg', 'also.or', 'ish', 'da:)nalla', 'hope?', 'obedient,', 'slave?', 'Queen?', 'ft.', 'combination!', 'needy', 'yours,', 'sensible,', 'floor?', 'impressively,', 'da:)i', 'times:)lil', 'busy.i', 'noon..', 'sarcasm..', '.nt', 'scarcasim', 'ttyl!', 'naal', 'eruku.', 'chikku..wat', 'sexy?', 'W4', '5WQ', '150p/tone', '28,', 'EH74RR', 'lei..', 'showers', 'TONES!Reply', 'Lil', 'fever:)', 'fine:)', 'hands...', 'once.', 'Thinkin', 'possessiveness', 'å£50', 'poured', 'ones,', 'lies,', 'golden', 'truly..', 'lasting', 'lucky.', 'FreeMsg>FAV', 'AM.', 'courtroom', 'division', 'Cash.', '08715203028', 'Claim.', 'EVERY', '9th', 'Wins', 'Min', 'å£50-å£500.', '08718727870', 'wed.', 'rugby', 'library?', 'affidavit', 'Twiggs', 'St,', 'Genius', 'skype.', 'mobs', 'god..taken', 'paining', 'ROMCAPspam', 'Everyone', 'presence', 'outgoing.', 'sunshine.', 'sian', 'maggi', 'mee..', '08712103738', 'right,', 'cough', 'Com', 'shopping?', 'fine.,', 'teeth?is', '505060', 'BREATHE1', 'flowers', 'CRAZYIN,', 'SLEEPINGWITH,', 'FINEST,', 'YMCA', ':getzed.co.uk', 'POBox365O4W45WQ', '300p', 'wtc', 'Weiyi', 'goin...', 'join...', '*passionate', 'INTERFLORA', \"åÒIt's\", 'Interflora', 'Instant', 'Awarded', 'sleepy.', 'worse,', 'now.onion', 'roast.', 'prepare.', 'computer?', 'lor?', 'thanks...', 'Derp.', 'abusers', 'Bin', 'lipo.', 'easter.', 'netflix', 'clash...', 'weight...', 'ARR', 'oscar.', 'want?', 'died.', 'diwali', 'pulling', 'stupid.', 'avo', 'point?', 'Really?', 'crashed', 'cuddled', 'sofa.', 'Chachi', 'Pl', 'tiz', 'Kanagu', 'prices', 'ringing', 'houseful', 'brats', 'Open', 'rebtel', 'firefox.', 'garage.', 'replacing.', 'Mittelschmertz.', 'paracetamol', 'sales/pee', 'arrived,', 'incident?', 'cThen', 'enuff..', 'conclusion', 'references..', 'pg..', 'at/your', 'big..|', 'success.', 'U\\x89Ûªve', 'Centre', 'Took', 'numbers.', 'esplanade?', 'okay!', 'Married', 'action', 'MATCH', '69969', 'BCMSFWC1N3XX', 'impressed.', 'funs', 'shopping!', 'footy', 'stadium?', 'Large', 'Coca-Cola', 'teenager', 'telugu..thts', '=/', 'Inever', 'me.need', 'Why.', 'itried2tell', 'urmom.i', 'careabout', 'Morning.', 'babe?', 'learned', 'fake', 'excellent.', 'bless.get', 'Air', 'Force.', 'Iraq', 'afghanistan.', 'stable', 'honest.', 'traveling?', 'Iwas+marine&thatåÕs', 'intend', 'didnåÕt', '4u.i', '10k', '#150', 'voucher.', '09064018838.', 'CRO1327', ';-(', 'recharge.', 'stuff!\"', \"Ken's\", 'Barbie\\\\\"?', 'Yes:)sura', 'tv.:)lol.', 'Takin', '\\\\Divorce', 'chat...', 'school?', 'dear...i', 'IWANA', 'Dude.', 'dirty', 'fellow?', \"something's\", 'on)', 'dying', 'lifting', 'eating?', 'Teresa.', 'pray!', 'people,', 'dec', \"you'ld\", 'Bam', 'aid', 'Usmle,', 'Squishy', '3D!!B)', 'shrek', 'week??', 'ccna', '1225', 'å£50award.', 'pai', 'seh', 'die...', 'Now,', 'beer', 'parts?', '\\\\Getting', 'walsall', 'tue', '.Terry\\\\\"\"', 'chatting', 'EVE.', 'Sian...', 'ALERT!', 'BROTHER', 'BIG', 'It..', 'details..i', 'you.my', 'Happy..', 'Slowly', 'Habit', 'Life..', 'Follow', 'Day:)', 'Wah', 'it..mail', 'panren', 'paru..', 'chuckin', 'trainners', 'carryin', 'bac', 'x.', 'sn', 'spk', 'nursery!', 'THEW/END...', 'HAVENTCN', 'AGES..RING', 'NETHING', 'SAT.LOVE', 'dine', 'lady!', 'conacted', 'you!To', '09111030116.', 'PoBox12n146tf15', 'IåÕm', 'v.tired', 'wk,', 'inspection', 'good:)dhanush', 'rocks', 'again:)', 'Everytime...', 'SOMETHING?', 'yijue...', '3230', 'textbook', 'algorithms', 'edition...', '$50...', 'How.', 'Finished', 'money...', 'watch.', 'always,', 'song..:-)', 'Facebook?', 'man...', 'K..k:)where', 'Remembered', 'needing', 'you?how', 'times?', 'chikku..simple', 'habba..hw', 'Dileep.thank', 'muchand', 'support...very', 'here,remember', 'venugopal', 'mentioned.tomorrow', 'late,i', 'there.goodnight', 'Remembrs', 'much...', 'Forgets', 'performed?', 'Mwahs.', 'Hottest', 'phone!!', 'unconsciously', 'uk!', 'pen', 'Wont', 'Biro', '09058094594', 'slave.', 'shell', 'unhappy', 'appointment.', 'ass!', 'style?', 'move.', 'jog.', '09061743811', 'burger', 'knackered.', 'banned', 'prize.To', 'jontin', 'meant.', 'fair', 'weaknesses', '*pushes', \"knee's*\", '*exposes', 'pulls', 'it*', '*wicked', 'sh', 'ready.all', 'Mom', 'supports', 'srt', 'thnk.', 'ps3', 'lark.', \"station's\", '09090900040', 'lim', 'parachute', 'coins???', 'placed', 'da:-)', '$1', 'series.', 'unlimited...', \"There're\", 'lambda', 'angels', 'snowball', 'fights.', 'ELLO', 'OK?', 'pub??', 'player.', 'Uh,', 'LISTEN', 'STOP2stop)', 'EXTREME', 'OFFICE', 'TOTAL', 'PRIVACY', '[sic]', 'LISTENING', '60P', 'MIN', '24/7MP', '0870753331018+', 'video/pic', 'fones,', 'WILD', 'pics,', '150p/rcvd', 'fathima.', 'pillows', 'Wet', 'murali', 'wc1n3xx', '4.15', 'Yeah.', '\\\\Are', 'comingdown', 'da:)good', 'replacement', 'player.why', 'strewn', 'sts', 'five.', 'engalnd!', 'telly', 'mia', 'elliot', 'kissing!', 'Ldn,', '8027', 'Bcm', 'DPS,', 'Wanting,', 'PICS', 'Hello-', 'flight', 'prominent', 'cheek', 'september', 'husband.', 'Hack', 'Chat.', 'backdoor', 'fraction', 'NEO69', '09050280520,', 'subscribe', '12mths', '1/2price', 'linerental,', 'forever,', 'Girls', 'annoying', 'consensus', 'entertain', 'laugh,', 'tag', 'going.', 'knew,', 'messy', 'wednesday,', 'skype,', 'pictures,', 'laundry', 'underwear', 'bras', 'seekers.', 'reception', 'x-net', 'K.:)you', 'mins&100txt/mth', \"B'tooth*.\", 'Mobileupd8', '2optout/D3WV', 'philosophy.', 'wipro:)you', 'years.', 'matric', '850.', 'Toa', '650.', '08718726970', 'payments', 'fedex', 'team..', 'WOTU', 'COS', 'dat?', '...*grins*...', '02072069400.', 'Bx', '526,', 'happy...', 'talents!', '6pm.', 'animal!', 'Reminding', 'fooled', 'adoring', 'Yesterday', '..Shiny', 'warming', 'cared', 'shit,', 'surprised,', 'Claim,', 'Worth', 'msgs.', 'doesn\\x89Û÷t', 'help?', 'info@ringtoneking.co.uk', '08701237397', 'redeemable', 'www.ringtoneking.co.uk!', 'Thnx', 'sef', 'lido', 'anjie!', 'sense,', 'btw', 'batch', 'fring', 'app?', 'nte.:-', 'french', '0A$NETWORKS', 'ITXT', 'LAPTOP', 'Head', 'wrecked.', 'loud..', 'spontaneously..', 'feel..', 'GOODEVENING', 'Dear..:)', 'YOU.', 'companies', 'buy...', 'fb.', 'includes', 'S:-)if', 'RGENT!', 'Bec', 'class,', 'laden.', 'event', 'somewhat', 'Evening', 'SMS,', 'responsible', '\\\\suppliers\\\\\"', 'comedy..cant', 'FreeMsg:Feelin', 'lnly', 'company!', 'Jst', 'moby', 'pic?Txt', 'keen', 'SWITCH', 'DAMMIT!!', 'Wright', 'fly..', 'Club>>', 'Pro', 'RT-KIng', 'pudunga', 'Pest', 'exterminator', 'Psychiatrist', 'Healer', 'Stylist', 'Driver', 'Aaniye', 'venaam..', '645', 'brothas', 'chez', 'jules', 'eight,', 'Hhahhaahahah', 'rofl', 'nig', 'Psychologist', 'Intelligent', 'Dependable', 'Determined', 'price,so', 'it.may', 'destiny', 'Happy?', 'be...', 'Companion', 'Chef', 'listener', 'Organizer', 'boyfriend', 'telugu', 'Sympathetic', 'Athletic', 'Warm', 'Courageous', 'leonardo', \"derek's\", 'Sunday', 'cheque.', 'olympics.', 'probably,', 'leo', 'K.then', 'patty', 'done/want', 'haul', 'problem:-)', 'wildlife', 'want2come.', 'that2worzels', 'wizzle', 'is?!', 'shanghai', 'cya...', 'Registered', '08719899230', '2years', 'outfit.', 'strain', 'gives.', 'practical.', 'withdraw', 'anyhow', 'millers', 'soul', 'fire.', 'spark.', 'rawring', 'XoXo', 'Somewhr', 'den,', 'crushes..!!!;-)', 'honeymoon', 'shower!', 'stuff42moro', 'daytime', 'indeed', 'missionary', 'standing...|', 'sleep..', 'entertaining', 'hugh', 'laurie', 'stick', 'stick.', 'multis.', \"Ta's\", 'praps', 'Jon,', 'Ive', 'operate', 'Spain', 'sum', 'info@vipclub4u.', 'Trackmarque', '81303.', 'Club.', 'desparately', '(No', 'yet)', 'stereo', 'mi', 'yo?', 'album.', 'nt?', 'classmates?', 'fires.Are', 'WOW!', 'Boys', 'Back.', 'Tour.', 'pre-book', 'dinero', 'Bill', 'åÔrents', 'FM...you', 'å£5000.00', 'Easter', 'draw.....Please', '09041940223', '29/03/05', 'transferred', 'else....', \"finn's\", 'rest:-).', 'peoples', 'bedroom...', '\\\\EY!', 'CALM', 'DOWNON', 'THEACUSATIONS..', 'chosen', 'HOTMIX', '12,000pes,', 'Sullivan', 'å£48,', 'tb,', 'James.', '\\\\ALRITE', 'HUNNY!WOT', 'DIDNT', 'shy', 'INSTEAD!', 'CHILLIN', 'MO', 'BEDROOM!LOVE', 'JEN', 'complaining', 'much:)', 'Mandy', 'Queen,', 'man!', 'busty', 'toughest', 'you\\x89Û÷ll', 'wap', 'PC.', 'dub', 'je', 'Painful', 'words-', 'Earth...', 'wad?', 'fine!', 'ideas?', 'tho-', 'ah', 'lei?', 'LIKELY', 'do!', '391784.', 'mobsi.com', 'Monthly', 'A21.', 'casualty', '09099726429', 'JANINExx', 'mostly', 'spageddies', 'phasing', 'fourth', 'dimension', 'Yes..but', 'IT.,', 'meaningful', 'ever:', 'compromised', 'Lmao!nice', '09050001295', 'TONIGHT!', 'free..', 'download,', 'stash', 'priya', 'sufficient', 'requests', 'messy...', 'kilos', 'accidant', 'tookplace', 'ghodbandar', 'Traffic', 'slovely.', 'ah.now', 'where?btw', 'nus', 'sc.', 'specialise', 'factory', 'embarrassed', 'squatting', 'mushy...', 'kano.,il', 'Cramps', 'stopped.', '0089(my', 'digits)', '09063442151', 'sonathaya', 'soladha.', 'boss?', 'cd', 'Ela', 'raping', 'dudes', 'poker', 'Weightloss!', 'ikea', 'Becoz', 'Jones!', 'å£5/month', 'Arabian', 'watts.', 'anything!', 'decide...', 'Oops,', '8am', 'timings', 'honesty', 'dent!', 'specialisation.', 'labor.', 'shakara', 'beggar.', 'replying.', 'Has', 'boye', 'steed', 'Yummy', '07732584351', 'Rodger', 'nosh', 'Waaaat??', 'Lololo', \"table's\", 'occupied,', 'come:)i', 'kindly', 'documents', 'submitted', 'STAPATI', 'miles.', 'cutie.', 'hills', 'myself.', 'Burns', 'driver!', 'really,', 'Audrie', 'fishhead', 'cappuccino', 'grown', 'Chinatown', 'porridge,', 'claypot', 'rice,', 'yam', 'beehoon...', 'cuppa', 'Either', 'somethin...', 'jaklin', 'idk', 'god.', 'nearby', 'cliffs', 'sip', 'ibuprofens', 'popping', 'did?', 'Yes.he', 'crickiting', 'Thx.', '\\\\CAN', 'Quick', 'IMIN', 'TOWN.DONTMATTER', 'URGOIN', 'OUTL8R', 'wont.', 'Yavnt', 'See?', ':)why', 'don,t', 'ESPECIALLY', 'Wld', '8-8:30', 'Help08700621170150p', 'THE!', 'province', 'sterling', 'problem-free', 'inches...', 'xam', 'hall', 'hesitation', 'intha', 'QlynnBV', 'ponnungale', 'ipaditan;)', 'result.', 'bad-', 'rejected', 'diamonds', 'endowed.', 'spotty,', 'vikky..', 'ryan', 'me!;', 'simulate', 'readiness.', 'and/or', 'vomiting', 'fetch?', 'feet,', 'Lara', 'supplies', 'guesses', 'attach', '087123002209am-7pm.', 'washob', 'nobbing', 'Nickey', 'Platt', 'aunty!', 'noisy.', 'needa', 'stifled', 'part.', '(again),', 'morphine.', 'requirements', 'stranger!!saw', 'heåÕs', 'now!still', 'bloke', 'MR!ur', 'Thinks', '2GETHA!', 'Buffy.', 'men.', 'randy.', 'PIX!', 'happy,', 'creativity', 'mcat', 'help,', 'S...from', 'manual', 'process:)its', 'reset', 'troubleshooting:)', 'B4U', 'w/c', '27/03', 'MARSMS.', 'www.B4Utele.com', '08717168528', 'strongly', 'sacrifice', 'SEEING?', 'camcorder.', '4.49/month', 'housework', 'bundle', 'msg/subscription.', 'puzzeles.', 'include', '4goten', \"me?'\", 'scammers', 'smart..Though', 'prem', 'Beware!', '\\\\Si.como', '2morro', '2nite', 'passion', '09099726481', 'DENA', 'å£1/minMobsmoreLKPOBOX177HP51FL', 'R836.', 'Yummmm', 'soup.', 'bathe...', 'newspapers', 'plaid', 'album-quite', 'gd&the', 'air1', 'hilarious-also', 'boughtåÓbraindanceåÓa', 'comp.ofstuff', 'aphexåÕs', ';abel', 'nelson', \"bb's\", 'comin.', 'drink,', 'drop.', 'unmits', '09065069154', 'threats', 'sales', 'subscrition', 'ENJOY', 'dust?', '88877>FREE', '88877', '3POUND', 'watchin', 'lido?', 'lifetime', 'meaningless', '4u', \"all's\", 'Cold.', 'so?', 'telly?', 'Brdget', '300p.', 'wk!', 'executive', 'SplashMobile:', 'Shifad', 'raised', \"'doctors'\", 'reminds', '2go.did', 'lounge?', 'lk', 'sun?', 'spoilt', 'line:', '\\\\Hurt', 'actin', 'fallen', 'china.', 'ideas.', 'no?!listened2the', 'knocking', 'deals', 'advance\"', 'E-ternal.', 'N-oble.', 'T-ruthful.', 'I-ntimate.', 'N-atural.', 'E-namous.', '\\\\VALENTINES', \"textin'.\", \"no's..\", 'fainting', 'cousin...', '(And', 'excuses)', 'wet?', 'fear', 'amigos', 'L-oveable.', 'A-ffectionate.', 'V-aluable.', 'mails.', 'avble.', 'call2optout/J', 'MF', 'figures...', 'pages?', 'Ooh,', '4got,', 'moseley', 'weds', 'Thankyou', 'Treat', 'pending.i', 'days.will', 'thru.Respect', 'home.check', 'burn,', 'progress.', 'You?', '09065069120', 'Tues,', 'wed,', 'Alrite', 'jod', 'Till', 'revision', 'Keris', 'smidgin.', 'college?xx', 'k.k..where', 'intentions', 'accordin', 'discussed', 'also..', '6pm..:-)', 'days...', 'K718.', 'holy', 'badly', \"weren't\", 'kidding', 'arty', 'collages', 'mo,', 'tryin', 'classes,', '2hrs.', 'waliking', 'cartons', 'shelves', '08714712379', 'cheers.', 'mirror', 'Know', 'autocorrect', 'chikku:-)', 'odi', 'Detroit', 'lazy.', 'S..antha', 'Ice', 'corrct', 'dane', \"basket's\", 'Wings', 'THANKS', 'practising', 'Devils', 'LIFT', 'Jersey', 'page.', 'Sptv:', \"DIDN'T\", 'rupaul', 'length', '09061743810', 'amk.', 'Arul.', 'bowa?', ':-D', 'infra', 'PHP', 'gep', 'cum?', 'Correct', '2006', 'FIFA', 'held?', 'Hockey.', 'boat.', 'naked.', 'Shhhhh', 'related', 'TOOL!', 'curtsey?', 'samachara', 'visitors,', '8lb', '7oz.', 'Mother', 'brilliantly.', 'forwarding', 'intention', '*I*', 'offered.', '\\\\YEH', 'rules', 'happening,', 'Yet,', 'bend', 'thia', 'DOESNT', 'inlude', 'orchard.', 'embarassing.\"', 'Them', 'outreach.', 'DEF', 'SAT', 'LMAO', 'memory', 'Idea', 'converted', 'live:)', 'TheMob>Yo', 'yo-Here', 'members', 'fone...', 'S....s...india', 'african', 'soil..', 'roles', 'feathery', 'tescos', 'Incorrect?', 'annoyin!', 'lifebook', 'zhong', 'qing', 'act', '4-6...', 'hypertension', 'mine&all', '08702490080', '31', 'VPOD', 'Carry', 'bath:-)', 'nigro', 'scratching', \"idea's?\", 'anyplaces', 'Yes..gauti', 'fujitsu', 'thk...', 'elsewhere', 'ofice', 'ofice...got', 'duffer', 'grr', 'sehwag', 'prescription.', 'Pharmacy', 'away.', 'cook', '89693.', '08715500022', 'rpl', 'cnl', 'nor', 'Fffff.', 'stops', '\\\\find', 'upset.', 'min..stand', 'mary', 'jane.', 'no...', 'deduct', 'wrks', 'j', 'monkey', 'bitch..........', 'asshole..................', 'grab', 'sliding', '09065394973', 'SPTV', 'payback.', '80488.', 'ic.', 'Egbon', 'priority', 'Aka', '\\\\what', 'ecstasy?', '09090204448', 'minded', 'Aå£1.50', 'minAPN', 'LS278BB', 'imp.', 'flies', 'hittng', 'reflex', 'Sherawat', '10:10', 'Mallika', 'adewale', 'previews.', 'Ambrith..madurai..met', 'arun', 'LA32WU.', 'eighth', 'messages-Text', 'now!Use', 'web2mobile', 'Txt250.com', '1.50p/wk.', 'BOX139,', 'txtX', 'Orange;i', 'mah..', 'hun-onbus', '2go', 'donyt', 'home!But', 'latelyxxx', '85233', 'wondarfull', 'e.g.23G.', 'G.', 'E.G.23F.', 'Green;i', 'Yelow;i', 'bck.', \"Black;i'm\", 'Brown;i', 'Nw', 'giv', 'arranging', 'Then.', 'eldest', 'smarter', 'drugdealer', 'Singles', 'wither', 'M', 'FREE>Ringtone!Reply', 'aight.', 'thinked', 'soooo', 'tming', 'Probably,', 'cutest', 'dice,', 'immunisation', 'hep', '*****', 'help:08700469649.', 'BOX420.', 'IP4', '5WE', 'Howda', 'gud..', 'Mathe', 'en', 'provider', 'Fair', 'suckers.', 'odi:-)', 'wind.', '\\\\alright', 'Hospitals', 'sucker.', 'stubborn', 'hopefully,', 'enough,', 'yor', \"own--you've\", 'rent,', 'tank.', 'stressed', 'depressed.', 'i,m', 'S:-)kallis', 'lyk', 'swt.', 'dha', 'pei', 'soon!', 'crammed', 'satsgettin', '4.47per', 'innings', 'apologize,', 'admit', 'kid..', 'Pink;u', 'energy..', 'GONNA', 'subtoitles', 'jot', 'store.like', 'cereals.', 'food,', 'head\\x89Û_', 'potato', 'eggs-pert', 'obviously,', 'marrge..remembr?', 'ever!!', 'kitty', 'shaved', 'natural?', 'bb.', 'cave\\\\\".', \"anybody's\", '\\\\the', 'tactful', 'www.ldew.com', 'SkillGame,1Winaweek,', 'age16.150ppermessSubscription', 'accomodations.', 'once?', 'gari', 'Wow.', 'bugis.', '.Please', 'resubbing', 'shadow.', 'spring', 'yay', 'slice', 'breadstick.', 'crashing', 'Saeed', '09066362220', 'Pass', 'get!', \"Red;i'm\", 'Blue;u', 'Purple;u', 'hot.', 'no..', 'nb...', 'bold2', 'thkin', 'calicut?', 'darlin..', 'mt..', '09094100151', 'mins!', 'cast', '(mob', 'vary).', 'provided', 'AOM,', 'GBP5/month.', 'AOM', 'Box61,M60', '1ER', 'Ages', 'Rofl.']\n"
          ]
        }
      ]
    },
    {
      "cell_type": "code",
      "metadata": {
        "id": "ts6My2XScwGB",
        "colab": {
          "base_uri": "https://localhost:8080/"
        },
        "outputId": "17fc9ae9-1912-4e38-b5a7-f0a6dfdefb7b"
      },
      "source": [
        "    mapped_data = data_mapper()\n",
        "\n",
        "    trainset, testset, trainlabel, testlabel = train_test_split(mapped_data, messages_labels, test_size=0.33, random_state=42)"
      ],
      "execution_count": 42,
      "outputs": [
        {
          "output_type": "stream",
          "name": "stderr",
          "text": [
            "/usr/local/lib/python3.10/dist-packages/sklearn/feature_extraction/text.py:537: UserWarning: The parameter 'ngram_range' will not be used since 'analyzer' is callable'\n",
            "  warnings.warn(\n"
          ]
        }
      ]
    },
    {
      "cell_type": "markdown",
      "metadata": {
        "id": "jL3XYJ3K6UwB"
      },
      "source": [
        "**Naive Bayes**"
      ]
    },
    {
      "cell_type": "code",
      "source": [
        "import pandas as pd\n",
        "from sklearn.model_selection import train_test_split\n",
        "from sklearn.naive_bayes import MultinomialNB\n",
        "from sklearn.metrics import accuracy_score\n",
        "from sklearn.feature_extraction.text import CountVectorizer\n",
        "\n",
        "\n",
        "X = messages['v2']\n",
        "y = messages['v1']\n",
        "\n",
        "\n",
        "X_train, X_test, y_train, y_test = train_test_split(X, y, test_size=0.3, random_state=42)\n",
        "\n",
        "v = CountVectorizer(stop_words='english')\n",
        "TrainX = v.fit_transform(X_train)\n",
        "TestX = v.transform(X_test)\n",
        "\n",
        "\n",
        "nb_model = MultinomialNB()\n",
        "nb_model.fit(TrainX, y_train)\n",
        "\n",
        "\n",
        "y_pred = nb_model.predict(TestX)\n",
        "accuracy = accuracy_score(y_test, y_pred)\n",
        "print(f'Naive Bayes Classifier Accuracy: {accuracy * 100:.2f}%')"
      ],
      "metadata": {
        "colab": {
          "base_uri": "https://localhost:8080/"
        },
        "id": "zrRRhEBTIgrI",
        "outputId": "85522b95-2984-4004-91a9-cb0ffec7b66b"
      },
      "execution_count": 43,
      "outputs": [
        {
          "output_type": "stream",
          "name": "stdout",
          "text": [
            "Naive Bayes Classifier Accuracy: 98.33%\n"
          ]
        }
      ]
    },
    {
      "cell_type": "code",
      "source": [
        "import pandas as pd\n",
        "from sklearn.model_selection import train_test_split, cross_val_score\n",
        "from sklearn.naive_bayes import MultinomialNB\n",
        "from sklearn.metrics import accuracy_score\n",
        "from sklearn.feature_extraction.text import CountVectorizer\n",
        "\n",
        "X = messages['v2']\n",
        "y = messages['v1']\n",
        "\n",
        "\n",
        "# Split into train and test sets\n",
        "X_train, X_test, y_train, y_test = train_test_split(X, y, test_size=0.3, random_state=42)\n",
        "\n",
        "# Convert text data into numerical data using CountVectorizer\n",
        "vectorizer = CountVectorizer(stop_words='english')\n",
        "X_train_vec = vectorizer.fit_transform(X_train)\n",
        "X_test_vec = vectorizer.transform(X_test)\n",
        "\n",
        "# Apply Naive Bayes\n",
        "nb_model = MultinomialNB()\n",
        "nb_model.fit(X_train_vec, y_train)\n",
        "\n",
        "# Predict and calculate accuracy\n",
        "y_pred = nb_model.predict(X_test_vec)\n",
        "accuracy = accuracy_score(y_test, y_pred)\n",
        "print(f'Naive Bayes Classifier Accuracy: {accuracy * 100:.2f}%')\n",
        "\n",
        "# Perform cross-validation to get validation scores\n",
        "validation_scores = cross_val_score(nb_model, vectorizer.transform(X), y, cv=5)\n",
        "\n",
        "# Output the cross-validation scores and mean accuracy\n",
        "print(f'Validation scores: {validation_scores}')\n",
        "print(f'Mean validation score: {validation_scores.mean()}')"
      ],
      "metadata": {
        "colab": {
          "base_uri": "https://localhost:8080/"
        },
        "id": "WrkyHYCsN48S",
        "outputId": "b0b71bf0-1cab-452b-ceca-6c7b71352df9"
      },
      "execution_count": 44,
      "outputs": [
        {
          "output_type": "stream",
          "name": "stdout",
          "text": [
            "Naive Bayes Classifier Accuracy: 98.33%\n",
            "Validation scores: [0.98295964 0.9838565  0.97576302 0.97935368 0.98204668]\n",
            "Mean validation score: 0.9807959037444348\n"
          ]
        }
      ]
    },
    {
      "cell_type": "code",
      "source": [],
      "metadata": {
        "id": "2UJPVJD8PJjr"
      },
      "execution_count": 44,
      "outputs": []
    }
  ]
}